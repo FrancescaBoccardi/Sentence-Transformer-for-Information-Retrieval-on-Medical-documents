{
  "nbformat": 4,
  "nbformat_minor": 0,
  "metadata": {
    "colab": {
      "provenance": [],
      "collapsed_sections": [
        "hJrLPu7tu0DY",
        "9Fjm4brMjSkN",
        "2g_ElutBv_Th",
        "bWO5ffyfv5Sz",
        "mCkjWQQs5gZO",
        "88z_RlkwNjx5",
        "j6JEECcyuEML",
        "LqLB1dJbN6S8",
        "I8keAPGKzqoM",
        "NbVgtUhSPqap",
        "jX7qg09DPqar",
        "HmYuHa3gPqar",
        "DPZADX7aPqas",
        "UyviyCIZYBhD",
        "q39mi7jvPxuO",
        "qFX0uWXXPxuS",
        "cmQ934boPxuX",
        "Zt89SxfE0PHu",
        "I21JSvYFPxuY",
        "UPZKghDQDR_i",
        "hqW-KhU_vtcn",
        "qDhbqJUMTulv",
        "5Ij-P7ApTulo",
        "LL_TZzCHTuls",
        "wNV8k9cpTult",
        "GeavpAFs1CGP",
        "afSXsV3TTulw"
      ]
    },
    "kernelspec": {
      "name": "python3",
      "display_name": "Python 3"
    },
    "language_info": {
      "name": "python"
    },
    "widgets": {
      "application/vnd.jupyter.widget-state+json": {
        "91a9036038e34767bc4a9d9bb9c32374": {
          "model_module": "@jupyter-widgets/controls",
          "model_name": "HBoxModel",
          "model_module_version": "1.5.0",
          "state": {
            "_dom_classes": [],
            "_model_module": "@jupyter-widgets/controls",
            "_model_module_version": "1.5.0",
            "_model_name": "HBoxModel",
            "_view_count": null,
            "_view_module": "@jupyter-widgets/controls",
            "_view_module_version": "1.5.0",
            "_view_name": "HBoxView",
            "box_style": "",
            "children": [
              "IPY_MODEL_812f8a8986524b0a8f4e7f932a0a32a9",
              "IPY_MODEL_995299803e444dd7a094fd9fa113d5c6",
              "IPY_MODEL_5e30e91bd81741b58a206b9db599d869"
            ],
            "layout": "IPY_MODEL_f3dcb01b10fb4dfb80f4a40ebbd60182"
          }
        },
        "812f8a8986524b0a8f4e7f932a0a32a9": {
          "model_module": "@jupyter-widgets/controls",
          "model_name": "HTMLModel",
          "model_module_version": "1.5.0",
          "state": {
            "_dom_classes": [],
            "_model_module": "@jupyter-widgets/controls",
            "_model_module_version": "1.5.0",
            "_model_name": "HTMLModel",
            "_view_count": null,
            "_view_module": "@jupyter-widgets/controls",
            "_view_module_version": "1.5.0",
            "_view_name": "HTMLView",
            "description": "",
            "description_tooltip": null,
            "layout": "IPY_MODEL_8a8b7bef2e414e1ca78d7feb87899dd6",
            "placeholder": "​",
            "style": "IPY_MODEL_3fb6c002e0a24b7cbe9a7564ab56a34d",
            "value": "Epoch: 100%"
          }
        },
        "995299803e444dd7a094fd9fa113d5c6": {
          "model_module": "@jupyter-widgets/controls",
          "model_name": "FloatProgressModel",
          "model_module_version": "1.5.0",
          "state": {
            "_dom_classes": [],
            "_model_module": "@jupyter-widgets/controls",
            "_model_module_version": "1.5.0",
            "_model_name": "FloatProgressModel",
            "_view_count": null,
            "_view_module": "@jupyter-widgets/controls",
            "_view_module_version": "1.5.0",
            "_view_name": "ProgressView",
            "bar_style": "success",
            "description": "",
            "description_tooltip": null,
            "layout": "IPY_MODEL_bc01f21138f34458831ba04cafa92c0b",
            "max": 3,
            "min": 0,
            "orientation": "horizontal",
            "style": "IPY_MODEL_159658f128b846e69a0f03ac31c3319b",
            "value": 3
          }
        },
        "5e30e91bd81741b58a206b9db599d869": {
          "model_module": "@jupyter-widgets/controls",
          "model_name": "HTMLModel",
          "model_module_version": "1.5.0",
          "state": {
            "_dom_classes": [],
            "_model_module": "@jupyter-widgets/controls",
            "_model_module_version": "1.5.0",
            "_model_name": "HTMLModel",
            "_view_count": null,
            "_view_module": "@jupyter-widgets/controls",
            "_view_module_version": "1.5.0",
            "_view_name": "HTMLView",
            "description": "",
            "description_tooltip": null,
            "layout": "IPY_MODEL_390962e2b28c4f01a1e29cc07aad2f22",
            "placeholder": "​",
            "style": "IPY_MODEL_7713960f3bd34aaf9c94a7690bccb5f5",
            "value": " 3/3 [42:23&lt;00:00, 850.09s/it]"
          }
        },
        "f3dcb01b10fb4dfb80f4a40ebbd60182": {
          "model_module": "@jupyter-widgets/base",
          "model_name": "LayoutModel",
          "model_module_version": "1.2.0",
          "state": {
            "_model_module": "@jupyter-widgets/base",
            "_model_module_version": "1.2.0",
            "_model_name": "LayoutModel",
            "_view_count": null,
            "_view_module": "@jupyter-widgets/base",
            "_view_module_version": "1.2.0",
            "_view_name": "LayoutView",
            "align_content": null,
            "align_items": null,
            "align_self": null,
            "border": null,
            "bottom": null,
            "display": null,
            "flex": null,
            "flex_flow": null,
            "grid_area": null,
            "grid_auto_columns": null,
            "grid_auto_flow": null,
            "grid_auto_rows": null,
            "grid_column": null,
            "grid_gap": null,
            "grid_row": null,
            "grid_template_areas": null,
            "grid_template_columns": null,
            "grid_template_rows": null,
            "height": null,
            "justify_content": null,
            "justify_items": null,
            "left": null,
            "margin": null,
            "max_height": null,
            "max_width": null,
            "min_height": null,
            "min_width": null,
            "object_fit": null,
            "object_position": null,
            "order": null,
            "overflow": null,
            "overflow_x": null,
            "overflow_y": null,
            "padding": null,
            "right": null,
            "top": null,
            "visibility": null,
            "width": null
          }
        },
        "8a8b7bef2e414e1ca78d7feb87899dd6": {
          "model_module": "@jupyter-widgets/base",
          "model_name": "LayoutModel",
          "model_module_version": "1.2.0",
          "state": {
            "_model_module": "@jupyter-widgets/base",
            "_model_module_version": "1.2.0",
            "_model_name": "LayoutModel",
            "_view_count": null,
            "_view_module": "@jupyter-widgets/base",
            "_view_module_version": "1.2.0",
            "_view_name": "LayoutView",
            "align_content": null,
            "align_items": null,
            "align_self": null,
            "border": null,
            "bottom": null,
            "display": null,
            "flex": null,
            "flex_flow": null,
            "grid_area": null,
            "grid_auto_columns": null,
            "grid_auto_flow": null,
            "grid_auto_rows": null,
            "grid_column": null,
            "grid_gap": null,
            "grid_row": null,
            "grid_template_areas": null,
            "grid_template_columns": null,
            "grid_template_rows": null,
            "height": null,
            "justify_content": null,
            "justify_items": null,
            "left": null,
            "margin": null,
            "max_height": null,
            "max_width": null,
            "min_height": null,
            "min_width": null,
            "object_fit": null,
            "object_position": null,
            "order": null,
            "overflow": null,
            "overflow_x": null,
            "overflow_y": null,
            "padding": null,
            "right": null,
            "top": null,
            "visibility": null,
            "width": null
          }
        },
        "3fb6c002e0a24b7cbe9a7564ab56a34d": {
          "model_module": "@jupyter-widgets/controls",
          "model_name": "DescriptionStyleModel",
          "model_module_version": "1.5.0",
          "state": {
            "_model_module": "@jupyter-widgets/controls",
            "_model_module_version": "1.5.0",
            "_model_name": "DescriptionStyleModel",
            "_view_count": null,
            "_view_module": "@jupyter-widgets/base",
            "_view_module_version": "1.2.0",
            "_view_name": "StyleView",
            "description_width": ""
          }
        },
        "bc01f21138f34458831ba04cafa92c0b": {
          "model_module": "@jupyter-widgets/base",
          "model_name": "LayoutModel",
          "model_module_version": "1.2.0",
          "state": {
            "_model_module": "@jupyter-widgets/base",
            "_model_module_version": "1.2.0",
            "_model_name": "LayoutModel",
            "_view_count": null,
            "_view_module": "@jupyter-widgets/base",
            "_view_module_version": "1.2.0",
            "_view_name": "LayoutView",
            "align_content": null,
            "align_items": null,
            "align_self": null,
            "border": null,
            "bottom": null,
            "display": null,
            "flex": null,
            "flex_flow": null,
            "grid_area": null,
            "grid_auto_columns": null,
            "grid_auto_flow": null,
            "grid_auto_rows": null,
            "grid_column": null,
            "grid_gap": null,
            "grid_row": null,
            "grid_template_areas": null,
            "grid_template_columns": null,
            "grid_template_rows": null,
            "height": null,
            "justify_content": null,
            "justify_items": null,
            "left": null,
            "margin": null,
            "max_height": null,
            "max_width": null,
            "min_height": null,
            "min_width": null,
            "object_fit": null,
            "object_position": null,
            "order": null,
            "overflow": null,
            "overflow_x": null,
            "overflow_y": null,
            "padding": null,
            "right": null,
            "top": null,
            "visibility": null,
            "width": null
          }
        },
        "159658f128b846e69a0f03ac31c3319b": {
          "model_module": "@jupyter-widgets/controls",
          "model_name": "ProgressStyleModel",
          "model_module_version": "1.5.0",
          "state": {
            "_model_module": "@jupyter-widgets/controls",
            "_model_module_version": "1.5.0",
            "_model_name": "ProgressStyleModel",
            "_view_count": null,
            "_view_module": "@jupyter-widgets/base",
            "_view_module_version": "1.2.0",
            "_view_name": "StyleView",
            "bar_color": null,
            "description_width": ""
          }
        },
        "390962e2b28c4f01a1e29cc07aad2f22": {
          "model_module": "@jupyter-widgets/base",
          "model_name": "LayoutModel",
          "model_module_version": "1.2.0",
          "state": {
            "_model_module": "@jupyter-widgets/base",
            "_model_module_version": "1.2.0",
            "_model_name": "LayoutModel",
            "_view_count": null,
            "_view_module": "@jupyter-widgets/base",
            "_view_module_version": "1.2.0",
            "_view_name": "LayoutView",
            "align_content": null,
            "align_items": null,
            "align_self": null,
            "border": null,
            "bottom": null,
            "display": null,
            "flex": null,
            "flex_flow": null,
            "grid_area": null,
            "grid_auto_columns": null,
            "grid_auto_flow": null,
            "grid_auto_rows": null,
            "grid_column": null,
            "grid_gap": null,
            "grid_row": null,
            "grid_template_areas": null,
            "grid_template_columns": null,
            "grid_template_rows": null,
            "height": null,
            "justify_content": null,
            "justify_items": null,
            "left": null,
            "margin": null,
            "max_height": null,
            "max_width": null,
            "min_height": null,
            "min_width": null,
            "object_fit": null,
            "object_position": null,
            "order": null,
            "overflow": null,
            "overflow_x": null,
            "overflow_y": null,
            "padding": null,
            "right": null,
            "top": null,
            "visibility": null,
            "width": null
          }
        },
        "7713960f3bd34aaf9c94a7690bccb5f5": {
          "model_module": "@jupyter-widgets/controls",
          "model_name": "DescriptionStyleModel",
          "model_module_version": "1.5.0",
          "state": {
            "_model_module": "@jupyter-widgets/controls",
            "_model_module_version": "1.5.0",
            "_model_name": "DescriptionStyleModel",
            "_view_count": null,
            "_view_module": "@jupyter-widgets/base",
            "_view_module_version": "1.2.0",
            "_view_name": "StyleView",
            "description_width": ""
          }
        },
        "04d04a1214cb4e0badf8fe8035b45f85": {
          "model_module": "@jupyter-widgets/controls",
          "model_name": "HBoxModel",
          "model_module_version": "1.5.0",
          "state": {
            "_dom_classes": [],
            "_model_module": "@jupyter-widgets/controls",
            "_model_module_version": "1.5.0",
            "_model_name": "HBoxModel",
            "_view_count": null,
            "_view_module": "@jupyter-widgets/controls",
            "_view_module_version": "1.5.0",
            "_view_name": "HBoxView",
            "box_style": "",
            "children": [
              "IPY_MODEL_a3e4971fbf4742c9934d431aa9db4c57",
              "IPY_MODEL_95b2fed99d0c4fb69f49f651e9a2fc63",
              "IPY_MODEL_e9585d2263a54136bd04968f2e21d695"
            ],
            "layout": "IPY_MODEL_006f43121d504dc1a73499b17dba1abe"
          }
        },
        "a3e4971fbf4742c9934d431aa9db4c57": {
          "model_module": "@jupyter-widgets/controls",
          "model_name": "HTMLModel",
          "model_module_version": "1.5.0",
          "state": {
            "_dom_classes": [],
            "_model_module": "@jupyter-widgets/controls",
            "_model_module_version": "1.5.0",
            "_model_name": "HTMLModel",
            "_view_count": null,
            "_view_module": "@jupyter-widgets/controls",
            "_view_module_version": "1.5.0",
            "_view_name": "HTMLView",
            "description": "",
            "description_tooltip": null,
            "layout": "IPY_MODEL_8ec42ea48806466a9be0b8c8caca40f2",
            "placeholder": "​",
            "style": "IPY_MODEL_42962a34bcb0467091e8beda6a85287c",
            "value": "Iteration: 100%"
          }
        },
        "95b2fed99d0c4fb69f49f651e9a2fc63": {
          "model_module": "@jupyter-widgets/controls",
          "model_name": "FloatProgressModel",
          "model_module_version": "1.5.0",
          "state": {
            "_dom_classes": [],
            "_model_module": "@jupyter-widgets/controls",
            "_model_module_version": "1.5.0",
            "_model_name": "FloatProgressModel",
            "_view_count": null,
            "_view_module": "@jupyter-widgets/controls",
            "_view_module_version": "1.5.0",
            "_view_name": "ProgressView",
            "bar_style": "success",
            "description": "",
            "description_tooltip": null,
            "layout": "IPY_MODEL_a174935ac37641a9bc54005a4ac0decc",
            "max": 1592,
            "min": 0,
            "orientation": "horizontal",
            "style": "IPY_MODEL_c3dcd588e00e4c3ea760f8e54192333c",
            "value": 1592
          }
        },
        "e9585d2263a54136bd04968f2e21d695": {
          "model_module": "@jupyter-widgets/controls",
          "model_name": "HTMLModel",
          "model_module_version": "1.5.0",
          "state": {
            "_dom_classes": [],
            "_model_module": "@jupyter-widgets/controls",
            "_model_module_version": "1.5.0",
            "_model_name": "HTMLModel",
            "_view_count": null,
            "_view_module": "@jupyter-widgets/controls",
            "_view_module_version": "1.5.0",
            "_view_name": "HTMLView",
            "description": "",
            "description_tooltip": null,
            "layout": "IPY_MODEL_5d20b1aff21742fb8fe1d6be7641339e",
            "placeholder": "​",
            "style": "IPY_MODEL_b9e63c48290d4eb7a840f363a5880b19",
            "value": " 1592/1592 [13:49&lt;00:00,  2.12it/s]"
          }
        },
        "006f43121d504dc1a73499b17dba1abe": {
          "model_module": "@jupyter-widgets/base",
          "model_name": "LayoutModel",
          "model_module_version": "1.2.0",
          "state": {
            "_model_module": "@jupyter-widgets/base",
            "_model_module_version": "1.2.0",
            "_model_name": "LayoutModel",
            "_view_count": null,
            "_view_module": "@jupyter-widgets/base",
            "_view_module_version": "1.2.0",
            "_view_name": "LayoutView",
            "align_content": null,
            "align_items": null,
            "align_self": null,
            "border": null,
            "bottom": null,
            "display": null,
            "flex": null,
            "flex_flow": null,
            "grid_area": null,
            "grid_auto_columns": null,
            "grid_auto_flow": null,
            "grid_auto_rows": null,
            "grid_column": null,
            "grid_gap": null,
            "grid_row": null,
            "grid_template_areas": null,
            "grid_template_columns": null,
            "grid_template_rows": null,
            "height": null,
            "justify_content": null,
            "justify_items": null,
            "left": null,
            "margin": null,
            "max_height": null,
            "max_width": null,
            "min_height": null,
            "min_width": null,
            "object_fit": null,
            "object_position": null,
            "order": null,
            "overflow": null,
            "overflow_x": null,
            "overflow_y": null,
            "padding": null,
            "right": null,
            "top": null,
            "visibility": null,
            "width": null
          }
        },
        "8ec42ea48806466a9be0b8c8caca40f2": {
          "model_module": "@jupyter-widgets/base",
          "model_name": "LayoutModel",
          "model_module_version": "1.2.0",
          "state": {
            "_model_module": "@jupyter-widgets/base",
            "_model_module_version": "1.2.0",
            "_model_name": "LayoutModel",
            "_view_count": null,
            "_view_module": "@jupyter-widgets/base",
            "_view_module_version": "1.2.0",
            "_view_name": "LayoutView",
            "align_content": null,
            "align_items": null,
            "align_self": null,
            "border": null,
            "bottom": null,
            "display": null,
            "flex": null,
            "flex_flow": null,
            "grid_area": null,
            "grid_auto_columns": null,
            "grid_auto_flow": null,
            "grid_auto_rows": null,
            "grid_column": null,
            "grid_gap": null,
            "grid_row": null,
            "grid_template_areas": null,
            "grid_template_columns": null,
            "grid_template_rows": null,
            "height": null,
            "justify_content": null,
            "justify_items": null,
            "left": null,
            "margin": null,
            "max_height": null,
            "max_width": null,
            "min_height": null,
            "min_width": null,
            "object_fit": null,
            "object_position": null,
            "order": null,
            "overflow": null,
            "overflow_x": null,
            "overflow_y": null,
            "padding": null,
            "right": null,
            "top": null,
            "visibility": null,
            "width": null
          }
        },
        "42962a34bcb0467091e8beda6a85287c": {
          "model_module": "@jupyter-widgets/controls",
          "model_name": "DescriptionStyleModel",
          "model_module_version": "1.5.0",
          "state": {
            "_model_module": "@jupyter-widgets/controls",
            "_model_module_version": "1.5.0",
            "_model_name": "DescriptionStyleModel",
            "_view_count": null,
            "_view_module": "@jupyter-widgets/base",
            "_view_module_version": "1.2.0",
            "_view_name": "StyleView",
            "description_width": ""
          }
        },
        "a174935ac37641a9bc54005a4ac0decc": {
          "model_module": "@jupyter-widgets/base",
          "model_name": "LayoutModel",
          "model_module_version": "1.2.0",
          "state": {
            "_model_module": "@jupyter-widgets/base",
            "_model_module_version": "1.2.0",
            "_model_name": "LayoutModel",
            "_view_count": null,
            "_view_module": "@jupyter-widgets/base",
            "_view_module_version": "1.2.0",
            "_view_name": "LayoutView",
            "align_content": null,
            "align_items": null,
            "align_self": null,
            "border": null,
            "bottom": null,
            "display": null,
            "flex": null,
            "flex_flow": null,
            "grid_area": null,
            "grid_auto_columns": null,
            "grid_auto_flow": null,
            "grid_auto_rows": null,
            "grid_column": null,
            "grid_gap": null,
            "grid_row": null,
            "grid_template_areas": null,
            "grid_template_columns": null,
            "grid_template_rows": null,
            "height": null,
            "justify_content": null,
            "justify_items": null,
            "left": null,
            "margin": null,
            "max_height": null,
            "max_width": null,
            "min_height": null,
            "min_width": null,
            "object_fit": null,
            "object_position": null,
            "order": null,
            "overflow": null,
            "overflow_x": null,
            "overflow_y": null,
            "padding": null,
            "right": null,
            "top": null,
            "visibility": null,
            "width": null
          }
        },
        "c3dcd588e00e4c3ea760f8e54192333c": {
          "model_module": "@jupyter-widgets/controls",
          "model_name": "ProgressStyleModel",
          "model_module_version": "1.5.0",
          "state": {
            "_model_module": "@jupyter-widgets/controls",
            "_model_module_version": "1.5.0",
            "_model_name": "ProgressStyleModel",
            "_view_count": null,
            "_view_module": "@jupyter-widgets/base",
            "_view_module_version": "1.2.0",
            "_view_name": "StyleView",
            "bar_color": null,
            "description_width": ""
          }
        },
        "5d20b1aff21742fb8fe1d6be7641339e": {
          "model_module": "@jupyter-widgets/base",
          "model_name": "LayoutModel",
          "model_module_version": "1.2.0",
          "state": {
            "_model_module": "@jupyter-widgets/base",
            "_model_module_version": "1.2.0",
            "_model_name": "LayoutModel",
            "_view_count": null,
            "_view_module": "@jupyter-widgets/base",
            "_view_module_version": "1.2.0",
            "_view_name": "LayoutView",
            "align_content": null,
            "align_items": null,
            "align_self": null,
            "border": null,
            "bottom": null,
            "display": null,
            "flex": null,
            "flex_flow": null,
            "grid_area": null,
            "grid_auto_columns": null,
            "grid_auto_flow": null,
            "grid_auto_rows": null,
            "grid_column": null,
            "grid_gap": null,
            "grid_row": null,
            "grid_template_areas": null,
            "grid_template_columns": null,
            "grid_template_rows": null,
            "height": null,
            "justify_content": null,
            "justify_items": null,
            "left": null,
            "margin": null,
            "max_height": null,
            "max_width": null,
            "min_height": null,
            "min_width": null,
            "object_fit": null,
            "object_position": null,
            "order": null,
            "overflow": null,
            "overflow_x": null,
            "overflow_y": null,
            "padding": null,
            "right": null,
            "top": null,
            "visibility": null,
            "width": null
          }
        },
        "b9e63c48290d4eb7a840f363a5880b19": {
          "model_module": "@jupyter-widgets/controls",
          "model_name": "DescriptionStyleModel",
          "model_module_version": "1.5.0",
          "state": {
            "_model_module": "@jupyter-widgets/controls",
            "_model_module_version": "1.5.0",
            "_model_name": "DescriptionStyleModel",
            "_view_count": null,
            "_view_module": "@jupyter-widgets/base",
            "_view_module_version": "1.2.0",
            "_view_name": "StyleView",
            "description_width": ""
          }
        },
        "e065cf215c0540cc81286d5c6b91c654": {
          "model_module": "@jupyter-widgets/controls",
          "model_name": "HBoxModel",
          "model_module_version": "1.5.0",
          "state": {
            "_dom_classes": [],
            "_model_module": "@jupyter-widgets/controls",
            "_model_module_version": "1.5.0",
            "_model_name": "HBoxModel",
            "_view_count": null,
            "_view_module": "@jupyter-widgets/controls",
            "_view_module_version": "1.5.0",
            "_view_name": "HBoxView",
            "box_style": "",
            "children": [
              "IPY_MODEL_288ecb46507741058fb07e82af4e095f",
              "IPY_MODEL_6037ce7b04f24f7eb77434f5b04b6594",
              "IPY_MODEL_459e4c0b9e6f43359e59ae179870a624"
            ],
            "layout": "IPY_MODEL_79944078deb84cd4ab401dcfbf19cb94"
          }
        },
        "288ecb46507741058fb07e82af4e095f": {
          "model_module": "@jupyter-widgets/controls",
          "model_name": "HTMLModel",
          "model_module_version": "1.5.0",
          "state": {
            "_dom_classes": [],
            "_model_module": "@jupyter-widgets/controls",
            "_model_module_version": "1.5.0",
            "_model_name": "HTMLModel",
            "_view_count": null,
            "_view_module": "@jupyter-widgets/controls",
            "_view_module_version": "1.5.0",
            "_view_name": "HTMLView",
            "description": "",
            "description_tooltip": null,
            "layout": "IPY_MODEL_a75ae4bdda3f46aa9d01f8f7b50abf4a",
            "placeholder": "​",
            "style": "IPY_MODEL_a48d62b8fded49d9b83d66a6487a2887",
            "value": "Batches: 100%"
          }
        },
        "6037ce7b04f24f7eb77434f5b04b6594": {
          "model_module": "@jupyter-widgets/controls",
          "model_name": "FloatProgressModel",
          "model_module_version": "1.5.0",
          "state": {
            "_dom_classes": [],
            "_model_module": "@jupyter-widgets/controls",
            "_model_module_version": "1.5.0",
            "_model_name": "FloatProgressModel",
            "_view_count": null,
            "_view_module": "@jupyter-widgets/controls",
            "_view_module_version": "1.5.0",
            "_view_name": "ProgressView",
            "bar_style": "success",
            "description": "",
            "description_tooltip": null,
            "layout": "IPY_MODEL_28038cd8052e46c4a18fc139b75a8cb0",
            "max": 11,
            "min": 0,
            "orientation": "horizontal",
            "style": "IPY_MODEL_805fe7a919b34ecc9e7b052deb6e1cf9",
            "value": 11
          }
        },
        "459e4c0b9e6f43359e59ae179870a624": {
          "model_module": "@jupyter-widgets/controls",
          "model_name": "HTMLModel",
          "model_module_version": "1.5.0",
          "state": {
            "_dom_classes": [],
            "_model_module": "@jupyter-widgets/controls",
            "_model_module_version": "1.5.0",
            "_model_name": "HTMLModel",
            "_view_count": null,
            "_view_module": "@jupyter-widgets/controls",
            "_view_module_version": "1.5.0",
            "_view_name": "HTMLView",
            "description": "",
            "description_tooltip": null,
            "layout": "IPY_MODEL_d68cfd5bb3a847b0bdf3bdb9eb80b401",
            "placeholder": "​",
            "style": "IPY_MODEL_f624bdbc0c0a4f379acc213e437b19ed",
            "value": " 11/11 [00:00&lt;00:00, 19.66it/s]"
          }
        },
        "79944078deb84cd4ab401dcfbf19cb94": {
          "model_module": "@jupyter-widgets/base",
          "model_name": "LayoutModel",
          "model_module_version": "1.2.0",
          "state": {
            "_model_module": "@jupyter-widgets/base",
            "_model_module_version": "1.2.0",
            "_model_name": "LayoutModel",
            "_view_count": null,
            "_view_module": "@jupyter-widgets/base",
            "_view_module_version": "1.2.0",
            "_view_name": "LayoutView",
            "align_content": null,
            "align_items": null,
            "align_self": null,
            "border": null,
            "bottom": null,
            "display": null,
            "flex": null,
            "flex_flow": null,
            "grid_area": null,
            "grid_auto_columns": null,
            "grid_auto_flow": null,
            "grid_auto_rows": null,
            "grid_column": null,
            "grid_gap": null,
            "grid_row": null,
            "grid_template_areas": null,
            "grid_template_columns": null,
            "grid_template_rows": null,
            "height": null,
            "justify_content": null,
            "justify_items": null,
            "left": null,
            "margin": null,
            "max_height": null,
            "max_width": null,
            "min_height": null,
            "min_width": null,
            "object_fit": null,
            "object_position": null,
            "order": null,
            "overflow": null,
            "overflow_x": null,
            "overflow_y": null,
            "padding": null,
            "right": null,
            "top": null,
            "visibility": null,
            "width": null
          }
        },
        "a75ae4bdda3f46aa9d01f8f7b50abf4a": {
          "model_module": "@jupyter-widgets/base",
          "model_name": "LayoutModel",
          "model_module_version": "1.2.0",
          "state": {
            "_model_module": "@jupyter-widgets/base",
            "_model_module_version": "1.2.0",
            "_model_name": "LayoutModel",
            "_view_count": null,
            "_view_module": "@jupyter-widgets/base",
            "_view_module_version": "1.2.0",
            "_view_name": "LayoutView",
            "align_content": null,
            "align_items": null,
            "align_self": null,
            "border": null,
            "bottom": null,
            "display": null,
            "flex": null,
            "flex_flow": null,
            "grid_area": null,
            "grid_auto_columns": null,
            "grid_auto_flow": null,
            "grid_auto_rows": null,
            "grid_column": null,
            "grid_gap": null,
            "grid_row": null,
            "grid_template_areas": null,
            "grid_template_columns": null,
            "grid_template_rows": null,
            "height": null,
            "justify_content": null,
            "justify_items": null,
            "left": null,
            "margin": null,
            "max_height": null,
            "max_width": null,
            "min_height": null,
            "min_width": null,
            "object_fit": null,
            "object_position": null,
            "order": null,
            "overflow": null,
            "overflow_x": null,
            "overflow_y": null,
            "padding": null,
            "right": null,
            "top": null,
            "visibility": null,
            "width": null
          }
        },
        "a48d62b8fded49d9b83d66a6487a2887": {
          "model_module": "@jupyter-widgets/controls",
          "model_name": "DescriptionStyleModel",
          "model_module_version": "1.5.0",
          "state": {
            "_model_module": "@jupyter-widgets/controls",
            "_model_module_version": "1.5.0",
            "_model_name": "DescriptionStyleModel",
            "_view_count": null,
            "_view_module": "@jupyter-widgets/base",
            "_view_module_version": "1.2.0",
            "_view_name": "StyleView",
            "description_width": ""
          }
        },
        "28038cd8052e46c4a18fc139b75a8cb0": {
          "model_module": "@jupyter-widgets/base",
          "model_name": "LayoutModel",
          "model_module_version": "1.2.0",
          "state": {
            "_model_module": "@jupyter-widgets/base",
            "_model_module_version": "1.2.0",
            "_model_name": "LayoutModel",
            "_view_count": null,
            "_view_module": "@jupyter-widgets/base",
            "_view_module_version": "1.2.0",
            "_view_name": "LayoutView",
            "align_content": null,
            "align_items": null,
            "align_self": null,
            "border": null,
            "bottom": null,
            "display": null,
            "flex": null,
            "flex_flow": null,
            "grid_area": null,
            "grid_auto_columns": null,
            "grid_auto_flow": null,
            "grid_auto_rows": null,
            "grid_column": null,
            "grid_gap": null,
            "grid_row": null,
            "grid_template_areas": null,
            "grid_template_columns": null,
            "grid_template_rows": null,
            "height": null,
            "justify_content": null,
            "justify_items": null,
            "left": null,
            "margin": null,
            "max_height": null,
            "max_width": null,
            "min_height": null,
            "min_width": null,
            "object_fit": null,
            "object_position": null,
            "order": null,
            "overflow": null,
            "overflow_x": null,
            "overflow_y": null,
            "padding": null,
            "right": null,
            "top": null,
            "visibility": null,
            "width": null
          }
        },
        "805fe7a919b34ecc9e7b052deb6e1cf9": {
          "model_module": "@jupyter-widgets/controls",
          "model_name": "ProgressStyleModel",
          "model_module_version": "1.5.0",
          "state": {
            "_model_module": "@jupyter-widgets/controls",
            "_model_module_version": "1.5.0",
            "_model_name": "ProgressStyleModel",
            "_view_count": null,
            "_view_module": "@jupyter-widgets/base",
            "_view_module_version": "1.2.0",
            "_view_name": "StyleView",
            "bar_color": null,
            "description_width": ""
          }
        },
        "d68cfd5bb3a847b0bdf3bdb9eb80b401": {
          "model_module": "@jupyter-widgets/base",
          "model_name": "LayoutModel",
          "model_module_version": "1.2.0",
          "state": {
            "_model_module": "@jupyter-widgets/base",
            "_model_module_version": "1.2.0",
            "_model_name": "LayoutModel",
            "_view_count": null,
            "_view_module": "@jupyter-widgets/base",
            "_view_module_version": "1.2.0",
            "_view_name": "LayoutView",
            "align_content": null,
            "align_items": null,
            "align_self": null,
            "border": null,
            "bottom": null,
            "display": null,
            "flex": null,
            "flex_flow": null,
            "grid_area": null,
            "grid_auto_columns": null,
            "grid_auto_flow": null,
            "grid_auto_rows": null,
            "grid_column": null,
            "grid_gap": null,
            "grid_row": null,
            "grid_template_areas": null,
            "grid_template_columns": null,
            "grid_template_rows": null,
            "height": null,
            "justify_content": null,
            "justify_items": null,
            "left": null,
            "margin": null,
            "max_height": null,
            "max_width": null,
            "min_height": null,
            "min_width": null,
            "object_fit": null,
            "object_position": null,
            "order": null,
            "overflow": null,
            "overflow_x": null,
            "overflow_y": null,
            "padding": null,
            "right": null,
            "top": null,
            "visibility": null,
            "width": null
          }
        },
        "f624bdbc0c0a4f379acc213e437b19ed": {
          "model_module": "@jupyter-widgets/controls",
          "model_name": "DescriptionStyleModel",
          "model_module_version": "1.5.0",
          "state": {
            "_model_module": "@jupyter-widgets/controls",
            "_model_module_version": "1.5.0",
            "_model_name": "DescriptionStyleModel",
            "_view_count": null,
            "_view_module": "@jupyter-widgets/base",
            "_view_module_version": "1.2.0",
            "_view_name": "StyleView",
            "description_width": ""
          }
        },
        "8ac7626f566f4b01a7ba9d35618a7293": {
          "model_module": "@jupyter-widgets/controls",
          "model_name": "HBoxModel",
          "model_module_version": "1.5.0",
          "state": {
            "_dom_classes": [],
            "_model_module": "@jupyter-widgets/controls",
            "_model_module_version": "1.5.0",
            "_model_name": "HBoxModel",
            "_view_count": null,
            "_view_module": "@jupyter-widgets/controls",
            "_view_module_version": "1.5.0",
            "_view_name": "HBoxView",
            "box_style": "",
            "children": [
              "IPY_MODEL_be6f9b2644c149078dfd5685cbb204e0",
              "IPY_MODEL_1b718fa2b9044ed395df27616c8c0431",
              "IPY_MODEL_304bd43932414fa89b5a7588c3e0eec0"
            ],
            "layout": "IPY_MODEL_5da23fa9d6174f8b8d8b8bb5a4a746df"
          }
        },
        "be6f9b2644c149078dfd5685cbb204e0": {
          "model_module": "@jupyter-widgets/controls",
          "model_name": "HTMLModel",
          "model_module_version": "1.5.0",
          "state": {
            "_dom_classes": [],
            "_model_module": "@jupyter-widgets/controls",
            "_model_module_version": "1.5.0",
            "_model_name": "HTMLModel",
            "_view_count": null,
            "_view_module": "@jupyter-widgets/controls",
            "_view_module_version": "1.5.0",
            "_view_name": "HTMLView",
            "description": "",
            "description_tooltip": null,
            "layout": "IPY_MODEL_5cd433574a774b2fbd201a85d79d6e2e",
            "placeholder": "​",
            "style": "IPY_MODEL_b1000af57be4484585769686309098f0",
            "value": "Iteration: 100%"
          }
        },
        "1b718fa2b9044ed395df27616c8c0431": {
          "model_module": "@jupyter-widgets/controls",
          "model_name": "FloatProgressModel",
          "model_module_version": "1.5.0",
          "state": {
            "_dom_classes": [],
            "_model_module": "@jupyter-widgets/controls",
            "_model_module_version": "1.5.0",
            "_model_name": "FloatProgressModel",
            "_view_count": null,
            "_view_module": "@jupyter-widgets/controls",
            "_view_module_version": "1.5.0",
            "_view_name": "ProgressView",
            "bar_style": "success",
            "description": "",
            "description_tooltip": null,
            "layout": "IPY_MODEL_a68cb0d6bbf549d1b5b8f54764ecd801",
            "max": 1592,
            "min": 0,
            "orientation": "horizontal",
            "style": "IPY_MODEL_aa7ca489db104b838a1a48dc932fc49a",
            "value": 1592
          }
        },
        "304bd43932414fa89b5a7588c3e0eec0": {
          "model_module": "@jupyter-widgets/controls",
          "model_name": "HTMLModel",
          "model_module_version": "1.5.0",
          "state": {
            "_dom_classes": [],
            "_model_module": "@jupyter-widgets/controls",
            "_model_module_version": "1.5.0",
            "_model_name": "HTMLModel",
            "_view_count": null,
            "_view_module": "@jupyter-widgets/controls",
            "_view_module_version": "1.5.0",
            "_view_name": "HTMLView",
            "description": "",
            "description_tooltip": null,
            "layout": "IPY_MODEL_93232c95bc564d2780f50792c387c78c",
            "placeholder": "​",
            "style": "IPY_MODEL_84de1f23925e4308814fb26c8fef1301",
            "value": " 1592/1592 [14:08&lt;00:00,  1.88it/s]"
          }
        },
        "5da23fa9d6174f8b8d8b8bb5a4a746df": {
          "model_module": "@jupyter-widgets/base",
          "model_name": "LayoutModel",
          "model_module_version": "1.2.0",
          "state": {
            "_model_module": "@jupyter-widgets/base",
            "_model_module_version": "1.2.0",
            "_model_name": "LayoutModel",
            "_view_count": null,
            "_view_module": "@jupyter-widgets/base",
            "_view_module_version": "1.2.0",
            "_view_name": "LayoutView",
            "align_content": null,
            "align_items": null,
            "align_self": null,
            "border": null,
            "bottom": null,
            "display": null,
            "flex": null,
            "flex_flow": null,
            "grid_area": null,
            "grid_auto_columns": null,
            "grid_auto_flow": null,
            "grid_auto_rows": null,
            "grid_column": null,
            "grid_gap": null,
            "grid_row": null,
            "grid_template_areas": null,
            "grid_template_columns": null,
            "grid_template_rows": null,
            "height": null,
            "justify_content": null,
            "justify_items": null,
            "left": null,
            "margin": null,
            "max_height": null,
            "max_width": null,
            "min_height": null,
            "min_width": null,
            "object_fit": null,
            "object_position": null,
            "order": null,
            "overflow": null,
            "overflow_x": null,
            "overflow_y": null,
            "padding": null,
            "right": null,
            "top": null,
            "visibility": null,
            "width": null
          }
        },
        "5cd433574a774b2fbd201a85d79d6e2e": {
          "model_module": "@jupyter-widgets/base",
          "model_name": "LayoutModel",
          "model_module_version": "1.2.0",
          "state": {
            "_model_module": "@jupyter-widgets/base",
            "_model_module_version": "1.2.0",
            "_model_name": "LayoutModel",
            "_view_count": null,
            "_view_module": "@jupyter-widgets/base",
            "_view_module_version": "1.2.0",
            "_view_name": "LayoutView",
            "align_content": null,
            "align_items": null,
            "align_self": null,
            "border": null,
            "bottom": null,
            "display": null,
            "flex": null,
            "flex_flow": null,
            "grid_area": null,
            "grid_auto_columns": null,
            "grid_auto_flow": null,
            "grid_auto_rows": null,
            "grid_column": null,
            "grid_gap": null,
            "grid_row": null,
            "grid_template_areas": null,
            "grid_template_columns": null,
            "grid_template_rows": null,
            "height": null,
            "justify_content": null,
            "justify_items": null,
            "left": null,
            "margin": null,
            "max_height": null,
            "max_width": null,
            "min_height": null,
            "min_width": null,
            "object_fit": null,
            "object_position": null,
            "order": null,
            "overflow": null,
            "overflow_x": null,
            "overflow_y": null,
            "padding": null,
            "right": null,
            "top": null,
            "visibility": null,
            "width": null
          }
        },
        "b1000af57be4484585769686309098f0": {
          "model_module": "@jupyter-widgets/controls",
          "model_name": "DescriptionStyleModel",
          "model_module_version": "1.5.0",
          "state": {
            "_model_module": "@jupyter-widgets/controls",
            "_model_module_version": "1.5.0",
            "_model_name": "DescriptionStyleModel",
            "_view_count": null,
            "_view_module": "@jupyter-widgets/base",
            "_view_module_version": "1.2.0",
            "_view_name": "StyleView",
            "description_width": ""
          }
        },
        "a68cb0d6bbf549d1b5b8f54764ecd801": {
          "model_module": "@jupyter-widgets/base",
          "model_name": "LayoutModel",
          "model_module_version": "1.2.0",
          "state": {
            "_model_module": "@jupyter-widgets/base",
            "_model_module_version": "1.2.0",
            "_model_name": "LayoutModel",
            "_view_count": null,
            "_view_module": "@jupyter-widgets/base",
            "_view_module_version": "1.2.0",
            "_view_name": "LayoutView",
            "align_content": null,
            "align_items": null,
            "align_self": null,
            "border": null,
            "bottom": null,
            "display": null,
            "flex": null,
            "flex_flow": null,
            "grid_area": null,
            "grid_auto_columns": null,
            "grid_auto_flow": null,
            "grid_auto_rows": null,
            "grid_column": null,
            "grid_gap": null,
            "grid_row": null,
            "grid_template_areas": null,
            "grid_template_columns": null,
            "grid_template_rows": null,
            "height": null,
            "justify_content": null,
            "justify_items": null,
            "left": null,
            "margin": null,
            "max_height": null,
            "max_width": null,
            "min_height": null,
            "min_width": null,
            "object_fit": null,
            "object_position": null,
            "order": null,
            "overflow": null,
            "overflow_x": null,
            "overflow_y": null,
            "padding": null,
            "right": null,
            "top": null,
            "visibility": null,
            "width": null
          }
        },
        "aa7ca489db104b838a1a48dc932fc49a": {
          "model_module": "@jupyter-widgets/controls",
          "model_name": "ProgressStyleModel",
          "model_module_version": "1.5.0",
          "state": {
            "_model_module": "@jupyter-widgets/controls",
            "_model_module_version": "1.5.0",
            "_model_name": "ProgressStyleModel",
            "_view_count": null,
            "_view_module": "@jupyter-widgets/base",
            "_view_module_version": "1.2.0",
            "_view_name": "StyleView",
            "bar_color": null,
            "description_width": ""
          }
        },
        "93232c95bc564d2780f50792c387c78c": {
          "model_module": "@jupyter-widgets/base",
          "model_name": "LayoutModel",
          "model_module_version": "1.2.0",
          "state": {
            "_model_module": "@jupyter-widgets/base",
            "_model_module_version": "1.2.0",
            "_model_name": "LayoutModel",
            "_view_count": null,
            "_view_module": "@jupyter-widgets/base",
            "_view_module_version": "1.2.0",
            "_view_name": "LayoutView",
            "align_content": null,
            "align_items": null,
            "align_self": null,
            "border": null,
            "bottom": null,
            "display": null,
            "flex": null,
            "flex_flow": null,
            "grid_area": null,
            "grid_auto_columns": null,
            "grid_auto_flow": null,
            "grid_auto_rows": null,
            "grid_column": null,
            "grid_gap": null,
            "grid_row": null,
            "grid_template_areas": null,
            "grid_template_columns": null,
            "grid_template_rows": null,
            "height": null,
            "justify_content": null,
            "justify_items": null,
            "left": null,
            "margin": null,
            "max_height": null,
            "max_width": null,
            "min_height": null,
            "min_width": null,
            "object_fit": null,
            "object_position": null,
            "order": null,
            "overflow": null,
            "overflow_x": null,
            "overflow_y": null,
            "padding": null,
            "right": null,
            "top": null,
            "visibility": null,
            "width": null
          }
        },
        "84de1f23925e4308814fb26c8fef1301": {
          "model_module": "@jupyter-widgets/controls",
          "model_name": "DescriptionStyleModel",
          "model_module_version": "1.5.0",
          "state": {
            "_model_module": "@jupyter-widgets/controls",
            "_model_module_version": "1.5.0",
            "_model_name": "DescriptionStyleModel",
            "_view_count": null,
            "_view_module": "@jupyter-widgets/base",
            "_view_module_version": "1.2.0",
            "_view_name": "StyleView",
            "description_width": ""
          }
        },
        "4b5b8a243019426a8454889e124f1eed": {
          "model_module": "@jupyter-widgets/controls",
          "model_name": "HBoxModel",
          "model_module_version": "1.5.0",
          "state": {
            "_dom_classes": [],
            "_model_module": "@jupyter-widgets/controls",
            "_model_module_version": "1.5.0",
            "_model_name": "HBoxModel",
            "_view_count": null,
            "_view_module": "@jupyter-widgets/controls",
            "_view_module_version": "1.5.0",
            "_view_name": "HBoxView",
            "box_style": "",
            "children": [
              "IPY_MODEL_91005fe87a654e9bb525d15e487b3089",
              "IPY_MODEL_f3fec744f59c4d44a0c2ba583a862e75",
              "IPY_MODEL_99147b28502a4418bf85a1f8bc7091b6"
            ],
            "layout": "IPY_MODEL_f81e404c81db47568f0d2a124c42e749"
          }
        },
        "91005fe87a654e9bb525d15e487b3089": {
          "model_module": "@jupyter-widgets/controls",
          "model_name": "HTMLModel",
          "model_module_version": "1.5.0",
          "state": {
            "_dom_classes": [],
            "_model_module": "@jupyter-widgets/controls",
            "_model_module_version": "1.5.0",
            "_model_name": "HTMLModel",
            "_view_count": null,
            "_view_module": "@jupyter-widgets/controls",
            "_view_module_version": "1.5.0",
            "_view_name": "HTMLView",
            "description": "",
            "description_tooltip": null,
            "layout": "IPY_MODEL_060b4bf683c54f219b2e405e90de157b",
            "placeholder": "​",
            "style": "IPY_MODEL_245db28708094a5fb08383219d53152a",
            "value": "Batches: 100%"
          }
        },
        "f3fec744f59c4d44a0c2ba583a862e75": {
          "model_module": "@jupyter-widgets/controls",
          "model_name": "FloatProgressModel",
          "model_module_version": "1.5.0",
          "state": {
            "_dom_classes": [],
            "_model_module": "@jupyter-widgets/controls",
            "_model_module_version": "1.5.0",
            "_model_name": "FloatProgressModel",
            "_view_count": null,
            "_view_module": "@jupyter-widgets/controls",
            "_view_module_version": "1.5.0",
            "_view_name": "ProgressView",
            "bar_style": "success",
            "description": "",
            "description_tooltip": null,
            "layout": "IPY_MODEL_822ecc86441442e288779b4ab76b5ba4",
            "max": 11,
            "min": 0,
            "orientation": "horizontal",
            "style": "IPY_MODEL_13eeda7209f942098002e411f782e093",
            "value": 11
          }
        },
        "99147b28502a4418bf85a1f8bc7091b6": {
          "model_module": "@jupyter-widgets/controls",
          "model_name": "HTMLModel",
          "model_module_version": "1.5.0",
          "state": {
            "_dom_classes": [],
            "_model_module": "@jupyter-widgets/controls",
            "_model_module_version": "1.5.0",
            "_model_name": "HTMLModel",
            "_view_count": null,
            "_view_module": "@jupyter-widgets/controls",
            "_view_module_version": "1.5.0",
            "_view_name": "HTMLView",
            "description": "",
            "description_tooltip": null,
            "layout": "IPY_MODEL_1e010c4e124e4b09aa12d72522826e8d",
            "placeholder": "​",
            "style": "IPY_MODEL_6002adf12a4841f28c18bfa14763d9dc",
            "value": " 11/11 [00:00&lt;00:00, 19.78it/s]"
          }
        },
        "f81e404c81db47568f0d2a124c42e749": {
          "model_module": "@jupyter-widgets/base",
          "model_name": "LayoutModel",
          "model_module_version": "1.2.0",
          "state": {
            "_model_module": "@jupyter-widgets/base",
            "_model_module_version": "1.2.0",
            "_model_name": "LayoutModel",
            "_view_count": null,
            "_view_module": "@jupyter-widgets/base",
            "_view_module_version": "1.2.0",
            "_view_name": "LayoutView",
            "align_content": null,
            "align_items": null,
            "align_self": null,
            "border": null,
            "bottom": null,
            "display": null,
            "flex": null,
            "flex_flow": null,
            "grid_area": null,
            "grid_auto_columns": null,
            "grid_auto_flow": null,
            "grid_auto_rows": null,
            "grid_column": null,
            "grid_gap": null,
            "grid_row": null,
            "grid_template_areas": null,
            "grid_template_columns": null,
            "grid_template_rows": null,
            "height": null,
            "justify_content": null,
            "justify_items": null,
            "left": null,
            "margin": null,
            "max_height": null,
            "max_width": null,
            "min_height": null,
            "min_width": null,
            "object_fit": null,
            "object_position": null,
            "order": null,
            "overflow": null,
            "overflow_x": null,
            "overflow_y": null,
            "padding": null,
            "right": null,
            "top": null,
            "visibility": null,
            "width": null
          }
        },
        "060b4bf683c54f219b2e405e90de157b": {
          "model_module": "@jupyter-widgets/base",
          "model_name": "LayoutModel",
          "model_module_version": "1.2.0",
          "state": {
            "_model_module": "@jupyter-widgets/base",
            "_model_module_version": "1.2.0",
            "_model_name": "LayoutModel",
            "_view_count": null,
            "_view_module": "@jupyter-widgets/base",
            "_view_module_version": "1.2.0",
            "_view_name": "LayoutView",
            "align_content": null,
            "align_items": null,
            "align_self": null,
            "border": null,
            "bottom": null,
            "display": null,
            "flex": null,
            "flex_flow": null,
            "grid_area": null,
            "grid_auto_columns": null,
            "grid_auto_flow": null,
            "grid_auto_rows": null,
            "grid_column": null,
            "grid_gap": null,
            "grid_row": null,
            "grid_template_areas": null,
            "grid_template_columns": null,
            "grid_template_rows": null,
            "height": null,
            "justify_content": null,
            "justify_items": null,
            "left": null,
            "margin": null,
            "max_height": null,
            "max_width": null,
            "min_height": null,
            "min_width": null,
            "object_fit": null,
            "object_position": null,
            "order": null,
            "overflow": null,
            "overflow_x": null,
            "overflow_y": null,
            "padding": null,
            "right": null,
            "top": null,
            "visibility": null,
            "width": null
          }
        },
        "245db28708094a5fb08383219d53152a": {
          "model_module": "@jupyter-widgets/controls",
          "model_name": "DescriptionStyleModel",
          "model_module_version": "1.5.0",
          "state": {
            "_model_module": "@jupyter-widgets/controls",
            "_model_module_version": "1.5.0",
            "_model_name": "DescriptionStyleModel",
            "_view_count": null,
            "_view_module": "@jupyter-widgets/base",
            "_view_module_version": "1.2.0",
            "_view_name": "StyleView",
            "description_width": ""
          }
        },
        "822ecc86441442e288779b4ab76b5ba4": {
          "model_module": "@jupyter-widgets/base",
          "model_name": "LayoutModel",
          "model_module_version": "1.2.0",
          "state": {
            "_model_module": "@jupyter-widgets/base",
            "_model_module_version": "1.2.0",
            "_model_name": "LayoutModel",
            "_view_count": null,
            "_view_module": "@jupyter-widgets/base",
            "_view_module_version": "1.2.0",
            "_view_name": "LayoutView",
            "align_content": null,
            "align_items": null,
            "align_self": null,
            "border": null,
            "bottom": null,
            "display": null,
            "flex": null,
            "flex_flow": null,
            "grid_area": null,
            "grid_auto_columns": null,
            "grid_auto_flow": null,
            "grid_auto_rows": null,
            "grid_column": null,
            "grid_gap": null,
            "grid_row": null,
            "grid_template_areas": null,
            "grid_template_columns": null,
            "grid_template_rows": null,
            "height": null,
            "justify_content": null,
            "justify_items": null,
            "left": null,
            "margin": null,
            "max_height": null,
            "max_width": null,
            "min_height": null,
            "min_width": null,
            "object_fit": null,
            "object_position": null,
            "order": null,
            "overflow": null,
            "overflow_x": null,
            "overflow_y": null,
            "padding": null,
            "right": null,
            "top": null,
            "visibility": null,
            "width": null
          }
        },
        "13eeda7209f942098002e411f782e093": {
          "model_module": "@jupyter-widgets/controls",
          "model_name": "ProgressStyleModel",
          "model_module_version": "1.5.0",
          "state": {
            "_model_module": "@jupyter-widgets/controls",
            "_model_module_version": "1.5.0",
            "_model_name": "ProgressStyleModel",
            "_view_count": null,
            "_view_module": "@jupyter-widgets/base",
            "_view_module_version": "1.2.0",
            "_view_name": "StyleView",
            "bar_color": null,
            "description_width": ""
          }
        },
        "1e010c4e124e4b09aa12d72522826e8d": {
          "model_module": "@jupyter-widgets/base",
          "model_name": "LayoutModel",
          "model_module_version": "1.2.0",
          "state": {
            "_model_module": "@jupyter-widgets/base",
            "_model_module_version": "1.2.0",
            "_model_name": "LayoutModel",
            "_view_count": null,
            "_view_module": "@jupyter-widgets/base",
            "_view_module_version": "1.2.0",
            "_view_name": "LayoutView",
            "align_content": null,
            "align_items": null,
            "align_self": null,
            "border": null,
            "bottom": null,
            "display": null,
            "flex": null,
            "flex_flow": null,
            "grid_area": null,
            "grid_auto_columns": null,
            "grid_auto_flow": null,
            "grid_auto_rows": null,
            "grid_column": null,
            "grid_gap": null,
            "grid_row": null,
            "grid_template_areas": null,
            "grid_template_columns": null,
            "grid_template_rows": null,
            "height": null,
            "justify_content": null,
            "justify_items": null,
            "left": null,
            "margin": null,
            "max_height": null,
            "max_width": null,
            "min_height": null,
            "min_width": null,
            "object_fit": null,
            "object_position": null,
            "order": null,
            "overflow": null,
            "overflow_x": null,
            "overflow_y": null,
            "padding": null,
            "right": null,
            "top": null,
            "visibility": null,
            "width": null
          }
        },
        "6002adf12a4841f28c18bfa14763d9dc": {
          "model_module": "@jupyter-widgets/controls",
          "model_name": "DescriptionStyleModel",
          "model_module_version": "1.5.0",
          "state": {
            "_model_module": "@jupyter-widgets/controls",
            "_model_module_version": "1.5.0",
            "_model_name": "DescriptionStyleModel",
            "_view_count": null,
            "_view_module": "@jupyter-widgets/base",
            "_view_module_version": "1.2.0",
            "_view_name": "StyleView",
            "description_width": ""
          }
        },
        "ee65dafdf61e40db8fedfa73bc83c60c": {
          "model_module": "@jupyter-widgets/controls",
          "model_name": "HBoxModel",
          "model_module_version": "1.5.0",
          "state": {
            "_dom_classes": [],
            "_model_module": "@jupyter-widgets/controls",
            "_model_module_version": "1.5.0",
            "_model_name": "HBoxModel",
            "_view_count": null,
            "_view_module": "@jupyter-widgets/controls",
            "_view_module_version": "1.5.0",
            "_view_name": "HBoxView",
            "box_style": "",
            "children": [
              "IPY_MODEL_2437366feaea48d796fad37c3a8b8dcf",
              "IPY_MODEL_229a20a91f6a4feabf54ce3b1fa87713",
              "IPY_MODEL_bb17379c657b4213b3fde97c74d9936a"
            ],
            "layout": "IPY_MODEL_5f692414f27c4bf6968b5afc7fb948ef"
          }
        },
        "2437366feaea48d796fad37c3a8b8dcf": {
          "model_module": "@jupyter-widgets/controls",
          "model_name": "HTMLModel",
          "model_module_version": "1.5.0",
          "state": {
            "_dom_classes": [],
            "_model_module": "@jupyter-widgets/controls",
            "_model_module_version": "1.5.0",
            "_model_name": "HTMLModel",
            "_view_count": null,
            "_view_module": "@jupyter-widgets/controls",
            "_view_module_version": "1.5.0",
            "_view_name": "HTMLView",
            "description": "",
            "description_tooltip": null,
            "layout": "IPY_MODEL_6aba95fecffa4aeeac22dd4b9b489921",
            "placeholder": "​",
            "style": "IPY_MODEL_48dc39a9f94048c0b85dbcfef2386732",
            "value": "Iteration: 100%"
          }
        },
        "229a20a91f6a4feabf54ce3b1fa87713": {
          "model_module": "@jupyter-widgets/controls",
          "model_name": "FloatProgressModel",
          "model_module_version": "1.5.0",
          "state": {
            "_dom_classes": [],
            "_model_module": "@jupyter-widgets/controls",
            "_model_module_version": "1.5.0",
            "_model_name": "FloatProgressModel",
            "_view_count": null,
            "_view_module": "@jupyter-widgets/controls",
            "_view_module_version": "1.5.0",
            "_view_name": "ProgressView",
            "bar_style": "success",
            "description": "",
            "description_tooltip": null,
            "layout": "IPY_MODEL_4e5452a4a6d3421e9453dd626c74ea3d",
            "max": 1592,
            "min": 0,
            "orientation": "horizontal",
            "style": "IPY_MODEL_70570dcb12554c6e81d2cdc210f85ffb",
            "value": 1592
          }
        },
        "bb17379c657b4213b3fde97c74d9936a": {
          "model_module": "@jupyter-widgets/controls",
          "model_name": "HTMLModel",
          "model_module_version": "1.5.0",
          "state": {
            "_dom_classes": [],
            "_model_module": "@jupyter-widgets/controls",
            "_model_module_version": "1.5.0",
            "_model_name": "HTMLModel",
            "_view_count": null,
            "_view_module": "@jupyter-widgets/controls",
            "_view_module_version": "1.5.0",
            "_view_name": "HTMLView",
            "description": "",
            "description_tooltip": null,
            "layout": "IPY_MODEL_2b1341d49435439aafd9f6978c3f2018",
            "placeholder": "​",
            "style": "IPY_MODEL_6393957f002b4a7585f2cf416c4a210e",
            "value": " 1592/1592 [14:10&lt;00:00,  1.94it/s]"
          }
        },
        "5f692414f27c4bf6968b5afc7fb948ef": {
          "model_module": "@jupyter-widgets/base",
          "model_name": "LayoutModel",
          "model_module_version": "1.2.0",
          "state": {
            "_model_module": "@jupyter-widgets/base",
            "_model_module_version": "1.2.0",
            "_model_name": "LayoutModel",
            "_view_count": null,
            "_view_module": "@jupyter-widgets/base",
            "_view_module_version": "1.2.0",
            "_view_name": "LayoutView",
            "align_content": null,
            "align_items": null,
            "align_self": null,
            "border": null,
            "bottom": null,
            "display": null,
            "flex": null,
            "flex_flow": null,
            "grid_area": null,
            "grid_auto_columns": null,
            "grid_auto_flow": null,
            "grid_auto_rows": null,
            "grid_column": null,
            "grid_gap": null,
            "grid_row": null,
            "grid_template_areas": null,
            "grid_template_columns": null,
            "grid_template_rows": null,
            "height": null,
            "justify_content": null,
            "justify_items": null,
            "left": null,
            "margin": null,
            "max_height": null,
            "max_width": null,
            "min_height": null,
            "min_width": null,
            "object_fit": null,
            "object_position": null,
            "order": null,
            "overflow": null,
            "overflow_x": null,
            "overflow_y": null,
            "padding": null,
            "right": null,
            "top": null,
            "visibility": null,
            "width": null
          }
        },
        "6aba95fecffa4aeeac22dd4b9b489921": {
          "model_module": "@jupyter-widgets/base",
          "model_name": "LayoutModel",
          "model_module_version": "1.2.0",
          "state": {
            "_model_module": "@jupyter-widgets/base",
            "_model_module_version": "1.2.0",
            "_model_name": "LayoutModel",
            "_view_count": null,
            "_view_module": "@jupyter-widgets/base",
            "_view_module_version": "1.2.0",
            "_view_name": "LayoutView",
            "align_content": null,
            "align_items": null,
            "align_self": null,
            "border": null,
            "bottom": null,
            "display": null,
            "flex": null,
            "flex_flow": null,
            "grid_area": null,
            "grid_auto_columns": null,
            "grid_auto_flow": null,
            "grid_auto_rows": null,
            "grid_column": null,
            "grid_gap": null,
            "grid_row": null,
            "grid_template_areas": null,
            "grid_template_columns": null,
            "grid_template_rows": null,
            "height": null,
            "justify_content": null,
            "justify_items": null,
            "left": null,
            "margin": null,
            "max_height": null,
            "max_width": null,
            "min_height": null,
            "min_width": null,
            "object_fit": null,
            "object_position": null,
            "order": null,
            "overflow": null,
            "overflow_x": null,
            "overflow_y": null,
            "padding": null,
            "right": null,
            "top": null,
            "visibility": null,
            "width": null
          }
        },
        "48dc39a9f94048c0b85dbcfef2386732": {
          "model_module": "@jupyter-widgets/controls",
          "model_name": "DescriptionStyleModel",
          "model_module_version": "1.5.0",
          "state": {
            "_model_module": "@jupyter-widgets/controls",
            "_model_module_version": "1.5.0",
            "_model_name": "DescriptionStyleModel",
            "_view_count": null,
            "_view_module": "@jupyter-widgets/base",
            "_view_module_version": "1.2.0",
            "_view_name": "StyleView",
            "description_width": ""
          }
        },
        "4e5452a4a6d3421e9453dd626c74ea3d": {
          "model_module": "@jupyter-widgets/base",
          "model_name": "LayoutModel",
          "model_module_version": "1.2.0",
          "state": {
            "_model_module": "@jupyter-widgets/base",
            "_model_module_version": "1.2.0",
            "_model_name": "LayoutModel",
            "_view_count": null,
            "_view_module": "@jupyter-widgets/base",
            "_view_module_version": "1.2.0",
            "_view_name": "LayoutView",
            "align_content": null,
            "align_items": null,
            "align_self": null,
            "border": null,
            "bottom": null,
            "display": null,
            "flex": null,
            "flex_flow": null,
            "grid_area": null,
            "grid_auto_columns": null,
            "grid_auto_flow": null,
            "grid_auto_rows": null,
            "grid_column": null,
            "grid_gap": null,
            "grid_row": null,
            "grid_template_areas": null,
            "grid_template_columns": null,
            "grid_template_rows": null,
            "height": null,
            "justify_content": null,
            "justify_items": null,
            "left": null,
            "margin": null,
            "max_height": null,
            "max_width": null,
            "min_height": null,
            "min_width": null,
            "object_fit": null,
            "object_position": null,
            "order": null,
            "overflow": null,
            "overflow_x": null,
            "overflow_y": null,
            "padding": null,
            "right": null,
            "top": null,
            "visibility": null,
            "width": null
          }
        },
        "70570dcb12554c6e81d2cdc210f85ffb": {
          "model_module": "@jupyter-widgets/controls",
          "model_name": "ProgressStyleModel",
          "model_module_version": "1.5.0",
          "state": {
            "_model_module": "@jupyter-widgets/controls",
            "_model_module_version": "1.5.0",
            "_model_name": "ProgressStyleModel",
            "_view_count": null,
            "_view_module": "@jupyter-widgets/base",
            "_view_module_version": "1.2.0",
            "_view_name": "StyleView",
            "bar_color": null,
            "description_width": ""
          }
        },
        "2b1341d49435439aafd9f6978c3f2018": {
          "model_module": "@jupyter-widgets/base",
          "model_name": "LayoutModel",
          "model_module_version": "1.2.0",
          "state": {
            "_model_module": "@jupyter-widgets/base",
            "_model_module_version": "1.2.0",
            "_model_name": "LayoutModel",
            "_view_count": null,
            "_view_module": "@jupyter-widgets/base",
            "_view_module_version": "1.2.0",
            "_view_name": "LayoutView",
            "align_content": null,
            "align_items": null,
            "align_self": null,
            "border": null,
            "bottom": null,
            "display": null,
            "flex": null,
            "flex_flow": null,
            "grid_area": null,
            "grid_auto_columns": null,
            "grid_auto_flow": null,
            "grid_auto_rows": null,
            "grid_column": null,
            "grid_gap": null,
            "grid_row": null,
            "grid_template_areas": null,
            "grid_template_columns": null,
            "grid_template_rows": null,
            "height": null,
            "justify_content": null,
            "justify_items": null,
            "left": null,
            "margin": null,
            "max_height": null,
            "max_width": null,
            "min_height": null,
            "min_width": null,
            "object_fit": null,
            "object_position": null,
            "order": null,
            "overflow": null,
            "overflow_x": null,
            "overflow_y": null,
            "padding": null,
            "right": null,
            "top": null,
            "visibility": null,
            "width": null
          }
        },
        "6393957f002b4a7585f2cf416c4a210e": {
          "model_module": "@jupyter-widgets/controls",
          "model_name": "DescriptionStyleModel",
          "model_module_version": "1.5.0",
          "state": {
            "_model_module": "@jupyter-widgets/controls",
            "_model_module_version": "1.5.0",
            "_model_name": "DescriptionStyleModel",
            "_view_count": null,
            "_view_module": "@jupyter-widgets/base",
            "_view_module_version": "1.2.0",
            "_view_name": "StyleView",
            "description_width": ""
          }
        },
        "f024c92dd85746509f8f656885ce3f35": {
          "model_module": "@jupyter-widgets/controls",
          "model_name": "HBoxModel",
          "model_module_version": "1.5.0",
          "state": {
            "_dom_classes": [],
            "_model_module": "@jupyter-widgets/controls",
            "_model_module_version": "1.5.0",
            "_model_name": "HBoxModel",
            "_view_count": null,
            "_view_module": "@jupyter-widgets/controls",
            "_view_module_version": "1.5.0",
            "_view_name": "HBoxView",
            "box_style": "",
            "children": [
              "IPY_MODEL_f734661483d945e8b2b671a4ca2d58d1",
              "IPY_MODEL_2476ac91a68b485fa9cde01c07a81a9d",
              "IPY_MODEL_5ffcd5c1c6c64587a7aefa8d75dae989"
            ],
            "layout": "IPY_MODEL_1ca3352071f841749a43baa937566eb0"
          }
        },
        "f734661483d945e8b2b671a4ca2d58d1": {
          "model_module": "@jupyter-widgets/controls",
          "model_name": "HTMLModel",
          "model_module_version": "1.5.0",
          "state": {
            "_dom_classes": [],
            "_model_module": "@jupyter-widgets/controls",
            "_model_module_version": "1.5.0",
            "_model_name": "HTMLModel",
            "_view_count": null,
            "_view_module": "@jupyter-widgets/controls",
            "_view_module_version": "1.5.0",
            "_view_name": "HTMLView",
            "description": "",
            "description_tooltip": null,
            "layout": "IPY_MODEL_65ebd83733b04372b111da933b32ce8b",
            "placeholder": "​",
            "style": "IPY_MODEL_b3cce2b00aaa447da8ea41194fb9e5fd",
            "value": "Batches: 100%"
          }
        },
        "2476ac91a68b485fa9cde01c07a81a9d": {
          "model_module": "@jupyter-widgets/controls",
          "model_name": "FloatProgressModel",
          "model_module_version": "1.5.0",
          "state": {
            "_dom_classes": [],
            "_model_module": "@jupyter-widgets/controls",
            "_model_module_version": "1.5.0",
            "_model_name": "FloatProgressModel",
            "_view_count": null,
            "_view_module": "@jupyter-widgets/controls",
            "_view_module_version": "1.5.0",
            "_view_name": "ProgressView",
            "bar_style": "success",
            "description": "",
            "description_tooltip": null,
            "layout": "IPY_MODEL_2fe8a02ca426495aa5d56179dac62d2f",
            "max": 11,
            "min": 0,
            "orientation": "horizontal",
            "style": "IPY_MODEL_04bda192bf4e48d5854fdf1700d63ebe",
            "value": 11
          }
        },
        "5ffcd5c1c6c64587a7aefa8d75dae989": {
          "model_module": "@jupyter-widgets/controls",
          "model_name": "HTMLModel",
          "model_module_version": "1.5.0",
          "state": {
            "_dom_classes": [],
            "_model_module": "@jupyter-widgets/controls",
            "_model_module_version": "1.5.0",
            "_model_name": "HTMLModel",
            "_view_count": null,
            "_view_module": "@jupyter-widgets/controls",
            "_view_module_version": "1.5.0",
            "_view_name": "HTMLView",
            "description": "",
            "description_tooltip": null,
            "layout": "IPY_MODEL_c0cf77af632e438d8973d6b0de627be1",
            "placeholder": "​",
            "style": "IPY_MODEL_d46b816733094aa18ae4993637055a6b",
            "value": " 11/11 [00:00&lt;00:00, 12.40it/s]"
          }
        },
        "1ca3352071f841749a43baa937566eb0": {
          "model_module": "@jupyter-widgets/base",
          "model_name": "LayoutModel",
          "model_module_version": "1.2.0",
          "state": {
            "_model_module": "@jupyter-widgets/base",
            "_model_module_version": "1.2.0",
            "_model_name": "LayoutModel",
            "_view_count": null,
            "_view_module": "@jupyter-widgets/base",
            "_view_module_version": "1.2.0",
            "_view_name": "LayoutView",
            "align_content": null,
            "align_items": null,
            "align_self": null,
            "border": null,
            "bottom": null,
            "display": null,
            "flex": null,
            "flex_flow": null,
            "grid_area": null,
            "grid_auto_columns": null,
            "grid_auto_flow": null,
            "grid_auto_rows": null,
            "grid_column": null,
            "grid_gap": null,
            "grid_row": null,
            "grid_template_areas": null,
            "grid_template_columns": null,
            "grid_template_rows": null,
            "height": null,
            "justify_content": null,
            "justify_items": null,
            "left": null,
            "margin": null,
            "max_height": null,
            "max_width": null,
            "min_height": null,
            "min_width": null,
            "object_fit": null,
            "object_position": null,
            "order": null,
            "overflow": null,
            "overflow_x": null,
            "overflow_y": null,
            "padding": null,
            "right": null,
            "top": null,
            "visibility": null,
            "width": null
          }
        },
        "65ebd83733b04372b111da933b32ce8b": {
          "model_module": "@jupyter-widgets/base",
          "model_name": "LayoutModel",
          "model_module_version": "1.2.0",
          "state": {
            "_model_module": "@jupyter-widgets/base",
            "_model_module_version": "1.2.0",
            "_model_name": "LayoutModel",
            "_view_count": null,
            "_view_module": "@jupyter-widgets/base",
            "_view_module_version": "1.2.0",
            "_view_name": "LayoutView",
            "align_content": null,
            "align_items": null,
            "align_self": null,
            "border": null,
            "bottom": null,
            "display": null,
            "flex": null,
            "flex_flow": null,
            "grid_area": null,
            "grid_auto_columns": null,
            "grid_auto_flow": null,
            "grid_auto_rows": null,
            "grid_column": null,
            "grid_gap": null,
            "grid_row": null,
            "grid_template_areas": null,
            "grid_template_columns": null,
            "grid_template_rows": null,
            "height": null,
            "justify_content": null,
            "justify_items": null,
            "left": null,
            "margin": null,
            "max_height": null,
            "max_width": null,
            "min_height": null,
            "min_width": null,
            "object_fit": null,
            "object_position": null,
            "order": null,
            "overflow": null,
            "overflow_x": null,
            "overflow_y": null,
            "padding": null,
            "right": null,
            "top": null,
            "visibility": null,
            "width": null
          }
        },
        "b3cce2b00aaa447da8ea41194fb9e5fd": {
          "model_module": "@jupyter-widgets/controls",
          "model_name": "DescriptionStyleModel",
          "model_module_version": "1.5.0",
          "state": {
            "_model_module": "@jupyter-widgets/controls",
            "_model_module_version": "1.5.0",
            "_model_name": "DescriptionStyleModel",
            "_view_count": null,
            "_view_module": "@jupyter-widgets/base",
            "_view_module_version": "1.2.0",
            "_view_name": "StyleView",
            "description_width": ""
          }
        },
        "2fe8a02ca426495aa5d56179dac62d2f": {
          "model_module": "@jupyter-widgets/base",
          "model_name": "LayoutModel",
          "model_module_version": "1.2.0",
          "state": {
            "_model_module": "@jupyter-widgets/base",
            "_model_module_version": "1.2.0",
            "_model_name": "LayoutModel",
            "_view_count": null,
            "_view_module": "@jupyter-widgets/base",
            "_view_module_version": "1.2.0",
            "_view_name": "LayoutView",
            "align_content": null,
            "align_items": null,
            "align_self": null,
            "border": null,
            "bottom": null,
            "display": null,
            "flex": null,
            "flex_flow": null,
            "grid_area": null,
            "grid_auto_columns": null,
            "grid_auto_flow": null,
            "grid_auto_rows": null,
            "grid_column": null,
            "grid_gap": null,
            "grid_row": null,
            "grid_template_areas": null,
            "grid_template_columns": null,
            "grid_template_rows": null,
            "height": null,
            "justify_content": null,
            "justify_items": null,
            "left": null,
            "margin": null,
            "max_height": null,
            "max_width": null,
            "min_height": null,
            "min_width": null,
            "object_fit": null,
            "object_position": null,
            "order": null,
            "overflow": null,
            "overflow_x": null,
            "overflow_y": null,
            "padding": null,
            "right": null,
            "top": null,
            "visibility": null,
            "width": null
          }
        },
        "04bda192bf4e48d5854fdf1700d63ebe": {
          "model_module": "@jupyter-widgets/controls",
          "model_name": "ProgressStyleModel",
          "model_module_version": "1.5.0",
          "state": {
            "_model_module": "@jupyter-widgets/controls",
            "_model_module_version": "1.5.0",
            "_model_name": "ProgressStyleModel",
            "_view_count": null,
            "_view_module": "@jupyter-widgets/base",
            "_view_module_version": "1.2.0",
            "_view_name": "StyleView",
            "bar_color": null,
            "description_width": ""
          }
        },
        "c0cf77af632e438d8973d6b0de627be1": {
          "model_module": "@jupyter-widgets/base",
          "model_name": "LayoutModel",
          "model_module_version": "1.2.0",
          "state": {
            "_model_module": "@jupyter-widgets/base",
            "_model_module_version": "1.2.0",
            "_model_name": "LayoutModel",
            "_view_count": null,
            "_view_module": "@jupyter-widgets/base",
            "_view_module_version": "1.2.0",
            "_view_name": "LayoutView",
            "align_content": null,
            "align_items": null,
            "align_self": null,
            "border": null,
            "bottom": null,
            "display": null,
            "flex": null,
            "flex_flow": null,
            "grid_area": null,
            "grid_auto_columns": null,
            "grid_auto_flow": null,
            "grid_auto_rows": null,
            "grid_column": null,
            "grid_gap": null,
            "grid_row": null,
            "grid_template_areas": null,
            "grid_template_columns": null,
            "grid_template_rows": null,
            "height": null,
            "justify_content": null,
            "justify_items": null,
            "left": null,
            "margin": null,
            "max_height": null,
            "max_width": null,
            "min_height": null,
            "min_width": null,
            "object_fit": null,
            "object_position": null,
            "order": null,
            "overflow": null,
            "overflow_x": null,
            "overflow_y": null,
            "padding": null,
            "right": null,
            "top": null,
            "visibility": null,
            "width": null
          }
        },
        "d46b816733094aa18ae4993637055a6b": {
          "model_module": "@jupyter-widgets/controls",
          "model_name": "DescriptionStyleModel",
          "model_module_version": "1.5.0",
          "state": {
            "_model_module": "@jupyter-widgets/controls",
            "_model_module_version": "1.5.0",
            "_model_name": "DescriptionStyleModel",
            "_view_count": null,
            "_view_module": "@jupyter-widgets/base",
            "_view_module_version": "1.2.0",
            "_view_name": "StyleView",
            "description_width": ""
          }
        },
        "3a8c6233323448849ebc049f4911211a": {
          "model_module": "@jupyter-widgets/controls",
          "model_name": "HBoxModel",
          "model_module_version": "1.5.0",
          "state": {
            "_dom_classes": [],
            "_model_module": "@jupyter-widgets/controls",
            "_model_module_version": "1.5.0",
            "_model_name": "HBoxModel",
            "_view_count": null,
            "_view_module": "@jupyter-widgets/controls",
            "_view_module_version": "1.5.0",
            "_view_name": "HBoxView",
            "box_style": "",
            "children": [
              "IPY_MODEL_7975aaa2699c45649585744dd13ddbb4",
              "IPY_MODEL_e78ce477118d41f89ac8fdb43162b7f7",
              "IPY_MODEL_0779c7b06ee94f34a4ddc3139b438477"
            ],
            "layout": "IPY_MODEL_1318aecafd284f2ca6741f7989e24b0f"
          }
        },
        "7975aaa2699c45649585744dd13ddbb4": {
          "model_module": "@jupyter-widgets/controls",
          "model_name": "HTMLModel",
          "model_module_version": "1.5.0",
          "state": {
            "_dom_classes": [],
            "_model_module": "@jupyter-widgets/controls",
            "_model_module_version": "1.5.0",
            "_model_name": "HTMLModel",
            "_view_count": null,
            "_view_module": "@jupyter-widgets/controls",
            "_view_module_version": "1.5.0",
            "_view_name": "HTMLView",
            "description": "",
            "description_tooltip": null,
            "layout": "IPY_MODEL_f8ec826983c1406e93d0449b1798dda8",
            "placeholder": "​",
            "style": "IPY_MODEL_68f1bd296e204ad0be4d4292a0927f89",
            "value": "Epoch: 100%"
          }
        },
        "e78ce477118d41f89ac8fdb43162b7f7": {
          "model_module": "@jupyter-widgets/controls",
          "model_name": "FloatProgressModel",
          "model_module_version": "1.5.0",
          "state": {
            "_dom_classes": [],
            "_model_module": "@jupyter-widgets/controls",
            "_model_module_version": "1.5.0",
            "_model_name": "FloatProgressModel",
            "_view_count": null,
            "_view_module": "@jupyter-widgets/controls",
            "_view_module_version": "1.5.0",
            "_view_name": "ProgressView",
            "bar_style": "success",
            "description": "",
            "description_tooltip": null,
            "layout": "IPY_MODEL_5f0ef989b9fb48248d8cee1d74853a7f",
            "max": 3,
            "min": 0,
            "orientation": "horizontal",
            "style": "IPY_MODEL_18fd6692e00f40c5bdafe0bd6af48739",
            "value": 3
          }
        },
        "0779c7b06ee94f34a4ddc3139b438477": {
          "model_module": "@jupyter-widgets/controls",
          "model_name": "HTMLModel",
          "model_module_version": "1.5.0",
          "state": {
            "_dom_classes": [],
            "_model_module": "@jupyter-widgets/controls",
            "_model_module_version": "1.5.0",
            "_model_name": "HTMLModel",
            "_view_count": null,
            "_view_module": "@jupyter-widgets/controls",
            "_view_module_version": "1.5.0",
            "_view_name": "HTMLView",
            "description": "",
            "description_tooltip": null,
            "layout": "IPY_MODEL_dabe5d3280cd4584b9ae0e5322cd32e0",
            "placeholder": "​",
            "style": "IPY_MODEL_69dfe902378746ac9ba23a108a9ca92c",
            "value": " 3/3 [59:07&lt;00:00, 1170.23s/it]"
          }
        },
        "1318aecafd284f2ca6741f7989e24b0f": {
          "model_module": "@jupyter-widgets/base",
          "model_name": "LayoutModel",
          "model_module_version": "1.2.0",
          "state": {
            "_model_module": "@jupyter-widgets/base",
            "_model_module_version": "1.2.0",
            "_model_name": "LayoutModel",
            "_view_count": null,
            "_view_module": "@jupyter-widgets/base",
            "_view_module_version": "1.2.0",
            "_view_name": "LayoutView",
            "align_content": null,
            "align_items": null,
            "align_self": null,
            "border": null,
            "bottom": null,
            "display": null,
            "flex": null,
            "flex_flow": null,
            "grid_area": null,
            "grid_auto_columns": null,
            "grid_auto_flow": null,
            "grid_auto_rows": null,
            "grid_column": null,
            "grid_gap": null,
            "grid_row": null,
            "grid_template_areas": null,
            "grid_template_columns": null,
            "grid_template_rows": null,
            "height": null,
            "justify_content": null,
            "justify_items": null,
            "left": null,
            "margin": null,
            "max_height": null,
            "max_width": null,
            "min_height": null,
            "min_width": null,
            "object_fit": null,
            "object_position": null,
            "order": null,
            "overflow": null,
            "overflow_x": null,
            "overflow_y": null,
            "padding": null,
            "right": null,
            "top": null,
            "visibility": null,
            "width": null
          }
        },
        "f8ec826983c1406e93d0449b1798dda8": {
          "model_module": "@jupyter-widgets/base",
          "model_name": "LayoutModel",
          "model_module_version": "1.2.0",
          "state": {
            "_model_module": "@jupyter-widgets/base",
            "_model_module_version": "1.2.0",
            "_model_name": "LayoutModel",
            "_view_count": null,
            "_view_module": "@jupyter-widgets/base",
            "_view_module_version": "1.2.0",
            "_view_name": "LayoutView",
            "align_content": null,
            "align_items": null,
            "align_self": null,
            "border": null,
            "bottom": null,
            "display": null,
            "flex": null,
            "flex_flow": null,
            "grid_area": null,
            "grid_auto_columns": null,
            "grid_auto_flow": null,
            "grid_auto_rows": null,
            "grid_column": null,
            "grid_gap": null,
            "grid_row": null,
            "grid_template_areas": null,
            "grid_template_columns": null,
            "grid_template_rows": null,
            "height": null,
            "justify_content": null,
            "justify_items": null,
            "left": null,
            "margin": null,
            "max_height": null,
            "max_width": null,
            "min_height": null,
            "min_width": null,
            "object_fit": null,
            "object_position": null,
            "order": null,
            "overflow": null,
            "overflow_x": null,
            "overflow_y": null,
            "padding": null,
            "right": null,
            "top": null,
            "visibility": null,
            "width": null
          }
        },
        "68f1bd296e204ad0be4d4292a0927f89": {
          "model_module": "@jupyter-widgets/controls",
          "model_name": "DescriptionStyleModel",
          "model_module_version": "1.5.0",
          "state": {
            "_model_module": "@jupyter-widgets/controls",
            "_model_module_version": "1.5.0",
            "_model_name": "DescriptionStyleModel",
            "_view_count": null,
            "_view_module": "@jupyter-widgets/base",
            "_view_module_version": "1.2.0",
            "_view_name": "StyleView",
            "description_width": ""
          }
        },
        "5f0ef989b9fb48248d8cee1d74853a7f": {
          "model_module": "@jupyter-widgets/base",
          "model_name": "LayoutModel",
          "model_module_version": "1.2.0",
          "state": {
            "_model_module": "@jupyter-widgets/base",
            "_model_module_version": "1.2.0",
            "_model_name": "LayoutModel",
            "_view_count": null,
            "_view_module": "@jupyter-widgets/base",
            "_view_module_version": "1.2.0",
            "_view_name": "LayoutView",
            "align_content": null,
            "align_items": null,
            "align_self": null,
            "border": null,
            "bottom": null,
            "display": null,
            "flex": null,
            "flex_flow": null,
            "grid_area": null,
            "grid_auto_columns": null,
            "grid_auto_flow": null,
            "grid_auto_rows": null,
            "grid_column": null,
            "grid_gap": null,
            "grid_row": null,
            "grid_template_areas": null,
            "grid_template_columns": null,
            "grid_template_rows": null,
            "height": null,
            "justify_content": null,
            "justify_items": null,
            "left": null,
            "margin": null,
            "max_height": null,
            "max_width": null,
            "min_height": null,
            "min_width": null,
            "object_fit": null,
            "object_position": null,
            "order": null,
            "overflow": null,
            "overflow_x": null,
            "overflow_y": null,
            "padding": null,
            "right": null,
            "top": null,
            "visibility": null,
            "width": null
          }
        },
        "18fd6692e00f40c5bdafe0bd6af48739": {
          "model_module": "@jupyter-widgets/controls",
          "model_name": "ProgressStyleModel",
          "model_module_version": "1.5.0",
          "state": {
            "_model_module": "@jupyter-widgets/controls",
            "_model_module_version": "1.5.0",
            "_model_name": "ProgressStyleModel",
            "_view_count": null,
            "_view_module": "@jupyter-widgets/base",
            "_view_module_version": "1.2.0",
            "_view_name": "StyleView",
            "bar_color": null,
            "description_width": ""
          }
        },
        "dabe5d3280cd4584b9ae0e5322cd32e0": {
          "model_module": "@jupyter-widgets/base",
          "model_name": "LayoutModel",
          "model_module_version": "1.2.0",
          "state": {
            "_model_module": "@jupyter-widgets/base",
            "_model_module_version": "1.2.0",
            "_model_name": "LayoutModel",
            "_view_count": null,
            "_view_module": "@jupyter-widgets/base",
            "_view_module_version": "1.2.0",
            "_view_name": "LayoutView",
            "align_content": null,
            "align_items": null,
            "align_self": null,
            "border": null,
            "bottom": null,
            "display": null,
            "flex": null,
            "flex_flow": null,
            "grid_area": null,
            "grid_auto_columns": null,
            "grid_auto_flow": null,
            "grid_auto_rows": null,
            "grid_column": null,
            "grid_gap": null,
            "grid_row": null,
            "grid_template_areas": null,
            "grid_template_columns": null,
            "grid_template_rows": null,
            "height": null,
            "justify_content": null,
            "justify_items": null,
            "left": null,
            "margin": null,
            "max_height": null,
            "max_width": null,
            "min_height": null,
            "min_width": null,
            "object_fit": null,
            "object_position": null,
            "order": null,
            "overflow": null,
            "overflow_x": null,
            "overflow_y": null,
            "padding": null,
            "right": null,
            "top": null,
            "visibility": null,
            "width": null
          }
        },
        "69dfe902378746ac9ba23a108a9ca92c": {
          "model_module": "@jupyter-widgets/controls",
          "model_name": "DescriptionStyleModel",
          "model_module_version": "1.5.0",
          "state": {
            "_model_module": "@jupyter-widgets/controls",
            "_model_module_version": "1.5.0",
            "_model_name": "DescriptionStyleModel",
            "_view_count": null,
            "_view_module": "@jupyter-widgets/base",
            "_view_module_version": "1.2.0",
            "_view_name": "StyleView",
            "description_width": ""
          }
        },
        "51780bfee2bf4fc2bef14807bf3aef19": {
          "model_module": "@jupyter-widgets/controls",
          "model_name": "HBoxModel",
          "model_module_version": "1.5.0",
          "state": {
            "_dom_classes": [],
            "_model_module": "@jupyter-widgets/controls",
            "_model_module_version": "1.5.0",
            "_model_name": "HBoxModel",
            "_view_count": null,
            "_view_module": "@jupyter-widgets/controls",
            "_view_module_version": "1.5.0",
            "_view_name": "HBoxView",
            "box_style": "",
            "children": [
              "IPY_MODEL_fa442bc6276d4007aa7179b36565d45a",
              "IPY_MODEL_21b54a210dd74f98a400aaa702d3bea8",
              "IPY_MODEL_3cce59976b2f4dbb8f83a681c6180369"
            ],
            "layout": "IPY_MODEL_c23f11e7263e40f18327c8ae0404af9f"
          }
        },
        "fa442bc6276d4007aa7179b36565d45a": {
          "model_module": "@jupyter-widgets/controls",
          "model_name": "HTMLModel",
          "model_module_version": "1.5.0",
          "state": {
            "_dom_classes": [],
            "_model_module": "@jupyter-widgets/controls",
            "_model_module_version": "1.5.0",
            "_model_name": "HTMLModel",
            "_view_count": null,
            "_view_module": "@jupyter-widgets/controls",
            "_view_module_version": "1.5.0",
            "_view_name": "HTMLView",
            "description": "",
            "description_tooltip": null,
            "layout": "IPY_MODEL_64683b22b60a422fb967ee8545acb0b3",
            "placeholder": "​",
            "style": "IPY_MODEL_e6b25e941bbd4a1d9a4449b3dac6dff9",
            "value": "Iteration: 100%"
          }
        },
        "21b54a210dd74f98a400aaa702d3bea8": {
          "model_module": "@jupyter-widgets/controls",
          "model_name": "FloatProgressModel",
          "model_module_version": "1.5.0",
          "state": {
            "_dom_classes": [],
            "_model_module": "@jupyter-widgets/controls",
            "_model_module_version": "1.5.0",
            "_model_name": "FloatProgressModel",
            "_view_count": null,
            "_view_module": "@jupyter-widgets/controls",
            "_view_module_version": "1.5.0",
            "_view_name": "ProgressView",
            "bar_style": "success",
            "description": "",
            "description_tooltip": null,
            "layout": "IPY_MODEL_6cbb881905104908abf665f39d04a72e",
            "max": 3184,
            "min": 0,
            "orientation": "horizontal",
            "style": "IPY_MODEL_d53cae3a73e14765bcec73bc8964e6ad",
            "value": 3184
          }
        },
        "3cce59976b2f4dbb8f83a681c6180369": {
          "model_module": "@jupyter-widgets/controls",
          "model_name": "HTMLModel",
          "model_module_version": "1.5.0",
          "state": {
            "_dom_classes": [],
            "_model_module": "@jupyter-widgets/controls",
            "_model_module_version": "1.5.0",
            "_model_name": "HTMLModel",
            "_view_count": null,
            "_view_module": "@jupyter-widgets/controls",
            "_view_module_version": "1.5.0",
            "_view_name": "HTMLView",
            "description": "",
            "description_tooltip": null,
            "layout": "IPY_MODEL_9b897955ff4547568f14df7a95081031",
            "placeholder": "​",
            "style": "IPY_MODEL_21da8d36f4534fdbb98ac01ef2de2a38",
            "value": " 3184/3184 [20:48&lt;00:00,  2.74it/s]"
          }
        },
        "c23f11e7263e40f18327c8ae0404af9f": {
          "model_module": "@jupyter-widgets/base",
          "model_name": "LayoutModel",
          "model_module_version": "1.2.0",
          "state": {
            "_model_module": "@jupyter-widgets/base",
            "_model_module_version": "1.2.0",
            "_model_name": "LayoutModel",
            "_view_count": null,
            "_view_module": "@jupyter-widgets/base",
            "_view_module_version": "1.2.0",
            "_view_name": "LayoutView",
            "align_content": null,
            "align_items": null,
            "align_self": null,
            "border": null,
            "bottom": null,
            "display": null,
            "flex": null,
            "flex_flow": null,
            "grid_area": null,
            "grid_auto_columns": null,
            "grid_auto_flow": null,
            "grid_auto_rows": null,
            "grid_column": null,
            "grid_gap": null,
            "grid_row": null,
            "grid_template_areas": null,
            "grid_template_columns": null,
            "grid_template_rows": null,
            "height": null,
            "justify_content": null,
            "justify_items": null,
            "left": null,
            "margin": null,
            "max_height": null,
            "max_width": null,
            "min_height": null,
            "min_width": null,
            "object_fit": null,
            "object_position": null,
            "order": null,
            "overflow": null,
            "overflow_x": null,
            "overflow_y": null,
            "padding": null,
            "right": null,
            "top": null,
            "visibility": null,
            "width": null
          }
        },
        "64683b22b60a422fb967ee8545acb0b3": {
          "model_module": "@jupyter-widgets/base",
          "model_name": "LayoutModel",
          "model_module_version": "1.2.0",
          "state": {
            "_model_module": "@jupyter-widgets/base",
            "_model_module_version": "1.2.0",
            "_model_name": "LayoutModel",
            "_view_count": null,
            "_view_module": "@jupyter-widgets/base",
            "_view_module_version": "1.2.0",
            "_view_name": "LayoutView",
            "align_content": null,
            "align_items": null,
            "align_self": null,
            "border": null,
            "bottom": null,
            "display": null,
            "flex": null,
            "flex_flow": null,
            "grid_area": null,
            "grid_auto_columns": null,
            "grid_auto_flow": null,
            "grid_auto_rows": null,
            "grid_column": null,
            "grid_gap": null,
            "grid_row": null,
            "grid_template_areas": null,
            "grid_template_columns": null,
            "grid_template_rows": null,
            "height": null,
            "justify_content": null,
            "justify_items": null,
            "left": null,
            "margin": null,
            "max_height": null,
            "max_width": null,
            "min_height": null,
            "min_width": null,
            "object_fit": null,
            "object_position": null,
            "order": null,
            "overflow": null,
            "overflow_x": null,
            "overflow_y": null,
            "padding": null,
            "right": null,
            "top": null,
            "visibility": null,
            "width": null
          }
        },
        "e6b25e941bbd4a1d9a4449b3dac6dff9": {
          "model_module": "@jupyter-widgets/controls",
          "model_name": "DescriptionStyleModel",
          "model_module_version": "1.5.0",
          "state": {
            "_model_module": "@jupyter-widgets/controls",
            "_model_module_version": "1.5.0",
            "_model_name": "DescriptionStyleModel",
            "_view_count": null,
            "_view_module": "@jupyter-widgets/base",
            "_view_module_version": "1.2.0",
            "_view_name": "StyleView",
            "description_width": ""
          }
        },
        "6cbb881905104908abf665f39d04a72e": {
          "model_module": "@jupyter-widgets/base",
          "model_name": "LayoutModel",
          "model_module_version": "1.2.0",
          "state": {
            "_model_module": "@jupyter-widgets/base",
            "_model_module_version": "1.2.0",
            "_model_name": "LayoutModel",
            "_view_count": null,
            "_view_module": "@jupyter-widgets/base",
            "_view_module_version": "1.2.0",
            "_view_name": "LayoutView",
            "align_content": null,
            "align_items": null,
            "align_self": null,
            "border": null,
            "bottom": null,
            "display": null,
            "flex": null,
            "flex_flow": null,
            "grid_area": null,
            "grid_auto_columns": null,
            "grid_auto_flow": null,
            "grid_auto_rows": null,
            "grid_column": null,
            "grid_gap": null,
            "grid_row": null,
            "grid_template_areas": null,
            "grid_template_columns": null,
            "grid_template_rows": null,
            "height": null,
            "justify_content": null,
            "justify_items": null,
            "left": null,
            "margin": null,
            "max_height": null,
            "max_width": null,
            "min_height": null,
            "min_width": null,
            "object_fit": null,
            "object_position": null,
            "order": null,
            "overflow": null,
            "overflow_x": null,
            "overflow_y": null,
            "padding": null,
            "right": null,
            "top": null,
            "visibility": null,
            "width": null
          }
        },
        "d53cae3a73e14765bcec73bc8964e6ad": {
          "model_module": "@jupyter-widgets/controls",
          "model_name": "ProgressStyleModel",
          "model_module_version": "1.5.0",
          "state": {
            "_model_module": "@jupyter-widgets/controls",
            "_model_module_version": "1.5.0",
            "_model_name": "ProgressStyleModel",
            "_view_count": null,
            "_view_module": "@jupyter-widgets/base",
            "_view_module_version": "1.2.0",
            "_view_name": "StyleView",
            "bar_color": null,
            "description_width": ""
          }
        },
        "9b897955ff4547568f14df7a95081031": {
          "model_module": "@jupyter-widgets/base",
          "model_name": "LayoutModel",
          "model_module_version": "1.2.0",
          "state": {
            "_model_module": "@jupyter-widgets/base",
            "_model_module_version": "1.2.0",
            "_model_name": "LayoutModel",
            "_view_count": null,
            "_view_module": "@jupyter-widgets/base",
            "_view_module_version": "1.2.0",
            "_view_name": "LayoutView",
            "align_content": null,
            "align_items": null,
            "align_self": null,
            "border": null,
            "bottom": null,
            "display": null,
            "flex": null,
            "flex_flow": null,
            "grid_area": null,
            "grid_auto_columns": null,
            "grid_auto_flow": null,
            "grid_auto_rows": null,
            "grid_column": null,
            "grid_gap": null,
            "grid_row": null,
            "grid_template_areas": null,
            "grid_template_columns": null,
            "grid_template_rows": null,
            "height": null,
            "justify_content": null,
            "justify_items": null,
            "left": null,
            "margin": null,
            "max_height": null,
            "max_width": null,
            "min_height": null,
            "min_width": null,
            "object_fit": null,
            "object_position": null,
            "order": null,
            "overflow": null,
            "overflow_x": null,
            "overflow_y": null,
            "padding": null,
            "right": null,
            "top": null,
            "visibility": null,
            "width": null
          }
        },
        "21da8d36f4534fdbb98ac01ef2de2a38": {
          "model_module": "@jupyter-widgets/controls",
          "model_name": "DescriptionStyleModel",
          "model_module_version": "1.5.0",
          "state": {
            "_model_module": "@jupyter-widgets/controls",
            "_model_module_version": "1.5.0",
            "_model_name": "DescriptionStyleModel",
            "_view_count": null,
            "_view_module": "@jupyter-widgets/base",
            "_view_module_version": "1.2.0",
            "_view_name": "StyleView",
            "description_width": ""
          }
        },
        "051b3ba0ee3c4b5c8ae385155497beb3": {
          "model_module": "@jupyter-widgets/controls",
          "model_name": "HBoxModel",
          "model_module_version": "1.5.0",
          "state": {
            "_dom_classes": [],
            "_model_module": "@jupyter-widgets/controls",
            "_model_module_version": "1.5.0",
            "_model_name": "HBoxModel",
            "_view_count": null,
            "_view_module": "@jupyter-widgets/controls",
            "_view_module_version": "1.5.0",
            "_view_name": "HBoxView",
            "box_style": "",
            "children": [
              "IPY_MODEL_a4aba4d7b3f74a05967d8a2ad15fbd3a",
              "IPY_MODEL_99f3989c1c544e0fb4c719dadb06419a",
              "IPY_MODEL_8c56b4ca959c4a99869b14765f022652"
            ],
            "layout": "IPY_MODEL_c3948b36182f4ec8b8341b46b2b1591d"
          }
        },
        "a4aba4d7b3f74a05967d8a2ad15fbd3a": {
          "model_module": "@jupyter-widgets/controls",
          "model_name": "HTMLModel",
          "model_module_version": "1.5.0",
          "state": {
            "_dom_classes": [],
            "_model_module": "@jupyter-widgets/controls",
            "_model_module_version": "1.5.0",
            "_model_name": "HTMLModel",
            "_view_count": null,
            "_view_module": "@jupyter-widgets/controls",
            "_view_module_version": "1.5.0",
            "_view_name": "HTMLView",
            "description": "",
            "description_tooltip": null,
            "layout": "IPY_MODEL_cceba17e467649f9b15898cecbf81e81",
            "placeholder": "​",
            "style": "IPY_MODEL_9ec7abc5cd3e4702b81b1bcf5148da57",
            "value": "Batches: 100%"
          }
        },
        "99f3989c1c544e0fb4c719dadb06419a": {
          "model_module": "@jupyter-widgets/controls",
          "model_name": "FloatProgressModel",
          "model_module_version": "1.5.0",
          "state": {
            "_dom_classes": [],
            "_model_module": "@jupyter-widgets/controls",
            "_model_module_version": "1.5.0",
            "_model_name": "FloatProgressModel",
            "_view_count": null,
            "_view_module": "@jupyter-widgets/controls",
            "_view_module_version": "1.5.0",
            "_view_name": "ProgressView",
            "bar_style": "success",
            "description": "",
            "description_tooltip": null,
            "layout": "IPY_MODEL_f0e29424e33b4a709eba7efd5585fe36",
            "max": 11,
            "min": 0,
            "orientation": "horizontal",
            "style": "IPY_MODEL_0872bb9791b44a738ee17dbc1f84034c",
            "value": 11
          }
        },
        "8c56b4ca959c4a99869b14765f022652": {
          "model_module": "@jupyter-widgets/controls",
          "model_name": "HTMLModel",
          "model_module_version": "1.5.0",
          "state": {
            "_dom_classes": [],
            "_model_module": "@jupyter-widgets/controls",
            "_model_module_version": "1.5.0",
            "_model_name": "HTMLModel",
            "_view_count": null,
            "_view_module": "@jupyter-widgets/controls",
            "_view_module_version": "1.5.0",
            "_view_name": "HTMLView",
            "description": "",
            "description_tooltip": null,
            "layout": "IPY_MODEL_81506969edb347a196f28f2a940a6da5",
            "placeholder": "​",
            "style": "IPY_MODEL_080d4f25a991477987137c5ffc231f9a",
            "value": " 11/11 [00:00&lt;00:00, 17.99it/s]"
          }
        },
        "c3948b36182f4ec8b8341b46b2b1591d": {
          "model_module": "@jupyter-widgets/base",
          "model_name": "LayoutModel",
          "model_module_version": "1.2.0",
          "state": {
            "_model_module": "@jupyter-widgets/base",
            "_model_module_version": "1.2.0",
            "_model_name": "LayoutModel",
            "_view_count": null,
            "_view_module": "@jupyter-widgets/base",
            "_view_module_version": "1.2.0",
            "_view_name": "LayoutView",
            "align_content": null,
            "align_items": null,
            "align_self": null,
            "border": null,
            "bottom": null,
            "display": null,
            "flex": null,
            "flex_flow": null,
            "grid_area": null,
            "grid_auto_columns": null,
            "grid_auto_flow": null,
            "grid_auto_rows": null,
            "grid_column": null,
            "grid_gap": null,
            "grid_row": null,
            "grid_template_areas": null,
            "grid_template_columns": null,
            "grid_template_rows": null,
            "height": null,
            "justify_content": null,
            "justify_items": null,
            "left": null,
            "margin": null,
            "max_height": null,
            "max_width": null,
            "min_height": null,
            "min_width": null,
            "object_fit": null,
            "object_position": null,
            "order": null,
            "overflow": null,
            "overflow_x": null,
            "overflow_y": null,
            "padding": null,
            "right": null,
            "top": null,
            "visibility": null,
            "width": null
          }
        },
        "cceba17e467649f9b15898cecbf81e81": {
          "model_module": "@jupyter-widgets/base",
          "model_name": "LayoutModel",
          "model_module_version": "1.2.0",
          "state": {
            "_model_module": "@jupyter-widgets/base",
            "_model_module_version": "1.2.0",
            "_model_name": "LayoutModel",
            "_view_count": null,
            "_view_module": "@jupyter-widgets/base",
            "_view_module_version": "1.2.0",
            "_view_name": "LayoutView",
            "align_content": null,
            "align_items": null,
            "align_self": null,
            "border": null,
            "bottom": null,
            "display": null,
            "flex": null,
            "flex_flow": null,
            "grid_area": null,
            "grid_auto_columns": null,
            "grid_auto_flow": null,
            "grid_auto_rows": null,
            "grid_column": null,
            "grid_gap": null,
            "grid_row": null,
            "grid_template_areas": null,
            "grid_template_columns": null,
            "grid_template_rows": null,
            "height": null,
            "justify_content": null,
            "justify_items": null,
            "left": null,
            "margin": null,
            "max_height": null,
            "max_width": null,
            "min_height": null,
            "min_width": null,
            "object_fit": null,
            "object_position": null,
            "order": null,
            "overflow": null,
            "overflow_x": null,
            "overflow_y": null,
            "padding": null,
            "right": null,
            "top": null,
            "visibility": null,
            "width": null
          }
        },
        "9ec7abc5cd3e4702b81b1bcf5148da57": {
          "model_module": "@jupyter-widgets/controls",
          "model_name": "DescriptionStyleModel",
          "model_module_version": "1.5.0",
          "state": {
            "_model_module": "@jupyter-widgets/controls",
            "_model_module_version": "1.5.0",
            "_model_name": "DescriptionStyleModel",
            "_view_count": null,
            "_view_module": "@jupyter-widgets/base",
            "_view_module_version": "1.2.0",
            "_view_name": "StyleView",
            "description_width": ""
          }
        },
        "f0e29424e33b4a709eba7efd5585fe36": {
          "model_module": "@jupyter-widgets/base",
          "model_name": "LayoutModel",
          "model_module_version": "1.2.0",
          "state": {
            "_model_module": "@jupyter-widgets/base",
            "_model_module_version": "1.2.0",
            "_model_name": "LayoutModel",
            "_view_count": null,
            "_view_module": "@jupyter-widgets/base",
            "_view_module_version": "1.2.0",
            "_view_name": "LayoutView",
            "align_content": null,
            "align_items": null,
            "align_self": null,
            "border": null,
            "bottom": null,
            "display": null,
            "flex": null,
            "flex_flow": null,
            "grid_area": null,
            "grid_auto_columns": null,
            "grid_auto_flow": null,
            "grid_auto_rows": null,
            "grid_column": null,
            "grid_gap": null,
            "grid_row": null,
            "grid_template_areas": null,
            "grid_template_columns": null,
            "grid_template_rows": null,
            "height": null,
            "justify_content": null,
            "justify_items": null,
            "left": null,
            "margin": null,
            "max_height": null,
            "max_width": null,
            "min_height": null,
            "min_width": null,
            "object_fit": null,
            "object_position": null,
            "order": null,
            "overflow": null,
            "overflow_x": null,
            "overflow_y": null,
            "padding": null,
            "right": null,
            "top": null,
            "visibility": null,
            "width": null
          }
        },
        "0872bb9791b44a738ee17dbc1f84034c": {
          "model_module": "@jupyter-widgets/controls",
          "model_name": "ProgressStyleModel",
          "model_module_version": "1.5.0",
          "state": {
            "_model_module": "@jupyter-widgets/controls",
            "_model_module_version": "1.5.0",
            "_model_name": "ProgressStyleModel",
            "_view_count": null,
            "_view_module": "@jupyter-widgets/base",
            "_view_module_version": "1.2.0",
            "_view_name": "StyleView",
            "bar_color": null,
            "description_width": ""
          }
        },
        "81506969edb347a196f28f2a940a6da5": {
          "model_module": "@jupyter-widgets/base",
          "model_name": "LayoutModel",
          "model_module_version": "1.2.0",
          "state": {
            "_model_module": "@jupyter-widgets/base",
            "_model_module_version": "1.2.0",
            "_model_name": "LayoutModel",
            "_view_count": null,
            "_view_module": "@jupyter-widgets/base",
            "_view_module_version": "1.2.0",
            "_view_name": "LayoutView",
            "align_content": null,
            "align_items": null,
            "align_self": null,
            "border": null,
            "bottom": null,
            "display": null,
            "flex": null,
            "flex_flow": null,
            "grid_area": null,
            "grid_auto_columns": null,
            "grid_auto_flow": null,
            "grid_auto_rows": null,
            "grid_column": null,
            "grid_gap": null,
            "grid_row": null,
            "grid_template_areas": null,
            "grid_template_columns": null,
            "grid_template_rows": null,
            "height": null,
            "justify_content": null,
            "justify_items": null,
            "left": null,
            "margin": null,
            "max_height": null,
            "max_width": null,
            "min_height": null,
            "min_width": null,
            "object_fit": null,
            "object_position": null,
            "order": null,
            "overflow": null,
            "overflow_x": null,
            "overflow_y": null,
            "padding": null,
            "right": null,
            "top": null,
            "visibility": null,
            "width": null
          }
        },
        "080d4f25a991477987137c5ffc231f9a": {
          "model_module": "@jupyter-widgets/controls",
          "model_name": "DescriptionStyleModel",
          "model_module_version": "1.5.0",
          "state": {
            "_model_module": "@jupyter-widgets/controls",
            "_model_module_version": "1.5.0",
            "_model_name": "DescriptionStyleModel",
            "_view_count": null,
            "_view_module": "@jupyter-widgets/base",
            "_view_module_version": "1.2.0",
            "_view_name": "StyleView",
            "description_width": ""
          }
        },
        "e9f74923b2804e3b8ef9c98ee9861be0": {
          "model_module": "@jupyter-widgets/controls",
          "model_name": "HBoxModel",
          "model_module_version": "1.5.0",
          "state": {
            "_dom_classes": [],
            "_model_module": "@jupyter-widgets/controls",
            "_model_module_version": "1.5.0",
            "_model_name": "HBoxModel",
            "_view_count": null,
            "_view_module": "@jupyter-widgets/controls",
            "_view_module_version": "1.5.0",
            "_view_name": "HBoxView",
            "box_style": "",
            "children": [
              "IPY_MODEL_2d990af63ed04b75ae70c2c69011d794",
              "IPY_MODEL_bac95056d52a42b7bf2907f5a6dfdbb6",
              "IPY_MODEL_b5f9290e2bc348bdb4af0300e81096d4"
            ],
            "layout": "IPY_MODEL_ea5f05005fc1466bb4b479c0730b9191"
          }
        },
        "2d990af63ed04b75ae70c2c69011d794": {
          "model_module": "@jupyter-widgets/controls",
          "model_name": "HTMLModel",
          "model_module_version": "1.5.0",
          "state": {
            "_dom_classes": [],
            "_model_module": "@jupyter-widgets/controls",
            "_model_module_version": "1.5.0",
            "_model_name": "HTMLModel",
            "_view_count": null,
            "_view_module": "@jupyter-widgets/controls",
            "_view_module_version": "1.5.0",
            "_view_name": "HTMLView",
            "description": "",
            "description_tooltip": null,
            "layout": "IPY_MODEL_67b406a60d2b42528f4394526e5d2c63",
            "placeholder": "​",
            "style": "IPY_MODEL_ba285077721a436f830e2bc22e04f333",
            "value": "Iteration: 100%"
          }
        },
        "bac95056d52a42b7bf2907f5a6dfdbb6": {
          "model_module": "@jupyter-widgets/controls",
          "model_name": "FloatProgressModel",
          "model_module_version": "1.5.0",
          "state": {
            "_dom_classes": [],
            "_model_module": "@jupyter-widgets/controls",
            "_model_module_version": "1.5.0",
            "_model_name": "FloatProgressModel",
            "_view_count": null,
            "_view_module": "@jupyter-widgets/controls",
            "_view_module_version": "1.5.0",
            "_view_name": "ProgressView",
            "bar_style": "success",
            "description": "",
            "description_tooltip": null,
            "layout": "IPY_MODEL_1c185cc14e6547019fa2b8221bd0dd0d",
            "max": 3184,
            "min": 0,
            "orientation": "horizontal",
            "style": "IPY_MODEL_e39ec3ea201d458c82c712e4febe3cc6",
            "value": 3184
          }
        },
        "b5f9290e2bc348bdb4af0300e81096d4": {
          "model_module": "@jupyter-widgets/controls",
          "model_name": "HTMLModel",
          "model_module_version": "1.5.0",
          "state": {
            "_dom_classes": [],
            "_model_module": "@jupyter-widgets/controls",
            "_model_module_version": "1.5.0",
            "_model_name": "HTMLModel",
            "_view_count": null,
            "_view_module": "@jupyter-widgets/controls",
            "_view_module_version": "1.5.0",
            "_view_name": "HTMLView",
            "description": "",
            "description_tooltip": null,
            "layout": "IPY_MODEL_9ed0e6be2c9e47aabb8bd27b6b2d2120",
            "placeholder": "​",
            "style": "IPY_MODEL_7eba3175bf314cbaa9b835eb82c1971e",
            "value": " 3184/3184 [19:06&lt;00:00,  2.93it/s]"
          }
        },
        "ea5f05005fc1466bb4b479c0730b9191": {
          "model_module": "@jupyter-widgets/base",
          "model_name": "LayoutModel",
          "model_module_version": "1.2.0",
          "state": {
            "_model_module": "@jupyter-widgets/base",
            "_model_module_version": "1.2.0",
            "_model_name": "LayoutModel",
            "_view_count": null,
            "_view_module": "@jupyter-widgets/base",
            "_view_module_version": "1.2.0",
            "_view_name": "LayoutView",
            "align_content": null,
            "align_items": null,
            "align_self": null,
            "border": null,
            "bottom": null,
            "display": null,
            "flex": null,
            "flex_flow": null,
            "grid_area": null,
            "grid_auto_columns": null,
            "grid_auto_flow": null,
            "grid_auto_rows": null,
            "grid_column": null,
            "grid_gap": null,
            "grid_row": null,
            "grid_template_areas": null,
            "grid_template_columns": null,
            "grid_template_rows": null,
            "height": null,
            "justify_content": null,
            "justify_items": null,
            "left": null,
            "margin": null,
            "max_height": null,
            "max_width": null,
            "min_height": null,
            "min_width": null,
            "object_fit": null,
            "object_position": null,
            "order": null,
            "overflow": null,
            "overflow_x": null,
            "overflow_y": null,
            "padding": null,
            "right": null,
            "top": null,
            "visibility": null,
            "width": null
          }
        },
        "67b406a60d2b42528f4394526e5d2c63": {
          "model_module": "@jupyter-widgets/base",
          "model_name": "LayoutModel",
          "model_module_version": "1.2.0",
          "state": {
            "_model_module": "@jupyter-widgets/base",
            "_model_module_version": "1.2.0",
            "_model_name": "LayoutModel",
            "_view_count": null,
            "_view_module": "@jupyter-widgets/base",
            "_view_module_version": "1.2.0",
            "_view_name": "LayoutView",
            "align_content": null,
            "align_items": null,
            "align_self": null,
            "border": null,
            "bottom": null,
            "display": null,
            "flex": null,
            "flex_flow": null,
            "grid_area": null,
            "grid_auto_columns": null,
            "grid_auto_flow": null,
            "grid_auto_rows": null,
            "grid_column": null,
            "grid_gap": null,
            "grid_row": null,
            "grid_template_areas": null,
            "grid_template_columns": null,
            "grid_template_rows": null,
            "height": null,
            "justify_content": null,
            "justify_items": null,
            "left": null,
            "margin": null,
            "max_height": null,
            "max_width": null,
            "min_height": null,
            "min_width": null,
            "object_fit": null,
            "object_position": null,
            "order": null,
            "overflow": null,
            "overflow_x": null,
            "overflow_y": null,
            "padding": null,
            "right": null,
            "top": null,
            "visibility": null,
            "width": null
          }
        },
        "ba285077721a436f830e2bc22e04f333": {
          "model_module": "@jupyter-widgets/controls",
          "model_name": "DescriptionStyleModel",
          "model_module_version": "1.5.0",
          "state": {
            "_model_module": "@jupyter-widgets/controls",
            "_model_module_version": "1.5.0",
            "_model_name": "DescriptionStyleModel",
            "_view_count": null,
            "_view_module": "@jupyter-widgets/base",
            "_view_module_version": "1.2.0",
            "_view_name": "StyleView",
            "description_width": ""
          }
        },
        "1c185cc14e6547019fa2b8221bd0dd0d": {
          "model_module": "@jupyter-widgets/base",
          "model_name": "LayoutModel",
          "model_module_version": "1.2.0",
          "state": {
            "_model_module": "@jupyter-widgets/base",
            "_model_module_version": "1.2.0",
            "_model_name": "LayoutModel",
            "_view_count": null,
            "_view_module": "@jupyter-widgets/base",
            "_view_module_version": "1.2.0",
            "_view_name": "LayoutView",
            "align_content": null,
            "align_items": null,
            "align_self": null,
            "border": null,
            "bottom": null,
            "display": null,
            "flex": null,
            "flex_flow": null,
            "grid_area": null,
            "grid_auto_columns": null,
            "grid_auto_flow": null,
            "grid_auto_rows": null,
            "grid_column": null,
            "grid_gap": null,
            "grid_row": null,
            "grid_template_areas": null,
            "grid_template_columns": null,
            "grid_template_rows": null,
            "height": null,
            "justify_content": null,
            "justify_items": null,
            "left": null,
            "margin": null,
            "max_height": null,
            "max_width": null,
            "min_height": null,
            "min_width": null,
            "object_fit": null,
            "object_position": null,
            "order": null,
            "overflow": null,
            "overflow_x": null,
            "overflow_y": null,
            "padding": null,
            "right": null,
            "top": null,
            "visibility": null,
            "width": null
          }
        },
        "e39ec3ea201d458c82c712e4febe3cc6": {
          "model_module": "@jupyter-widgets/controls",
          "model_name": "ProgressStyleModel",
          "model_module_version": "1.5.0",
          "state": {
            "_model_module": "@jupyter-widgets/controls",
            "_model_module_version": "1.5.0",
            "_model_name": "ProgressStyleModel",
            "_view_count": null,
            "_view_module": "@jupyter-widgets/base",
            "_view_module_version": "1.2.0",
            "_view_name": "StyleView",
            "bar_color": null,
            "description_width": ""
          }
        },
        "9ed0e6be2c9e47aabb8bd27b6b2d2120": {
          "model_module": "@jupyter-widgets/base",
          "model_name": "LayoutModel",
          "model_module_version": "1.2.0",
          "state": {
            "_model_module": "@jupyter-widgets/base",
            "_model_module_version": "1.2.0",
            "_model_name": "LayoutModel",
            "_view_count": null,
            "_view_module": "@jupyter-widgets/base",
            "_view_module_version": "1.2.0",
            "_view_name": "LayoutView",
            "align_content": null,
            "align_items": null,
            "align_self": null,
            "border": null,
            "bottom": null,
            "display": null,
            "flex": null,
            "flex_flow": null,
            "grid_area": null,
            "grid_auto_columns": null,
            "grid_auto_flow": null,
            "grid_auto_rows": null,
            "grid_column": null,
            "grid_gap": null,
            "grid_row": null,
            "grid_template_areas": null,
            "grid_template_columns": null,
            "grid_template_rows": null,
            "height": null,
            "justify_content": null,
            "justify_items": null,
            "left": null,
            "margin": null,
            "max_height": null,
            "max_width": null,
            "min_height": null,
            "min_width": null,
            "object_fit": null,
            "object_position": null,
            "order": null,
            "overflow": null,
            "overflow_x": null,
            "overflow_y": null,
            "padding": null,
            "right": null,
            "top": null,
            "visibility": null,
            "width": null
          }
        },
        "7eba3175bf314cbaa9b835eb82c1971e": {
          "model_module": "@jupyter-widgets/controls",
          "model_name": "DescriptionStyleModel",
          "model_module_version": "1.5.0",
          "state": {
            "_model_module": "@jupyter-widgets/controls",
            "_model_module_version": "1.5.0",
            "_model_name": "DescriptionStyleModel",
            "_view_count": null,
            "_view_module": "@jupyter-widgets/base",
            "_view_module_version": "1.2.0",
            "_view_name": "StyleView",
            "description_width": ""
          }
        },
        "944ce6957d404ff098251b2fc9d704dc": {
          "model_module": "@jupyter-widgets/controls",
          "model_name": "HBoxModel",
          "model_module_version": "1.5.0",
          "state": {
            "_dom_classes": [],
            "_model_module": "@jupyter-widgets/controls",
            "_model_module_version": "1.5.0",
            "_model_name": "HBoxModel",
            "_view_count": null,
            "_view_module": "@jupyter-widgets/controls",
            "_view_module_version": "1.5.0",
            "_view_name": "HBoxView",
            "box_style": "",
            "children": [
              "IPY_MODEL_85fb6e1669ae4ccabae2ed843fcf4706",
              "IPY_MODEL_62516c56e6434befaf952be99eeb557b",
              "IPY_MODEL_ea20c4ec66bb4bf291af72b50d2b8f93"
            ],
            "layout": "IPY_MODEL_25df301af52f43f69c40cd08b86a8efa"
          }
        },
        "85fb6e1669ae4ccabae2ed843fcf4706": {
          "model_module": "@jupyter-widgets/controls",
          "model_name": "HTMLModel",
          "model_module_version": "1.5.0",
          "state": {
            "_dom_classes": [],
            "_model_module": "@jupyter-widgets/controls",
            "_model_module_version": "1.5.0",
            "_model_name": "HTMLModel",
            "_view_count": null,
            "_view_module": "@jupyter-widgets/controls",
            "_view_module_version": "1.5.0",
            "_view_name": "HTMLView",
            "description": "",
            "description_tooltip": null,
            "layout": "IPY_MODEL_23df2a16fa214876929bd7991a9f742f",
            "placeholder": "​",
            "style": "IPY_MODEL_d7c7fd22c9614c748d4bf83bb40860d8",
            "value": "Batches: 100%"
          }
        },
        "62516c56e6434befaf952be99eeb557b": {
          "model_module": "@jupyter-widgets/controls",
          "model_name": "FloatProgressModel",
          "model_module_version": "1.5.0",
          "state": {
            "_dom_classes": [],
            "_model_module": "@jupyter-widgets/controls",
            "_model_module_version": "1.5.0",
            "_model_name": "FloatProgressModel",
            "_view_count": null,
            "_view_module": "@jupyter-widgets/controls",
            "_view_module_version": "1.5.0",
            "_view_name": "ProgressView",
            "bar_style": "success",
            "description": "",
            "description_tooltip": null,
            "layout": "IPY_MODEL_fa9676b8dbd144f59acfd5a72cf2d551",
            "max": 11,
            "min": 0,
            "orientation": "horizontal",
            "style": "IPY_MODEL_a76c6c3b20504746b6c755811d60dc99",
            "value": 11
          }
        },
        "ea20c4ec66bb4bf291af72b50d2b8f93": {
          "model_module": "@jupyter-widgets/controls",
          "model_name": "HTMLModel",
          "model_module_version": "1.5.0",
          "state": {
            "_dom_classes": [],
            "_model_module": "@jupyter-widgets/controls",
            "_model_module_version": "1.5.0",
            "_model_name": "HTMLModel",
            "_view_count": null,
            "_view_module": "@jupyter-widgets/controls",
            "_view_module_version": "1.5.0",
            "_view_name": "HTMLView",
            "description": "",
            "description_tooltip": null,
            "layout": "IPY_MODEL_c353ab60bcbd409fa68f3de71d1f3ed1",
            "placeholder": "​",
            "style": "IPY_MODEL_133109fcc3ec4d6d84496aae9d16d56b",
            "value": " 11/11 [00:00&lt;00:00, 18.39it/s]"
          }
        },
        "25df301af52f43f69c40cd08b86a8efa": {
          "model_module": "@jupyter-widgets/base",
          "model_name": "LayoutModel",
          "model_module_version": "1.2.0",
          "state": {
            "_model_module": "@jupyter-widgets/base",
            "_model_module_version": "1.2.0",
            "_model_name": "LayoutModel",
            "_view_count": null,
            "_view_module": "@jupyter-widgets/base",
            "_view_module_version": "1.2.0",
            "_view_name": "LayoutView",
            "align_content": null,
            "align_items": null,
            "align_self": null,
            "border": null,
            "bottom": null,
            "display": null,
            "flex": null,
            "flex_flow": null,
            "grid_area": null,
            "grid_auto_columns": null,
            "grid_auto_flow": null,
            "grid_auto_rows": null,
            "grid_column": null,
            "grid_gap": null,
            "grid_row": null,
            "grid_template_areas": null,
            "grid_template_columns": null,
            "grid_template_rows": null,
            "height": null,
            "justify_content": null,
            "justify_items": null,
            "left": null,
            "margin": null,
            "max_height": null,
            "max_width": null,
            "min_height": null,
            "min_width": null,
            "object_fit": null,
            "object_position": null,
            "order": null,
            "overflow": null,
            "overflow_x": null,
            "overflow_y": null,
            "padding": null,
            "right": null,
            "top": null,
            "visibility": null,
            "width": null
          }
        },
        "23df2a16fa214876929bd7991a9f742f": {
          "model_module": "@jupyter-widgets/base",
          "model_name": "LayoutModel",
          "model_module_version": "1.2.0",
          "state": {
            "_model_module": "@jupyter-widgets/base",
            "_model_module_version": "1.2.0",
            "_model_name": "LayoutModel",
            "_view_count": null,
            "_view_module": "@jupyter-widgets/base",
            "_view_module_version": "1.2.0",
            "_view_name": "LayoutView",
            "align_content": null,
            "align_items": null,
            "align_self": null,
            "border": null,
            "bottom": null,
            "display": null,
            "flex": null,
            "flex_flow": null,
            "grid_area": null,
            "grid_auto_columns": null,
            "grid_auto_flow": null,
            "grid_auto_rows": null,
            "grid_column": null,
            "grid_gap": null,
            "grid_row": null,
            "grid_template_areas": null,
            "grid_template_columns": null,
            "grid_template_rows": null,
            "height": null,
            "justify_content": null,
            "justify_items": null,
            "left": null,
            "margin": null,
            "max_height": null,
            "max_width": null,
            "min_height": null,
            "min_width": null,
            "object_fit": null,
            "object_position": null,
            "order": null,
            "overflow": null,
            "overflow_x": null,
            "overflow_y": null,
            "padding": null,
            "right": null,
            "top": null,
            "visibility": null,
            "width": null
          }
        },
        "d7c7fd22c9614c748d4bf83bb40860d8": {
          "model_module": "@jupyter-widgets/controls",
          "model_name": "DescriptionStyleModel",
          "model_module_version": "1.5.0",
          "state": {
            "_model_module": "@jupyter-widgets/controls",
            "_model_module_version": "1.5.0",
            "_model_name": "DescriptionStyleModel",
            "_view_count": null,
            "_view_module": "@jupyter-widgets/base",
            "_view_module_version": "1.2.0",
            "_view_name": "StyleView",
            "description_width": ""
          }
        },
        "fa9676b8dbd144f59acfd5a72cf2d551": {
          "model_module": "@jupyter-widgets/base",
          "model_name": "LayoutModel",
          "model_module_version": "1.2.0",
          "state": {
            "_model_module": "@jupyter-widgets/base",
            "_model_module_version": "1.2.0",
            "_model_name": "LayoutModel",
            "_view_count": null,
            "_view_module": "@jupyter-widgets/base",
            "_view_module_version": "1.2.0",
            "_view_name": "LayoutView",
            "align_content": null,
            "align_items": null,
            "align_self": null,
            "border": null,
            "bottom": null,
            "display": null,
            "flex": null,
            "flex_flow": null,
            "grid_area": null,
            "grid_auto_columns": null,
            "grid_auto_flow": null,
            "grid_auto_rows": null,
            "grid_column": null,
            "grid_gap": null,
            "grid_row": null,
            "grid_template_areas": null,
            "grid_template_columns": null,
            "grid_template_rows": null,
            "height": null,
            "justify_content": null,
            "justify_items": null,
            "left": null,
            "margin": null,
            "max_height": null,
            "max_width": null,
            "min_height": null,
            "min_width": null,
            "object_fit": null,
            "object_position": null,
            "order": null,
            "overflow": null,
            "overflow_x": null,
            "overflow_y": null,
            "padding": null,
            "right": null,
            "top": null,
            "visibility": null,
            "width": null
          }
        },
        "a76c6c3b20504746b6c755811d60dc99": {
          "model_module": "@jupyter-widgets/controls",
          "model_name": "ProgressStyleModel",
          "model_module_version": "1.5.0",
          "state": {
            "_model_module": "@jupyter-widgets/controls",
            "_model_module_version": "1.5.0",
            "_model_name": "ProgressStyleModel",
            "_view_count": null,
            "_view_module": "@jupyter-widgets/base",
            "_view_module_version": "1.2.0",
            "_view_name": "StyleView",
            "bar_color": null,
            "description_width": ""
          }
        },
        "c353ab60bcbd409fa68f3de71d1f3ed1": {
          "model_module": "@jupyter-widgets/base",
          "model_name": "LayoutModel",
          "model_module_version": "1.2.0",
          "state": {
            "_model_module": "@jupyter-widgets/base",
            "_model_module_version": "1.2.0",
            "_model_name": "LayoutModel",
            "_view_count": null,
            "_view_module": "@jupyter-widgets/base",
            "_view_module_version": "1.2.0",
            "_view_name": "LayoutView",
            "align_content": null,
            "align_items": null,
            "align_self": null,
            "border": null,
            "bottom": null,
            "display": null,
            "flex": null,
            "flex_flow": null,
            "grid_area": null,
            "grid_auto_columns": null,
            "grid_auto_flow": null,
            "grid_auto_rows": null,
            "grid_column": null,
            "grid_gap": null,
            "grid_row": null,
            "grid_template_areas": null,
            "grid_template_columns": null,
            "grid_template_rows": null,
            "height": null,
            "justify_content": null,
            "justify_items": null,
            "left": null,
            "margin": null,
            "max_height": null,
            "max_width": null,
            "min_height": null,
            "min_width": null,
            "object_fit": null,
            "object_position": null,
            "order": null,
            "overflow": null,
            "overflow_x": null,
            "overflow_y": null,
            "padding": null,
            "right": null,
            "top": null,
            "visibility": null,
            "width": null
          }
        },
        "133109fcc3ec4d6d84496aae9d16d56b": {
          "model_module": "@jupyter-widgets/controls",
          "model_name": "DescriptionStyleModel",
          "model_module_version": "1.5.0",
          "state": {
            "_model_module": "@jupyter-widgets/controls",
            "_model_module_version": "1.5.0",
            "_model_name": "DescriptionStyleModel",
            "_view_count": null,
            "_view_module": "@jupyter-widgets/base",
            "_view_module_version": "1.2.0",
            "_view_name": "StyleView",
            "description_width": ""
          }
        },
        "862cb3743c2344a7bb3f12fbf96fa34c": {
          "model_module": "@jupyter-widgets/controls",
          "model_name": "HBoxModel",
          "model_module_version": "1.5.0",
          "state": {
            "_dom_classes": [],
            "_model_module": "@jupyter-widgets/controls",
            "_model_module_version": "1.5.0",
            "_model_name": "HBoxModel",
            "_view_count": null,
            "_view_module": "@jupyter-widgets/controls",
            "_view_module_version": "1.5.0",
            "_view_name": "HBoxView",
            "box_style": "",
            "children": [
              "IPY_MODEL_97eac336e8d845cabc997dc3cae38604",
              "IPY_MODEL_f37e152d4ea6448fb43f80b4f20c3690",
              "IPY_MODEL_73915081216f4e3c95041267bd7c7219"
            ],
            "layout": "IPY_MODEL_1aca76501e2246d3ad1270b54d1b0aba"
          }
        },
        "97eac336e8d845cabc997dc3cae38604": {
          "model_module": "@jupyter-widgets/controls",
          "model_name": "HTMLModel",
          "model_module_version": "1.5.0",
          "state": {
            "_dom_classes": [],
            "_model_module": "@jupyter-widgets/controls",
            "_model_module_version": "1.5.0",
            "_model_name": "HTMLModel",
            "_view_count": null,
            "_view_module": "@jupyter-widgets/controls",
            "_view_module_version": "1.5.0",
            "_view_name": "HTMLView",
            "description": "",
            "description_tooltip": null,
            "layout": "IPY_MODEL_d36b813aa4be47168f31d998af017c19",
            "placeholder": "​",
            "style": "IPY_MODEL_1c240b9476b74d7aae94819a10375849",
            "value": "Iteration: 100%"
          }
        },
        "f37e152d4ea6448fb43f80b4f20c3690": {
          "model_module": "@jupyter-widgets/controls",
          "model_name": "FloatProgressModel",
          "model_module_version": "1.5.0",
          "state": {
            "_dom_classes": [],
            "_model_module": "@jupyter-widgets/controls",
            "_model_module_version": "1.5.0",
            "_model_name": "FloatProgressModel",
            "_view_count": null,
            "_view_module": "@jupyter-widgets/controls",
            "_view_module_version": "1.5.0",
            "_view_name": "ProgressView",
            "bar_style": "success",
            "description": "",
            "description_tooltip": null,
            "layout": "IPY_MODEL_6a4c872fb9d44116955e62e68d624c18",
            "max": 3184,
            "min": 0,
            "orientation": "horizontal",
            "style": "IPY_MODEL_a20ffc30734044cc9721aa2806dc6ea1",
            "value": 3184
          }
        },
        "73915081216f4e3c95041267bd7c7219": {
          "model_module": "@jupyter-widgets/controls",
          "model_name": "HTMLModel",
          "model_module_version": "1.5.0",
          "state": {
            "_dom_classes": [],
            "_model_module": "@jupyter-widgets/controls",
            "_model_module_version": "1.5.0",
            "_model_name": "HTMLModel",
            "_view_count": null,
            "_view_module": "@jupyter-widgets/controls",
            "_view_module_version": "1.5.0",
            "_view_name": "HTMLView",
            "description": "",
            "description_tooltip": null,
            "layout": "IPY_MODEL_d4f0ec5844204fcf9f7f346b19042cde",
            "placeholder": "​",
            "style": "IPY_MODEL_380470f87d1d4ec785500f17c346506e",
            "value": " 3184/3184 [18:56&lt;00:00,  2.81it/s]"
          }
        },
        "1aca76501e2246d3ad1270b54d1b0aba": {
          "model_module": "@jupyter-widgets/base",
          "model_name": "LayoutModel",
          "model_module_version": "1.2.0",
          "state": {
            "_model_module": "@jupyter-widgets/base",
            "_model_module_version": "1.2.0",
            "_model_name": "LayoutModel",
            "_view_count": null,
            "_view_module": "@jupyter-widgets/base",
            "_view_module_version": "1.2.0",
            "_view_name": "LayoutView",
            "align_content": null,
            "align_items": null,
            "align_self": null,
            "border": null,
            "bottom": null,
            "display": null,
            "flex": null,
            "flex_flow": null,
            "grid_area": null,
            "grid_auto_columns": null,
            "grid_auto_flow": null,
            "grid_auto_rows": null,
            "grid_column": null,
            "grid_gap": null,
            "grid_row": null,
            "grid_template_areas": null,
            "grid_template_columns": null,
            "grid_template_rows": null,
            "height": null,
            "justify_content": null,
            "justify_items": null,
            "left": null,
            "margin": null,
            "max_height": null,
            "max_width": null,
            "min_height": null,
            "min_width": null,
            "object_fit": null,
            "object_position": null,
            "order": null,
            "overflow": null,
            "overflow_x": null,
            "overflow_y": null,
            "padding": null,
            "right": null,
            "top": null,
            "visibility": null,
            "width": null
          }
        },
        "d36b813aa4be47168f31d998af017c19": {
          "model_module": "@jupyter-widgets/base",
          "model_name": "LayoutModel",
          "model_module_version": "1.2.0",
          "state": {
            "_model_module": "@jupyter-widgets/base",
            "_model_module_version": "1.2.0",
            "_model_name": "LayoutModel",
            "_view_count": null,
            "_view_module": "@jupyter-widgets/base",
            "_view_module_version": "1.2.0",
            "_view_name": "LayoutView",
            "align_content": null,
            "align_items": null,
            "align_self": null,
            "border": null,
            "bottom": null,
            "display": null,
            "flex": null,
            "flex_flow": null,
            "grid_area": null,
            "grid_auto_columns": null,
            "grid_auto_flow": null,
            "grid_auto_rows": null,
            "grid_column": null,
            "grid_gap": null,
            "grid_row": null,
            "grid_template_areas": null,
            "grid_template_columns": null,
            "grid_template_rows": null,
            "height": null,
            "justify_content": null,
            "justify_items": null,
            "left": null,
            "margin": null,
            "max_height": null,
            "max_width": null,
            "min_height": null,
            "min_width": null,
            "object_fit": null,
            "object_position": null,
            "order": null,
            "overflow": null,
            "overflow_x": null,
            "overflow_y": null,
            "padding": null,
            "right": null,
            "top": null,
            "visibility": null,
            "width": null
          }
        },
        "1c240b9476b74d7aae94819a10375849": {
          "model_module": "@jupyter-widgets/controls",
          "model_name": "DescriptionStyleModel",
          "model_module_version": "1.5.0",
          "state": {
            "_model_module": "@jupyter-widgets/controls",
            "_model_module_version": "1.5.0",
            "_model_name": "DescriptionStyleModel",
            "_view_count": null,
            "_view_module": "@jupyter-widgets/base",
            "_view_module_version": "1.2.0",
            "_view_name": "StyleView",
            "description_width": ""
          }
        },
        "6a4c872fb9d44116955e62e68d624c18": {
          "model_module": "@jupyter-widgets/base",
          "model_name": "LayoutModel",
          "model_module_version": "1.2.0",
          "state": {
            "_model_module": "@jupyter-widgets/base",
            "_model_module_version": "1.2.0",
            "_model_name": "LayoutModel",
            "_view_count": null,
            "_view_module": "@jupyter-widgets/base",
            "_view_module_version": "1.2.0",
            "_view_name": "LayoutView",
            "align_content": null,
            "align_items": null,
            "align_self": null,
            "border": null,
            "bottom": null,
            "display": null,
            "flex": null,
            "flex_flow": null,
            "grid_area": null,
            "grid_auto_columns": null,
            "grid_auto_flow": null,
            "grid_auto_rows": null,
            "grid_column": null,
            "grid_gap": null,
            "grid_row": null,
            "grid_template_areas": null,
            "grid_template_columns": null,
            "grid_template_rows": null,
            "height": null,
            "justify_content": null,
            "justify_items": null,
            "left": null,
            "margin": null,
            "max_height": null,
            "max_width": null,
            "min_height": null,
            "min_width": null,
            "object_fit": null,
            "object_position": null,
            "order": null,
            "overflow": null,
            "overflow_x": null,
            "overflow_y": null,
            "padding": null,
            "right": null,
            "top": null,
            "visibility": null,
            "width": null
          }
        },
        "a20ffc30734044cc9721aa2806dc6ea1": {
          "model_module": "@jupyter-widgets/controls",
          "model_name": "ProgressStyleModel",
          "model_module_version": "1.5.0",
          "state": {
            "_model_module": "@jupyter-widgets/controls",
            "_model_module_version": "1.5.0",
            "_model_name": "ProgressStyleModel",
            "_view_count": null,
            "_view_module": "@jupyter-widgets/base",
            "_view_module_version": "1.2.0",
            "_view_name": "StyleView",
            "bar_color": null,
            "description_width": ""
          }
        },
        "d4f0ec5844204fcf9f7f346b19042cde": {
          "model_module": "@jupyter-widgets/base",
          "model_name": "LayoutModel",
          "model_module_version": "1.2.0",
          "state": {
            "_model_module": "@jupyter-widgets/base",
            "_model_module_version": "1.2.0",
            "_model_name": "LayoutModel",
            "_view_count": null,
            "_view_module": "@jupyter-widgets/base",
            "_view_module_version": "1.2.0",
            "_view_name": "LayoutView",
            "align_content": null,
            "align_items": null,
            "align_self": null,
            "border": null,
            "bottom": null,
            "display": null,
            "flex": null,
            "flex_flow": null,
            "grid_area": null,
            "grid_auto_columns": null,
            "grid_auto_flow": null,
            "grid_auto_rows": null,
            "grid_column": null,
            "grid_gap": null,
            "grid_row": null,
            "grid_template_areas": null,
            "grid_template_columns": null,
            "grid_template_rows": null,
            "height": null,
            "justify_content": null,
            "justify_items": null,
            "left": null,
            "margin": null,
            "max_height": null,
            "max_width": null,
            "min_height": null,
            "min_width": null,
            "object_fit": null,
            "object_position": null,
            "order": null,
            "overflow": null,
            "overflow_x": null,
            "overflow_y": null,
            "padding": null,
            "right": null,
            "top": null,
            "visibility": null,
            "width": null
          }
        },
        "380470f87d1d4ec785500f17c346506e": {
          "model_module": "@jupyter-widgets/controls",
          "model_name": "DescriptionStyleModel",
          "model_module_version": "1.5.0",
          "state": {
            "_model_module": "@jupyter-widgets/controls",
            "_model_module_version": "1.5.0",
            "_model_name": "DescriptionStyleModel",
            "_view_count": null,
            "_view_module": "@jupyter-widgets/base",
            "_view_module_version": "1.2.0",
            "_view_name": "StyleView",
            "description_width": ""
          }
        },
        "ffa0ac1956d44aef908433b7f53eb192": {
          "model_module": "@jupyter-widgets/controls",
          "model_name": "HBoxModel",
          "model_module_version": "1.5.0",
          "state": {
            "_dom_classes": [],
            "_model_module": "@jupyter-widgets/controls",
            "_model_module_version": "1.5.0",
            "_model_name": "HBoxModel",
            "_view_count": null,
            "_view_module": "@jupyter-widgets/controls",
            "_view_module_version": "1.5.0",
            "_view_name": "HBoxView",
            "box_style": "",
            "children": [
              "IPY_MODEL_43959363aaa8426585208814b4768865",
              "IPY_MODEL_04e49bd891f74309b28e648148e6eedc",
              "IPY_MODEL_c22729568c934a858db13d1a4524cc5a"
            ],
            "layout": "IPY_MODEL_4fcbbb43ad4146309999ee71cd6738bb"
          }
        },
        "43959363aaa8426585208814b4768865": {
          "model_module": "@jupyter-widgets/controls",
          "model_name": "HTMLModel",
          "model_module_version": "1.5.0",
          "state": {
            "_dom_classes": [],
            "_model_module": "@jupyter-widgets/controls",
            "_model_module_version": "1.5.0",
            "_model_name": "HTMLModel",
            "_view_count": null,
            "_view_module": "@jupyter-widgets/controls",
            "_view_module_version": "1.5.0",
            "_view_name": "HTMLView",
            "description": "",
            "description_tooltip": null,
            "layout": "IPY_MODEL_c20004486e1645abbda35820a1750b43",
            "placeholder": "​",
            "style": "IPY_MODEL_b6ea01b4116c4161bef0a2d5e6997e0e",
            "value": "Batches: 100%"
          }
        },
        "04e49bd891f74309b28e648148e6eedc": {
          "model_module": "@jupyter-widgets/controls",
          "model_name": "FloatProgressModel",
          "model_module_version": "1.5.0",
          "state": {
            "_dom_classes": [],
            "_model_module": "@jupyter-widgets/controls",
            "_model_module_version": "1.5.0",
            "_model_name": "FloatProgressModel",
            "_view_count": null,
            "_view_module": "@jupyter-widgets/controls",
            "_view_module_version": "1.5.0",
            "_view_name": "ProgressView",
            "bar_style": "success",
            "description": "",
            "description_tooltip": null,
            "layout": "IPY_MODEL_22c7e8e9050644b79d610aea9d94a078",
            "max": 11,
            "min": 0,
            "orientation": "horizontal",
            "style": "IPY_MODEL_7a2b27d4c3f44635b43ff5400a2556ca",
            "value": 11
          }
        },
        "c22729568c934a858db13d1a4524cc5a": {
          "model_module": "@jupyter-widgets/controls",
          "model_name": "HTMLModel",
          "model_module_version": "1.5.0",
          "state": {
            "_dom_classes": [],
            "_model_module": "@jupyter-widgets/controls",
            "_model_module_version": "1.5.0",
            "_model_name": "HTMLModel",
            "_view_count": null,
            "_view_module": "@jupyter-widgets/controls",
            "_view_module_version": "1.5.0",
            "_view_name": "HTMLView",
            "description": "",
            "description_tooltip": null,
            "layout": "IPY_MODEL_8f711aace3e4419ba828878b1e0c9913",
            "placeholder": "​",
            "style": "IPY_MODEL_4de7da9dc4484d23835b79245e647360",
            "value": " 11/11 [00:00&lt;00:00, 17.77it/s]"
          }
        },
        "4fcbbb43ad4146309999ee71cd6738bb": {
          "model_module": "@jupyter-widgets/base",
          "model_name": "LayoutModel",
          "model_module_version": "1.2.0",
          "state": {
            "_model_module": "@jupyter-widgets/base",
            "_model_module_version": "1.2.0",
            "_model_name": "LayoutModel",
            "_view_count": null,
            "_view_module": "@jupyter-widgets/base",
            "_view_module_version": "1.2.0",
            "_view_name": "LayoutView",
            "align_content": null,
            "align_items": null,
            "align_self": null,
            "border": null,
            "bottom": null,
            "display": null,
            "flex": null,
            "flex_flow": null,
            "grid_area": null,
            "grid_auto_columns": null,
            "grid_auto_flow": null,
            "grid_auto_rows": null,
            "grid_column": null,
            "grid_gap": null,
            "grid_row": null,
            "grid_template_areas": null,
            "grid_template_columns": null,
            "grid_template_rows": null,
            "height": null,
            "justify_content": null,
            "justify_items": null,
            "left": null,
            "margin": null,
            "max_height": null,
            "max_width": null,
            "min_height": null,
            "min_width": null,
            "object_fit": null,
            "object_position": null,
            "order": null,
            "overflow": null,
            "overflow_x": null,
            "overflow_y": null,
            "padding": null,
            "right": null,
            "top": null,
            "visibility": null,
            "width": null
          }
        },
        "c20004486e1645abbda35820a1750b43": {
          "model_module": "@jupyter-widgets/base",
          "model_name": "LayoutModel",
          "model_module_version": "1.2.0",
          "state": {
            "_model_module": "@jupyter-widgets/base",
            "_model_module_version": "1.2.0",
            "_model_name": "LayoutModel",
            "_view_count": null,
            "_view_module": "@jupyter-widgets/base",
            "_view_module_version": "1.2.0",
            "_view_name": "LayoutView",
            "align_content": null,
            "align_items": null,
            "align_self": null,
            "border": null,
            "bottom": null,
            "display": null,
            "flex": null,
            "flex_flow": null,
            "grid_area": null,
            "grid_auto_columns": null,
            "grid_auto_flow": null,
            "grid_auto_rows": null,
            "grid_column": null,
            "grid_gap": null,
            "grid_row": null,
            "grid_template_areas": null,
            "grid_template_columns": null,
            "grid_template_rows": null,
            "height": null,
            "justify_content": null,
            "justify_items": null,
            "left": null,
            "margin": null,
            "max_height": null,
            "max_width": null,
            "min_height": null,
            "min_width": null,
            "object_fit": null,
            "object_position": null,
            "order": null,
            "overflow": null,
            "overflow_x": null,
            "overflow_y": null,
            "padding": null,
            "right": null,
            "top": null,
            "visibility": null,
            "width": null
          }
        },
        "b6ea01b4116c4161bef0a2d5e6997e0e": {
          "model_module": "@jupyter-widgets/controls",
          "model_name": "DescriptionStyleModel",
          "model_module_version": "1.5.0",
          "state": {
            "_model_module": "@jupyter-widgets/controls",
            "_model_module_version": "1.5.0",
            "_model_name": "DescriptionStyleModel",
            "_view_count": null,
            "_view_module": "@jupyter-widgets/base",
            "_view_module_version": "1.2.0",
            "_view_name": "StyleView",
            "description_width": ""
          }
        },
        "22c7e8e9050644b79d610aea9d94a078": {
          "model_module": "@jupyter-widgets/base",
          "model_name": "LayoutModel",
          "model_module_version": "1.2.0",
          "state": {
            "_model_module": "@jupyter-widgets/base",
            "_model_module_version": "1.2.0",
            "_model_name": "LayoutModel",
            "_view_count": null,
            "_view_module": "@jupyter-widgets/base",
            "_view_module_version": "1.2.0",
            "_view_name": "LayoutView",
            "align_content": null,
            "align_items": null,
            "align_self": null,
            "border": null,
            "bottom": null,
            "display": null,
            "flex": null,
            "flex_flow": null,
            "grid_area": null,
            "grid_auto_columns": null,
            "grid_auto_flow": null,
            "grid_auto_rows": null,
            "grid_column": null,
            "grid_gap": null,
            "grid_row": null,
            "grid_template_areas": null,
            "grid_template_columns": null,
            "grid_template_rows": null,
            "height": null,
            "justify_content": null,
            "justify_items": null,
            "left": null,
            "margin": null,
            "max_height": null,
            "max_width": null,
            "min_height": null,
            "min_width": null,
            "object_fit": null,
            "object_position": null,
            "order": null,
            "overflow": null,
            "overflow_x": null,
            "overflow_y": null,
            "padding": null,
            "right": null,
            "top": null,
            "visibility": null,
            "width": null
          }
        },
        "7a2b27d4c3f44635b43ff5400a2556ca": {
          "model_module": "@jupyter-widgets/controls",
          "model_name": "ProgressStyleModel",
          "model_module_version": "1.5.0",
          "state": {
            "_model_module": "@jupyter-widgets/controls",
            "_model_module_version": "1.5.0",
            "_model_name": "ProgressStyleModel",
            "_view_count": null,
            "_view_module": "@jupyter-widgets/base",
            "_view_module_version": "1.2.0",
            "_view_name": "StyleView",
            "bar_color": null,
            "description_width": ""
          }
        },
        "8f711aace3e4419ba828878b1e0c9913": {
          "model_module": "@jupyter-widgets/base",
          "model_name": "LayoutModel",
          "model_module_version": "1.2.0",
          "state": {
            "_model_module": "@jupyter-widgets/base",
            "_model_module_version": "1.2.0",
            "_model_name": "LayoutModel",
            "_view_count": null,
            "_view_module": "@jupyter-widgets/base",
            "_view_module_version": "1.2.0",
            "_view_name": "LayoutView",
            "align_content": null,
            "align_items": null,
            "align_self": null,
            "border": null,
            "bottom": null,
            "display": null,
            "flex": null,
            "flex_flow": null,
            "grid_area": null,
            "grid_auto_columns": null,
            "grid_auto_flow": null,
            "grid_auto_rows": null,
            "grid_column": null,
            "grid_gap": null,
            "grid_row": null,
            "grid_template_areas": null,
            "grid_template_columns": null,
            "grid_template_rows": null,
            "height": null,
            "justify_content": null,
            "justify_items": null,
            "left": null,
            "margin": null,
            "max_height": null,
            "max_width": null,
            "min_height": null,
            "min_width": null,
            "object_fit": null,
            "object_position": null,
            "order": null,
            "overflow": null,
            "overflow_x": null,
            "overflow_y": null,
            "padding": null,
            "right": null,
            "top": null,
            "visibility": null,
            "width": null
          }
        },
        "4de7da9dc4484d23835b79245e647360": {
          "model_module": "@jupyter-widgets/controls",
          "model_name": "DescriptionStyleModel",
          "model_module_version": "1.5.0",
          "state": {
            "_model_module": "@jupyter-widgets/controls",
            "_model_module_version": "1.5.0",
            "_model_name": "DescriptionStyleModel",
            "_view_count": null,
            "_view_module": "@jupyter-widgets/base",
            "_view_module_version": "1.2.0",
            "_view_name": "StyleView",
            "description_width": ""
          }
        },
        "caa62ca7b94f4f04b51f350d9872f605": {
          "model_module": "@jupyter-widgets/controls",
          "model_name": "HBoxModel",
          "model_module_version": "1.5.0",
          "state": {
            "_dom_classes": [],
            "_model_module": "@jupyter-widgets/controls",
            "_model_module_version": "1.5.0",
            "_model_name": "HBoxModel",
            "_view_count": null,
            "_view_module": "@jupyter-widgets/controls",
            "_view_module_version": "1.5.0",
            "_view_name": "HBoxView",
            "box_style": "",
            "children": [
              "IPY_MODEL_9e5e54d9f15c40dbbbe12f5122fc88c0",
              "IPY_MODEL_5df86470af394c32a342ce437a9876e8",
              "IPY_MODEL_f4080454a8fd4adf915882b6b330e27a"
            ],
            "layout": "IPY_MODEL_0e0db742aae44b63bb34f2fa7e23a691"
          }
        },
        "9e5e54d9f15c40dbbbe12f5122fc88c0": {
          "model_module": "@jupyter-widgets/controls",
          "model_name": "HTMLModel",
          "model_module_version": "1.5.0",
          "state": {
            "_dom_classes": [],
            "_model_module": "@jupyter-widgets/controls",
            "_model_module_version": "1.5.0",
            "_model_name": "HTMLModel",
            "_view_count": null,
            "_view_module": "@jupyter-widgets/controls",
            "_view_module_version": "1.5.0",
            "_view_name": "HTMLView",
            "description": "",
            "description_tooltip": null,
            "layout": "IPY_MODEL_170c2cbc64224c2e8e9cd2d497875152",
            "placeholder": "​",
            "style": "IPY_MODEL_aba28b6d347b44ff8e55c388f3f2041c",
            "value": "Epoch: 100%"
          }
        },
        "5df86470af394c32a342ce437a9876e8": {
          "model_module": "@jupyter-widgets/controls",
          "model_name": "FloatProgressModel",
          "model_module_version": "1.5.0",
          "state": {
            "_dom_classes": [],
            "_model_module": "@jupyter-widgets/controls",
            "_model_module_version": "1.5.0",
            "_model_name": "FloatProgressModel",
            "_view_count": null,
            "_view_module": "@jupyter-widgets/controls",
            "_view_module_version": "1.5.0",
            "_view_name": "ProgressView",
            "bar_style": "success",
            "description": "",
            "description_tooltip": null,
            "layout": "IPY_MODEL_e2cc258a697e4419a2ad295012bef52c",
            "max": 3,
            "min": 0,
            "orientation": "horizontal",
            "style": "IPY_MODEL_18ebc76681a04cf9839abe9bbd76478a",
            "value": 3
          }
        },
        "f4080454a8fd4adf915882b6b330e27a": {
          "model_module": "@jupyter-widgets/controls",
          "model_name": "HTMLModel",
          "model_module_version": "1.5.0",
          "state": {
            "_dom_classes": [],
            "_model_module": "@jupyter-widgets/controls",
            "_model_module_version": "1.5.0",
            "_model_name": "HTMLModel",
            "_view_count": null,
            "_view_module": "@jupyter-widgets/controls",
            "_view_module_version": "1.5.0",
            "_view_name": "HTMLView",
            "description": "",
            "description_tooltip": null,
            "layout": "IPY_MODEL_770d888d290a4355bd35ef724f0226ba",
            "placeholder": "​",
            "style": "IPY_MODEL_d32411672d694f989bd04aeae68d2429",
            "value": " 3/3 [42:01&lt;00:00, 832.26s/it]"
          }
        },
        "0e0db742aae44b63bb34f2fa7e23a691": {
          "model_module": "@jupyter-widgets/base",
          "model_name": "LayoutModel",
          "model_module_version": "1.2.0",
          "state": {
            "_model_module": "@jupyter-widgets/base",
            "_model_module_version": "1.2.0",
            "_model_name": "LayoutModel",
            "_view_count": null,
            "_view_module": "@jupyter-widgets/base",
            "_view_module_version": "1.2.0",
            "_view_name": "LayoutView",
            "align_content": null,
            "align_items": null,
            "align_self": null,
            "border": null,
            "bottom": null,
            "display": null,
            "flex": null,
            "flex_flow": null,
            "grid_area": null,
            "grid_auto_columns": null,
            "grid_auto_flow": null,
            "grid_auto_rows": null,
            "grid_column": null,
            "grid_gap": null,
            "grid_row": null,
            "grid_template_areas": null,
            "grid_template_columns": null,
            "grid_template_rows": null,
            "height": null,
            "justify_content": null,
            "justify_items": null,
            "left": null,
            "margin": null,
            "max_height": null,
            "max_width": null,
            "min_height": null,
            "min_width": null,
            "object_fit": null,
            "object_position": null,
            "order": null,
            "overflow": null,
            "overflow_x": null,
            "overflow_y": null,
            "padding": null,
            "right": null,
            "top": null,
            "visibility": null,
            "width": null
          }
        },
        "170c2cbc64224c2e8e9cd2d497875152": {
          "model_module": "@jupyter-widgets/base",
          "model_name": "LayoutModel",
          "model_module_version": "1.2.0",
          "state": {
            "_model_module": "@jupyter-widgets/base",
            "_model_module_version": "1.2.0",
            "_model_name": "LayoutModel",
            "_view_count": null,
            "_view_module": "@jupyter-widgets/base",
            "_view_module_version": "1.2.0",
            "_view_name": "LayoutView",
            "align_content": null,
            "align_items": null,
            "align_self": null,
            "border": null,
            "bottom": null,
            "display": null,
            "flex": null,
            "flex_flow": null,
            "grid_area": null,
            "grid_auto_columns": null,
            "grid_auto_flow": null,
            "grid_auto_rows": null,
            "grid_column": null,
            "grid_gap": null,
            "grid_row": null,
            "grid_template_areas": null,
            "grid_template_columns": null,
            "grid_template_rows": null,
            "height": null,
            "justify_content": null,
            "justify_items": null,
            "left": null,
            "margin": null,
            "max_height": null,
            "max_width": null,
            "min_height": null,
            "min_width": null,
            "object_fit": null,
            "object_position": null,
            "order": null,
            "overflow": null,
            "overflow_x": null,
            "overflow_y": null,
            "padding": null,
            "right": null,
            "top": null,
            "visibility": null,
            "width": null
          }
        },
        "aba28b6d347b44ff8e55c388f3f2041c": {
          "model_module": "@jupyter-widgets/controls",
          "model_name": "DescriptionStyleModel",
          "model_module_version": "1.5.0",
          "state": {
            "_model_module": "@jupyter-widgets/controls",
            "_model_module_version": "1.5.0",
            "_model_name": "DescriptionStyleModel",
            "_view_count": null,
            "_view_module": "@jupyter-widgets/base",
            "_view_module_version": "1.2.0",
            "_view_name": "StyleView",
            "description_width": ""
          }
        },
        "e2cc258a697e4419a2ad295012bef52c": {
          "model_module": "@jupyter-widgets/base",
          "model_name": "LayoutModel",
          "model_module_version": "1.2.0",
          "state": {
            "_model_module": "@jupyter-widgets/base",
            "_model_module_version": "1.2.0",
            "_model_name": "LayoutModel",
            "_view_count": null,
            "_view_module": "@jupyter-widgets/base",
            "_view_module_version": "1.2.0",
            "_view_name": "LayoutView",
            "align_content": null,
            "align_items": null,
            "align_self": null,
            "border": null,
            "bottom": null,
            "display": null,
            "flex": null,
            "flex_flow": null,
            "grid_area": null,
            "grid_auto_columns": null,
            "grid_auto_flow": null,
            "grid_auto_rows": null,
            "grid_column": null,
            "grid_gap": null,
            "grid_row": null,
            "grid_template_areas": null,
            "grid_template_columns": null,
            "grid_template_rows": null,
            "height": null,
            "justify_content": null,
            "justify_items": null,
            "left": null,
            "margin": null,
            "max_height": null,
            "max_width": null,
            "min_height": null,
            "min_width": null,
            "object_fit": null,
            "object_position": null,
            "order": null,
            "overflow": null,
            "overflow_x": null,
            "overflow_y": null,
            "padding": null,
            "right": null,
            "top": null,
            "visibility": null,
            "width": null
          }
        },
        "18ebc76681a04cf9839abe9bbd76478a": {
          "model_module": "@jupyter-widgets/controls",
          "model_name": "ProgressStyleModel",
          "model_module_version": "1.5.0",
          "state": {
            "_model_module": "@jupyter-widgets/controls",
            "_model_module_version": "1.5.0",
            "_model_name": "ProgressStyleModel",
            "_view_count": null,
            "_view_module": "@jupyter-widgets/base",
            "_view_module_version": "1.2.0",
            "_view_name": "StyleView",
            "bar_color": null,
            "description_width": ""
          }
        },
        "770d888d290a4355bd35ef724f0226ba": {
          "model_module": "@jupyter-widgets/base",
          "model_name": "LayoutModel",
          "model_module_version": "1.2.0",
          "state": {
            "_model_module": "@jupyter-widgets/base",
            "_model_module_version": "1.2.0",
            "_model_name": "LayoutModel",
            "_view_count": null,
            "_view_module": "@jupyter-widgets/base",
            "_view_module_version": "1.2.0",
            "_view_name": "LayoutView",
            "align_content": null,
            "align_items": null,
            "align_self": null,
            "border": null,
            "bottom": null,
            "display": null,
            "flex": null,
            "flex_flow": null,
            "grid_area": null,
            "grid_auto_columns": null,
            "grid_auto_flow": null,
            "grid_auto_rows": null,
            "grid_column": null,
            "grid_gap": null,
            "grid_row": null,
            "grid_template_areas": null,
            "grid_template_columns": null,
            "grid_template_rows": null,
            "height": null,
            "justify_content": null,
            "justify_items": null,
            "left": null,
            "margin": null,
            "max_height": null,
            "max_width": null,
            "min_height": null,
            "min_width": null,
            "object_fit": null,
            "object_position": null,
            "order": null,
            "overflow": null,
            "overflow_x": null,
            "overflow_y": null,
            "padding": null,
            "right": null,
            "top": null,
            "visibility": null,
            "width": null
          }
        },
        "d32411672d694f989bd04aeae68d2429": {
          "model_module": "@jupyter-widgets/controls",
          "model_name": "DescriptionStyleModel",
          "model_module_version": "1.5.0",
          "state": {
            "_model_module": "@jupyter-widgets/controls",
            "_model_module_version": "1.5.0",
            "_model_name": "DescriptionStyleModel",
            "_view_count": null,
            "_view_module": "@jupyter-widgets/base",
            "_view_module_version": "1.2.0",
            "_view_name": "StyleView",
            "description_width": ""
          }
        },
        "07fade6d90c14b02915ebb4cce117eb3": {
          "model_module": "@jupyter-widgets/controls",
          "model_name": "HBoxModel",
          "model_module_version": "1.5.0",
          "state": {
            "_dom_classes": [],
            "_model_module": "@jupyter-widgets/controls",
            "_model_module_version": "1.5.0",
            "_model_name": "HBoxModel",
            "_view_count": null,
            "_view_module": "@jupyter-widgets/controls",
            "_view_module_version": "1.5.0",
            "_view_name": "HBoxView",
            "box_style": "",
            "children": [
              "IPY_MODEL_463ce65cb33048cb9cc991482db43553",
              "IPY_MODEL_bd9994c41fa74ba3ab50fbdf21ec4660",
              "IPY_MODEL_0a9a2ab133f24ac6b18fe6bb7fba9e96"
            ],
            "layout": "IPY_MODEL_28097c87f7fd45eda6ed272554ef2cda"
          }
        },
        "463ce65cb33048cb9cc991482db43553": {
          "model_module": "@jupyter-widgets/controls",
          "model_name": "HTMLModel",
          "model_module_version": "1.5.0",
          "state": {
            "_dom_classes": [],
            "_model_module": "@jupyter-widgets/controls",
            "_model_module_version": "1.5.0",
            "_model_name": "HTMLModel",
            "_view_count": null,
            "_view_module": "@jupyter-widgets/controls",
            "_view_module_version": "1.5.0",
            "_view_name": "HTMLView",
            "description": "",
            "description_tooltip": null,
            "layout": "IPY_MODEL_40a29fd8026a455b80a32b7ad17f5b85",
            "placeholder": "​",
            "style": "IPY_MODEL_4f15f5d877d0441c808ea1485f8f1bc0",
            "value": "Iteration: 100%"
          }
        },
        "bd9994c41fa74ba3ab50fbdf21ec4660": {
          "model_module": "@jupyter-widgets/controls",
          "model_name": "FloatProgressModel",
          "model_module_version": "1.5.0",
          "state": {
            "_dom_classes": [],
            "_model_module": "@jupyter-widgets/controls",
            "_model_module_version": "1.5.0",
            "_model_name": "FloatProgressModel",
            "_view_count": null,
            "_view_module": "@jupyter-widgets/controls",
            "_view_module_version": "1.5.0",
            "_view_name": "ProgressView",
            "bar_style": "success",
            "description": "",
            "description_tooltip": null,
            "layout": "IPY_MODEL_0aa8a5378dcc4391990a2bfe46508b49",
            "max": 1592,
            "min": 0,
            "orientation": "horizontal",
            "style": "IPY_MODEL_3f398410c1f94493829a008fbd60bda4",
            "value": 1592
          }
        },
        "0a9a2ab133f24ac6b18fe6bb7fba9e96": {
          "model_module": "@jupyter-widgets/controls",
          "model_name": "HTMLModel",
          "model_module_version": "1.5.0",
          "state": {
            "_dom_classes": [],
            "_model_module": "@jupyter-widgets/controls",
            "_model_module_version": "1.5.0",
            "_model_name": "HTMLModel",
            "_view_count": null,
            "_view_module": "@jupyter-widgets/controls",
            "_view_module_version": "1.5.0",
            "_view_name": "HTMLView",
            "description": "",
            "description_tooltip": null,
            "layout": "IPY_MODEL_10dde7d50fe64ea78930d38cfc627e6c",
            "placeholder": "​",
            "style": "IPY_MODEL_8e4db406e37d4bb489c6c73de6bed19a",
            "value": " 1592/1592 [14:22&lt;00:00,  2.09it/s]"
          }
        },
        "28097c87f7fd45eda6ed272554ef2cda": {
          "model_module": "@jupyter-widgets/base",
          "model_name": "LayoutModel",
          "model_module_version": "1.2.0",
          "state": {
            "_model_module": "@jupyter-widgets/base",
            "_model_module_version": "1.2.0",
            "_model_name": "LayoutModel",
            "_view_count": null,
            "_view_module": "@jupyter-widgets/base",
            "_view_module_version": "1.2.0",
            "_view_name": "LayoutView",
            "align_content": null,
            "align_items": null,
            "align_self": null,
            "border": null,
            "bottom": null,
            "display": null,
            "flex": null,
            "flex_flow": null,
            "grid_area": null,
            "grid_auto_columns": null,
            "grid_auto_flow": null,
            "grid_auto_rows": null,
            "grid_column": null,
            "grid_gap": null,
            "grid_row": null,
            "grid_template_areas": null,
            "grid_template_columns": null,
            "grid_template_rows": null,
            "height": null,
            "justify_content": null,
            "justify_items": null,
            "left": null,
            "margin": null,
            "max_height": null,
            "max_width": null,
            "min_height": null,
            "min_width": null,
            "object_fit": null,
            "object_position": null,
            "order": null,
            "overflow": null,
            "overflow_x": null,
            "overflow_y": null,
            "padding": null,
            "right": null,
            "top": null,
            "visibility": null,
            "width": null
          }
        },
        "40a29fd8026a455b80a32b7ad17f5b85": {
          "model_module": "@jupyter-widgets/base",
          "model_name": "LayoutModel",
          "model_module_version": "1.2.0",
          "state": {
            "_model_module": "@jupyter-widgets/base",
            "_model_module_version": "1.2.0",
            "_model_name": "LayoutModel",
            "_view_count": null,
            "_view_module": "@jupyter-widgets/base",
            "_view_module_version": "1.2.0",
            "_view_name": "LayoutView",
            "align_content": null,
            "align_items": null,
            "align_self": null,
            "border": null,
            "bottom": null,
            "display": null,
            "flex": null,
            "flex_flow": null,
            "grid_area": null,
            "grid_auto_columns": null,
            "grid_auto_flow": null,
            "grid_auto_rows": null,
            "grid_column": null,
            "grid_gap": null,
            "grid_row": null,
            "grid_template_areas": null,
            "grid_template_columns": null,
            "grid_template_rows": null,
            "height": null,
            "justify_content": null,
            "justify_items": null,
            "left": null,
            "margin": null,
            "max_height": null,
            "max_width": null,
            "min_height": null,
            "min_width": null,
            "object_fit": null,
            "object_position": null,
            "order": null,
            "overflow": null,
            "overflow_x": null,
            "overflow_y": null,
            "padding": null,
            "right": null,
            "top": null,
            "visibility": null,
            "width": null
          }
        },
        "4f15f5d877d0441c808ea1485f8f1bc0": {
          "model_module": "@jupyter-widgets/controls",
          "model_name": "DescriptionStyleModel",
          "model_module_version": "1.5.0",
          "state": {
            "_model_module": "@jupyter-widgets/controls",
            "_model_module_version": "1.5.0",
            "_model_name": "DescriptionStyleModel",
            "_view_count": null,
            "_view_module": "@jupyter-widgets/base",
            "_view_module_version": "1.2.0",
            "_view_name": "StyleView",
            "description_width": ""
          }
        },
        "0aa8a5378dcc4391990a2bfe46508b49": {
          "model_module": "@jupyter-widgets/base",
          "model_name": "LayoutModel",
          "model_module_version": "1.2.0",
          "state": {
            "_model_module": "@jupyter-widgets/base",
            "_model_module_version": "1.2.0",
            "_model_name": "LayoutModel",
            "_view_count": null,
            "_view_module": "@jupyter-widgets/base",
            "_view_module_version": "1.2.0",
            "_view_name": "LayoutView",
            "align_content": null,
            "align_items": null,
            "align_self": null,
            "border": null,
            "bottom": null,
            "display": null,
            "flex": null,
            "flex_flow": null,
            "grid_area": null,
            "grid_auto_columns": null,
            "grid_auto_flow": null,
            "grid_auto_rows": null,
            "grid_column": null,
            "grid_gap": null,
            "grid_row": null,
            "grid_template_areas": null,
            "grid_template_columns": null,
            "grid_template_rows": null,
            "height": null,
            "justify_content": null,
            "justify_items": null,
            "left": null,
            "margin": null,
            "max_height": null,
            "max_width": null,
            "min_height": null,
            "min_width": null,
            "object_fit": null,
            "object_position": null,
            "order": null,
            "overflow": null,
            "overflow_x": null,
            "overflow_y": null,
            "padding": null,
            "right": null,
            "top": null,
            "visibility": null,
            "width": null
          }
        },
        "3f398410c1f94493829a008fbd60bda4": {
          "model_module": "@jupyter-widgets/controls",
          "model_name": "ProgressStyleModel",
          "model_module_version": "1.5.0",
          "state": {
            "_model_module": "@jupyter-widgets/controls",
            "_model_module_version": "1.5.0",
            "_model_name": "ProgressStyleModel",
            "_view_count": null,
            "_view_module": "@jupyter-widgets/base",
            "_view_module_version": "1.2.0",
            "_view_name": "StyleView",
            "bar_color": null,
            "description_width": ""
          }
        },
        "10dde7d50fe64ea78930d38cfc627e6c": {
          "model_module": "@jupyter-widgets/base",
          "model_name": "LayoutModel",
          "model_module_version": "1.2.0",
          "state": {
            "_model_module": "@jupyter-widgets/base",
            "_model_module_version": "1.2.0",
            "_model_name": "LayoutModel",
            "_view_count": null,
            "_view_module": "@jupyter-widgets/base",
            "_view_module_version": "1.2.0",
            "_view_name": "LayoutView",
            "align_content": null,
            "align_items": null,
            "align_self": null,
            "border": null,
            "bottom": null,
            "display": null,
            "flex": null,
            "flex_flow": null,
            "grid_area": null,
            "grid_auto_columns": null,
            "grid_auto_flow": null,
            "grid_auto_rows": null,
            "grid_column": null,
            "grid_gap": null,
            "grid_row": null,
            "grid_template_areas": null,
            "grid_template_columns": null,
            "grid_template_rows": null,
            "height": null,
            "justify_content": null,
            "justify_items": null,
            "left": null,
            "margin": null,
            "max_height": null,
            "max_width": null,
            "min_height": null,
            "min_width": null,
            "object_fit": null,
            "object_position": null,
            "order": null,
            "overflow": null,
            "overflow_x": null,
            "overflow_y": null,
            "padding": null,
            "right": null,
            "top": null,
            "visibility": null,
            "width": null
          }
        },
        "8e4db406e37d4bb489c6c73de6bed19a": {
          "model_module": "@jupyter-widgets/controls",
          "model_name": "DescriptionStyleModel",
          "model_module_version": "1.5.0",
          "state": {
            "_model_module": "@jupyter-widgets/controls",
            "_model_module_version": "1.5.0",
            "_model_name": "DescriptionStyleModel",
            "_view_count": null,
            "_view_module": "@jupyter-widgets/base",
            "_view_module_version": "1.2.0",
            "_view_name": "StyleView",
            "description_width": ""
          }
        },
        "62809cad3c974598b6e8584ce69d0a1f": {
          "model_module": "@jupyter-widgets/controls",
          "model_name": "HBoxModel",
          "model_module_version": "1.5.0",
          "state": {
            "_dom_classes": [],
            "_model_module": "@jupyter-widgets/controls",
            "_model_module_version": "1.5.0",
            "_model_name": "HBoxModel",
            "_view_count": null,
            "_view_module": "@jupyter-widgets/controls",
            "_view_module_version": "1.5.0",
            "_view_name": "HBoxView",
            "box_style": "",
            "children": [
              "IPY_MODEL_7c628868d16146ef8471c1f509b67d74",
              "IPY_MODEL_56d81a591c3147959eb04dfab92e71fe",
              "IPY_MODEL_b10fe8ba65cb49329da0a7f11af1403f"
            ],
            "layout": "IPY_MODEL_803fa94fef634fa0ae587d61945bec6a"
          }
        },
        "7c628868d16146ef8471c1f509b67d74": {
          "model_module": "@jupyter-widgets/controls",
          "model_name": "HTMLModel",
          "model_module_version": "1.5.0",
          "state": {
            "_dom_classes": [],
            "_model_module": "@jupyter-widgets/controls",
            "_model_module_version": "1.5.0",
            "_model_name": "HTMLModel",
            "_view_count": null,
            "_view_module": "@jupyter-widgets/controls",
            "_view_module_version": "1.5.0",
            "_view_name": "HTMLView",
            "description": "",
            "description_tooltip": null,
            "layout": "IPY_MODEL_c5d41b7cc6f54a5cba8a877c4aaa3be1",
            "placeholder": "​",
            "style": "IPY_MODEL_021311a635cd4401836a4be9182844b8",
            "value": "Batches: 100%"
          }
        },
        "56d81a591c3147959eb04dfab92e71fe": {
          "model_module": "@jupyter-widgets/controls",
          "model_name": "FloatProgressModel",
          "model_module_version": "1.5.0",
          "state": {
            "_dom_classes": [],
            "_model_module": "@jupyter-widgets/controls",
            "_model_module_version": "1.5.0",
            "_model_name": "FloatProgressModel",
            "_view_count": null,
            "_view_module": "@jupyter-widgets/controls",
            "_view_module_version": "1.5.0",
            "_view_name": "ProgressView",
            "bar_style": "success",
            "description": "",
            "description_tooltip": null,
            "layout": "IPY_MODEL_edaf2fd9422d4c7bbd3c789c76105ae1",
            "max": 11,
            "min": 0,
            "orientation": "horizontal",
            "style": "IPY_MODEL_9127eeb11b98403e893ccab1cc0213b9",
            "value": 11
          }
        },
        "b10fe8ba65cb49329da0a7f11af1403f": {
          "model_module": "@jupyter-widgets/controls",
          "model_name": "HTMLModel",
          "model_module_version": "1.5.0",
          "state": {
            "_dom_classes": [],
            "_model_module": "@jupyter-widgets/controls",
            "_model_module_version": "1.5.0",
            "_model_name": "HTMLModel",
            "_view_count": null,
            "_view_module": "@jupyter-widgets/controls",
            "_view_module_version": "1.5.0",
            "_view_name": "HTMLView",
            "description": "",
            "description_tooltip": null,
            "layout": "IPY_MODEL_9289bfc3f1c14c4a9dee53d14939b415",
            "placeholder": "​",
            "style": "IPY_MODEL_7419da6aaa7c4d1ebf99e129378d9828",
            "value": " 11/11 [00:00&lt;00:00, 20.47it/s]"
          }
        },
        "803fa94fef634fa0ae587d61945bec6a": {
          "model_module": "@jupyter-widgets/base",
          "model_name": "LayoutModel",
          "model_module_version": "1.2.0",
          "state": {
            "_model_module": "@jupyter-widgets/base",
            "_model_module_version": "1.2.0",
            "_model_name": "LayoutModel",
            "_view_count": null,
            "_view_module": "@jupyter-widgets/base",
            "_view_module_version": "1.2.0",
            "_view_name": "LayoutView",
            "align_content": null,
            "align_items": null,
            "align_self": null,
            "border": null,
            "bottom": null,
            "display": null,
            "flex": null,
            "flex_flow": null,
            "grid_area": null,
            "grid_auto_columns": null,
            "grid_auto_flow": null,
            "grid_auto_rows": null,
            "grid_column": null,
            "grid_gap": null,
            "grid_row": null,
            "grid_template_areas": null,
            "grid_template_columns": null,
            "grid_template_rows": null,
            "height": null,
            "justify_content": null,
            "justify_items": null,
            "left": null,
            "margin": null,
            "max_height": null,
            "max_width": null,
            "min_height": null,
            "min_width": null,
            "object_fit": null,
            "object_position": null,
            "order": null,
            "overflow": null,
            "overflow_x": null,
            "overflow_y": null,
            "padding": null,
            "right": null,
            "top": null,
            "visibility": null,
            "width": null
          }
        },
        "c5d41b7cc6f54a5cba8a877c4aaa3be1": {
          "model_module": "@jupyter-widgets/base",
          "model_name": "LayoutModel",
          "model_module_version": "1.2.0",
          "state": {
            "_model_module": "@jupyter-widgets/base",
            "_model_module_version": "1.2.0",
            "_model_name": "LayoutModel",
            "_view_count": null,
            "_view_module": "@jupyter-widgets/base",
            "_view_module_version": "1.2.0",
            "_view_name": "LayoutView",
            "align_content": null,
            "align_items": null,
            "align_self": null,
            "border": null,
            "bottom": null,
            "display": null,
            "flex": null,
            "flex_flow": null,
            "grid_area": null,
            "grid_auto_columns": null,
            "grid_auto_flow": null,
            "grid_auto_rows": null,
            "grid_column": null,
            "grid_gap": null,
            "grid_row": null,
            "grid_template_areas": null,
            "grid_template_columns": null,
            "grid_template_rows": null,
            "height": null,
            "justify_content": null,
            "justify_items": null,
            "left": null,
            "margin": null,
            "max_height": null,
            "max_width": null,
            "min_height": null,
            "min_width": null,
            "object_fit": null,
            "object_position": null,
            "order": null,
            "overflow": null,
            "overflow_x": null,
            "overflow_y": null,
            "padding": null,
            "right": null,
            "top": null,
            "visibility": null,
            "width": null
          }
        },
        "021311a635cd4401836a4be9182844b8": {
          "model_module": "@jupyter-widgets/controls",
          "model_name": "DescriptionStyleModel",
          "model_module_version": "1.5.0",
          "state": {
            "_model_module": "@jupyter-widgets/controls",
            "_model_module_version": "1.5.0",
            "_model_name": "DescriptionStyleModel",
            "_view_count": null,
            "_view_module": "@jupyter-widgets/base",
            "_view_module_version": "1.2.0",
            "_view_name": "StyleView",
            "description_width": ""
          }
        },
        "edaf2fd9422d4c7bbd3c789c76105ae1": {
          "model_module": "@jupyter-widgets/base",
          "model_name": "LayoutModel",
          "model_module_version": "1.2.0",
          "state": {
            "_model_module": "@jupyter-widgets/base",
            "_model_module_version": "1.2.0",
            "_model_name": "LayoutModel",
            "_view_count": null,
            "_view_module": "@jupyter-widgets/base",
            "_view_module_version": "1.2.0",
            "_view_name": "LayoutView",
            "align_content": null,
            "align_items": null,
            "align_self": null,
            "border": null,
            "bottom": null,
            "display": null,
            "flex": null,
            "flex_flow": null,
            "grid_area": null,
            "grid_auto_columns": null,
            "grid_auto_flow": null,
            "grid_auto_rows": null,
            "grid_column": null,
            "grid_gap": null,
            "grid_row": null,
            "grid_template_areas": null,
            "grid_template_columns": null,
            "grid_template_rows": null,
            "height": null,
            "justify_content": null,
            "justify_items": null,
            "left": null,
            "margin": null,
            "max_height": null,
            "max_width": null,
            "min_height": null,
            "min_width": null,
            "object_fit": null,
            "object_position": null,
            "order": null,
            "overflow": null,
            "overflow_x": null,
            "overflow_y": null,
            "padding": null,
            "right": null,
            "top": null,
            "visibility": null,
            "width": null
          }
        },
        "9127eeb11b98403e893ccab1cc0213b9": {
          "model_module": "@jupyter-widgets/controls",
          "model_name": "ProgressStyleModel",
          "model_module_version": "1.5.0",
          "state": {
            "_model_module": "@jupyter-widgets/controls",
            "_model_module_version": "1.5.0",
            "_model_name": "ProgressStyleModel",
            "_view_count": null,
            "_view_module": "@jupyter-widgets/base",
            "_view_module_version": "1.2.0",
            "_view_name": "StyleView",
            "bar_color": null,
            "description_width": ""
          }
        },
        "9289bfc3f1c14c4a9dee53d14939b415": {
          "model_module": "@jupyter-widgets/base",
          "model_name": "LayoutModel",
          "model_module_version": "1.2.0",
          "state": {
            "_model_module": "@jupyter-widgets/base",
            "_model_module_version": "1.2.0",
            "_model_name": "LayoutModel",
            "_view_count": null,
            "_view_module": "@jupyter-widgets/base",
            "_view_module_version": "1.2.0",
            "_view_name": "LayoutView",
            "align_content": null,
            "align_items": null,
            "align_self": null,
            "border": null,
            "bottom": null,
            "display": null,
            "flex": null,
            "flex_flow": null,
            "grid_area": null,
            "grid_auto_columns": null,
            "grid_auto_flow": null,
            "grid_auto_rows": null,
            "grid_column": null,
            "grid_gap": null,
            "grid_row": null,
            "grid_template_areas": null,
            "grid_template_columns": null,
            "grid_template_rows": null,
            "height": null,
            "justify_content": null,
            "justify_items": null,
            "left": null,
            "margin": null,
            "max_height": null,
            "max_width": null,
            "min_height": null,
            "min_width": null,
            "object_fit": null,
            "object_position": null,
            "order": null,
            "overflow": null,
            "overflow_x": null,
            "overflow_y": null,
            "padding": null,
            "right": null,
            "top": null,
            "visibility": null,
            "width": null
          }
        },
        "7419da6aaa7c4d1ebf99e129378d9828": {
          "model_module": "@jupyter-widgets/controls",
          "model_name": "DescriptionStyleModel",
          "model_module_version": "1.5.0",
          "state": {
            "_model_module": "@jupyter-widgets/controls",
            "_model_module_version": "1.5.0",
            "_model_name": "DescriptionStyleModel",
            "_view_count": null,
            "_view_module": "@jupyter-widgets/base",
            "_view_module_version": "1.2.0",
            "_view_name": "StyleView",
            "description_width": ""
          }
        },
        "f1dc8a36f0974b4e8f30efc053018073": {
          "model_module": "@jupyter-widgets/controls",
          "model_name": "HBoxModel",
          "model_module_version": "1.5.0",
          "state": {
            "_dom_classes": [],
            "_model_module": "@jupyter-widgets/controls",
            "_model_module_version": "1.5.0",
            "_model_name": "HBoxModel",
            "_view_count": null,
            "_view_module": "@jupyter-widgets/controls",
            "_view_module_version": "1.5.0",
            "_view_name": "HBoxView",
            "box_style": "",
            "children": [
              "IPY_MODEL_5a23930738b34862835c178b925f487b",
              "IPY_MODEL_b4e431b7543842a088729e00650c1289",
              "IPY_MODEL_609827750eea4b31ac4925a701705063"
            ],
            "layout": "IPY_MODEL_655c8c64579849d18c0921fc34b76035"
          }
        },
        "5a23930738b34862835c178b925f487b": {
          "model_module": "@jupyter-widgets/controls",
          "model_name": "HTMLModel",
          "model_module_version": "1.5.0",
          "state": {
            "_dom_classes": [],
            "_model_module": "@jupyter-widgets/controls",
            "_model_module_version": "1.5.0",
            "_model_name": "HTMLModel",
            "_view_count": null,
            "_view_module": "@jupyter-widgets/controls",
            "_view_module_version": "1.5.0",
            "_view_name": "HTMLView",
            "description": "",
            "description_tooltip": null,
            "layout": "IPY_MODEL_f3d46025eac8474ea0a8bb98ebfdc817",
            "placeholder": "​",
            "style": "IPY_MODEL_7cf6cf3e3f7e4794b1b571bb300f2089",
            "value": "Iteration: 100%"
          }
        },
        "b4e431b7543842a088729e00650c1289": {
          "model_module": "@jupyter-widgets/controls",
          "model_name": "FloatProgressModel",
          "model_module_version": "1.5.0",
          "state": {
            "_dom_classes": [],
            "_model_module": "@jupyter-widgets/controls",
            "_model_module_version": "1.5.0",
            "_model_name": "FloatProgressModel",
            "_view_count": null,
            "_view_module": "@jupyter-widgets/controls",
            "_view_module_version": "1.5.0",
            "_view_name": "ProgressView",
            "bar_style": "success",
            "description": "",
            "description_tooltip": null,
            "layout": "IPY_MODEL_14921e1ac4924c319a32b9b9630b0dc7",
            "max": 1592,
            "min": 0,
            "orientation": "horizontal",
            "style": "IPY_MODEL_3c568ee443854be98f65789388b8a653",
            "value": 1592
          }
        },
        "609827750eea4b31ac4925a701705063": {
          "model_module": "@jupyter-widgets/controls",
          "model_name": "HTMLModel",
          "model_module_version": "1.5.0",
          "state": {
            "_dom_classes": [],
            "_model_module": "@jupyter-widgets/controls",
            "_model_module_version": "1.5.0",
            "_model_name": "HTMLModel",
            "_view_count": null,
            "_view_module": "@jupyter-widgets/controls",
            "_view_module_version": "1.5.0",
            "_view_name": "HTMLView",
            "description": "",
            "description_tooltip": null,
            "layout": "IPY_MODEL_c57d3421620c401382e6cf840b5908fb",
            "placeholder": "​",
            "style": "IPY_MODEL_9e2fffae143b411c9148bb230a801332",
            "value": " 1592/1592 [14:07&lt;00:00,  1.86it/s]"
          }
        },
        "655c8c64579849d18c0921fc34b76035": {
          "model_module": "@jupyter-widgets/base",
          "model_name": "LayoutModel",
          "model_module_version": "1.2.0",
          "state": {
            "_model_module": "@jupyter-widgets/base",
            "_model_module_version": "1.2.0",
            "_model_name": "LayoutModel",
            "_view_count": null,
            "_view_module": "@jupyter-widgets/base",
            "_view_module_version": "1.2.0",
            "_view_name": "LayoutView",
            "align_content": null,
            "align_items": null,
            "align_self": null,
            "border": null,
            "bottom": null,
            "display": null,
            "flex": null,
            "flex_flow": null,
            "grid_area": null,
            "grid_auto_columns": null,
            "grid_auto_flow": null,
            "grid_auto_rows": null,
            "grid_column": null,
            "grid_gap": null,
            "grid_row": null,
            "grid_template_areas": null,
            "grid_template_columns": null,
            "grid_template_rows": null,
            "height": null,
            "justify_content": null,
            "justify_items": null,
            "left": null,
            "margin": null,
            "max_height": null,
            "max_width": null,
            "min_height": null,
            "min_width": null,
            "object_fit": null,
            "object_position": null,
            "order": null,
            "overflow": null,
            "overflow_x": null,
            "overflow_y": null,
            "padding": null,
            "right": null,
            "top": null,
            "visibility": null,
            "width": null
          }
        },
        "f3d46025eac8474ea0a8bb98ebfdc817": {
          "model_module": "@jupyter-widgets/base",
          "model_name": "LayoutModel",
          "model_module_version": "1.2.0",
          "state": {
            "_model_module": "@jupyter-widgets/base",
            "_model_module_version": "1.2.0",
            "_model_name": "LayoutModel",
            "_view_count": null,
            "_view_module": "@jupyter-widgets/base",
            "_view_module_version": "1.2.0",
            "_view_name": "LayoutView",
            "align_content": null,
            "align_items": null,
            "align_self": null,
            "border": null,
            "bottom": null,
            "display": null,
            "flex": null,
            "flex_flow": null,
            "grid_area": null,
            "grid_auto_columns": null,
            "grid_auto_flow": null,
            "grid_auto_rows": null,
            "grid_column": null,
            "grid_gap": null,
            "grid_row": null,
            "grid_template_areas": null,
            "grid_template_columns": null,
            "grid_template_rows": null,
            "height": null,
            "justify_content": null,
            "justify_items": null,
            "left": null,
            "margin": null,
            "max_height": null,
            "max_width": null,
            "min_height": null,
            "min_width": null,
            "object_fit": null,
            "object_position": null,
            "order": null,
            "overflow": null,
            "overflow_x": null,
            "overflow_y": null,
            "padding": null,
            "right": null,
            "top": null,
            "visibility": null,
            "width": null
          }
        },
        "7cf6cf3e3f7e4794b1b571bb300f2089": {
          "model_module": "@jupyter-widgets/controls",
          "model_name": "DescriptionStyleModel",
          "model_module_version": "1.5.0",
          "state": {
            "_model_module": "@jupyter-widgets/controls",
            "_model_module_version": "1.5.0",
            "_model_name": "DescriptionStyleModel",
            "_view_count": null,
            "_view_module": "@jupyter-widgets/base",
            "_view_module_version": "1.2.0",
            "_view_name": "StyleView",
            "description_width": ""
          }
        },
        "14921e1ac4924c319a32b9b9630b0dc7": {
          "model_module": "@jupyter-widgets/base",
          "model_name": "LayoutModel",
          "model_module_version": "1.2.0",
          "state": {
            "_model_module": "@jupyter-widgets/base",
            "_model_module_version": "1.2.0",
            "_model_name": "LayoutModel",
            "_view_count": null,
            "_view_module": "@jupyter-widgets/base",
            "_view_module_version": "1.2.0",
            "_view_name": "LayoutView",
            "align_content": null,
            "align_items": null,
            "align_self": null,
            "border": null,
            "bottom": null,
            "display": null,
            "flex": null,
            "flex_flow": null,
            "grid_area": null,
            "grid_auto_columns": null,
            "grid_auto_flow": null,
            "grid_auto_rows": null,
            "grid_column": null,
            "grid_gap": null,
            "grid_row": null,
            "grid_template_areas": null,
            "grid_template_columns": null,
            "grid_template_rows": null,
            "height": null,
            "justify_content": null,
            "justify_items": null,
            "left": null,
            "margin": null,
            "max_height": null,
            "max_width": null,
            "min_height": null,
            "min_width": null,
            "object_fit": null,
            "object_position": null,
            "order": null,
            "overflow": null,
            "overflow_x": null,
            "overflow_y": null,
            "padding": null,
            "right": null,
            "top": null,
            "visibility": null,
            "width": null
          }
        },
        "3c568ee443854be98f65789388b8a653": {
          "model_module": "@jupyter-widgets/controls",
          "model_name": "ProgressStyleModel",
          "model_module_version": "1.5.0",
          "state": {
            "_model_module": "@jupyter-widgets/controls",
            "_model_module_version": "1.5.0",
            "_model_name": "ProgressStyleModel",
            "_view_count": null,
            "_view_module": "@jupyter-widgets/base",
            "_view_module_version": "1.2.0",
            "_view_name": "StyleView",
            "bar_color": null,
            "description_width": ""
          }
        },
        "c57d3421620c401382e6cf840b5908fb": {
          "model_module": "@jupyter-widgets/base",
          "model_name": "LayoutModel",
          "model_module_version": "1.2.0",
          "state": {
            "_model_module": "@jupyter-widgets/base",
            "_model_module_version": "1.2.0",
            "_model_name": "LayoutModel",
            "_view_count": null,
            "_view_module": "@jupyter-widgets/base",
            "_view_module_version": "1.2.0",
            "_view_name": "LayoutView",
            "align_content": null,
            "align_items": null,
            "align_self": null,
            "border": null,
            "bottom": null,
            "display": null,
            "flex": null,
            "flex_flow": null,
            "grid_area": null,
            "grid_auto_columns": null,
            "grid_auto_flow": null,
            "grid_auto_rows": null,
            "grid_column": null,
            "grid_gap": null,
            "grid_row": null,
            "grid_template_areas": null,
            "grid_template_columns": null,
            "grid_template_rows": null,
            "height": null,
            "justify_content": null,
            "justify_items": null,
            "left": null,
            "margin": null,
            "max_height": null,
            "max_width": null,
            "min_height": null,
            "min_width": null,
            "object_fit": null,
            "object_position": null,
            "order": null,
            "overflow": null,
            "overflow_x": null,
            "overflow_y": null,
            "padding": null,
            "right": null,
            "top": null,
            "visibility": null,
            "width": null
          }
        },
        "9e2fffae143b411c9148bb230a801332": {
          "model_module": "@jupyter-widgets/controls",
          "model_name": "DescriptionStyleModel",
          "model_module_version": "1.5.0",
          "state": {
            "_model_module": "@jupyter-widgets/controls",
            "_model_module_version": "1.5.0",
            "_model_name": "DescriptionStyleModel",
            "_view_count": null,
            "_view_module": "@jupyter-widgets/base",
            "_view_module_version": "1.2.0",
            "_view_name": "StyleView",
            "description_width": ""
          }
        },
        "22c321b661534246a96440bdf7cc245b": {
          "model_module": "@jupyter-widgets/controls",
          "model_name": "HBoxModel",
          "model_module_version": "1.5.0",
          "state": {
            "_dom_classes": [],
            "_model_module": "@jupyter-widgets/controls",
            "_model_module_version": "1.5.0",
            "_model_name": "HBoxModel",
            "_view_count": null,
            "_view_module": "@jupyter-widgets/controls",
            "_view_module_version": "1.5.0",
            "_view_name": "HBoxView",
            "box_style": "",
            "children": [
              "IPY_MODEL_728947c2891a4cc395e8a83a63b75c42",
              "IPY_MODEL_683db78aeee24dc18448e17c069d0e98",
              "IPY_MODEL_53fa3b117aed4ffbae47feafa3f73261"
            ],
            "layout": "IPY_MODEL_1e140f13d0514a77a88490d0243af637"
          }
        },
        "728947c2891a4cc395e8a83a63b75c42": {
          "model_module": "@jupyter-widgets/controls",
          "model_name": "HTMLModel",
          "model_module_version": "1.5.0",
          "state": {
            "_dom_classes": [],
            "_model_module": "@jupyter-widgets/controls",
            "_model_module_version": "1.5.0",
            "_model_name": "HTMLModel",
            "_view_count": null,
            "_view_module": "@jupyter-widgets/controls",
            "_view_module_version": "1.5.0",
            "_view_name": "HTMLView",
            "description": "",
            "description_tooltip": null,
            "layout": "IPY_MODEL_7944ca4a35b34ef6aebb291110c5b0a2",
            "placeholder": "​",
            "style": "IPY_MODEL_4e800f6cf4f8474683f4a5342ec8cd14",
            "value": "Batches: 100%"
          }
        },
        "683db78aeee24dc18448e17c069d0e98": {
          "model_module": "@jupyter-widgets/controls",
          "model_name": "FloatProgressModel",
          "model_module_version": "1.5.0",
          "state": {
            "_dom_classes": [],
            "_model_module": "@jupyter-widgets/controls",
            "_model_module_version": "1.5.0",
            "_model_name": "FloatProgressModel",
            "_view_count": null,
            "_view_module": "@jupyter-widgets/controls",
            "_view_module_version": "1.5.0",
            "_view_name": "ProgressView",
            "bar_style": "success",
            "description": "",
            "description_tooltip": null,
            "layout": "IPY_MODEL_a39ffa0a7e5746a6a66ee3ba2c793976",
            "max": 11,
            "min": 0,
            "orientation": "horizontal",
            "style": "IPY_MODEL_ee0781260e204340ba60377036e861d2",
            "value": 11
          }
        },
        "53fa3b117aed4ffbae47feafa3f73261": {
          "model_module": "@jupyter-widgets/controls",
          "model_name": "HTMLModel",
          "model_module_version": "1.5.0",
          "state": {
            "_dom_classes": [],
            "_model_module": "@jupyter-widgets/controls",
            "_model_module_version": "1.5.0",
            "_model_name": "HTMLModel",
            "_view_count": null,
            "_view_module": "@jupyter-widgets/controls",
            "_view_module_version": "1.5.0",
            "_view_name": "HTMLView",
            "description": "",
            "description_tooltip": null,
            "layout": "IPY_MODEL_b1613a7aa1214c418426eb29549f9374",
            "placeholder": "​",
            "style": "IPY_MODEL_737d5da6c47245c0864eb45628a586f2",
            "value": " 11/11 [00:00&lt;00:00, 16.14it/s]"
          }
        },
        "1e140f13d0514a77a88490d0243af637": {
          "model_module": "@jupyter-widgets/base",
          "model_name": "LayoutModel",
          "model_module_version": "1.2.0",
          "state": {
            "_model_module": "@jupyter-widgets/base",
            "_model_module_version": "1.2.0",
            "_model_name": "LayoutModel",
            "_view_count": null,
            "_view_module": "@jupyter-widgets/base",
            "_view_module_version": "1.2.0",
            "_view_name": "LayoutView",
            "align_content": null,
            "align_items": null,
            "align_self": null,
            "border": null,
            "bottom": null,
            "display": null,
            "flex": null,
            "flex_flow": null,
            "grid_area": null,
            "grid_auto_columns": null,
            "grid_auto_flow": null,
            "grid_auto_rows": null,
            "grid_column": null,
            "grid_gap": null,
            "grid_row": null,
            "grid_template_areas": null,
            "grid_template_columns": null,
            "grid_template_rows": null,
            "height": null,
            "justify_content": null,
            "justify_items": null,
            "left": null,
            "margin": null,
            "max_height": null,
            "max_width": null,
            "min_height": null,
            "min_width": null,
            "object_fit": null,
            "object_position": null,
            "order": null,
            "overflow": null,
            "overflow_x": null,
            "overflow_y": null,
            "padding": null,
            "right": null,
            "top": null,
            "visibility": null,
            "width": null
          }
        },
        "7944ca4a35b34ef6aebb291110c5b0a2": {
          "model_module": "@jupyter-widgets/base",
          "model_name": "LayoutModel",
          "model_module_version": "1.2.0",
          "state": {
            "_model_module": "@jupyter-widgets/base",
            "_model_module_version": "1.2.0",
            "_model_name": "LayoutModel",
            "_view_count": null,
            "_view_module": "@jupyter-widgets/base",
            "_view_module_version": "1.2.0",
            "_view_name": "LayoutView",
            "align_content": null,
            "align_items": null,
            "align_self": null,
            "border": null,
            "bottom": null,
            "display": null,
            "flex": null,
            "flex_flow": null,
            "grid_area": null,
            "grid_auto_columns": null,
            "grid_auto_flow": null,
            "grid_auto_rows": null,
            "grid_column": null,
            "grid_gap": null,
            "grid_row": null,
            "grid_template_areas": null,
            "grid_template_columns": null,
            "grid_template_rows": null,
            "height": null,
            "justify_content": null,
            "justify_items": null,
            "left": null,
            "margin": null,
            "max_height": null,
            "max_width": null,
            "min_height": null,
            "min_width": null,
            "object_fit": null,
            "object_position": null,
            "order": null,
            "overflow": null,
            "overflow_x": null,
            "overflow_y": null,
            "padding": null,
            "right": null,
            "top": null,
            "visibility": null,
            "width": null
          }
        },
        "4e800f6cf4f8474683f4a5342ec8cd14": {
          "model_module": "@jupyter-widgets/controls",
          "model_name": "DescriptionStyleModel",
          "model_module_version": "1.5.0",
          "state": {
            "_model_module": "@jupyter-widgets/controls",
            "_model_module_version": "1.5.0",
            "_model_name": "DescriptionStyleModel",
            "_view_count": null,
            "_view_module": "@jupyter-widgets/base",
            "_view_module_version": "1.2.0",
            "_view_name": "StyleView",
            "description_width": ""
          }
        },
        "a39ffa0a7e5746a6a66ee3ba2c793976": {
          "model_module": "@jupyter-widgets/base",
          "model_name": "LayoutModel",
          "model_module_version": "1.2.0",
          "state": {
            "_model_module": "@jupyter-widgets/base",
            "_model_module_version": "1.2.0",
            "_model_name": "LayoutModel",
            "_view_count": null,
            "_view_module": "@jupyter-widgets/base",
            "_view_module_version": "1.2.0",
            "_view_name": "LayoutView",
            "align_content": null,
            "align_items": null,
            "align_self": null,
            "border": null,
            "bottom": null,
            "display": null,
            "flex": null,
            "flex_flow": null,
            "grid_area": null,
            "grid_auto_columns": null,
            "grid_auto_flow": null,
            "grid_auto_rows": null,
            "grid_column": null,
            "grid_gap": null,
            "grid_row": null,
            "grid_template_areas": null,
            "grid_template_columns": null,
            "grid_template_rows": null,
            "height": null,
            "justify_content": null,
            "justify_items": null,
            "left": null,
            "margin": null,
            "max_height": null,
            "max_width": null,
            "min_height": null,
            "min_width": null,
            "object_fit": null,
            "object_position": null,
            "order": null,
            "overflow": null,
            "overflow_x": null,
            "overflow_y": null,
            "padding": null,
            "right": null,
            "top": null,
            "visibility": null,
            "width": null
          }
        },
        "ee0781260e204340ba60377036e861d2": {
          "model_module": "@jupyter-widgets/controls",
          "model_name": "ProgressStyleModel",
          "model_module_version": "1.5.0",
          "state": {
            "_model_module": "@jupyter-widgets/controls",
            "_model_module_version": "1.5.0",
            "_model_name": "ProgressStyleModel",
            "_view_count": null,
            "_view_module": "@jupyter-widgets/base",
            "_view_module_version": "1.2.0",
            "_view_name": "StyleView",
            "bar_color": null,
            "description_width": ""
          }
        },
        "b1613a7aa1214c418426eb29549f9374": {
          "model_module": "@jupyter-widgets/base",
          "model_name": "LayoutModel",
          "model_module_version": "1.2.0",
          "state": {
            "_model_module": "@jupyter-widgets/base",
            "_model_module_version": "1.2.0",
            "_model_name": "LayoutModel",
            "_view_count": null,
            "_view_module": "@jupyter-widgets/base",
            "_view_module_version": "1.2.0",
            "_view_name": "LayoutView",
            "align_content": null,
            "align_items": null,
            "align_self": null,
            "border": null,
            "bottom": null,
            "display": null,
            "flex": null,
            "flex_flow": null,
            "grid_area": null,
            "grid_auto_columns": null,
            "grid_auto_flow": null,
            "grid_auto_rows": null,
            "grid_column": null,
            "grid_gap": null,
            "grid_row": null,
            "grid_template_areas": null,
            "grid_template_columns": null,
            "grid_template_rows": null,
            "height": null,
            "justify_content": null,
            "justify_items": null,
            "left": null,
            "margin": null,
            "max_height": null,
            "max_width": null,
            "min_height": null,
            "min_width": null,
            "object_fit": null,
            "object_position": null,
            "order": null,
            "overflow": null,
            "overflow_x": null,
            "overflow_y": null,
            "padding": null,
            "right": null,
            "top": null,
            "visibility": null,
            "width": null
          }
        },
        "737d5da6c47245c0864eb45628a586f2": {
          "model_module": "@jupyter-widgets/controls",
          "model_name": "DescriptionStyleModel",
          "model_module_version": "1.5.0",
          "state": {
            "_model_module": "@jupyter-widgets/controls",
            "_model_module_version": "1.5.0",
            "_model_name": "DescriptionStyleModel",
            "_view_count": null,
            "_view_module": "@jupyter-widgets/base",
            "_view_module_version": "1.2.0",
            "_view_name": "StyleView",
            "description_width": ""
          }
        },
        "2a46066b7b6845a0a5bcb8c95c96f9ce": {
          "model_module": "@jupyter-widgets/controls",
          "model_name": "HBoxModel",
          "model_module_version": "1.5.0",
          "state": {
            "_dom_classes": [],
            "_model_module": "@jupyter-widgets/controls",
            "_model_module_version": "1.5.0",
            "_model_name": "HBoxModel",
            "_view_count": null,
            "_view_module": "@jupyter-widgets/controls",
            "_view_module_version": "1.5.0",
            "_view_name": "HBoxView",
            "box_style": "",
            "children": [
              "IPY_MODEL_2939599cbe394611bc4fd0211fdeea16",
              "IPY_MODEL_d98076670cb54febaea99c03c588c045",
              "IPY_MODEL_dec99e0aa67245a7a6bded599fca4620"
            ],
            "layout": "IPY_MODEL_3a24fedfbef5443a821df229e33ffe29"
          }
        },
        "2939599cbe394611bc4fd0211fdeea16": {
          "model_module": "@jupyter-widgets/controls",
          "model_name": "HTMLModel",
          "model_module_version": "1.5.0",
          "state": {
            "_dom_classes": [],
            "_model_module": "@jupyter-widgets/controls",
            "_model_module_version": "1.5.0",
            "_model_name": "HTMLModel",
            "_view_count": null,
            "_view_module": "@jupyter-widgets/controls",
            "_view_module_version": "1.5.0",
            "_view_name": "HTMLView",
            "description": "",
            "description_tooltip": null,
            "layout": "IPY_MODEL_e0634c3f727944b896b66037aa99b400",
            "placeholder": "​",
            "style": "IPY_MODEL_329482e137534c55aee7c0de9758b550",
            "value": "Iteration: 100%"
          }
        },
        "d98076670cb54febaea99c03c588c045": {
          "model_module": "@jupyter-widgets/controls",
          "model_name": "FloatProgressModel",
          "model_module_version": "1.5.0",
          "state": {
            "_dom_classes": [],
            "_model_module": "@jupyter-widgets/controls",
            "_model_module_version": "1.5.0",
            "_model_name": "FloatProgressModel",
            "_view_count": null,
            "_view_module": "@jupyter-widgets/controls",
            "_view_module_version": "1.5.0",
            "_view_name": "ProgressView",
            "bar_style": "success",
            "description": "",
            "description_tooltip": null,
            "layout": "IPY_MODEL_b3038ed3374e4e71a7d0eaa535ccc744",
            "max": 1592,
            "min": 0,
            "orientation": "horizontal",
            "style": "IPY_MODEL_820547767f214733ab0dbf881cb8534a",
            "value": 1592
          }
        },
        "dec99e0aa67245a7a6bded599fca4620": {
          "model_module": "@jupyter-widgets/controls",
          "model_name": "HTMLModel",
          "model_module_version": "1.5.0",
          "state": {
            "_dom_classes": [],
            "_model_module": "@jupyter-widgets/controls",
            "_model_module_version": "1.5.0",
            "_model_name": "HTMLModel",
            "_view_count": null,
            "_view_module": "@jupyter-widgets/controls",
            "_view_module_version": "1.5.0",
            "_view_name": "HTMLView",
            "description": "",
            "description_tooltip": null,
            "layout": "IPY_MODEL_5f40cd536488445591bb3a699f8ee16f",
            "placeholder": "​",
            "style": "IPY_MODEL_855b3733bd43402197f9e9f8834e656d",
            "value": " 1592/1592 [13:14&lt;00:00,  2.09it/s]"
          }
        },
        "3a24fedfbef5443a821df229e33ffe29": {
          "model_module": "@jupyter-widgets/base",
          "model_name": "LayoutModel",
          "model_module_version": "1.2.0",
          "state": {
            "_model_module": "@jupyter-widgets/base",
            "_model_module_version": "1.2.0",
            "_model_name": "LayoutModel",
            "_view_count": null,
            "_view_module": "@jupyter-widgets/base",
            "_view_module_version": "1.2.0",
            "_view_name": "LayoutView",
            "align_content": null,
            "align_items": null,
            "align_self": null,
            "border": null,
            "bottom": null,
            "display": null,
            "flex": null,
            "flex_flow": null,
            "grid_area": null,
            "grid_auto_columns": null,
            "grid_auto_flow": null,
            "grid_auto_rows": null,
            "grid_column": null,
            "grid_gap": null,
            "grid_row": null,
            "grid_template_areas": null,
            "grid_template_columns": null,
            "grid_template_rows": null,
            "height": null,
            "justify_content": null,
            "justify_items": null,
            "left": null,
            "margin": null,
            "max_height": null,
            "max_width": null,
            "min_height": null,
            "min_width": null,
            "object_fit": null,
            "object_position": null,
            "order": null,
            "overflow": null,
            "overflow_x": null,
            "overflow_y": null,
            "padding": null,
            "right": null,
            "top": null,
            "visibility": null,
            "width": null
          }
        },
        "e0634c3f727944b896b66037aa99b400": {
          "model_module": "@jupyter-widgets/base",
          "model_name": "LayoutModel",
          "model_module_version": "1.2.0",
          "state": {
            "_model_module": "@jupyter-widgets/base",
            "_model_module_version": "1.2.0",
            "_model_name": "LayoutModel",
            "_view_count": null,
            "_view_module": "@jupyter-widgets/base",
            "_view_module_version": "1.2.0",
            "_view_name": "LayoutView",
            "align_content": null,
            "align_items": null,
            "align_self": null,
            "border": null,
            "bottom": null,
            "display": null,
            "flex": null,
            "flex_flow": null,
            "grid_area": null,
            "grid_auto_columns": null,
            "grid_auto_flow": null,
            "grid_auto_rows": null,
            "grid_column": null,
            "grid_gap": null,
            "grid_row": null,
            "grid_template_areas": null,
            "grid_template_columns": null,
            "grid_template_rows": null,
            "height": null,
            "justify_content": null,
            "justify_items": null,
            "left": null,
            "margin": null,
            "max_height": null,
            "max_width": null,
            "min_height": null,
            "min_width": null,
            "object_fit": null,
            "object_position": null,
            "order": null,
            "overflow": null,
            "overflow_x": null,
            "overflow_y": null,
            "padding": null,
            "right": null,
            "top": null,
            "visibility": null,
            "width": null
          }
        },
        "329482e137534c55aee7c0de9758b550": {
          "model_module": "@jupyter-widgets/controls",
          "model_name": "DescriptionStyleModel",
          "model_module_version": "1.5.0",
          "state": {
            "_model_module": "@jupyter-widgets/controls",
            "_model_module_version": "1.5.0",
            "_model_name": "DescriptionStyleModel",
            "_view_count": null,
            "_view_module": "@jupyter-widgets/base",
            "_view_module_version": "1.2.0",
            "_view_name": "StyleView",
            "description_width": ""
          }
        },
        "b3038ed3374e4e71a7d0eaa535ccc744": {
          "model_module": "@jupyter-widgets/base",
          "model_name": "LayoutModel",
          "model_module_version": "1.2.0",
          "state": {
            "_model_module": "@jupyter-widgets/base",
            "_model_module_version": "1.2.0",
            "_model_name": "LayoutModel",
            "_view_count": null,
            "_view_module": "@jupyter-widgets/base",
            "_view_module_version": "1.2.0",
            "_view_name": "LayoutView",
            "align_content": null,
            "align_items": null,
            "align_self": null,
            "border": null,
            "bottom": null,
            "display": null,
            "flex": null,
            "flex_flow": null,
            "grid_area": null,
            "grid_auto_columns": null,
            "grid_auto_flow": null,
            "grid_auto_rows": null,
            "grid_column": null,
            "grid_gap": null,
            "grid_row": null,
            "grid_template_areas": null,
            "grid_template_columns": null,
            "grid_template_rows": null,
            "height": null,
            "justify_content": null,
            "justify_items": null,
            "left": null,
            "margin": null,
            "max_height": null,
            "max_width": null,
            "min_height": null,
            "min_width": null,
            "object_fit": null,
            "object_position": null,
            "order": null,
            "overflow": null,
            "overflow_x": null,
            "overflow_y": null,
            "padding": null,
            "right": null,
            "top": null,
            "visibility": null,
            "width": null
          }
        },
        "820547767f214733ab0dbf881cb8534a": {
          "model_module": "@jupyter-widgets/controls",
          "model_name": "ProgressStyleModel",
          "model_module_version": "1.5.0",
          "state": {
            "_model_module": "@jupyter-widgets/controls",
            "_model_module_version": "1.5.0",
            "_model_name": "ProgressStyleModel",
            "_view_count": null,
            "_view_module": "@jupyter-widgets/base",
            "_view_module_version": "1.2.0",
            "_view_name": "StyleView",
            "bar_color": null,
            "description_width": ""
          }
        },
        "5f40cd536488445591bb3a699f8ee16f": {
          "model_module": "@jupyter-widgets/base",
          "model_name": "LayoutModel",
          "model_module_version": "1.2.0",
          "state": {
            "_model_module": "@jupyter-widgets/base",
            "_model_module_version": "1.2.0",
            "_model_name": "LayoutModel",
            "_view_count": null,
            "_view_module": "@jupyter-widgets/base",
            "_view_module_version": "1.2.0",
            "_view_name": "LayoutView",
            "align_content": null,
            "align_items": null,
            "align_self": null,
            "border": null,
            "bottom": null,
            "display": null,
            "flex": null,
            "flex_flow": null,
            "grid_area": null,
            "grid_auto_columns": null,
            "grid_auto_flow": null,
            "grid_auto_rows": null,
            "grid_column": null,
            "grid_gap": null,
            "grid_row": null,
            "grid_template_areas": null,
            "grid_template_columns": null,
            "grid_template_rows": null,
            "height": null,
            "justify_content": null,
            "justify_items": null,
            "left": null,
            "margin": null,
            "max_height": null,
            "max_width": null,
            "min_height": null,
            "min_width": null,
            "object_fit": null,
            "object_position": null,
            "order": null,
            "overflow": null,
            "overflow_x": null,
            "overflow_y": null,
            "padding": null,
            "right": null,
            "top": null,
            "visibility": null,
            "width": null
          }
        },
        "855b3733bd43402197f9e9f8834e656d": {
          "model_module": "@jupyter-widgets/controls",
          "model_name": "DescriptionStyleModel",
          "model_module_version": "1.5.0",
          "state": {
            "_model_module": "@jupyter-widgets/controls",
            "_model_module_version": "1.5.0",
            "_model_name": "DescriptionStyleModel",
            "_view_count": null,
            "_view_module": "@jupyter-widgets/base",
            "_view_module_version": "1.2.0",
            "_view_name": "StyleView",
            "description_width": ""
          }
        },
        "4c5ef0fe317c40da87b139c9e4ced480": {
          "model_module": "@jupyter-widgets/controls",
          "model_name": "HBoxModel",
          "model_module_version": "1.5.0",
          "state": {
            "_dom_classes": [],
            "_model_module": "@jupyter-widgets/controls",
            "_model_module_version": "1.5.0",
            "_model_name": "HBoxModel",
            "_view_count": null,
            "_view_module": "@jupyter-widgets/controls",
            "_view_module_version": "1.5.0",
            "_view_name": "HBoxView",
            "box_style": "",
            "children": [
              "IPY_MODEL_b42372834e244c618cf36844b5c6caf6",
              "IPY_MODEL_149a9bc674c84b70b024fb8b05a7c176",
              "IPY_MODEL_44213649af36403e94216da11a48e5be"
            ],
            "layout": "IPY_MODEL_dc53fe69cdb2451985f92810f31f9a46"
          }
        },
        "b42372834e244c618cf36844b5c6caf6": {
          "model_module": "@jupyter-widgets/controls",
          "model_name": "HTMLModel",
          "model_module_version": "1.5.0",
          "state": {
            "_dom_classes": [],
            "_model_module": "@jupyter-widgets/controls",
            "_model_module_version": "1.5.0",
            "_model_name": "HTMLModel",
            "_view_count": null,
            "_view_module": "@jupyter-widgets/controls",
            "_view_module_version": "1.5.0",
            "_view_name": "HTMLView",
            "description": "",
            "description_tooltip": null,
            "layout": "IPY_MODEL_138fb2196f5e4a5ea5fbe1bf2dca59f5",
            "placeholder": "​",
            "style": "IPY_MODEL_0ae888aad88548a2b17559b3982a6b87",
            "value": "Batches: 100%"
          }
        },
        "149a9bc674c84b70b024fb8b05a7c176": {
          "model_module": "@jupyter-widgets/controls",
          "model_name": "FloatProgressModel",
          "model_module_version": "1.5.0",
          "state": {
            "_dom_classes": [],
            "_model_module": "@jupyter-widgets/controls",
            "_model_module_version": "1.5.0",
            "_model_name": "FloatProgressModel",
            "_view_count": null,
            "_view_module": "@jupyter-widgets/controls",
            "_view_module_version": "1.5.0",
            "_view_name": "ProgressView",
            "bar_style": "success",
            "description": "",
            "description_tooltip": null,
            "layout": "IPY_MODEL_4b0a629940c34f4b82bfe3be022b1906",
            "max": 11,
            "min": 0,
            "orientation": "horizontal",
            "style": "IPY_MODEL_7686bbddc1ce45c795537fe611818984",
            "value": 11
          }
        },
        "44213649af36403e94216da11a48e5be": {
          "model_module": "@jupyter-widgets/controls",
          "model_name": "HTMLModel",
          "model_module_version": "1.5.0",
          "state": {
            "_dom_classes": [],
            "_model_module": "@jupyter-widgets/controls",
            "_model_module_version": "1.5.0",
            "_model_name": "HTMLModel",
            "_view_count": null,
            "_view_module": "@jupyter-widgets/controls",
            "_view_module_version": "1.5.0",
            "_view_name": "HTMLView",
            "description": "",
            "description_tooltip": null,
            "layout": "IPY_MODEL_c1cac36c64c84ad4b0428f5e13a48c62",
            "placeholder": "​",
            "style": "IPY_MODEL_08eb86b7de9b42fe944a5b242c9a9fdf",
            "value": " 11/11 [00:00&lt;00:00, 19.71it/s]"
          }
        },
        "dc53fe69cdb2451985f92810f31f9a46": {
          "model_module": "@jupyter-widgets/base",
          "model_name": "LayoutModel",
          "model_module_version": "1.2.0",
          "state": {
            "_model_module": "@jupyter-widgets/base",
            "_model_module_version": "1.2.0",
            "_model_name": "LayoutModel",
            "_view_count": null,
            "_view_module": "@jupyter-widgets/base",
            "_view_module_version": "1.2.0",
            "_view_name": "LayoutView",
            "align_content": null,
            "align_items": null,
            "align_self": null,
            "border": null,
            "bottom": null,
            "display": null,
            "flex": null,
            "flex_flow": null,
            "grid_area": null,
            "grid_auto_columns": null,
            "grid_auto_flow": null,
            "grid_auto_rows": null,
            "grid_column": null,
            "grid_gap": null,
            "grid_row": null,
            "grid_template_areas": null,
            "grid_template_columns": null,
            "grid_template_rows": null,
            "height": null,
            "justify_content": null,
            "justify_items": null,
            "left": null,
            "margin": null,
            "max_height": null,
            "max_width": null,
            "min_height": null,
            "min_width": null,
            "object_fit": null,
            "object_position": null,
            "order": null,
            "overflow": null,
            "overflow_x": null,
            "overflow_y": null,
            "padding": null,
            "right": null,
            "top": null,
            "visibility": null,
            "width": null
          }
        },
        "138fb2196f5e4a5ea5fbe1bf2dca59f5": {
          "model_module": "@jupyter-widgets/base",
          "model_name": "LayoutModel",
          "model_module_version": "1.2.0",
          "state": {
            "_model_module": "@jupyter-widgets/base",
            "_model_module_version": "1.2.0",
            "_model_name": "LayoutModel",
            "_view_count": null,
            "_view_module": "@jupyter-widgets/base",
            "_view_module_version": "1.2.0",
            "_view_name": "LayoutView",
            "align_content": null,
            "align_items": null,
            "align_self": null,
            "border": null,
            "bottom": null,
            "display": null,
            "flex": null,
            "flex_flow": null,
            "grid_area": null,
            "grid_auto_columns": null,
            "grid_auto_flow": null,
            "grid_auto_rows": null,
            "grid_column": null,
            "grid_gap": null,
            "grid_row": null,
            "grid_template_areas": null,
            "grid_template_columns": null,
            "grid_template_rows": null,
            "height": null,
            "justify_content": null,
            "justify_items": null,
            "left": null,
            "margin": null,
            "max_height": null,
            "max_width": null,
            "min_height": null,
            "min_width": null,
            "object_fit": null,
            "object_position": null,
            "order": null,
            "overflow": null,
            "overflow_x": null,
            "overflow_y": null,
            "padding": null,
            "right": null,
            "top": null,
            "visibility": null,
            "width": null
          }
        },
        "0ae888aad88548a2b17559b3982a6b87": {
          "model_module": "@jupyter-widgets/controls",
          "model_name": "DescriptionStyleModel",
          "model_module_version": "1.5.0",
          "state": {
            "_model_module": "@jupyter-widgets/controls",
            "_model_module_version": "1.5.0",
            "_model_name": "DescriptionStyleModel",
            "_view_count": null,
            "_view_module": "@jupyter-widgets/base",
            "_view_module_version": "1.2.0",
            "_view_name": "StyleView",
            "description_width": ""
          }
        },
        "4b0a629940c34f4b82bfe3be022b1906": {
          "model_module": "@jupyter-widgets/base",
          "model_name": "LayoutModel",
          "model_module_version": "1.2.0",
          "state": {
            "_model_module": "@jupyter-widgets/base",
            "_model_module_version": "1.2.0",
            "_model_name": "LayoutModel",
            "_view_count": null,
            "_view_module": "@jupyter-widgets/base",
            "_view_module_version": "1.2.0",
            "_view_name": "LayoutView",
            "align_content": null,
            "align_items": null,
            "align_self": null,
            "border": null,
            "bottom": null,
            "display": null,
            "flex": null,
            "flex_flow": null,
            "grid_area": null,
            "grid_auto_columns": null,
            "grid_auto_flow": null,
            "grid_auto_rows": null,
            "grid_column": null,
            "grid_gap": null,
            "grid_row": null,
            "grid_template_areas": null,
            "grid_template_columns": null,
            "grid_template_rows": null,
            "height": null,
            "justify_content": null,
            "justify_items": null,
            "left": null,
            "margin": null,
            "max_height": null,
            "max_width": null,
            "min_height": null,
            "min_width": null,
            "object_fit": null,
            "object_position": null,
            "order": null,
            "overflow": null,
            "overflow_x": null,
            "overflow_y": null,
            "padding": null,
            "right": null,
            "top": null,
            "visibility": null,
            "width": null
          }
        },
        "7686bbddc1ce45c795537fe611818984": {
          "model_module": "@jupyter-widgets/controls",
          "model_name": "ProgressStyleModel",
          "model_module_version": "1.5.0",
          "state": {
            "_model_module": "@jupyter-widgets/controls",
            "_model_module_version": "1.5.0",
            "_model_name": "ProgressStyleModel",
            "_view_count": null,
            "_view_module": "@jupyter-widgets/base",
            "_view_module_version": "1.2.0",
            "_view_name": "StyleView",
            "bar_color": null,
            "description_width": ""
          }
        },
        "c1cac36c64c84ad4b0428f5e13a48c62": {
          "model_module": "@jupyter-widgets/base",
          "model_name": "LayoutModel",
          "model_module_version": "1.2.0",
          "state": {
            "_model_module": "@jupyter-widgets/base",
            "_model_module_version": "1.2.0",
            "_model_name": "LayoutModel",
            "_view_count": null,
            "_view_module": "@jupyter-widgets/base",
            "_view_module_version": "1.2.0",
            "_view_name": "LayoutView",
            "align_content": null,
            "align_items": null,
            "align_self": null,
            "border": null,
            "bottom": null,
            "display": null,
            "flex": null,
            "flex_flow": null,
            "grid_area": null,
            "grid_auto_columns": null,
            "grid_auto_flow": null,
            "grid_auto_rows": null,
            "grid_column": null,
            "grid_gap": null,
            "grid_row": null,
            "grid_template_areas": null,
            "grid_template_columns": null,
            "grid_template_rows": null,
            "height": null,
            "justify_content": null,
            "justify_items": null,
            "left": null,
            "margin": null,
            "max_height": null,
            "max_width": null,
            "min_height": null,
            "min_width": null,
            "object_fit": null,
            "object_position": null,
            "order": null,
            "overflow": null,
            "overflow_x": null,
            "overflow_y": null,
            "padding": null,
            "right": null,
            "top": null,
            "visibility": null,
            "width": null
          }
        },
        "08eb86b7de9b42fe944a5b242c9a9fdf": {
          "model_module": "@jupyter-widgets/controls",
          "model_name": "DescriptionStyleModel",
          "model_module_version": "1.5.0",
          "state": {
            "_model_module": "@jupyter-widgets/controls",
            "_model_module_version": "1.5.0",
            "_model_name": "DescriptionStyleModel",
            "_view_count": null,
            "_view_module": "@jupyter-widgets/base",
            "_view_module_version": "1.2.0",
            "_view_name": "StyleView",
            "description_width": ""
          }
        }
      }
    },
    "accelerator": "GPU",
    "gpuClass": "standard"
  },
  "cells": [
    {
      "cell_type": "markdown",
      "source": [
        "# **Text Mining Project - Sentence Transformer for Information Retrieval on Medical documents**\n",
        "\n",
        "*Author: Francesca Boccardi, francesca.boccardi@studio.unibo.it*"
      ],
      "metadata": {
        "id": "OVutwkhdsBhL"
      }
    },
    {
      "cell_type": "markdown",
      "source": [
        "Given the large volume of clinical documents that medical professionals have to manage on a daily basis, there is an increasing need for Information Retrieval (IR) systems that enable an automatic and efficient access to medical information from big corpora of medical texts.\n",
        "\n",
        "The peculiar and technical terminology used in Medicine requires the employment of domain-specific IR tools. Also, the widespread accessibility of medical information on Internet widens the users landscape, including both experts and non-experts people. Then, an effective IR tool must take into account the varying language skills of users, which may result in a lexical gap between user queries and medical information.\n",
        "\n",
        "In this perspective, this project aims to address an IR task on the [NFCorpus](https://www.cl.uni-heidelberg.de/statnlpgroup/nfcorpus/), which contains natural language queries (written in non-technical English) and medical documents (written in a complex terminology-heavy language).\n",
        "\n",
        "In particular, queries and documents embeddings are obtained by using a Sentence Transformer, properly trained on the NFCorpus with metric learning techniques. Then, embeddings are used for performing, given a certain query, k-NN search on documents.\n",
        "\n"
      ],
      "metadata": {
        "id": "6p9Vpnq8kGwQ"
      }
    },
    {
      "cell_type": "markdown",
      "source": [
        "# Import"
      ],
      "metadata": {
        "id": "dG3bWjBXsSXa"
      }
    },
    {
      "cell_type": "code",
      "source": [
        "%%capture\n",
        "! pip install sentence-transformers\n",
        "! pip install datasets\n",
        "! pip install pytorch-metric-learning\n",
        "! pip install faiss-gpu\n",
        "! pip install umap-learn"
      ],
      "metadata": {
        "id": "fY8QoDfSvYRD"
      },
      "execution_count": null,
      "outputs": []
    },
    {
      "cell_type": "code",
      "source": [
        "import random\n",
        "import os\n",
        "import re\n",
        "import pandas as pd\n",
        "import numpy as np\n",
        "from math import log2\n",
        "\n",
        "import torch\n",
        "from torch.utils.data import DataLoader\n",
        "\n",
        "from sklearn.model_selection import GroupShuffleSplit\n",
        "\n",
        "import nltk\n",
        "from nltk.corpus import stopwords\n",
        "\n",
        "from datasets import Dataset\n",
        "\n",
        "from sentence_transformers import InputExample, SentenceTransformer, models, losses, evaluation, util, datasets\n",
        "from sentence_transformers.losses.TripletLoss import TripletDistanceMetric\n",
        "from sentence_transformers.util import cos_sim\n",
        "\n",
        "import umap\n",
        "import matplotlib.pyplot as plt\n",
        "from cycler import cycler\n",
        "\n",
        "import faiss\n",
        "from faiss import index_factory\n",
        "\n",
        "from google.colab import drive"
      ],
      "metadata": {
        "id": "hIRvLngBur9s"
      },
      "execution_count": null,
      "outputs": []
    },
    {
      "cell_type": "code",
      "source": [
        "def set_reproducibility(seed):\n",
        "\n",
        "  random.seed(seed)\n",
        "  np.random.seed(seed)\n",
        "  torch.manual_seed(seed)\n",
        "  torch.cuda.manual_seed(seed)\n",
        "  torch.backends.cudnn.deterministic = True\n",
        "  torch.backends.cudnn.benchmark = False\n",
        "  os.environ['TF_DETERMINISTIC_OPS'] = '1'\n",
        "  os.environ[\"PYTHONHASHSEED\"] = str(seed)\n",
        "\n",
        "set_reproducibility(42)"
      ],
      "metadata": {
        "id": "XE0Mi7WQZbpI"
      },
      "execution_count": null,
      "outputs": []
    },
    {
      "cell_type": "code",
      "source": [
        "#drive.mount('/content/drive')"
      ],
      "metadata": {
        "id": "G0GC7HEZxyc3"
      },
      "execution_count": null,
      "outputs": []
    },
    {
      "cell_type": "markdown",
      "source": [
        "# Dataset download and inspection"
      ],
      "metadata": {
        "id": "hJrLPu7tu0DY"
      }
    },
    {
      "cell_type": "code",
      "source": [
        "# Download the dataset\n",
        "\n",
        "%%capture\n",
        "!wget https://www.cl.uni-heidelberg.de/statnlpgroup/nfcorpus/nfcorpus.tar.gz\n",
        "!tar --gunzip --extract --verbose --file=nfcorpus.tar.gz"
      ],
      "metadata": {
        "id": "xN3YQtekvjYV"
      },
      "execution_count": null,
      "outputs": []
    },
    {
      "cell_type": "markdown",
      "source": [
        "First, let's extract the documents dataset."
      ],
      "metadata": {
        "id": "BYaNpFCRADmN"
      }
    },
    {
      "cell_type": "code",
      "source": [
        "######################## Docs df ##########################\n",
        "\n",
        "docs = pd.read_csv('nfcorpus/raw/doc_dump.txt', sep=\"\\t\", header=None)\n",
        "docs.columns = [\"DOC_ID\", \"URL\", \"TITLE\", \"ABSTRACT\"]\n",
        "docs"
      ],
      "metadata": {
        "id": "fAIj3ddjAHfj",
        "colab": {
          "base_uri": "https://localhost:8080/",
          "height": 849
        },
        "outputId": "97515b5e-8f9c-40b2-fdac-6b134294ae52"
      },
      "execution_count": null,
      "outputs": [
        {
          "output_type": "execute_result",
          "data": {
            "text/plain": [
              "        DOC_ID                                          URL  \\\n",
              "0        MED-1  http://www.ncbi.nlm.nih.gov/pubmed/23092936   \n",
              "1        MED-2  http://www.ncbi.nlm.nih.gov/pubmed/22809476   \n",
              "2        MED-3  http://www.ncbi.nlm.nih.gov/pubmed/19158207   \n",
              "3        MED-4  http://www.ncbi.nlm.nih.gov/pubmed/23651876   \n",
              "4        MED-5  http://www.ncbi.nlm.nih.gov/pubmed/16332665   \n",
              "...        ...                                          ...   \n",
              "5366  MED-5367  http://www.ncbi.nlm.nih.gov/pubmed/21929378   \n",
              "5367  MED-5368  http://www.ncbi.nlm.nih.gov/pubmed/24812159   \n",
              "5368  MED-5369  http://www.ncbi.nlm.nih.gov/pubmed/12803408   \n",
              "5369  MED-5370  http://www.ncbi.nlm.nih.gov/pubmed/17717628   \n",
              "5370  MED-5371  http://www.ncbi.nlm.nih.gov/pubmed/21931319   \n",
              "\n",
              "                                                  TITLE  \\\n",
              "0     Birth Weight, Head Circumference, and Prenatal...   \n",
              "1     A statistical regression model for the estimat...   \n",
              "2     Chronic intake of potato chips in humans incre...   \n",
              "3     Dietary patterns and breast cancer risk among ...   \n",
              "4     Empirically derived dietary patterns and risk ...   \n",
              "...                                                 ...   \n",
              "5366  The relationship between plasma carotenoids an...   \n",
              "5367  Suicide Mortality in Relation to Dietary Intak...   \n",
              "5368  Suicide mortality in the European Union. - Pub...   \n",
              "5369  Long chain omega-3 fatty acids intake, fish co...   \n",
              "5370  Omega-3 Fatty Acids for the Treatment of Depre...   \n",
              "\n",
              "                                               ABSTRACT  \n",
              "0     Abstract Background: Acrylamide is a common di...  \n",
              "1     Abstract Human exposure to acrylamide (AA) thr...  \n",
              "2     Abstract BACKGROUND: Relatively high concentra...  \n",
              "3     Abstract OBJECTIVE: Breast cancer is the most ...  \n",
              "4     Abstract BACKGROUND: Inconsistent associations...  \n",
              "...                                                 ...  \n",
              "5366  Abstract Objective We examined the cross-secti...  \n",
              "5367  Abstract Intake of n-3 and n-6 polyunsaturated...  \n",
              "5368  Abstract BACKGROUND: There are an estimated on...  \n",
              "5369  Abstract BACKGROUND: Very long chain omega-3 f...  \n",
              "5370  Abstract We conducted a meta-analysis of rando...  \n",
              "\n",
              "[5371 rows x 4 columns]"
            ],
            "text/html": [
              "\n",
              "  <div id=\"df-e6a400bd-8359-4543-97d5-a3203209718a\">\n",
              "    <div class=\"colab-df-container\">\n",
              "      <div>\n",
              "<style scoped>\n",
              "    .dataframe tbody tr th:only-of-type {\n",
              "        vertical-align: middle;\n",
              "    }\n",
              "\n",
              "    .dataframe tbody tr th {\n",
              "        vertical-align: top;\n",
              "    }\n",
              "\n",
              "    .dataframe thead th {\n",
              "        text-align: right;\n",
              "    }\n",
              "</style>\n",
              "<table border=\"1\" class=\"dataframe\">\n",
              "  <thead>\n",
              "    <tr style=\"text-align: right;\">\n",
              "      <th></th>\n",
              "      <th>DOC_ID</th>\n",
              "      <th>URL</th>\n",
              "      <th>TITLE</th>\n",
              "      <th>ABSTRACT</th>\n",
              "    </tr>\n",
              "  </thead>\n",
              "  <tbody>\n",
              "    <tr>\n",
              "      <th>0</th>\n",
              "      <td>MED-1</td>\n",
              "      <td>http://www.ncbi.nlm.nih.gov/pubmed/23092936</td>\n",
              "      <td>Birth Weight, Head Circumference, and Prenatal...</td>\n",
              "      <td>Abstract Background: Acrylamide is a common di...</td>\n",
              "    </tr>\n",
              "    <tr>\n",
              "      <th>1</th>\n",
              "      <td>MED-2</td>\n",
              "      <td>http://www.ncbi.nlm.nih.gov/pubmed/22809476</td>\n",
              "      <td>A statistical regression model for the estimat...</td>\n",
              "      <td>Abstract Human exposure to acrylamide (AA) thr...</td>\n",
              "    </tr>\n",
              "    <tr>\n",
              "      <th>2</th>\n",
              "      <td>MED-3</td>\n",
              "      <td>http://www.ncbi.nlm.nih.gov/pubmed/19158207</td>\n",
              "      <td>Chronic intake of potato chips in humans incre...</td>\n",
              "      <td>Abstract BACKGROUND: Relatively high concentra...</td>\n",
              "    </tr>\n",
              "    <tr>\n",
              "      <th>3</th>\n",
              "      <td>MED-4</td>\n",
              "      <td>http://www.ncbi.nlm.nih.gov/pubmed/23651876</td>\n",
              "      <td>Dietary patterns and breast cancer risk among ...</td>\n",
              "      <td>Abstract OBJECTIVE: Breast cancer is the most ...</td>\n",
              "    </tr>\n",
              "    <tr>\n",
              "      <th>4</th>\n",
              "      <td>MED-5</td>\n",
              "      <td>http://www.ncbi.nlm.nih.gov/pubmed/16332665</td>\n",
              "      <td>Empirically derived dietary patterns and risk ...</td>\n",
              "      <td>Abstract BACKGROUND: Inconsistent associations...</td>\n",
              "    </tr>\n",
              "    <tr>\n",
              "      <th>...</th>\n",
              "      <td>...</td>\n",
              "      <td>...</td>\n",
              "      <td>...</td>\n",
              "      <td>...</td>\n",
              "    </tr>\n",
              "    <tr>\n",
              "      <th>5366</th>\n",
              "      <td>MED-5367</td>\n",
              "      <td>http://www.ncbi.nlm.nih.gov/pubmed/21929378</td>\n",
              "      <td>The relationship between plasma carotenoids an...</td>\n",
              "      <td>Abstract Objective We examined the cross-secti...</td>\n",
              "    </tr>\n",
              "    <tr>\n",
              "      <th>5367</th>\n",
              "      <td>MED-5368</td>\n",
              "      <td>http://www.ncbi.nlm.nih.gov/pubmed/24812159</td>\n",
              "      <td>Suicide Mortality in Relation to Dietary Intak...</td>\n",
              "      <td>Abstract Intake of n-3 and n-6 polyunsaturated...</td>\n",
              "    </tr>\n",
              "    <tr>\n",
              "      <th>5368</th>\n",
              "      <td>MED-5369</td>\n",
              "      <td>http://www.ncbi.nlm.nih.gov/pubmed/12803408</td>\n",
              "      <td>Suicide mortality in the European Union. - Pub...</td>\n",
              "      <td>Abstract BACKGROUND: There are an estimated on...</td>\n",
              "    </tr>\n",
              "    <tr>\n",
              "      <th>5369</th>\n",
              "      <td>MED-5370</td>\n",
              "      <td>http://www.ncbi.nlm.nih.gov/pubmed/17717628</td>\n",
              "      <td>Long chain omega-3 fatty acids intake, fish co...</td>\n",
              "      <td>Abstract BACKGROUND: Very long chain omega-3 f...</td>\n",
              "    </tr>\n",
              "    <tr>\n",
              "      <th>5370</th>\n",
              "      <td>MED-5371</td>\n",
              "      <td>http://www.ncbi.nlm.nih.gov/pubmed/21931319</td>\n",
              "      <td>Omega-3 Fatty Acids for the Treatment of Depre...</td>\n",
              "      <td>Abstract We conducted a meta-analysis of rando...</td>\n",
              "    </tr>\n",
              "  </tbody>\n",
              "</table>\n",
              "<p>5371 rows × 4 columns</p>\n",
              "</div>\n",
              "      <button class=\"colab-df-convert\" onclick=\"convertToInteractive('df-e6a400bd-8359-4543-97d5-a3203209718a')\"\n",
              "              title=\"Convert this dataframe to an interactive table.\"\n",
              "              style=\"display:none;\">\n",
              "        \n",
              "  <svg xmlns=\"http://www.w3.org/2000/svg\" height=\"24px\"viewBox=\"0 0 24 24\"\n",
              "       width=\"24px\">\n",
              "    <path d=\"M0 0h24v24H0V0z\" fill=\"none\"/>\n",
              "    <path d=\"M18.56 5.44l.94 2.06.94-2.06 2.06-.94-2.06-.94-.94-2.06-.94 2.06-2.06.94zm-11 1L8.5 8.5l.94-2.06 2.06-.94-2.06-.94L8.5 2.5l-.94 2.06-2.06.94zm10 10l.94 2.06.94-2.06 2.06-.94-2.06-.94-.94-2.06-.94 2.06-2.06.94z\"/><path d=\"M17.41 7.96l-1.37-1.37c-.4-.4-.92-.59-1.43-.59-.52 0-1.04.2-1.43.59L10.3 9.45l-7.72 7.72c-.78.78-.78 2.05 0 2.83L4 21.41c.39.39.9.59 1.41.59.51 0 1.02-.2 1.41-.59l7.78-7.78 2.81-2.81c.8-.78.8-2.07 0-2.86zM5.41 20L4 18.59l7.72-7.72 1.47 1.35L5.41 20z\"/>\n",
              "  </svg>\n",
              "      </button>\n",
              "      \n",
              "  <style>\n",
              "    .colab-df-container {\n",
              "      display:flex;\n",
              "      flex-wrap:wrap;\n",
              "      gap: 12px;\n",
              "    }\n",
              "\n",
              "    .colab-df-convert {\n",
              "      background-color: #E8F0FE;\n",
              "      border: none;\n",
              "      border-radius: 50%;\n",
              "      cursor: pointer;\n",
              "      display: none;\n",
              "      fill: #1967D2;\n",
              "      height: 32px;\n",
              "      padding: 0 0 0 0;\n",
              "      width: 32px;\n",
              "    }\n",
              "\n",
              "    .colab-df-convert:hover {\n",
              "      background-color: #E2EBFA;\n",
              "      box-shadow: 0px 1px 2px rgba(60, 64, 67, 0.3), 0px 1px 3px 1px rgba(60, 64, 67, 0.15);\n",
              "      fill: #174EA6;\n",
              "    }\n",
              "\n",
              "    [theme=dark] .colab-df-convert {\n",
              "      background-color: #3B4455;\n",
              "      fill: #D2E3FC;\n",
              "    }\n",
              "\n",
              "    [theme=dark] .colab-df-convert:hover {\n",
              "      background-color: #434B5C;\n",
              "      box-shadow: 0px 1px 3px 1px rgba(0, 0, 0, 0.15);\n",
              "      filter: drop-shadow(0px 1px 2px rgba(0, 0, 0, 0.3));\n",
              "      fill: #FFFFFF;\n",
              "    }\n",
              "  </style>\n",
              "\n",
              "      <script>\n",
              "        const buttonEl =\n",
              "          document.querySelector('#df-e6a400bd-8359-4543-97d5-a3203209718a button.colab-df-convert');\n",
              "        buttonEl.style.display =\n",
              "          google.colab.kernel.accessAllowed ? 'block' : 'none';\n",
              "\n",
              "        async function convertToInteractive(key) {\n",
              "          const element = document.querySelector('#df-e6a400bd-8359-4543-97d5-a3203209718a');\n",
              "          const dataTable =\n",
              "            await google.colab.kernel.invokeFunction('convertToInteractive',\n",
              "                                                     [key], {});\n",
              "          if (!dataTable) return;\n",
              "\n",
              "          const docLinkHtml = 'Like what you see? Visit the ' +\n",
              "            '<a target=\"_blank\" href=https://colab.research.google.com/notebooks/data_table.ipynb>data table notebook</a>'\n",
              "            + ' to learn more about interactive tables.';\n",
              "          element.innerHTML = '';\n",
              "          dataTable['output_type'] = 'display_data';\n",
              "          await google.colab.output.renderOutput(dataTable, element);\n",
              "          const docLink = document.createElement('div');\n",
              "          docLink.innerHTML = docLinkHtml;\n",
              "          element.appendChild(docLink);\n",
              "        }\n",
              "      </script>\n",
              "    </div>\n",
              "  </div>\n",
              "  "
            ]
          },
          "metadata": {},
          "execution_count": 6
        }
      ]
    },
    {
      "cell_type": "code",
      "source": [
        "print('Total number of documents:', len(docs['DOC_ID'].unique()))\n",
        "print('Number of unique documents:', len(docs['URL'].unique()))"
      ],
      "metadata": {
        "colab": {
          "base_uri": "https://localhost:8080/"
        },
        "id": "-rPNtIOil5Qp",
        "outputId": "5c714a64-2b7f-406f-8932-6d3baebea688"
      },
      "execution_count": null,
      "outputs": [
        {
          "output_type": "stream",
          "name": "stdout",
          "text": [
            "Total number of documents: 5371\n",
            "Number of unique documents: 3633\n"
          ]
        }
      ]
    },
    {
      "cell_type": "code",
      "source": [
        "# Abstract length\n",
        "\n",
        "max_abs_length = int(max([len(d.split(\" \")) for d in docs['ABSTRACT'].values.tolist()]))\n",
        "print('Max length of documents abstract:', max_abs_length)\n",
        "\n",
        "mean_abs_length = int(np.mean([len(d.split(\" \")) for d in docs['ABSTRACT'].values.tolist()]))\n",
        "print('Medium length of documents abstract:', mean_abs_length)\n",
        "\n",
        "median_abs_length = int(np.median([len(d.split(\" \")) for d in docs['ABSTRACT'].values.tolist()]))\n",
        "print('Median length of documents abstract:', median_abs_length)"
      ],
      "metadata": {
        "colab": {
          "base_uri": "https://localhost:8080/"
        },
        "id": "p_Xx9-QoHI5G",
        "outputId": "e16e93f7-28f9-4a89-f942-f9507b515f83"
      },
      "execution_count": null,
      "outputs": [
        {
          "output_type": "stream",
          "name": "stdout",
          "text": [
            "Max length of documents abstract: 1461\n",
            "Medium length of documents abstract: 223\n",
            "Median length of documents abstract: 228\n"
          ]
        }
      ]
    },
    {
      "cell_type": "markdown",
      "source": [
        "Then, let's extract the queries dataset."
      ],
      "metadata": {
        "id": "PnpppHnhANL1"
      }
    },
    {
      "cell_type": "code",
      "source": [
        "########### Queries df ###################\n",
        "\n",
        "queries_raw = pd.read_csv('nfcorpus/raw/nfdump.txt', sep=\"\\t\", header=None)\n",
        "queries_raw.columns = ['ID', 'URL', 'TITLE', 'MAINTEXT', 'COMMENTS', 'TOPICS_TAGS', 'DESCRIPTION', 'DOCTORS_NOTE', 'ARTICLE_LINKS', 'QUESTION_LINKS', 'TOPIC_LINKS', 'VIDEO_LINKS', 'MEDARTICLE_LINKS']\n",
        "queries_raw"
      ],
      "metadata": {
        "colab": {
          "base_uri": "https://localhost:8080/",
          "height": 1000
        },
        "id": "cO_LL5xqIalt",
        "outputId": "fa0f0144-aac4-4c6c-b8c6-f5d9b0826661"
      },
      "execution_count": null,
      "outputs": [
        {
          "output_type": "execute_result",
          "data": {
            "text/plain": [
              "              ID                                                URL  \\\n",
              "0        PLAIN-1  http://nutritionfacts.org/2015/07/21/why-deep-...   \n",
              "1        PLAIN-2  http://nutritionfacts.org/2015/07/16/do-choles...   \n",
              "2        PLAIN-3  http://nutritionfacts.org/2015/07/14/breast-ca...   \n",
              "3        PLAIN-4  http://nutritionfacts.org/2015/07/09/using-die...   \n",
              "4        PLAIN-5  http://nutritionfacts.org/2015/07/07/treating-...   \n",
              "...          ...                                                ...   \n",
              "3432  PLAIN-3470  http://nutritionfacts.org/video/more-than-an-a...   \n",
              "3433  PLAIN-3471  http://nutritionfacts.org/video/uprooting-the-...   \n",
              "3434  PLAIN-3472  http://nutritionfacts.org/video/how-doctors-re...   \n",
              "3435  PLAIN-3473  http://nutritionfacts.org/video/does-rye-bread...   \n",
              "3436  PLAIN-3474  http://nutritionfacts.org/video/fish-consumpti...   \n",
              "\n",
              "                                                  TITLE  \\\n",
              "0                 Why Deep Fried Foods May Cause Cancer   \n",
              "1      Do Cholesterol Statin Drugs Cause Breast Cancer?   \n",
              "2               Breast Cancer Cells Feed on Cholesterol   \n",
              "3                 Using Diet to Treat Asthma and Eczema   \n",
              "4                 Treating Asthma With Plants vs. Pills   \n",
              "...                                                 ...   \n",
              "3432  More Than an Apple a Day: Combating Common Dis...   \n",
              "3433              Uprooting the Leading Causes of Death   \n",
              "3434  How Doctors Responded to Being Named a Leading...   \n",
              "3435             Does Rye Bread Protect Against Cancer?   \n",
              "3436                       Fish Consumption and Suicide   \n",
              "\n",
              "                                               MAINTEXT  \\\n",
              "0     In the latest study on dietary patterns and br...   \n",
              "1     What does breast cancer have to do with choles...   \n",
              "2     One in eight American women will be diagnosed ...   \n",
              "3     I previously discussed the power of fruits and...   \n",
              "4     In my video Treating Asthma With Fruits and Ve...   \n",
              "...                                                 ...   \n",
              "3432  For those of you unfamiliar with my work, ever...   \n",
              "3433  For those of you unfamiliar with my work, ever...   \n",
              "3434  Previously, I profiled a paper that added up a...   \n",
              "3435  Previously I’ve explored the beneficial effect...   \n",
              "3436  Depression is a serious and common mental diso...   \n",
              "\n",
              "                                               COMMENTS  \\\n",
              "0     Even before the oil gets in the fryer, it’s be...   \n",
              "1     Off topic, but what does the science say about...   \n",
              "2     When I eat fresh stalks of celery my mouth goe...   \n",
              "3     I am confused about coconut fat. Is it the pro...   \n",
              "4     Maybe the asthma trick is in what not to eat. ...   \n",
              "...                                                 ...   \n",
              "3432  Fantastic presentation Dr. Greger! I enjoy you...   \n",
              "3433  Today’s video-of-the-day is a NutritionFacts.o...   \n",
              "3434  it will be good to control the drugs levels an...   \n",
              "3435  Great as always. Thanks Dr. G. Do pre-ground f...   \n",
              "3436  apart from the amathing WFPD would you recomme...   \n",
              "\n",
              "                                            TOPICS_TAGS  \\\n",
              "0     acrylamide,beans,breast cancer,cabbage,cancer,...   \n",
              "1     breast cancer,cancer,cancer survival,cardiovas...   \n",
              "2     body fat,breast cancer,breast cancer survival,...   \n",
              "3     asthma,blood pressure,caloric restriction,canc...   \n",
              "4     allergies,antioxidants,apples,asthma,beans,ber...   \n",
              "...                                                 ...   \n",
              "3432  abdominal fat,ADHD,aging,alternative medicine,...   \n",
              "3433  acaí berries,adolescence,Adventist Health Stud...   \n",
              "3434  alcohol,aspirin,cardiovascular disease,cardiov...   \n",
              "3435  adolescence,alcohol,berries,bread,breast cance...   \n",
              "3436  alcohol,Alzheimer’s disease,animal fat,animal ...   \n",
              "\n",
              "                                            DESCRIPTION  \\\n",
              "0                                                     -   \n",
              "1                                                     -   \n",
              "2                                                     -   \n",
              "3                                                     -   \n",
              "4                                                     -   \n",
              "...                                                 ...   \n",
              "3432  Dr. Greger has scoured the world's scholarly l...   \n",
              "3433  Death in America is largely a foodborne illnes...   \n",
              "3434  What was the medical community’s reaction to b...   \n",
              "3435  The lignans in rye could explain why rye intak...   \n",
              "3436  The mercury content in fish may help explain l...   \n",
              "\n",
              "                                           DOCTORS_NOTE  \\\n",
              "0                                                     -   \n",
              "1                                                     -   \n",
              "2                                                     -   \n",
              "3                                                     -   \n",
              "4                                                     -   \n",
              "...                                                 ...   \n",
              "3432  In my annual nutrition review last year, Uproo...   \n",
              "3433  Today's video-of-the-day is a NutritionFacts.o...   \n",
              "3434  The third leading cause of death? Make sure yo...   \n",
              "3435  What was that about milk and prostate cancer? ...   \n",
              "3436  This reminds me of my video Is Fish Oil Just S...   \n",
              "\n",
              "                                          ARTICLE_LINKS QUESTION_LINKS  \\\n",
              "0                                                     -              -   \n",
              "1                                                     -              -   \n",
              "2                                                     -              -   \n",
              "3                                                     -              -   \n",
              "4                                                     -              -   \n",
              "...                                                 ...            ...   \n",
              "3432                                                  -              -   \n",
              "3433  http://nutritionfacts.org/2012/07/09/uprooting...              -   \n",
              "3434                                                  -              -   \n",
              "3435                                                  -              -   \n",
              "3436                                                  -              -   \n",
              "\n",
              "                                            TOPIC_LINKS  \\\n",
              "0     http://nutritionfacts.org/topics/organic-foods...   \n",
              "1     http://nutritionfacts.org/topics/organic-foods...   \n",
              "2     http://nutritionfacts.org/topics/organic-foods...   \n",
              "3     http://nutritionfacts.org/topics/organic-foods...   \n",
              "4     http://nutritionfacts.org/topics/organic-foods...   \n",
              "...                                                 ...   \n",
              "3432  http://nutritionfacts.org/topics/immune-functi...   \n",
              "3433  http://nutritionfacts.org/topics/immune-functi...   \n",
              "3434  http://nutritionfacts.org/topics/medical-ethic...   \n",
              "3435  http://nutritionfacts.org/topics/bread/,http:/...   \n",
              "3436  http://nutritionfacts.org/topics/animal-fat/,h...   \n",
              "\n",
              "                                            VIDEO_LINKS  \\\n",
              "0     http://nutritionfacts.org/video/meat-fumes-die...   \n",
              "1     http://nutritionfacts.org/video/statin-cholest...   \n",
              "2     http://nutritionfacts.org/video/flaxseeds-brea...   \n",
              "3     http://nutritionfacts.org/video/uprooting-the-...   \n",
              "4     http://nutritionfacts.org/video/alkylphenol-en...   \n",
              "...                                                 ...   \n",
              "3432  http://nutritionfacts.org/video/uprooting-the-...   \n",
              "3433                                                  -   \n",
              "3434  http://nutritionfacts.org/video/cancer-risk-fr...   \n",
              "3435  http://nutritionfacts.org/video/flaxseed-vs-di...   \n",
              "3436  http://nutritionfacts.org/video/fighting-the-b...   \n",
              "\n",
              "                                       MEDARTICLE_LINKS  \n",
              "0     http://www.ncbi.nlm.nih.gov/pubmed/23092936,ht...  \n",
              "1     http://www.ncbi.nlm.nih.gov/pubmed/16565487,ht...  \n",
              "2     http://www.ncbi.nlm.nih.gov/pubmed/3081176,htt...  \n",
              "3     http://www.ncbi.nlm.nih.gov/pubmed/11840688,ht...  \n",
              "4     http://www.ncbi.nlm.nih.gov/pubmed/21623967,ht...  \n",
              "...                                                 ...  \n",
              "3432                                                  -  \n",
              "3433  http://www.ncbi.nlm.nih.gov/pubmed/19641302,ht...  \n",
              "3434  http://www.ncbi.nlm.nih.gov/pubmed/6474229,htt...  \n",
              "3435  http://www.ncbi.nlm.nih.gov/pubmed/12749346,ht...  \n",
              "3436  http://www.ncbi.nlm.nih.gov/pubmed/23174689,ht...  \n",
              "\n",
              "[3437 rows x 13 columns]"
            ],
            "text/html": [
              "\n",
              "  <div id=\"df-0a334cab-5009-41a9-8101-47a93465d0ce\">\n",
              "    <div class=\"colab-df-container\">\n",
              "      <div>\n",
              "<style scoped>\n",
              "    .dataframe tbody tr th:only-of-type {\n",
              "        vertical-align: middle;\n",
              "    }\n",
              "\n",
              "    .dataframe tbody tr th {\n",
              "        vertical-align: top;\n",
              "    }\n",
              "\n",
              "    .dataframe thead th {\n",
              "        text-align: right;\n",
              "    }\n",
              "</style>\n",
              "<table border=\"1\" class=\"dataframe\">\n",
              "  <thead>\n",
              "    <tr style=\"text-align: right;\">\n",
              "      <th></th>\n",
              "      <th>ID</th>\n",
              "      <th>URL</th>\n",
              "      <th>TITLE</th>\n",
              "      <th>MAINTEXT</th>\n",
              "      <th>COMMENTS</th>\n",
              "      <th>TOPICS_TAGS</th>\n",
              "      <th>DESCRIPTION</th>\n",
              "      <th>DOCTORS_NOTE</th>\n",
              "      <th>ARTICLE_LINKS</th>\n",
              "      <th>QUESTION_LINKS</th>\n",
              "      <th>TOPIC_LINKS</th>\n",
              "      <th>VIDEO_LINKS</th>\n",
              "      <th>MEDARTICLE_LINKS</th>\n",
              "    </tr>\n",
              "  </thead>\n",
              "  <tbody>\n",
              "    <tr>\n",
              "      <th>0</th>\n",
              "      <td>PLAIN-1</td>\n",
              "      <td>http://nutritionfacts.org/2015/07/21/why-deep-...</td>\n",
              "      <td>Why Deep Fried Foods May Cause Cancer</td>\n",
              "      <td>In the latest study on dietary patterns and br...</td>\n",
              "      <td>Even before the oil gets in the fryer, it’s be...</td>\n",
              "      <td>acrylamide,beans,breast cancer,cabbage,cancer,...</td>\n",
              "      <td>-</td>\n",
              "      <td>-</td>\n",
              "      <td>-</td>\n",
              "      <td>-</td>\n",
              "      <td>http://nutritionfacts.org/topics/organic-foods...</td>\n",
              "      <td>http://nutritionfacts.org/video/meat-fumes-die...</td>\n",
              "      <td>http://www.ncbi.nlm.nih.gov/pubmed/23092936,ht...</td>\n",
              "    </tr>\n",
              "    <tr>\n",
              "      <th>1</th>\n",
              "      <td>PLAIN-2</td>\n",
              "      <td>http://nutritionfacts.org/2015/07/16/do-choles...</td>\n",
              "      <td>Do Cholesterol Statin Drugs Cause Breast Cancer?</td>\n",
              "      <td>What does breast cancer have to do with choles...</td>\n",
              "      <td>Off topic, but what does the science say about...</td>\n",
              "      <td>breast cancer,cancer,cancer survival,cardiovas...</td>\n",
              "      <td>-</td>\n",
              "      <td>-</td>\n",
              "      <td>-</td>\n",
              "      <td>-</td>\n",
              "      <td>http://nutritionfacts.org/topics/organic-foods...</td>\n",
              "      <td>http://nutritionfacts.org/video/statin-cholest...</td>\n",
              "      <td>http://www.ncbi.nlm.nih.gov/pubmed/16565487,ht...</td>\n",
              "    </tr>\n",
              "    <tr>\n",
              "      <th>2</th>\n",
              "      <td>PLAIN-3</td>\n",
              "      <td>http://nutritionfacts.org/2015/07/14/breast-ca...</td>\n",
              "      <td>Breast Cancer Cells Feed on Cholesterol</td>\n",
              "      <td>One in eight American women will be diagnosed ...</td>\n",
              "      <td>When I eat fresh stalks of celery my mouth goe...</td>\n",
              "      <td>body fat,breast cancer,breast cancer survival,...</td>\n",
              "      <td>-</td>\n",
              "      <td>-</td>\n",
              "      <td>-</td>\n",
              "      <td>-</td>\n",
              "      <td>http://nutritionfacts.org/topics/organic-foods...</td>\n",
              "      <td>http://nutritionfacts.org/video/flaxseeds-brea...</td>\n",
              "      <td>http://www.ncbi.nlm.nih.gov/pubmed/3081176,htt...</td>\n",
              "    </tr>\n",
              "    <tr>\n",
              "      <th>3</th>\n",
              "      <td>PLAIN-4</td>\n",
              "      <td>http://nutritionfacts.org/2015/07/09/using-die...</td>\n",
              "      <td>Using Diet to Treat Asthma and Eczema</td>\n",
              "      <td>I previously discussed the power of fruits and...</td>\n",
              "      <td>I am confused about coconut fat. Is it the pro...</td>\n",
              "      <td>asthma,blood pressure,caloric restriction,canc...</td>\n",
              "      <td>-</td>\n",
              "      <td>-</td>\n",
              "      <td>-</td>\n",
              "      <td>-</td>\n",
              "      <td>http://nutritionfacts.org/topics/organic-foods...</td>\n",
              "      <td>http://nutritionfacts.org/video/uprooting-the-...</td>\n",
              "      <td>http://www.ncbi.nlm.nih.gov/pubmed/11840688,ht...</td>\n",
              "    </tr>\n",
              "    <tr>\n",
              "      <th>4</th>\n",
              "      <td>PLAIN-5</td>\n",
              "      <td>http://nutritionfacts.org/2015/07/07/treating-...</td>\n",
              "      <td>Treating Asthma With Plants vs. Pills</td>\n",
              "      <td>In my video Treating Asthma With Fruits and Ve...</td>\n",
              "      <td>Maybe the asthma trick is in what not to eat. ...</td>\n",
              "      <td>allergies,antioxidants,apples,asthma,beans,ber...</td>\n",
              "      <td>-</td>\n",
              "      <td>-</td>\n",
              "      <td>-</td>\n",
              "      <td>-</td>\n",
              "      <td>http://nutritionfacts.org/topics/organic-foods...</td>\n",
              "      <td>http://nutritionfacts.org/video/alkylphenol-en...</td>\n",
              "      <td>http://www.ncbi.nlm.nih.gov/pubmed/21623967,ht...</td>\n",
              "    </tr>\n",
              "    <tr>\n",
              "      <th>...</th>\n",
              "      <td>...</td>\n",
              "      <td>...</td>\n",
              "      <td>...</td>\n",
              "      <td>...</td>\n",
              "      <td>...</td>\n",
              "      <td>...</td>\n",
              "      <td>...</td>\n",
              "      <td>...</td>\n",
              "      <td>...</td>\n",
              "      <td>...</td>\n",
              "      <td>...</td>\n",
              "      <td>...</td>\n",
              "      <td>...</td>\n",
              "    </tr>\n",
              "    <tr>\n",
              "      <th>3432</th>\n",
              "      <td>PLAIN-3470</td>\n",
              "      <td>http://nutritionfacts.org/video/more-than-an-a...</td>\n",
              "      <td>More Than an Apple a Day: Combating Common Dis...</td>\n",
              "      <td>For those of you unfamiliar with my work, ever...</td>\n",
              "      <td>Fantastic presentation Dr. Greger! I enjoy you...</td>\n",
              "      <td>abdominal fat,ADHD,aging,alternative medicine,...</td>\n",
              "      <td>Dr. Greger has scoured the world's scholarly l...</td>\n",
              "      <td>In my annual nutrition review last year, Uproo...</td>\n",
              "      <td>-</td>\n",
              "      <td>-</td>\n",
              "      <td>http://nutritionfacts.org/topics/immune-functi...</td>\n",
              "      <td>http://nutritionfacts.org/video/uprooting-the-...</td>\n",
              "      <td>-</td>\n",
              "    </tr>\n",
              "    <tr>\n",
              "      <th>3433</th>\n",
              "      <td>PLAIN-3471</td>\n",
              "      <td>http://nutritionfacts.org/video/uprooting-the-...</td>\n",
              "      <td>Uprooting the Leading Causes of Death</td>\n",
              "      <td>For those of you unfamiliar with my work, ever...</td>\n",
              "      <td>Today’s video-of-the-day is a NutritionFacts.o...</td>\n",
              "      <td>acaí berries,adolescence,Adventist Health Stud...</td>\n",
              "      <td>Death in America is largely a foodborne illnes...</td>\n",
              "      <td>Today's video-of-the-day is a NutritionFacts.o...</td>\n",
              "      <td>http://nutritionfacts.org/2012/07/09/uprooting...</td>\n",
              "      <td>-</td>\n",
              "      <td>http://nutritionfacts.org/topics/immune-functi...</td>\n",
              "      <td>-</td>\n",
              "      <td>http://www.ncbi.nlm.nih.gov/pubmed/19641302,ht...</td>\n",
              "    </tr>\n",
              "    <tr>\n",
              "      <th>3434</th>\n",
              "      <td>PLAIN-3472</td>\n",
              "      <td>http://nutritionfacts.org/video/how-doctors-re...</td>\n",
              "      <td>How Doctors Responded to Being Named a Leading...</td>\n",
              "      <td>Previously, I profiled a paper that added up a...</td>\n",
              "      <td>it will be good to control the drugs levels an...</td>\n",
              "      <td>alcohol,aspirin,cardiovascular disease,cardiov...</td>\n",
              "      <td>What was the medical community’s reaction to b...</td>\n",
              "      <td>The third leading cause of death? Make sure yo...</td>\n",
              "      <td>-</td>\n",
              "      <td>-</td>\n",
              "      <td>http://nutritionfacts.org/topics/medical-ethic...</td>\n",
              "      <td>http://nutritionfacts.org/video/cancer-risk-fr...</td>\n",
              "      <td>http://www.ncbi.nlm.nih.gov/pubmed/6474229,htt...</td>\n",
              "    </tr>\n",
              "    <tr>\n",
              "      <th>3435</th>\n",
              "      <td>PLAIN-3473</td>\n",
              "      <td>http://nutritionfacts.org/video/does-rye-bread...</td>\n",
              "      <td>Does Rye Bread Protect Against Cancer?</td>\n",
              "      <td>Previously I’ve explored the beneficial effect...</td>\n",
              "      <td>Great as always. Thanks Dr. G. Do pre-ground f...</td>\n",
              "      <td>adolescence,alcohol,berries,bread,breast cance...</td>\n",
              "      <td>The lignans in rye could explain why rye intak...</td>\n",
              "      <td>What was that about milk and prostate cancer? ...</td>\n",
              "      <td>-</td>\n",
              "      <td>-</td>\n",
              "      <td>http://nutritionfacts.org/topics/bread/,http:/...</td>\n",
              "      <td>http://nutritionfacts.org/video/flaxseed-vs-di...</td>\n",
              "      <td>http://www.ncbi.nlm.nih.gov/pubmed/12749346,ht...</td>\n",
              "    </tr>\n",
              "    <tr>\n",
              "      <th>3436</th>\n",
              "      <td>PLAIN-3474</td>\n",
              "      <td>http://nutritionfacts.org/video/fish-consumpti...</td>\n",
              "      <td>Fish Consumption and Suicide</td>\n",
              "      <td>Depression is a serious and common mental diso...</td>\n",
              "      <td>apart from the amathing WFPD would you recomme...</td>\n",
              "      <td>alcohol,Alzheimer’s disease,animal fat,animal ...</td>\n",
              "      <td>The mercury content in fish may help explain l...</td>\n",
              "      <td>This reminds me of my video Is Fish Oil Just S...</td>\n",
              "      <td>-</td>\n",
              "      <td>-</td>\n",
              "      <td>http://nutritionfacts.org/topics/animal-fat/,h...</td>\n",
              "      <td>http://nutritionfacts.org/video/fighting-the-b...</td>\n",
              "      <td>http://www.ncbi.nlm.nih.gov/pubmed/23174689,ht...</td>\n",
              "    </tr>\n",
              "  </tbody>\n",
              "</table>\n",
              "<p>3437 rows × 13 columns</p>\n",
              "</div>\n",
              "      <button class=\"colab-df-convert\" onclick=\"convertToInteractive('df-0a334cab-5009-41a9-8101-47a93465d0ce')\"\n",
              "              title=\"Convert this dataframe to an interactive table.\"\n",
              "              style=\"display:none;\">\n",
              "        \n",
              "  <svg xmlns=\"http://www.w3.org/2000/svg\" height=\"24px\"viewBox=\"0 0 24 24\"\n",
              "       width=\"24px\">\n",
              "    <path d=\"M0 0h24v24H0V0z\" fill=\"none\"/>\n",
              "    <path d=\"M18.56 5.44l.94 2.06.94-2.06 2.06-.94-2.06-.94-.94-2.06-.94 2.06-2.06.94zm-11 1L8.5 8.5l.94-2.06 2.06-.94-2.06-.94L8.5 2.5l-.94 2.06-2.06.94zm10 10l.94 2.06.94-2.06 2.06-.94-2.06-.94-.94-2.06-.94 2.06-2.06.94z\"/><path d=\"M17.41 7.96l-1.37-1.37c-.4-.4-.92-.59-1.43-.59-.52 0-1.04.2-1.43.59L10.3 9.45l-7.72 7.72c-.78.78-.78 2.05 0 2.83L4 21.41c.39.39.9.59 1.41.59.51 0 1.02-.2 1.41-.59l7.78-7.78 2.81-2.81c.8-.78.8-2.07 0-2.86zM5.41 20L4 18.59l7.72-7.72 1.47 1.35L5.41 20z\"/>\n",
              "  </svg>\n",
              "      </button>\n",
              "      \n",
              "  <style>\n",
              "    .colab-df-container {\n",
              "      display:flex;\n",
              "      flex-wrap:wrap;\n",
              "      gap: 12px;\n",
              "    }\n",
              "\n",
              "    .colab-df-convert {\n",
              "      background-color: #E8F0FE;\n",
              "      border: none;\n",
              "      border-radius: 50%;\n",
              "      cursor: pointer;\n",
              "      display: none;\n",
              "      fill: #1967D2;\n",
              "      height: 32px;\n",
              "      padding: 0 0 0 0;\n",
              "      width: 32px;\n",
              "    }\n",
              "\n",
              "    .colab-df-convert:hover {\n",
              "      background-color: #E2EBFA;\n",
              "      box-shadow: 0px 1px 2px rgba(60, 64, 67, 0.3), 0px 1px 3px 1px rgba(60, 64, 67, 0.15);\n",
              "      fill: #174EA6;\n",
              "    }\n",
              "\n",
              "    [theme=dark] .colab-df-convert {\n",
              "      background-color: #3B4455;\n",
              "      fill: #D2E3FC;\n",
              "    }\n",
              "\n",
              "    [theme=dark] .colab-df-convert:hover {\n",
              "      background-color: #434B5C;\n",
              "      box-shadow: 0px 1px 3px 1px rgba(0, 0, 0, 0.15);\n",
              "      filter: drop-shadow(0px 1px 2px rgba(0, 0, 0, 0.3));\n",
              "      fill: #FFFFFF;\n",
              "    }\n",
              "  </style>\n",
              "\n",
              "      <script>\n",
              "        const buttonEl =\n",
              "          document.querySelector('#df-0a334cab-5009-41a9-8101-47a93465d0ce button.colab-df-convert');\n",
              "        buttonEl.style.display =\n",
              "          google.colab.kernel.accessAllowed ? 'block' : 'none';\n",
              "\n",
              "        async function convertToInteractive(key) {\n",
              "          const element = document.querySelector('#df-0a334cab-5009-41a9-8101-47a93465d0ce');\n",
              "          const dataTable =\n",
              "            await google.colab.kernel.invokeFunction('convertToInteractive',\n",
              "                                                     [key], {});\n",
              "          if (!dataTable) return;\n",
              "\n",
              "          const docLinkHtml = 'Like what you see? Visit the ' +\n",
              "            '<a target=\"_blank\" href=https://colab.research.google.com/notebooks/data_table.ipynb>data table notebook</a>'\n",
              "            + ' to learn more about interactive tables.';\n",
              "          element.innerHTML = '';\n",
              "          dataTable['output_type'] = 'display_data';\n",
              "          await google.colab.output.renderOutput(dataTable, element);\n",
              "          const docLink = document.createElement('div');\n",
              "          docLink.innerHTML = docLinkHtml;\n",
              "          element.appendChild(docLink);\n",
              "        }\n",
              "      </script>\n",
              "    </div>\n",
              "  </div>\n",
              "  "
            ]
          },
          "metadata": {},
          "execution_count": 9
        }
      ]
    },
    {
      "cell_type": "code",
      "source": [
        "# Maintext length\n",
        "\n",
        "max_text_length = int(max([len(q.split(\" \")) for q in queries_raw['MAINTEXT'].values.tolist()]))\n",
        "print('Max length of queries main text:', max_text_length)\n",
        "\n",
        "mean_text_length = int(np.mean([len(q.split(\" \")) for q in queries_raw['MAINTEXT'].values.tolist()]))\n",
        "print('Medium length of queries main text:', mean_text_length)\n",
        "\n",
        "median_text_length = int(np.median([len(q.split(\" \")) for q in queries_raw['MAINTEXT'].values.tolist()]))\n",
        "print('Median length of queries main text:', median_text_length)"
      ],
      "metadata": {
        "colab": {
          "base_uri": "https://localhost:8080/"
        },
        "id": "h5fHXCtaIPdC",
        "outputId": "51147817-1bf1-4006-9a19-df14637b9420"
      },
      "execution_count": null,
      "outputs": [
        {
          "output_type": "stream",
          "name": "stdout",
          "text": [
            "Max length of queries main text: 10552\n",
            "Medium length of queries main text: 204\n",
            "Median length of queries main text: 40\n"
          ]
        }
      ]
    },
    {
      "cell_type": "code",
      "source": [
        "quant_8 = int(np.quantile([len(seq.split(\" \")) for seq in queries_raw['MAINTEXT'].values.tolist()], 0.8))\n",
        "print('0.8 quantile of queries main text length:', quant_8)"
      ],
      "metadata": {
        "colab": {
          "base_uri": "https://localhost:8080/"
        },
        "id": "7Wbd6puhb7d6",
        "outputId": "ddf7b1af-9f1d-4c2d-bd20-878051cbcdf1"
      },
      "execution_count": null,
      "outputs": [
        {
          "output_type": "stream",
          "name": "stdout",
          "text": [
            "0.8 quantile of queries main text length: 407\n"
          ]
        }
      ]
    },
    {
      "cell_type": "code",
      "source": [
        "# Title length\n",
        "\n",
        "max_title_length = int(max([len(q.split(\" \")) for q in queries_raw['TITLE'].values.tolist()]))\n",
        "print('Max length of queries title:', max_title_length)\n",
        "\n",
        "mean_title_length = int(np.mean([len(q.split(\" \")) for q in queries_raw['TITLE'].values.tolist()]))\n",
        "print('Medium length of queries title:', mean_title_length)\n",
        "\n",
        "median_title_length = int(np.median([len(q.split(\" \")) for q in queries_raw['TITLE'].values.tolist()]))\n",
        "print('Median length of queries title:', median_title_length)"
      ],
      "metadata": {
        "colab": {
          "base_uri": "https://localhost:8080/"
        },
        "id": "kZ7u74qPJwu4",
        "outputId": "ffbae289-ec5a-4d2b-c89e-17f9209a77b4"
      },
      "execution_count": null,
      "outputs": [
        {
          "output_type": "stream",
          "name": "stdout",
          "text": [
            "Max length of queries title: 18\n",
            "Medium length of queries title: 3\n",
            "Median length of queries title: 2\n"
          ]
        }
      ]
    },
    {
      "cell_type": "markdown",
      "source": [
        "It may be noted that the main query texts are rather long. Therefore, for computational reasons, it was decided to consider the concatenation of only the title and main text as query texts, without considering the other available fields."
      ],
      "metadata": {
        "id": "g-FfXfpvASo1"
      }
    },
    {
      "cell_type": "code",
      "source": [
        "# Creating the text of queries as a concatenation of title + main text\n",
        "\n",
        "queries = queries_raw[queries_raw['MAINTEXT']!='-'] # filtering out queries without main text\n",
        "queries = queries.rename(columns={'ID':'QUERY_ID'})\n",
        "queries['TEXT'] = queries['TITLE'] + queries['MAINTEXT']\n",
        "queries = queries.drop(['URL', 'TITLE', 'MAINTEXT', 'COMMENTS', 'TOPICS_TAGS', 'DESCRIPTION', 'DOCTORS_NOTE', 'ARTICLE_LINKS', 'QUESTION_LINKS', 'TOPIC_LINKS', 'VIDEO_LINKS', 'MEDARTICLE_LINKS'], axis=1)\n",
        "queries"
      ],
      "metadata": {
        "colab": {
          "base_uri": "https://localhost:8080/",
          "height": 423
        },
        "id": "LOwk7WqCbNww",
        "outputId": "f3695a16-f633-42ef-8bb8-b4ab5f56602c"
      },
      "execution_count": null,
      "outputs": [
        {
          "output_type": "execute_result",
          "data": {
            "text/plain": [
              "        QUERY_ID                                               TEXT\n",
              "0        PLAIN-1  Why Deep Fried Foods May Cause CancerIn the la...\n",
              "1        PLAIN-2  Do Cholesterol Statin Drugs Cause Breast Cance...\n",
              "2        PLAIN-3  Breast Cancer Cells Feed on CholesterolOne in ...\n",
              "3        PLAIN-4  Using Diet to Treat Asthma and EczemaI previou...\n",
              "4        PLAIN-5  Treating Asthma With Plants vs. PillsIn my vid...\n",
              "...          ...                                                ...\n",
              "3432  PLAIN-3470  More Than an Apple a Day: Combating Common Dis...\n",
              "3433  PLAIN-3471  Uprooting the Leading Causes of DeathFor those...\n",
              "3434  PLAIN-3472  How Doctors Responded to Being Named a Leading...\n",
              "3435  PLAIN-3473  Does Rye Bread Protect Against Cancer?Previous...\n",
              "3436  PLAIN-3474  Fish Consumption and SuicideDepression is a se...\n",
              "\n",
              "[1738 rows x 2 columns]"
            ],
            "text/html": [
              "\n",
              "  <div id=\"df-90ec450c-293d-4998-a2d9-5ae2150e3209\">\n",
              "    <div class=\"colab-df-container\">\n",
              "      <div>\n",
              "<style scoped>\n",
              "    .dataframe tbody tr th:only-of-type {\n",
              "        vertical-align: middle;\n",
              "    }\n",
              "\n",
              "    .dataframe tbody tr th {\n",
              "        vertical-align: top;\n",
              "    }\n",
              "\n",
              "    .dataframe thead th {\n",
              "        text-align: right;\n",
              "    }\n",
              "</style>\n",
              "<table border=\"1\" class=\"dataframe\">\n",
              "  <thead>\n",
              "    <tr style=\"text-align: right;\">\n",
              "      <th></th>\n",
              "      <th>QUERY_ID</th>\n",
              "      <th>TEXT</th>\n",
              "    </tr>\n",
              "  </thead>\n",
              "  <tbody>\n",
              "    <tr>\n",
              "      <th>0</th>\n",
              "      <td>PLAIN-1</td>\n",
              "      <td>Why Deep Fried Foods May Cause CancerIn the la...</td>\n",
              "    </tr>\n",
              "    <tr>\n",
              "      <th>1</th>\n",
              "      <td>PLAIN-2</td>\n",
              "      <td>Do Cholesterol Statin Drugs Cause Breast Cance...</td>\n",
              "    </tr>\n",
              "    <tr>\n",
              "      <th>2</th>\n",
              "      <td>PLAIN-3</td>\n",
              "      <td>Breast Cancer Cells Feed on CholesterolOne in ...</td>\n",
              "    </tr>\n",
              "    <tr>\n",
              "      <th>3</th>\n",
              "      <td>PLAIN-4</td>\n",
              "      <td>Using Diet to Treat Asthma and EczemaI previou...</td>\n",
              "    </tr>\n",
              "    <tr>\n",
              "      <th>4</th>\n",
              "      <td>PLAIN-5</td>\n",
              "      <td>Treating Asthma With Plants vs. PillsIn my vid...</td>\n",
              "    </tr>\n",
              "    <tr>\n",
              "      <th>...</th>\n",
              "      <td>...</td>\n",
              "      <td>...</td>\n",
              "    </tr>\n",
              "    <tr>\n",
              "      <th>3432</th>\n",
              "      <td>PLAIN-3470</td>\n",
              "      <td>More Than an Apple a Day: Combating Common Dis...</td>\n",
              "    </tr>\n",
              "    <tr>\n",
              "      <th>3433</th>\n",
              "      <td>PLAIN-3471</td>\n",
              "      <td>Uprooting the Leading Causes of DeathFor those...</td>\n",
              "    </tr>\n",
              "    <tr>\n",
              "      <th>3434</th>\n",
              "      <td>PLAIN-3472</td>\n",
              "      <td>How Doctors Responded to Being Named a Leading...</td>\n",
              "    </tr>\n",
              "    <tr>\n",
              "      <th>3435</th>\n",
              "      <td>PLAIN-3473</td>\n",
              "      <td>Does Rye Bread Protect Against Cancer?Previous...</td>\n",
              "    </tr>\n",
              "    <tr>\n",
              "      <th>3436</th>\n",
              "      <td>PLAIN-3474</td>\n",
              "      <td>Fish Consumption and SuicideDepression is a se...</td>\n",
              "    </tr>\n",
              "  </tbody>\n",
              "</table>\n",
              "<p>1738 rows × 2 columns</p>\n",
              "</div>\n",
              "      <button class=\"colab-df-convert\" onclick=\"convertToInteractive('df-90ec450c-293d-4998-a2d9-5ae2150e3209')\"\n",
              "              title=\"Convert this dataframe to an interactive table.\"\n",
              "              style=\"display:none;\">\n",
              "        \n",
              "  <svg xmlns=\"http://www.w3.org/2000/svg\" height=\"24px\"viewBox=\"0 0 24 24\"\n",
              "       width=\"24px\">\n",
              "    <path d=\"M0 0h24v24H0V0z\" fill=\"none\"/>\n",
              "    <path d=\"M18.56 5.44l.94 2.06.94-2.06 2.06-.94-2.06-.94-.94-2.06-.94 2.06-2.06.94zm-11 1L8.5 8.5l.94-2.06 2.06-.94-2.06-.94L8.5 2.5l-.94 2.06-2.06.94zm10 10l.94 2.06.94-2.06 2.06-.94-2.06-.94-.94-2.06-.94 2.06-2.06.94z\"/><path d=\"M17.41 7.96l-1.37-1.37c-.4-.4-.92-.59-1.43-.59-.52 0-1.04.2-1.43.59L10.3 9.45l-7.72 7.72c-.78.78-.78 2.05 0 2.83L4 21.41c.39.39.9.59 1.41.59.51 0 1.02-.2 1.41-.59l7.78-7.78 2.81-2.81c.8-.78.8-2.07 0-2.86zM5.41 20L4 18.59l7.72-7.72 1.47 1.35L5.41 20z\"/>\n",
              "  </svg>\n",
              "      </button>\n",
              "      \n",
              "  <style>\n",
              "    .colab-df-container {\n",
              "      display:flex;\n",
              "      flex-wrap:wrap;\n",
              "      gap: 12px;\n",
              "    }\n",
              "\n",
              "    .colab-df-convert {\n",
              "      background-color: #E8F0FE;\n",
              "      border: none;\n",
              "      border-radius: 50%;\n",
              "      cursor: pointer;\n",
              "      display: none;\n",
              "      fill: #1967D2;\n",
              "      height: 32px;\n",
              "      padding: 0 0 0 0;\n",
              "      width: 32px;\n",
              "    }\n",
              "\n",
              "    .colab-df-convert:hover {\n",
              "      background-color: #E2EBFA;\n",
              "      box-shadow: 0px 1px 2px rgba(60, 64, 67, 0.3), 0px 1px 3px 1px rgba(60, 64, 67, 0.15);\n",
              "      fill: #174EA6;\n",
              "    }\n",
              "\n",
              "    [theme=dark] .colab-df-convert {\n",
              "      background-color: #3B4455;\n",
              "      fill: #D2E3FC;\n",
              "    }\n",
              "\n",
              "    [theme=dark] .colab-df-convert:hover {\n",
              "      background-color: #434B5C;\n",
              "      box-shadow: 0px 1px 3px 1px rgba(0, 0, 0, 0.15);\n",
              "      filter: drop-shadow(0px 1px 2px rgba(0, 0, 0, 0.3));\n",
              "      fill: #FFFFFF;\n",
              "    }\n",
              "  </style>\n",
              "\n",
              "      <script>\n",
              "        const buttonEl =\n",
              "          document.querySelector('#df-90ec450c-293d-4998-a2d9-5ae2150e3209 button.colab-df-convert');\n",
              "        buttonEl.style.display =\n",
              "          google.colab.kernel.accessAllowed ? 'block' : 'none';\n",
              "\n",
              "        async function convertToInteractive(key) {\n",
              "          const element = document.querySelector('#df-90ec450c-293d-4998-a2d9-5ae2150e3209');\n",
              "          const dataTable =\n",
              "            await google.colab.kernel.invokeFunction('convertToInteractive',\n",
              "                                                     [key], {});\n",
              "          if (!dataTable) return;\n",
              "\n",
              "          const docLinkHtml = 'Like what you see? Visit the ' +\n",
              "            '<a target=\"_blank\" href=https://colab.research.google.com/notebooks/data_table.ipynb>data table notebook</a>'\n",
              "            + ' to learn more about interactive tables.';\n",
              "          element.innerHTML = '';\n",
              "          dataTable['output_type'] = 'display_data';\n",
              "          await google.colab.output.renderOutput(dataTable, element);\n",
              "          const docLink = document.createElement('div');\n",
              "          docLink.innerHTML = docLinkHtml;\n",
              "          element.appendChild(docLink);\n",
              "        }\n",
              "      </script>\n",
              "    </div>\n",
              "  </div>\n",
              "  "
            ]
          },
          "metadata": {},
          "execution_count": 13
        }
      ]
    },
    {
      "cell_type": "markdown",
      "source": [
        "The NFCorpus also provides information about the relevance between queries and documents. In particular, `query_doc` dataframe contains *(query_id, doc_id)* positive pairs with the related relevance level, which can take the value $1$ or $2$. The relevance level of all *(query_id, doc_id)* pairs not present in the dataframe must be considered $0$, i.e. the *doc_id* is not relevant for the *query_id*."
      ],
      "metadata": {
        "id": "-z2DSDXABF-A"
      }
    },
    {
      "cell_type": "code",
      "source": [
        "########### Queries-Docs relevance df ###################\n",
        "\n",
        "query_doc_1 = pd.read_csv('nfcorpus/train.2-1-0.qrel', sep=\"\\t\", header=None)\n",
        "query_doc_2 =  pd.read_csv('nfcorpus/dev.2-1-0.qrel', sep=\"\\t\", header=None)\n",
        "query_doc_3 = pd.read_csv('nfcorpus/test.2-1-0.qrel', sep=\"\\t\", header=None)\n",
        "\n",
        "query_doc = pd.concat([query_doc_1, query_doc_2], axis=0)\n",
        "query_doc = pd.concat([query_doc, query_doc_3], axis=0)\n",
        "query_doc.columns = ['QUERY_ID', '0', 'DOC_ID', 'RELEVANCE_LEVEL']\n",
        "query_doc = query_doc.drop(['0'], axis=1)\n",
        "\n",
        "query_doc"
      ],
      "metadata": {
        "colab": {
          "base_uri": "https://localhost:8080/",
          "height": 423
        },
        "id": "pZIcu71LwIYQ",
        "outputId": "5f03e1bd-74ee-410c-a5dc-5652aadeb74d"
      },
      "execution_count": null,
      "outputs": [
        {
          "output_type": "execute_result",
          "data": {
            "text/plain": [
              "         QUERY_ID    DOC_ID  RELEVANCE_LEVEL\n",
              "0         PLAIN-3  MED-2436                2\n",
              "1         PLAIN-3  MED-2437                2\n",
              "2         PLAIN-3  MED-2438                2\n",
              "3         PLAIN-3  MED-2439                2\n",
              "4         PLAIN-3  MED-2440                2\n",
              "...           ...       ...              ...\n",
              "12329  PLAIN-3472  MED-3623                1\n",
              "12330  PLAIN-3472  MED-3624                1\n",
              "12331  PLAIN-3472  MED-3625                1\n",
              "12332  PLAIN-3472  MED-3626                1\n",
              "12333  PLAIN-3472  MED-3627                1\n",
              "\n",
              "[134294 rows x 3 columns]"
            ],
            "text/html": [
              "\n",
              "  <div id=\"df-500640ff-c699-4e61-8c7e-a28a1195b380\">\n",
              "    <div class=\"colab-df-container\">\n",
              "      <div>\n",
              "<style scoped>\n",
              "    .dataframe tbody tr th:only-of-type {\n",
              "        vertical-align: middle;\n",
              "    }\n",
              "\n",
              "    .dataframe tbody tr th {\n",
              "        vertical-align: top;\n",
              "    }\n",
              "\n",
              "    .dataframe thead th {\n",
              "        text-align: right;\n",
              "    }\n",
              "</style>\n",
              "<table border=\"1\" class=\"dataframe\">\n",
              "  <thead>\n",
              "    <tr style=\"text-align: right;\">\n",
              "      <th></th>\n",
              "      <th>QUERY_ID</th>\n",
              "      <th>DOC_ID</th>\n",
              "      <th>RELEVANCE_LEVEL</th>\n",
              "    </tr>\n",
              "  </thead>\n",
              "  <tbody>\n",
              "    <tr>\n",
              "      <th>0</th>\n",
              "      <td>PLAIN-3</td>\n",
              "      <td>MED-2436</td>\n",
              "      <td>2</td>\n",
              "    </tr>\n",
              "    <tr>\n",
              "      <th>1</th>\n",
              "      <td>PLAIN-3</td>\n",
              "      <td>MED-2437</td>\n",
              "      <td>2</td>\n",
              "    </tr>\n",
              "    <tr>\n",
              "      <th>2</th>\n",
              "      <td>PLAIN-3</td>\n",
              "      <td>MED-2438</td>\n",
              "      <td>2</td>\n",
              "    </tr>\n",
              "    <tr>\n",
              "      <th>3</th>\n",
              "      <td>PLAIN-3</td>\n",
              "      <td>MED-2439</td>\n",
              "      <td>2</td>\n",
              "    </tr>\n",
              "    <tr>\n",
              "      <th>4</th>\n",
              "      <td>PLAIN-3</td>\n",
              "      <td>MED-2440</td>\n",
              "      <td>2</td>\n",
              "    </tr>\n",
              "    <tr>\n",
              "      <th>...</th>\n",
              "      <td>...</td>\n",
              "      <td>...</td>\n",
              "      <td>...</td>\n",
              "    </tr>\n",
              "    <tr>\n",
              "      <th>12329</th>\n",
              "      <td>PLAIN-3472</td>\n",
              "      <td>MED-3623</td>\n",
              "      <td>1</td>\n",
              "    </tr>\n",
              "    <tr>\n",
              "      <th>12330</th>\n",
              "      <td>PLAIN-3472</td>\n",
              "      <td>MED-3624</td>\n",
              "      <td>1</td>\n",
              "    </tr>\n",
              "    <tr>\n",
              "      <th>12331</th>\n",
              "      <td>PLAIN-3472</td>\n",
              "      <td>MED-3625</td>\n",
              "      <td>1</td>\n",
              "    </tr>\n",
              "    <tr>\n",
              "      <th>12332</th>\n",
              "      <td>PLAIN-3472</td>\n",
              "      <td>MED-3626</td>\n",
              "      <td>1</td>\n",
              "    </tr>\n",
              "    <tr>\n",
              "      <th>12333</th>\n",
              "      <td>PLAIN-3472</td>\n",
              "      <td>MED-3627</td>\n",
              "      <td>1</td>\n",
              "    </tr>\n",
              "  </tbody>\n",
              "</table>\n",
              "<p>134294 rows × 3 columns</p>\n",
              "</div>\n",
              "      <button class=\"colab-df-convert\" onclick=\"convertToInteractive('df-500640ff-c699-4e61-8c7e-a28a1195b380')\"\n",
              "              title=\"Convert this dataframe to an interactive table.\"\n",
              "              style=\"display:none;\">\n",
              "        \n",
              "  <svg xmlns=\"http://www.w3.org/2000/svg\" height=\"24px\"viewBox=\"0 0 24 24\"\n",
              "       width=\"24px\">\n",
              "    <path d=\"M0 0h24v24H0V0z\" fill=\"none\"/>\n",
              "    <path d=\"M18.56 5.44l.94 2.06.94-2.06 2.06-.94-2.06-.94-.94-2.06-.94 2.06-2.06.94zm-11 1L8.5 8.5l.94-2.06 2.06-.94-2.06-.94L8.5 2.5l-.94 2.06-2.06.94zm10 10l.94 2.06.94-2.06 2.06-.94-2.06-.94-.94-2.06-.94 2.06-2.06.94z\"/><path d=\"M17.41 7.96l-1.37-1.37c-.4-.4-.92-.59-1.43-.59-.52 0-1.04.2-1.43.59L10.3 9.45l-7.72 7.72c-.78.78-.78 2.05 0 2.83L4 21.41c.39.39.9.59 1.41.59.51 0 1.02-.2 1.41-.59l7.78-7.78 2.81-2.81c.8-.78.8-2.07 0-2.86zM5.41 20L4 18.59l7.72-7.72 1.47 1.35L5.41 20z\"/>\n",
              "  </svg>\n",
              "      </button>\n",
              "      \n",
              "  <style>\n",
              "    .colab-df-container {\n",
              "      display:flex;\n",
              "      flex-wrap:wrap;\n",
              "      gap: 12px;\n",
              "    }\n",
              "\n",
              "    .colab-df-convert {\n",
              "      background-color: #E8F0FE;\n",
              "      border: none;\n",
              "      border-radius: 50%;\n",
              "      cursor: pointer;\n",
              "      display: none;\n",
              "      fill: #1967D2;\n",
              "      height: 32px;\n",
              "      padding: 0 0 0 0;\n",
              "      width: 32px;\n",
              "    }\n",
              "\n",
              "    .colab-df-convert:hover {\n",
              "      background-color: #E2EBFA;\n",
              "      box-shadow: 0px 1px 2px rgba(60, 64, 67, 0.3), 0px 1px 3px 1px rgba(60, 64, 67, 0.15);\n",
              "      fill: #174EA6;\n",
              "    }\n",
              "\n",
              "    [theme=dark] .colab-df-convert {\n",
              "      background-color: #3B4455;\n",
              "      fill: #D2E3FC;\n",
              "    }\n",
              "\n",
              "    [theme=dark] .colab-df-convert:hover {\n",
              "      background-color: #434B5C;\n",
              "      box-shadow: 0px 1px 3px 1px rgba(0, 0, 0, 0.15);\n",
              "      filter: drop-shadow(0px 1px 2px rgba(0, 0, 0, 0.3));\n",
              "      fill: #FFFFFF;\n",
              "    }\n",
              "  </style>\n",
              "\n",
              "      <script>\n",
              "        const buttonEl =\n",
              "          document.querySelector('#df-500640ff-c699-4e61-8c7e-a28a1195b380 button.colab-df-convert');\n",
              "        buttonEl.style.display =\n",
              "          google.colab.kernel.accessAllowed ? 'block' : 'none';\n",
              "\n",
              "        async function convertToInteractive(key) {\n",
              "          const element = document.querySelector('#df-500640ff-c699-4e61-8c7e-a28a1195b380');\n",
              "          const dataTable =\n",
              "            await google.colab.kernel.invokeFunction('convertToInteractive',\n",
              "                                                     [key], {});\n",
              "          if (!dataTable) return;\n",
              "\n",
              "          const docLinkHtml = 'Like what you see? Visit the ' +\n",
              "            '<a target=\"_blank\" href=https://colab.research.google.com/notebooks/data_table.ipynb>data table notebook</a>'\n",
              "            + ' to learn more about interactive tables.';\n",
              "          element.innerHTML = '';\n",
              "          dataTable['output_type'] = 'display_data';\n",
              "          await google.colab.output.renderOutput(dataTable, element);\n",
              "          const docLink = document.createElement('div');\n",
              "          docLink.innerHTML = docLinkHtml;\n",
              "          element.appendChild(docLink);\n",
              "        }\n",
              "      </script>\n",
              "    </div>\n",
              "  </div>\n",
              "  "
            ]
          },
          "metadata": {},
          "execution_count": 14
        }
      ]
    },
    {
      "cell_type": "code",
      "source": [
        "query_doc['RELEVANCE_LEVEL'].unique()"
      ],
      "metadata": {
        "colab": {
          "base_uri": "https://localhost:8080/"
        },
        "id": "na2VuC2ECHlR",
        "outputId": "2428084d-fe14-409e-f8c3-7c7d141fe9fc"
      },
      "execution_count": null,
      "outputs": [
        {
          "output_type": "execute_result",
          "data": {
            "text/plain": [
              "array([2, 1])"
            ]
          },
          "metadata": {},
          "execution_count": 15
        }
      ]
    },
    {
      "cell_type": "markdown",
      "source": [
        "Now let's merge all useful information in one single dataset."
      ],
      "metadata": {
        "id": "HXx0N-2vEFo6"
      }
    },
    {
      "cell_type": "code",
      "source": [
        "######## Merging docs/queries-docs/queries ##########\n",
        "\n",
        "df = query_doc.merge(docs.drop(['URL','TITLE'],axis=1), on='DOC_ID', how='inner')\n",
        "df = df.rename(columns={'ABSTRACT':'TEXT_DOC',})\n",
        "df = df.merge(queries, on='QUERY_ID')\n",
        "df = df.rename(columns={'TEXT':'TEXT_Q'})\n",
        "df"
      ],
      "metadata": {
        "colab": {
          "base_uri": "https://localhost:8080/",
          "height": 641
        },
        "id": "PgGwgjw__LES",
        "outputId": "2de167f3-0634-43c3-941e-fedd8c36c05f"
      },
      "execution_count": null,
      "outputs": [
        {
          "output_type": "execute_result",
          "data": {
            "text/plain": [
              "         QUERY_ID    DOC_ID  RELEVANCE_LEVEL  \\\n",
              "0         PLAIN-3  MED-2436                2   \n",
              "1         PLAIN-3  MED-2437                2   \n",
              "2         PLAIN-3  MED-2438                2   \n",
              "3         PLAIN-3  MED-2439                2   \n",
              "4         PLAIN-3  MED-2440                2   \n",
              "...           ...       ...              ...   \n",
              "95215  PLAIN-3285  MED-4914                2   \n",
              "95216  PLAIN-3285  MED-4915                2   \n",
              "95217   PLAIN-428   MED-924                2   \n",
              "95218   PLAIN-428   MED-925                2   \n",
              "95219   PLAIN-428   MED-926                2   \n",
              "\n",
              "                                                TEXT_DOC  \\\n",
              "0      Abstract The content of low density lipoprotei...   \n",
              "1      Abstract BACKGROUND: Breast cancer is the most...   \n",
              "2      Abstract Phytoestrogens are structurally simil...   \n",
              "3      Abstract While many factors are involved in th...   \n",
              "4      Abstract Purpose To further clarify the relati...   \n",
              "...                                                  ...   \n",
              "95215  Abstract As one of the major agricultural crop...   \n",
              "95216  Abstract A quantitative human dietary risk ass...   \n",
              "95217  Abstract Oral ingestion of baking soda (sodium...   \n",
              "95218  Abstract We present a case of a six-week-old i...   \n",
              "95219  Abstract A case of severe metabolic alkalosis ...   \n",
              "\n",
              "                                                  TEXT_Q  \n",
              "0      Breast Cancer Cells Feed on CholesterolOne in ...  \n",
              "1      Breast Cancer Cells Feed on CholesterolOne in ...  \n",
              "2      Breast Cancer Cells Feed on CholesterolOne in ...  \n",
              "3      Breast Cancer Cells Feed on CholesterolOne in ...  \n",
              "4      Breast Cancer Cells Feed on CholesterolOne in ...  \n",
              "...                                                  ...  \n",
              "95215  Toxins in Cooked Potatoes?Any other natural to...  \n",
              "95216  Toxins in Cooked Potatoes?Any other natural to...  \n",
              "95217  In making water alkaline, how much baking soda...  \n",
              "95218  In making water alkaline, how much baking soda...  \n",
              "95219  In making water alkaline, how much baking soda...  \n",
              "\n",
              "[95220 rows x 5 columns]"
            ],
            "text/html": [
              "\n",
              "  <div id=\"df-337dc775-4222-42c5-8932-d07d511a2478\">\n",
              "    <div class=\"colab-df-container\">\n",
              "      <div>\n",
              "<style scoped>\n",
              "    .dataframe tbody tr th:only-of-type {\n",
              "        vertical-align: middle;\n",
              "    }\n",
              "\n",
              "    .dataframe tbody tr th {\n",
              "        vertical-align: top;\n",
              "    }\n",
              "\n",
              "    .dataframe thead th {\n",
              "        text-align: right;\n",
              "    }\n",
              "</style>\n",
              "<table border=\"1\" class=\"dataframe\">\n",
              "  <thead>\n",
              "    <tr style=\"text-align: right;\">\n",
              "      <th></th>\n",
              "      <th>QUERY_ID</th>\n",
              "      <th>DOC_ID</th>\n",
              "      <th>RELEVANCE_LEVEL</th>\n",
              "      <th>TEXT_DOC</th>\n",
              "      <th>TEXT_Q</th>\n",
              "    </tr>\n",
              "  </thead>\n",
              "  <tbody>\n",
              "    <tr>\n",
              "      <th>0</th>\n",
              "      <td>PLAIN-3</td>\n",
              "      <td>MED-2436</td>\n",
              "      <td>2</td>\n",
              "      <td>Abstract The content of low density lipoprotei...</td>\n",
              "      <td>Breast Cancer Cells Feed on CholesterolOne in ...</td>\n",
              "    </tr>\n",
              "    <tr>\n",
              "      <th>1</th>\n",
              "      <td>PLAIN-3</td>\n",
              "      <td>MED-2437</td>\n",
              "      <td>2</td>\n",
              "      <td>Abstract BACKGROUND: Breast cancer is the most...</td>\n",
              "      <td>Breast Cancer Cells Feed on CholesterolOne in ...</td>\n",
              "    </tr>\n",
              "    <tr>\n",
              "      <th>2</th>\n",
              "      <td>PLAIN-3</td>\n",
              "      <td>MED-2438</td>\n",
              "      <td>2</td>\n",
              "      <td>Abstract Phytoestrogens are structurally simil...</td>\n",
              "      <td>Breast Cancer Cells Feed on CholesterolOne in ...</td>\n",
              "    </tr>\n",
              "    <tr>\n",
              "      <th>3</th>\n",
              "      <td>PLAIN-3</td>\n",
              "      <td>MED-2439</td>\n",
              "      <td>2</td>\n",
              "      <td>Abstract While many factors are involved in th...</td>\n",
              "      <td>Breast Cancer Cells Feed on CholesterolOne in ...</td>\n",
              "    </tr>\n",
              "    <tr>\n",
              "      <th>4</th>\n",
              "      <td>PLAIN-3</td>\n",
              "      <td>MED-2440</td>\n",
              "      <td>2</td>\n",
              "      <td>Abstract Purpose To further clarify the relati...</td>\n",
              "      <td>Breast Cancer Cells Feed on CholesterolOne in ...</td>\n",
              "    </tr>\n",
              "    <tr>\n",
              "      <th>...</th>\n",
              "      <td>...</td>\n",
              "      <td>...</td>\n",
              "      <td>...</td>\n",
              "      <td>...</td>\n",
              "      <td>...</td>\n",
              "    </tr>\n",
              "    <tr>\n",
              "      <th>95215</th>\n",
              "      <td>PLAIN-3285</td>\n",
              "      <td>MED-4914</td>\n",
              "      <td>2</td>\n",
              "      <td>Abstract As one of the major agricultural crop...</td>\n",
              "      <td>Toxins in Cooked Potatoes?Any other natural to...</td>\n",
              "    </tr>\n",
              "    <tr>\n",
              "      <th>95216</th>\n",
              "      <td>PLAIN-3285</td>\n",
              "      <td>MED-4915</td>\n",
              "      <td>2</td>\n",
              "      <td>Abstract A quantitative human dietary risk ass...</td>\n",
              "      <td>Toxins in Cooked Potatoes?Any other natural to...</td>\n",
              "    </tr>\n",
              "    <tr>\n",
              "      <th>95217</th>\n",
              "      <td>PLAIN-428</td>\n",
              "      <td>MED-924</td>\n",
              "      <td>2</td>\n",
              "      <td>Abstract Oral ingestion of baking soda (sodium...</td>\n",
              "      <td>In making water alkaline, how much baking soda...</td>\n",
              "    </tr>\n",
              "    <tr>\n",
              "      <th>95218</th>\n",
              "      <td>PLAIN-428</td>\n",
              "      <td>MED-925</td>\n",
              "      <td>2</td>\n",
              "      <td>Abstract We present a case of a six-week-old i...</td>\n",
              "      <td>In making water alkaline, how much baking soda...</td>\n",
              "    </tr>\n",
              "    <tr>\n",
              "      <th>95219</th>\n",
              "      <td>PLAIN-428</td>\n",
              "      <td>MED-926</td>\n",
              "      <td>2</td>\n",
              "      <td>Abstract A case of severe metabolic alkalosis ...</td>\n",
              "      <td>In making water alkaline, how much baking soda...</td>\n",
              "    </tr>\n",
              "  </tbody>\n",
              "</table>\n",
              "<p>95220 rows × 5 columns</p>\n",
              "</div>\n",
              "      <button class=\"colab-df-convert\" onclick=\"convertToInteractive('df-337dc775-4222-42c5-8932-d07d511a2478')\"\n",
              "              title=\"Convert this dataframe to an interactive table.\"\n",
              "              style=\"display:none;\">\n",
              "        \n",
              "  <svg xmlns=\"http://www.w3.org/2000/svg\" height=\"24px\"viewBox=\"0 0 24 24\"\n",
              "       width=\"24px\">\n",
              "    <path d=\"M0 0h24v24H0V0z\" fill=\"none\"/>\n",
              "    <path d=\"M18.56 5.44l.94 2.06.94-2.06 2.06-.94-2.06-.94-.94-2.06-.94 2.06-2.06.94zm-11 1L8.5 8.5l.94-2.06 2.06-.94-2.06-.94L8.5 2.5l-.94 2.06-2.06.94zm10 10l.94 2.06.94-2.06 2.06-.94-2.06-.94-.94-2.06-.94 2.06-2.06.94z\"/><path d=\"M17.41 7.96l-1.37-1.37c-.4-.4-.92-.59-1.43-.59-.52 0-1.04.2-1.43.59L10.3 9.45l-7.72 7.72c-.78.78-.78 2.05 0 2.83L4 21.41c.39.39.9.59 1.41.59.51 0 1.02-.2 1.41-.59l7.78-7.78 2.81-2.81c.8-.78.8-2.07 0-2.86zM5.41 20L4 18.59l7.72-7.72 1.47 1.35L5.41 20z\"/>\n",
              "  </svg>\n",
              "      </button>\n",
              "      \n",
              "  <style>\n",
              "    .colab-df-container {\n",
              "      display:flex;\n",
              "      flex-wrap:wrap;\n",
              "      gap: 12px;\n",
              "    }\n",
              "\n",
              "    .colab-df-convert {\n",
              "      background-color: #E8F0FE;\n",
              "      border: none;\n",
              "      border-radius: 50%;\n",
              "      cursor: pointer;\n",
              "      display: none;\n",
              "      fill: #1967D2;\n",
              "      height: 32px;\n",
              "      padding: 0 0 0 0;\n",
              "      width: 32px;\n",
              "    }\n",
              "\n",
              "    .colab-df-convert:hover {\n",
              "      background-color: #E2EBFA;\n",
              "      box-shadow: 0px 1px 2px rgba(60, 64, 67, 0.3), 0px 1px 3px 1px rgba(60, 64, 67, 0.15);\n",
              "      fill: #174EA6;\n",
              "    }\n",
              "\n",
              "    [theme=dark] .colab-df-convert {\n",
              "      background-color: #3B4455;\n",
              "      fill: #D2E3FC;\n",
              "    }\n",
              "\n",
              "    [theme=dark] .colab-df-convert:hover {\n",
              "      background-color: #434B5C;\n",
              "      box-shadow: 0px 1px 3px 1px rgba(0, 0, 0, 0.15);\n",
              "      filter: drop-shadow(0px 1px 2px rgba(0, 0, 0, 0.3));\n",
              "      fill: #FFFFFF;\n",
              "    }\n",
              "  </style>\n",
              "\n",
              "      <script>\n",
              "        const buttonEl =\n",
              "          document.querySelector('#df-337dc775-4222-42c5-8932-d07d511a2478 button.colab-df-convert');\n",
              "        buttonEl.style.display =\n",
              "          google.colab.kernel.accessAllowed ? 'block' : 'none';\n",
              "\n",
              "        async function convertToInteractive(key) {\n",
              "          const element = document.querySelector('#df-337dc775-4222-42c5-8932-d07d511a2478');\n",
              "          const dataTable =\n",
              "            await google.colab.kernel.invokeFunction('convertToInteractive',\n",
              "                                                     [key], {});\n",
              "          if (!dataTable) return;\n",
              "\n",
              "          const docLinkHtml = 'Like what you see? Visit the ' +\n",
              "            '<a target=\"_blank\" href=https://colab.research.google.com/notebooks/data_table.ipynb>data table notebook</a>'\n",
              "            + ' to learn more about interactive tables.';\n",
              "          element.innerHTML = '';\n",
              "          dataTable['output_type'] = 'display_data';\n",
              "          await google.colab.output.renderOutput(dataTable, element);\n",
              "          const docLink = document.createElement('div');\n",
              "          docLink.innerHTML = docLinkHtml;\n",
              "          element.appendChild(docLink);\n",
              "        }\n",
              "      </script>\n",
              "    </div>\n",
              "  </div>\n",
              "  "
            ]
          },
          "metadata": {},
          "execution_count": 16
        }
      ]
    },
    {
      "cell_type": "markdown",
      "source": [
        "# Train/val/test split"
      ],
      "metadata": {
        "id": "9Fjm4brMjSkN"
      }
    },
    {
      "cell_type": "markdown",
      "source": [
        "Then, let's split the whole dataset in train/val/test sets."
      ],
      "metadata": {
        "id": "XaWZ911dESqk"
      }
    },
    {
      "cell_type": "code",
      "source": [
        "# Splitting\n",
        "\n",
        "splitter = GroupShuffleSplit(test_size=.20, n_splits=2, random_state = 7)\n",
        "split = splitter.split(df, groups=df['QUERY_ID'])\n",
        "train_inds, test_inds = next(split)\n",
        "\n",
        "df_train_temp = df.iloc[train_inds].reset_index(drop=True)\n",
        "\n",
        "splitter = GroupShuffleSplit(test_size=.25, n_splits=2, random_state = 7)\n",
        "split = splitter.split(df_train_temp, groups=df_train_temp['QUERY_ID'])\n",
        "train_inds, val_inds = next(split)\n",
        "\n",
        "df_train = df_train_temp.iloc[train_inds].reset_index(drop=True)\n",
        "df_val = df_train_temp.iloc[val_inds].reset_index(drop=True)\n",
        "df_test = df.iloc[test_inds].reset_index(drop=True)\n",
        "\n",
        "print('Df_train shape:', df_train.shape)\n",
        "print('Df_val shape:', df_val.shape)\n",
        "print('Df_test shape:', df_test.shape)"
      ],
      "metadata": {
        "colab": {
          "base_uri": "https://localhost:8080/"
        },
        "outputId": "27762118-294f-48a6-8803-4a210e3c1b08",
        "id": "BsI3KB8P_sil"
      },
      "execution_count": null,
      "outputs": [
        {
          "output_type": "stream",
          "name": "stdout",
          "text": [
            "Df_train shape: (50930, 5)\n",
            "Df_val shape: (20307, 5)\n",
            "Df_test shape: (23983, 5)\n"
          ]
        }
      ]
    },
    {
      "cell_type": "code",
      "source": [
        "df_train"
      ],
      "metadata": {
        "colab": {
          "base_uri": "https://localhost:8080/",
          "height": 641
        },
        "id": "0LzWTJW3isWY",
        "outputId": "c67c591b-9819-47ef-aa2f-6ef318b91113"
      },
      "execution_count": null,
      "outputs": [
        {
          "output_type": "execute_result",
          "data": {
            "text/plain": [
              "         QUERY_ID    DOC_ID  RELEVANCE_LEVEL  \\\n",
              "0       PLAIN-755  MED-2436                1   \n",
              "1       PLAIN-755  MED-2437                1   \n",
              "2       PLAIN-755  MED-2438                1   \n",
              "3       PLAIN-755  MED-2439                1   \n",
              "4       PLAIN-755  MED-2440                1   \n",
              "...           ...       ...              ...   \n",
              "50925  PLAIN-3348  MED-5021                2   \n",
              "50926  PLAIN-3377  MED-5059                2   \n",
              "50927   PLAIN-428   MED-924                2   \n",
              "50928   PLAIN-428   MED-925                2   \n",
              "50929   PLAIN-428   MED-926                2   \n",
              "\n",
              "                                                TEXT_DOC  \\\n",
              "0      Abstract The content of low density lipoprotei...   \n",
              "1      Abstract BACKGROUND: Breast cancer is the most...   \n",
              "2      Abstract Phytoestrogens are structurally simil...   \n",
              "3      Abstract While many factors are involved in th...   \n",
              "4      Abstract Purpose To further clarify the relati...   \n",
              "...                                                  ...   \n",
              "50925  Abstract We have previously discovered that st...   \n",
              "50926  Abstract This report represents the conclusion...   \n",
              "50927  Abstract Oral ingestion of baking soda (sodium...   \n",
              "50928  Abstract We present a case of a six-week-old i...   \n",
              "50929  Abstract A case of severe metabolic alkalosis ...   \n",
              "\n",
              "                                                  TEXT_Q  \n",
              "0      breast cancerMuch like other types of cancer, ...  \n",
              "1      breast cancerMuch like other types of cancer, ...  \n",
              "2      breast cancerMuch like other types of cancer, ...  \n",
              "3      breast cancerMuch like other types of cancer, ...  \n",
              "4      breast cancerMuch like other types of cancer, ...  \n",
              "...                                                  ...  \n",
              "50925  Are Star Fruit Good For You?Star fruit, which ...  \n",
              "50926  Is Gum Arabic Harmful?Gum Arabic, found in pai...  \n",
              "50927  In making water alkaline, how much baking soda...  \n",
              "50928  In making water alkaline, how much baking soda...  \n",
              "50929  In making water alkaline, how much baking soda...  \n",
              "\n",
              "[50930 rows x 5 columns]"
            ],
            "text/html": [
              "\n",
              "  <div id=\"df-359c67c5-d10c-4317-8313-a747f0cc2d0f\">\n",
              "    <div class=\"colab-df-container\">\n",
              "      <div>\n",
              "<style scoped>\n",
              "    .dataframe tbody tr th:only-of-type {\n",
              "        vertical-align: middle;\n",
              "    }\n",
              "\n",
              "    .dataframe tbody tr th {\n",
              "        vertical-align: top;\n",
              "    }\n",
              "\n",
              "    .dataframe thead th {\n",
              "        text-align: right;\n",
              "    }\n",
              "</style>\n",
              "<table border=\"1\" class=\"dataframe\">\n",
              "  <thead>\n",
              "    <tr style=\"text-align: right;\">\n",
              "      <th></th>\n",
              "      <th>QUERY_ID</th>\n",
              "      <th>DOC_ID</th>\n",
              "      <th>RELEVANCE_LEVEL</th>\n",
              "      <th>TEXT_DOC</th>\n",
              "      <th>TEXT_Q</th>\n",
              "    </tr>\n",
              "  </thead>\n",
              "  <tbody>\n",
              "    <tr>\n",
              "      <th>0</th>\n",
              "      <td>PLAIN-755</td>\n",
              "      <td>MED-2436</td>\n",
              "      <td>1</td>\n",
              "      <td>Abstract The content of low density lipoprotei...</td>\n",
              "      <td>breast cancerMuch like other types of cancer, ...</td>\n",
              "    </tr>\n",
              "    <tr>\n",
              "      <th>1</th>\n",
              "      <td>PLAIN-755</td>\n",
              "      <td>MED-2437</td>\n",
              "      <td>1</td>\n",
              "      <td>Abstract BACKGROUND: Breast cancer is the most...</td>\n",
              "      <td>breast cancerMuch like other types of cancer, ...</td>\n",
              "    </tr>\n",
              "    <tr>\n",
              "      <th>2</th>\n",
              "      <td>PLAIN-755</td>\n",
              "      <td>MED-2438</td>\n",
              "      <td>1</td>\n",
              "      <td>Abstract Phytoestrogens are structurally simil...</td>\n",
              "      <td>breast cancerMuch like other types of cancer, ...</td>\n",
              "    </tr>\n",
              "    <tr>\n",
              "      <th>3</th>\n",
              "      <td>PLAIN-755</td>\n",
              "      <td>MED-2439</td>\n",
              "      <td>1</td>\n",
              "      <td>Abstract While many factors are involved in th...</td>\n",
              "      <td>breast cancerMuch like other types of cancer, ...</td>\n",
              "    </tr>\n",
              "    <tr>\n",
              "      <th>4</th>\n",
              "      <td>PLAIN-755</td>\n",
              "      <td>MED-2440</td>\n",
              "      <td>1</td>\n",
              "      <td>Abstract Purpose To further clarify the relati...</td>\n",
              "      <td>breast cancerMuch like other types of cancer, ...</td>\n",
              "    </tr>\n",
              "    <tr>\n",
              "      <th>...</th>\n",
              "      <td>...</td>\n",
              "      <td>...</td>\n",
              "      <td>...</td>\n",
              "      <td>...</td>\n",
              "      <td>...</td>\n",
              "    </tr>\n",
              "    <tr>\n",
              "      <th>50925</th>\n",
              "      <td>PLAIN-3348</td>\n",
              "      <td>MED-5021</td>\n",
              "      <td>2</td>\n",
              "      <td>Abstract We have previously discovered that st...</td>\n",
              "      <td>Are Star Fruit Good For You?Star fruit, which ...</td>\n",
              "    </tr>\n",
              "    <tr>\n",
              "      <th>50926</th>\n",
              "      <td>PLAIN-3377</td>\n",
              "      <td>MED-5059</td>\n",
              "      <td>2</td>\n",
              "      <td>Abstract This report represents the conclusion...</td>\n",
              "      <td>Is Gum Arabic Harmful?Gum Arabic, found in pai...</td>\n",
              "    </tr>\n",
              "    <tr>\n",
              "      <th>50927</th>\n",
              "      <td>PLAIN-428</td>\n",
              "      <td>MED-924</td>\n",
              "      <td>2</td>\n",
              "      <td>Abstract Oral ingestion of baking soda (sodium...</td>\n",
              "      <td>In making water alkaline, how much baking soda...</td>\n",
              "    </tr>\n",
              "    <tr>\n",
              "      <th>50928</th>\n",
              "      <td>PLAIN-428</td>\n",
              "      <td>MED-925</td>\n",
              "      <td>2</td>\n",
              "      <td>Abstract We present a case of a six-week-old i...</td>\n",
              "      <td>In making water alkaline, how much baking soda...</td>\n",
              "    </tr>\n",
              "    <tr>\n",
              "      <th>50929</th>\n",
              "      <td>PLAIN-428</td>\n",
              "      <td>MED-926</td>\n",
              "      <td>2</td>\n",
              "      <td>Abstract A case of severe metabolic alkalosis ...</td>\n",
              "      <td>In making water alkaline, how much baking soda...</td>\n",
              "    </tr>\n",
              "  </tbody>\n",
              "</table>\n",
              "<p>50930 rows × 5 columns</p>\n",
              "</div>\n",
              "      <button class=\"colab-df-convert\" onclick=\"convertToInteractive('df-359c67c5-d10c-4317-8313-a747f0cc2d0f')\"\n",
              "              title=\"Convert this dataframe to an interactive table.\"\n",
              "              style=\"display:none;\">\n",
              "        \n",
              "  <svg xmlns=\"http://www.w3.org/2000/svg\" height=\"24px\"viewBox=\"0 0 24 24\"\n",
              "       width=\"24px\">\n",
              "    <path d=\"M0 0h24v24H0V0z\" fill=\"none\"/>\n",
              "    <path d=\"M18.56 5.44l.94 2.06.94-2.06 2.06-.94-2.06-.94-.94-2.06-.94 2.06-2.06.94zm-11 1L8.5 8.5l.94-2.06 2.06-.94-2.06-.94L8.5 2.5l-.94 2.06-2.06.94zm10 10l.94 2.06.94-2.06 2.06-.94-2.06-.94-.94-2.06-.94 2.06-2.06.94z\"/><path d=\"M17.41 7.96l-1.37-1.37c-.4-.4-.92-.59-1.43-.59-.52 0-1.04.2-1.43.59L10.3 9.45l-7.72 7.72c-.78.78-.78 2.05 0 2.83L4 21.41c.39.39.9.59 1.41.59.51 0 1.02-.2 1.41-.59l7.78-7.78 2.81-2.81c.8-.78.8-2.07 0-2.86zM5.41 20L4 18.59l7.72-7.72 1.47 1.35L5.41 20z\"/>\n",
              "  </svg>\n",
              "      </button>\n",
              "      \n",
              "  <style>\n",
              "    .colab-df-container {\n",
              "      display:flex;\n",
              "      flex-wrap:wrap;\n",
              "      gap: 12px;\n",
              "    }\n",
              "\n",
              "    .colab-df-convert {\n",
              "      background-color: #E8F0FE;\n",
              "      border: none;\n",
              "      border-radius: 50%;\n",
              "      cursor: pointer;\n",
              "      display: none;\n",
              "      fill: #1967D2;\n",
              "      height: 32px;\n",
              "      padding: 0 0 0 0;\n",
              "      width: 32px;\n",
              "    }\n",
              "\n",
              "    .colab-df-convert:hover {\n",
              "      background-color: #E2EBFA;\n",
              "      box-shadow: 0px 1px 2px rgba(60, 64, 67, 0.3), 0px 1px 3px 1px rgba(60, 64, 67, 0.15);\n",
              "      fill: #174EA6;\n",
              "    }\n",
              "\n",
              "    [theme=dark] .colab-df-convert {\n",
              "      background-color: #3B4455;\n",
              "      fill: #D2E3FC;\n",
              "    }\n",
              "\n",
              "    [theme=dark] .colab-df-convert:hover {\n",
              "      background-color: #434B5C;\n",
              "      box-shadow: 0px 1px 3px 1px rgba(0, 0, 0, 0.15);\n",
              "      filter: drop-shadow(0px 1px 2px rgba(0, 0, 0, 0.3));\n",
              "      fill: #FFFFFF;\n",
              "    }\n",
              "  </style>\n",
              "\n",
              "      <script>\n",
              "        const buttonEl =\n",
              "          document.querySelector('#df-359c67c5-d10c-4317-8313-a747f0cc2d0f button.colab-df-convert');\n",
              "        buttonEl.style.display =\n",
              "          google.colab.kernel.accessAllowed ? 'block' : 'none';\n",
              "\n",
              "        async function convertToInteractive(key) {\n",
              "          const element = document.querySelector('#df-359c67c5-d10c-4317-8313-a747f0cc2d0f');\n",
              "          const dataTable =\n",
              "            await google.colab.kernel.invokeFunction('convertToInteractive',\n",
              "                                                     [key], {});\n",
              "          if (!dataTable) return;\n",
              "\n",
              "          const docLinkHtml = 'Like what you see? Visit the ' +\n",
              "            '<a target=\"_blank\" href=https://colab.research.google.com/notebooks/data_table.ipynb>data table notebook</a>'\n",
              "            + ' to learn more about interactive tables.';\n",
              "          element.innerHTML = '';\n",
              "          dataTable['output_type'] = 'display_data';\n",
              "          await google.colab.output.renderOutput(dataTable, element);\n",
              "          const docLink = document.createElement('div');\n",
              "          docLink.innerHTML = docLinkHtml;\n",
              "          element.appendChild(docLink);\n",
              "        }\n",
              "      </script>\n",
              "    </div>\n",
              "  </div>\n",
              "  "
            ]
          },
          "metadata": {},
          "execution_count": 18
        }
      ]
    },
    {
      "cell_type": "markdown",
      "source": [
        "For convenience, *query-doc* positive pairs and related relevances are extracted and collected in dictionaries using proper functions."
      ],
      "metadata": {
        "id": "1-6BPbhQRXDT"
      }
    },
    {
      "cell_type": "code",
      "source": [
        "def get_query_docs_rel_order(df):\n",
        "\n",
        "  \"\"\"\n",
        "  Creates a dictionary where the keys are the query IDs and the values are the lists of relevant document IDs sorted by relevance level (in descending order).\n",
        "\n",
        "  Parameters:\n",
        "  df (pd.DataFrame): The dataframe that contains information about the query-document pairs and related relevance.\n",
        "\n",
        "  Returns:\n",
        "  query_doc_rel_order (dict): A dictionary where each key is a query ID and each value is a list of relevant document IDs sorted by relevance level.\n",
        "  \"\"\"\n",
        "\n",
        "  grouped_docs = df.groupby('QUERY_ID')\n",
        "\n",
        "  query_doc_rel_order = {} # for each q contains the list of related docs sorted by descending relevance\n",
        "\n",
        "  for q in grouped_docs.groups.keys():\n",
        "    grouped_df = grouped_docs.get_group(q).reset_index()\n",
        "    query_doc_rel_order[q] = grouped_df.sort_values(by='RELEVANCE_LEVEL', ascending=False)['DOC_ID'].values.tolist()\n",
        "\n",
        "  return query_doc_rel_order"
      ],
      "metadata": {
        "id": "fOsBGo6VRjhT"
      },
      "execution_count": null,
      "outputs": []
    },
    {
      "cell_type": "markdown",
      "source": [
        "In particular, `query_docs_rel_order` dictionary maps each query with the list of its relevant documents ids, sorted by descending relevance level. The `qd_rel` dictionary maps instead the positive pairs *(query_id, document_id)* with the correspondent relevance level."
      ],
      "metadata": {
        "id": "EWQFKGpbZGLs"
      }
    },
    {
      "cell_type": "code",
      "source": [
        "train_query_docs_rel_order = get_query_docs_rel_order(df_train)\n",
        "val_query_docs_rel_order = get_query_docs_rel_order(df_val)\n",
        "test_query_docs_rel_order = get_query_docs_rel_order(df_test)\n",
        "\n",
        "train_qd_rel = dict(zip(zip(df_train['QUERY_ID'], df_train['DOC_ID']), df_train['RELEVANCE_LEVEL']))\n",
        "val_qd_rel = dict(zip(zip(df_val['QUERY_ID'], df_val['DOC_ID']), df_val['RELEVANCE_LEVEL']))\n",
        "test_qd_rel = dict(zip(zip(df_test['QUERY_ID'], df_test['DOC_ID']), df_test['RELEVANCE_LEVEL']))"
      ],
      "metadata": {
        "id": "AV25l-trYARC"
      },
      "execution_count": null,
      "outputs": []
    },
    {
      "cell_type": "markdown",
      "source": [
        "# Text pre-processing"
      ],
      "metadata": {
        "id": "2g_ElutBv_Th"
      }
    },
    {
      "cell_type": "markdown",
      "source": [
        "In information retrieval tasks, performance usually benefits from pre-processing the text. In this case, it was decided to remove punctuation, numbers and stopwords from both queries and documents, significantly reducing their length, which is good also considering the computational limits."
      ],
      "metadata": {
        "id": "MkpuDmw4IZQG"
      }
    },
    {
      "cell_type": "code",
      "source": [
        "##### Pre-processing functions ########\n",
        "\n",
        "# Download stopwords\n",
        "nltk.download('stopwords')\n",
        "stopwords_ita = stopwords.words('english')\n",
        "\n",
        "def remove_punct_number(text):\n",
        "  \"\"\"\n",
        "  Removes punctuation and numbers from the input text.\n",
        "\n",
        "  Parameters:\n",
        "  - text (str): The input text.\n",
        "\n",
        "  Returns:\n",
        "  - str: The cleaned text with punctuation and numbers removed.\n",
        "\n",
        "  \"\"\"\n",
        "  text_clean = re.sub(r\"[^a-zA-Z\\s]\", '', text)\n",
        "  return text_clean\n",
        "\n",
        "\n",
        "def remove_stopwords(text):\n",
        "  \"\"\"\n",
        "  Removes English stopwords from the input text.\n",
        "\n",
        "  Parameters:\n",
        "  - text (str): The input text.\n",
        "\n",
        "  Returns:\n",
        "  - str: The cleaned text with stopwords removed.\n",
        "\n",
        "  \"\"\"\n",
        "  return ' '.join([word for word in text.lower().split() if word not in (stopwords_ita)])"
      ],
      "metadata": {
        "colab": {
          "base_uri": "https://localhost:8080/"
        },
        "id": "2DrrSzP-jlNB",
        "outputId": "e73f3305-2dd6-4fa6-abf7-79701bc557fb"
      },
      "execution_count": null,
      "outputs": [
        {
          "output_type": "stream",
          "name": "stderr",
          "text": [
            "[nltk_data] Downloading package stopwords to /root/nltk_data...\n",
            "[nltk_data]   Unzipping corpora/stopwords.zip.\n"
          ]
        }
      ]
    },
    {
      "cell_type": "code",
      "source": [
        "def preprocess_q_text(df):\n",
        "\n",
        "  \"\"\"\n",
        "  Preprocesses the queries texts of the dataframe `df` by removing punctuations and stopwords.\n",
        "\n",
        "  Parameters:\n",
        "  - df (pandas.DataFrame): The dataframe containing the queries texts.\n",
        "\n",
        "  Returns:\n",
        "  - dict: A dictionary mapping query IDs to their cleaned text.\n",
        "  \"\"\"\n",
        "\n",
        "  grouped_query = df.groupby('QUERY_ID')\n",
        "  qid_text = {} # q -> clean_text\n",
        "\n",
        "  for q in grouped_query.groups.keys():\n",
        "    grouped_df = grouped_query.get_group(q).reset_index()\n",
        "    clean_q_text = remove_punct_number(grouped_df['TEXT_Q'].values.tolist()[0])\n",
        "    clean_q_text = remove_stopwords(clean_q_text)\n",
        "    qid_text[q] = clean_q_text\n",
        "\n",
        "  return qid_text\n",
        "\n",
        "\n",
        "def preprocess_d_text(df):\n",
        "\n",
        "  \"\"\"\n",
        "  Preprocess the documents texts of the dataframe `df` by removing punctuation and stopwords.\n",
        "\n",
        "  Parameters:\n",
        "  df (pandas DataFrame): A dataframe containing the documents texts.\n",
        "\n",
        "  Returns:\n",
        "  docid_text (dict): A dictionary mapping document IDs to the corresponding cleaned text.\n",
        "  \"\"\"\n",
        "\n",
        "  grouped_doc = df.groupby('DOC_ID')\n",
        "  docid_text = {} # d -> clean_text\n",
        "\n",
        "  for d in grouped_doc.groups.keys():\n",
        "    grouped_df = grouped_doc.get_group(d).reset_index()\n",
        "    clean_d_text = remove_punct_number(grouped_df['TEXT_DOC'].values.tolist()[0])\n",
        "    clean_d_text = remove_stopwords(clean_d_text)\n",
        "    docid_text[d] = clean_d_text\n",
        "\n",
        "  return docid_text"
      ],
      "metadata": {
        "id": "n7sc6SXQjIQU"
      },
      "execution_count": null,
      "outputs": []
    },
    {
      "cell_type": "markdown",
      "source": [
        "Let's apply pre-processing functions on all queries and documents texts.\n",
        "\n",
        "`qid_text` and `docid_text` are two dictionaries mapping respectively query ids and documents ids to their corresponding cleaned text."
      ],
      "metadata": {
        "id": "2rUuZSk5MmN0"
      }
    },
    {
      "cell_type": "code",
      "source": [
        "train_qid_text = preprocess_q_text(df_train)\n",
        "val_qid_text = preprocess_q_text(df_val)\n",
        "test_qid_text = preprocess_q_text(df_test)\n",
        "\n",
        "train_docid_text = preprocess_d_text(df_train)\n",
        "val_docid_text = preprocess_d_text(df_val)\n",
        "test_docid_text = preprocess_d_text(df_test)"
      ],
      "metadata": {
        "id": "-Yyn_EkNmnho"
      },
      "execution_count": null,
      "outputs": []
    },
    {
      "cell_type": "markdown",
      "source": [
        "Let's now inspect how much queries and documents length have been reduced."
      ],
      "metadata": {
        "id": "c0e8YBTXOJu8"
      }
    },
    {
      "cell_type": "code",
      "source": [
        "max_text_length = int(max([len(d.split(\" \")) for d in train_docid_text.values()]))\n",
        "print('Max length of train documents text after pre-processing:', max_text_length)\n",
        "\n",
        "mean_text_length = int(np.mean([len(d.split(\" \")) for d in train_docid_text.values()]))\n",
        "print('Medium length of train documents text after pre-processing:', mean_text_length)\n",
        "\n",
        "median_text_length = int(np.median([len(d.split(\" \")) for d in train_docid_text.values()]))\n",
        "print('Median length of train documents text after pre-processing:', median_text_length)"
      ],
      "metadata": {
        "colab": {
          "base_uri": "https://localhost:8080/"
        },
        "id": "NgvqK-MEOdU-",
        "outputId": "693376c3-8852-4158-94b4-aed47e080d14"
      },
      "execution_count": null,
      "outputs": [
        {
          "output_type": "stream",
          "name": "stdout",
          "text": [
            "Max length of train documents text after pre-processing: 906\n",
            "Medium length of train documents text after pre-processing: 135\n",
            "Median length of train documents text after pre-processing: 137\n"
          ]
        }
      ]
    },
    {
      "cell_type": "code",
      "source": [
        "max_text_length = int(max([len(q.split(\" \")) for q in train_qid_text.values()]))\n",
        "print('Max length of train queries text after pre-processing:', max_text_length)\n",
        "\n",
        "mean_text_length = int(np.mean([len(q.split(\" \")) for q in train_qid_text.values()]))\n",
        "print('Medium length of train queries text after pre-processing:', mean_text_length)\n",
        "\n",
        "median_text_length = int(np.median([len(q.split(\" \")) for q in train_qid_text.values()]))\n",
        "print('Median length of train queries text after pre-processing:', median_text_length)"
      ],
      "metadata": {
        "colab": {
          "base_uri": "https://localhost:8080/"
        },
        "id": "4586njQwP9xf",
        "outputId": "cedc5057-6504-478c-e1ba-814072747ee1"
      },
      "execution_count": null,
      "outputs": [
        {
          "output_type": "stream",
          "name": "stdout",
          "text": [
            "Max length of train queries text after pre-processing: 3995\n",
            "Medium length of train queries text after pre-processing: 229\n",
            "Median length of train queries text after pre-processing: 188\n"
          ]
        }
      ]
    },
    {
      "cell_type": "markdown",
      "source": [
        "# Dataset Utils"
      ],
      "metadata": {
        "id": "bWO5ffyfv5Sz"
      }
    },
    {
      "cell_type": "markdown",
      "source": [
        "The `triplets_format` function creates *(anchor, positive, negative)* triplets, where *(anchor, positive)* are *(query, document)* pairs already collected in the original dataset. For each positive pair, the *negative* document is randomly selected among the documents that do not have any query in common with the positive one, i.e. does not exist one query for which both of them are relevant."
      ],
      "metadata": {
        "id": "q2ycDo5AGi48"
      }
    },
    {
      "cell_type": "code",
      "source": [
        "########### Converting the dataset in (anchor, positive, negative) format ###############\n",
        "\n",
        "def triplets_format(dataset, qid_text, docid_text):\n",
        "\n",
        "    \"\"\"\n",
        "    Convert the dataset into triplets format.\n",
        "    Each triplet contains:\n",
        "    - A query ID\n",
        "    - A positive document ID\n",
        "    - A negative document ID\n",
        "    - The text of the query\n",
        "    - The text of the positive document\n",
        "    - The text of the negative document\n",
        "    - The relevance level of the positive document\n",
        "\n",
        "    Parameters:\n",
        "    - dataset (pandas dataframe) : The dataset with columns: 'QUERY_ID', 'DOC_ID', 'RELEVANCE_LEVEL'.\n",
        "    - qid_text (dictionary) : The text of each query, with query IDs as keys and text as values.\n",
        "    - docid_text (dictionary) : The text of each document, with document IDs as keys and text as values.\n",
        "\n",
        "    Returns:\n",
        "    - df (pandas dataframe) : The triplets dataset with columns: 'QUERY_ID', 'POS_DOC_ID', 'NEG_DOC_ID', 'TEXT_Q', 'TEXT_POS_DOC', 'TEXT_NEG_DOC', 'RELEVANCE_LEVEL'.\n",
        "    \"\"\"\n",
        "\n",
        "    docs_q_dict = {} # for each doc, it contains the list of related queries\n",
        "\n",
        "    for d in set(dataset['DOC_ID'].values.tolist()):\n",
        "      docs_q_dict[d] = dataset[dataset['DOC_ID'] == d]['QUERY_ID'].values.tolist()\n",
        "\n",
        "    all_docs_id = dataset['DOC_ID'].unique().tolist() # list of all the docs ids\n",
        "\n",
        "    df = []\n",
        "\n",
        "    for idx, row in dataset.iterrows(): # iterate over the rows\n",
        "\n",
        "      flag = False\n",
        "\n",
        "      while not flag:\n",
        "        neg_doc = all_docs_id[np.random.randint(len(all_docs_id))] # select a random negative doc\n",
        "\n",
        "        # if the negative doc and the positive one don't share any query, confirm the selection\n",
        "        if (set(docs_q_dict[neg_doc]) & set(docs_q_dict[row['DOC_ID']])) == set():\n",
        "          flag = True\n",
        "\n",
        "      data = {'QUERY_ID' : row['QUERY_ID'],\n",
        "              'POS_DOC_ID' : row['DOC_ID'],\n",
        "              'NEG_DOC_ID': neg_doc,\n",
        "              'TEXT_Q' : qid_text[row['QUERY_ID']],\n",
        "              'TEXT_POS_DOC' : docid_text[row['DOC_ID']],\n",
        "              'TEXT_NEG_DOC' : docid_text[neg_doc],\n",
        "              'RELEVANCE_LEVEL' : row['RELEVANCE_LEVEL']}\n",
        "\n",
        "      df.append(data)\n",
        "\n",
        "    df = pd.DataFrame(df)\n",
        "\n",
        "    return df"
      ],
      "metadata": {
        "id": "MthNTHGgjYzD"
      },
      "execution_count": null,
      "outputs": []
    },
    {
      "cell_type": "markdown",
      "source": [
        "The `pairs_format` function creates negative *(query, documents)* pairs starting from the positive ones collected in the original dataframe. In particular, it assigns the label $1$ to each *(query, pos_document)* positive pairs, and for each of them create a *(query, neg_document)* negative pair with label $0$, by randomly selecting a negative document among all documents non-relevant for the *query*."
      ],
      "metadata": {
        "id": "SyXn17PpJnTw"
      }
    },
    {
      "cell_type": "code",
      "source": [
        "########### Converting the dataset into (query, doc, label) format ###############\n",
        "\n",
        "def pairs_format(dataset, qid_text, docid_text):\n",
        "\n",
        "    docs_q_dict = {} # for each doc contains the list of related queries (all grades of relevance)\n",
        "\n",
        "    for d in set(dataset['DOC_ID'].values.tolist()):\n",
        "      docs_q_dict[d] = dataset[dataset['DOC_ID'] == d]['QUERY_ID'].values.tolist()\n",
        "\n",
        "    all_docs_id = dataset['DOC_ID'].unique().tolist()\n",
        "\n",
        "    df = []\n",
        "\n",
        "    for idx, row in dataset.iterrows(): # iterate over the rows\n",
        "\n",
        "      flag = False\n",
        "\n",
        "      while not flag:\n",
        "        neg_doc = all_docs_id[np.random.randint(len(all_docs_id))] # select a random negative doc\n",
        "\n",
        "        if row['QUERY_ID'] not in docs_q_dict[neg_doc]: # if the selected negative document is not among the relevant documents of the query, confirm the selection\n",
        "          flag = True\n",
        "\n",
        "      # Positive pair\n",
        "      row_pos = {'QUERY_ID' : row['QUERY_ID'],\n",
        "              'DOC_ID' : row['DOC_ID'],\n",
        "              'TEXT_Q' : qid_text[row['QUERY_ID']],\n",
        "              'TEXT_DOC' : docid_text[row['DOC_ID']],\n",
        "              'LABEL': 1,\n",
        "              'RELEVANCE_LEVEL' : row['RELEVANCE_LEVEL']}\n",
        "\n",
        "      # Negative pair\n",
        "      row_neg = {'QUERY_ID' : row['QUERY_ID'],\n",
        "              'DOC_ID' : neg_doc,\n",
        "              'TEXT_Q' : qid_text[row['QUERY_ID']],\n",
        "              'TEXT_DOC' : docid_text[neg_doc],\n",
        "              'LABEL': 0,\n",
        "              'RELEVANCE_LEVEL' : 0}\n",
        "\n",
        "\n",
        "      df.append(row_pos)\n",
        "      df.append(row_neg)\n",
        "\n",
        "    df = pd.DataFrame(df)\n",
        "\n",
        "    return df"
      ],
      "metadata": {
        "id": "_rnckh1hb1Ve"
      },
      "execution_count": null,
      "outputs": []
    },
    {
      "cell_type": "markdown",
      "source": [
        "# Sentence Transformer"
      ],
      "metadata": {
        "id": "12myiKp14K-B"
      }
    },
    {
      "cell_type": "markdown",
      "source": [
        "Sentence Transformers are made up of two modules: a Transformer model and a pooling layer.\n",
        "\n",
        "In this case, the Transformer model used is [bert-mini](https://huggingface.co/prajjwal1/bert-mini), a light pre-trained BERT version. The choice of such a small model is mainly due to computational limits.\n",
        "\n",
        "The Sentence Transformer takes the text as input and outputs the correspondent embedding. Then, the embeddings will be used for performing k-NN search on documents, given a certain query.\n",
        "\n",
        "In order to investigate the contribute of each of them, the model is trained with $3$ different loss functions:\n",
        "* Contrastive Loss\n",
        "* Multiple Negative Ranking Loss\n",
        "* Triplet Loss"
      ],
      "metadata": {
        "id": "1QkSOVqWbD9r"
      }
    },
    {
      "cell_type": "markdown",
      "source": [
        "## Metrics Functions Utils"
      ],
      "metadata": {
        "id": "mCkjWQQs5gZO"
      }
    },
    {
      "cell_type": "markdown",
      "source": [
        "For evaluating results of the information retrieval search, the following metrics are implemented and computed:\n",
        "\n",
        "* Precision@k\n",
        "* Recall@k\n",
        "* F1-score@k\n",
        "* R-precision\n",
        "* MAP@k\n",
        "* NDCG@k"
      ],
      "metadata": {
        "id": "2sH0iGdf6Yeg"
      }
    },
    {
      "cell_type": "code",
      "source": [
        "def precision_at_k(query_id, results, docid_text, query_docs_ids, k):\n",
        "\n",
        "  \"\"\"\n",
        "  Calculate the precision at k for a given query.\n",
        "\n",
        "  Parameters:\n",
        "  - query_id (int): The identifier of the query.\n",
        "  - results (list): A list of indices of the retrieved documents.\n",
        "  - docid_text (dict): A dictionary mapping document identifier to document text.\n",
        "  - query_docs_ids (dict): A dictionary mapping query identifier to a list of relevant document identifiers.\n",
        "  - k (int): The number of retrieved documents to consider for the calculation.\n",
        "\n",
        "  Returns:\n",
        "  - pk (float): The precision at k for the query.\n",
        "  \"\"\"\n",
        "\n",
        "  retrieved_docs = results[0:k]\n",
        "  id_retrieved_docs = [list(docid_text.keys())[d] for d in retrieved_docs]\n",
        "  pk = len(set(id_retrieved_docs) & set(query_docs_ids[query_id])) / k\n",
        "\n",
        "  return pk"
      ],
      "metadata": {
        "id": "UyvuZ2nHTulw"
      },
      "execution_count": null,
      "outputs": []
    },
    {
      "cell_type": "code",
      "source": [
        "def recall_at_k(query_id, results, docid_text, query_docs_ids, k):\n",
        "\n",
        "  \"\"\"\n",
        "  Calculate the recall at k for a given query.\n",
        "\n",
        "  Parameters:\n",
        "  - query_id (int): The identifier of the query.\n",
        "  - results (list): A list of indices of the retrieved documents.\n",
        "  - docid_text (dict): A dictionary mapping document identifier to document text.\n",
        "  - query_docs_ids (dict): A dictionary mapping query identifier to a list of relevant document identifiers.\n",
        "  - k (int): The number of retrieved documents to consider for the calculation.\n",
        "\n",
        "  Returns:\n",
        "  - rk (float): The recall at k for the query.\n",
        "  \"\"\"\n",
        "\n",
        "  retrieved_docs = results[0:k]\n",
        "  id_retrieved_docs = [list(docid_text.keys())[d] for d in retrieved_docs]\n",
        "  rk = len(set(id_retrieved_docs) & set(query_docs_ids[query_id])) / len(query_docs_ids[query_id])\n",
        "\n",
        "  return rk"
      ],
      "metadata": {
        "id": "kSeqFw0fTulw"
      },
      "execution_count": null,
      "outputs": []
    },
    {
      "cell_type": "code",
      "source": [
        "def f1_at_k(query_id, results, docid_text, query_docs_ids, k):\n",
        "\n",
        "  \"\"\"\n",
        "  Calculates the F1-score at k for the given query id.\n",
        "\n",
        "  Parameters:\n",
        "  - query_id (int): The query identifier\n",
        "  - results (list): A list of indices of the retrieved documents.\n",
        "  - docid_text (dict): A dictionary mapping document identifier to document text.\n",
        "  - query_docs_ids (dict): A dictionary mapping query identifier to a list of relevant document identifiers.\n",
        "  - k (int): The number of retrieved documents to consider for the calculation.\n",
        "\n",
        "  Returns:\n",
        "  float: F1-score at k\n",
        "\n",
        "  \"\"\"\n",
        "\n",
        "  pk = precision_at_k(query_id, results, docid_text, query_docs_ids, k)\n",
        "  rk = recall_at_k(query_id, results, docid_text, query_docs_ids, k)\n",
        "\n",
        "  if(pk != 0 or rk != 0):\n",
        "    return 2*(pk * rk)/(pk+rk)\n",
        "  else:\n",
        "    return 0"
      ],
      "metadata": {
        "id": "NUi4kgmCTulx"
      },
      "execution_count": null,
      "outputs": []
    },
    {
      "cell_type": "code",
      "source": [
        "def r_precision(query_id, results, docid_text, query_docs_ids):\n",
        "\n",
        "  \"\"\"\n",
        "  Calculates the R-Precision metric for a given query, set of results and information about relevant documents.\n",
        "\n",
        "  Parameters:\n",
        "  - query_id (int): The identifier for the query.\n",
        "  - results (list): A list of indices of the retrieved documents.\n",
        "  - docid_text (dict): A dictionary mapping document identifier to document text.\n",
        "  - query_docs_ids (dict): A dictionary mapping query identifier to a list of relevant document identifiers.\n",
        "\n",
        "  Returns:\n",
        "  - float: The R-Precision score.\n",
        "  \"\"\"\n",
        "\n",
        "  R = len(query_docs_ids[query_id])\n",
        "  retrieved_docs = results[0:R]\n",
        "  id_retrieved_docs = [list(docid_text.keys())[d] for d in retrieved_docs]\n",
        "  r = len(set(id_retrieved_docs) & set(query_docs_ids[query_id]))\n",
        "\n",
        "  return r/R"
      ],
      "metadata": {
        "id": "Bl1c5I2dTulx"
      },
      "execution_count": null,
      "outputs": []
    },
    {
      "cell_type": "code",
      "source": [
        "def mean_average_precision_at_k(query_id, results, docid_text, query_docs_ids, K):\n",
        "\n",
        "    \"\"\"\n",
        "    Calculate the mean average precision at K (MAP@K) for a given query\n",
        "\n",
        "    Parameters:\n",
        "    - query_id (int): Identifier of the query.\n",
        "    - results (list): A list of indices of the retrieved documents.\n",
        "    - docid_text (dict): A dictionary mapping document identifier to document text.\n",
        "    - query_docs_ids (dict): A dictionary mapping query identifier to a list of relevant document identifiers.\n",
        "    - K (int): the number of documents to consider for MAP@K calculation.\n",
        "\n",
        "    Returns:\n",
        "    float: the mean average precision at K (MAP@K) for the given query\n",
        "    \"\"\"\n",
        "\n",
        "    ap_num = 0\n",
        "\n",
        "    for k in range(1,K+1):\n",
        "\n",
        "      retrieved_docs = results[0:k]\n",
        "      id_retrieved_docs = [list(docid_text.keys())[d] for d in retrieved_docs]\n",
        "\n",
        "      for d in id_retrieved_docs:\n",
        "        if d in query_docs_ids[query_id]:\n",
        "          ap_num += precision_at_k(query_id, results, docid_text, query_docs_ids, k)\n",
        "\n",
        "    return ap_num / len(query_docs_ids[query_id])"
      ],
      "metadata": {
        "id": "8NxBApLUTuly"
      },
      "execution_count": null,
      "outputs": []
    },
    {
      "cell_type": "code",
      "source": [
        "def compute_ndcg_at_k(query_id, results, docid_text, query_doc_rel, query_doc_order, K):\n",
        "\n",
        "  \"\"\"\n",
        "  Compute the Normalized Discounted Cumulative Gain (NDCG) at k for a given query.\n",
        "\n",
        "  Parameters:\n",
        "      query_id (int): The id of the query.\n",
        "      results (list): A list of indices of the retrieved documents.\n",
        "      docid_text (dict): A mapping from document id to its text.\n",
        "      query_doc_rel (dict): A mapping from (q_id, doc_id) pairs to relevance scores.\n",
        "      query_doc_order (dict): A mapping from each query id to a list of relevant document ids in order of importance.\n",
        "      K (int): The value of k in NDCG@k.\n",
        "\n",
        "  Returns:\n",
        "      float: The NDCG value.\n",
        "  \"\"\"\n",
        "\n",
        "  dcg = 0\n",
        "  idcg = 0\n",
        "\n",
        "  for k in range(1, K+1):\n",
        "      retrieved_docs = results[0:k]\n",
        "      id_retrieved_docs = [list(docid_text.keys())[d] for d in retrieved_docs]\n",
        "\n",
        "      # predicted relevance\n",
        "      if (query_id, id_retrieved_docs[k-1]) in query_doc_rel.keys():\n",
        "        pred_rel_k = query_doc_rel[(query_id, id_retrieved_docs[k-1])]\n",
        "      else:\n",
        "        pred_rel_k = 0\n",
        "\n",
        "      # true relevance\n",
        "      if k <= len(query_doc_order[query_id]):\n",
        "        ideal_doc_k = query_doc_order[query_id][k-1]\n",
        "        ideal_rel_k = query_doc_rel[(query_id, ideal_doc_k)]\n",
        "      else:\n",
        "        ideal_rel_k = 0\n",
        "\n",
        "      # calculate dcg and idcg\n",
        "      dcg += pred_rel_k / log2(1 + k)\n",
        "      idcg += ideal_rel_k / log2(1 + k)\n",
        "\n",
        "\n",
        "  ndcg_at_k = dcg / idcg\n",
        "\n",
        "  return ndcg_at_k"
      ],
      "metadata": {
        "id": "PoUKbmJNTuly"
      },
      "execution_count": null,
      "outputs": []
    },
    {
      "cell_type": "markdown",
      "source": [
        "## Model Loading"
      ],
      "metadata": {
        "id": "88z_RlkwNjx5"
      }
    },
    {
      "cell_type": "markdown",
      "source": [
        "Before starting the training, let's upload the pre-trained model and use it to create embeddings of test queries and documents text."
      ],
      "metadata": {
        "id": "MR_Vy9ugNejo"
      }
    },
    {
      "cell_type": "code",
      "source": [
        "word_embedding_model = models.Transformer('prajjwal1/bert-mini')\n",
        "pooling_model = models.Pooling(word_embedding_model.get_word_embedding_dimension())\n",
        "model = SentenceTransformer(modules=[word_embedding_model, pooling_model])"
      ],
      "metadata": {
        "id": "8QSqgAkDNejp"
      },
      "execution_count": null,
      "outputs": []
    },
    {
      "cell_type": "code",
      "source": [
        "# Using the model for generating embeddings\n",
        "\n",
        "docs_embeddings = model.encode(list(test_docid_text.values()), convert_to_tensor=True)\n",
        "q_embeddings = model.encode(list(test_qid_text.values()), convert_to_tensor=True)\n",
        "\n",
        "docs_embeddings = docs_embeddings.cpu().numpy()\n",
        "q_embeddings = q_embeddings.cpu().numpy()"
      ],
      "metadata": {
        "id": "xeeYuWDxNejq"
      },
      "execution_count": null,
      "outputs": []
    },
    {
      "cell_type": "markdown",
      "source": [
        "## Latent space visualization before training"
      ],
      "metadata": {
        "id": "j6JEECcyuEML"
      }
    },
    {
      "cell_type": "markdown",
      "source": [
        "For visualizing the embeddings in a 2D space, it can be used a dimensionality reduction algorithm called UMAP."
      ],
      "metadata": {
        "id": "qVmgOpqLqGc8"
      }
    },
    {
      "cell_type": "code",
      "source": [
        "umap_visualizer = umap.UMAP(random_state = 56)\n",
        "umap_visualizer.fit(np.concatenate((docs_embeddings, q_embeddings)))\n",
        "docs_embeddings_reduced = umap_visualizer.transform(docs_embeddings)\n",
        "q_embeddings_reduced = umap_visualizer.transform(q_embeddings)"
      ],
      "metadata": {
        "id": "KUkgCctNucbp"
      },
      "execution_count": null,
      "outputs": []
    },
    {
      "cell_type": "markdown",
      "source": [
        "For visualization purposes, it can be useful to focus on a single query and its relevant documents."
      ],
      "metadata": {
        "id": "VMpNGCVtqaZ0"
      }
    },
    {
      "cell_type": "code",
      "source": [
        "# Select one query\n",
        "\n",
        "idx = list(test_qid_text.keys()).index('PLAIN-2989')\n",
        "query_id = list(test_qid_text.keys())[idx]\n",
        "query_text = list(test_qid_text.values())[idx]\n",
        "query_id"
      ],
      "metadata": {
        "colab": {
          "base_uri": "https://localhost:8080/",
          "height": 36
        },
        "outputId": "c3f84f3b-8a64-44a6-c038-3d33b0a0bf93",
        "id": "zsMY2rtzojFF"
      },
      "execution_count": null,
      "outputs": [
        {
          "output_type": "execute_result",
          "data": {
            "text/plain": [
              "'PLAIN-2989'"
            ],
            "application/vnd.google.colaboratory.intrinsic+json": {
              "type": "string"
            }
          },
          "metadata": {},
          "execution_count": 76
        }
      ]
    },
    {
      "cell_type": "code",
      "source": [
        "# Extract relevant docs\n",
        "\n",
        "docs_ids = test_query_docs_rel_order[query_id]\n",
        "docs_text = [test_docid_text[d] for d in docs_ids]\n",
        "docs_ids"
      ],
      "metadata": {
        "colab": {
          "base_uri": "https://localhost:8080/"
        },
        "outputId": "aeff9efd-c398-482e-abfd-eeba6d05fae2",
        "id": "v_me_CpwACCW"
      },
      "execution_count": null,
      "outputs": [
        {
          "output_type": "execute_result",
          "data": {
            "text/plain": [
              "['MED-4415',\n",
              " 'MED-4416',\n",
              " 'MED-4417',\n",
              " 'MED-4418',\n",
              " 'MED-3811',\n",
              " 'MED-3812',\n",
              " 'MED-3813',\n",
              " 'MED-4389']"
            ]
          },
          "metadata": {},
          "execution_count": 38
        }
      ]
    },
    {
      "cell_type": "code",
      "source": [
        "def visualize_embeddings(embeddings_reduced, q_docs_ids, all_docs_ids, q_embeddings, idx, q_id):\n",
        "\n",
        "  \"\"\"\n",
        "  Function to visualize documents and queries embeddings in a 2D plot. It highlights the position of `q_id` query and of its relevant documents, whose ids are contained in `q_docs_ids`.\n",
        "\n",
        "  Parameters:\n",
        "  - embeddings_reduced (np.ndarray): 2D array of reduced document embeddings.\n",
        "  - q_docs_ids (list): List of ids for documents which are relevant for the query and have to be highlighted.\n",
        "  - all_docs_ids (list): List of ids for all documents.\n",
        "  - q_embeddings (np.ndarray): 2D array of reduced query embeddings.\n",
        "  - idx (int): Index in the list of all queries of the query to be highlighted.\n",
        "  - q_id (str): Id of the query to be highlighted.\n",
        "\n",
        "  \"\"\"\n",
        "\n",
        "  fig = plt.figure(figsize=(20, 15))\n",
        "\n",
        "  # Visualize documents\n",
        "  plt.plot(embeddings_reduced[:, 0], embeddings_reduced[:, 1], '.', markersize=1, color = 'red', label='Document')\n",
        "\n",
        "  for i in range(len(all_docs_ids)):\n",
        "    if all_docs_ids[i] in q_docs_ids:\n",
        "      plt.annotate(all_docs_ids[i], # annotation text\n",
        "                  (embeddings_reduced[i, 0], embeddings_reduced[i, 1]), # coordinates to position the label\n",
        "                  textcoords=\"offset points\", # how to position the text\n",
        "                  xytext=(0,1), # distance from text to points (x,y)\n",
        "                  ha='center')\n",
        "\n",
        "  # Visualize queries\n",
        "  plt.plot(q_embeddings[:idx, 0], q_embeddings[:idx, 1], '*', markersize=1, color='blue', label='Query')\n",
        "  plt.plot(q_embeddings[idx, 0], q_embeddings[idx, 1], '*', markersize=20, color='blue')\n",
        "  plt.plot(q_embeddings[idx+1:, 0], q_embeddings[idx+1:, 1], '*', markersize=1, color='blue')\n",
        "\n",
        "  plt.annotate(q_id, # annotation text\n",
        "              (q_embeddings[idx, 0], q_embeddings[idx, 1]), # coordinates to position the label\n",
        "              textcoords=\"offset points\", # how to position the text\n",
        "              xytext=(1,1), # distance from text to points (x,y)\n",
        "              ha='center')\n",
        "\n",
        "  plt.legend(loc='best',markerscale=10)\n",
        "  plt.show()"
      ],
      "metadata": {
        "id": "AulUwggztYhB"
      },
      "execution_count": null,
      "outputs": []
    },
    {
      "cell_type": "code",
      "source": [
        "# Visualize embedding space\n",
        "\n",
        "visualize_embeddings(docs_embeddings_reduced, docs_ids, list(test_docid_text.keys()), q_embeddings_reduced, idx, query_id)"
      ],
      "metadata": {
        "colab": {
          "base_uri": "https://localhost:8080/",
          "height": 558
        },
        "id": "ytFpIfSTopa-",
        "outputId": "0ebdc7d4-9b87-4578-9c59-8ada1f4fd0af"
      },
      "execution_count": null,
      "outputs": [
        {
          "output_type": "display_data",
          "data": {
            "text/plain": [
              "<Figure size 1440x1080 with 1 Axes>"
            ],
            "image/png": "[encoded data removed]"
          },
          "metadata": {
            "needs_background": "light"
          }
        }
      ]
    },
    {
      "cell_type": "markdown",
      "source": [
        "Before training the model, the query and its documents embeddings are quite far from each other."
      ],
      "metadata": {
        "id": "gIiC1_KCqrgM"
      }
    },
    {
      "cell_type": "markdown",
      "source": [
        "## Contrastive Loss"
      ],
      "metadata": {
        "id": "Lyi9ju4Cv8ji"
      }
    },
    {
      "cell_type": "markdown",
      "source": [
        "### Data formatting"
      ],
      "metadata": {
        "id": "LqLB1dJbN6S8"
      }
    },
    {
      "cell_type": "markdown",
      "source": [
        "Before feeding the model, data must be formatted properly. In particular, to be able to train the model using Contrastive Loss, the input must be in the format *(query, pos_document, label=1)*, *(query, neg_document, label=0)* , where *pos_document* is one relevant document for the *query* while and *neg_document* is a non-relevant one.\n",
        "\n",
        "Since the dataset only contains pairs of *(query, pos_document)*, the negative must be set manually using the `pairs_format` function."
      ],
      "metadata": {
        "id": "IzNbbggjN6S-"
      }
    },
    {
      "cell_type": "code",
      "source": [
        "df_train_pairs = pairs_format(df_train, train_qid_text, train_docid_text)\n",
        "df_test_val = pairs_format(df_val, val_qid_text, val_docid_text)\n",
        "df_test_pairs = pairs_format(df_test, test_qid_text, test_docid_text)"
      ],
      "metadata": {
        "id": "vFa6FHj_gb4k"
      },
      "execution_count": null,
      "outputs": []
    },
    {
      "cell_type": "code",
      "source": [
        "df_train_pairs"
      ],
      "metadata": {
        "colab": {
          "base_uri": "https://localhost:8080/",
          "height": 423
        },
        "id": "9y3D1WI_-dGn",
        "outputId": "b097c711-512f-48ee-b6a3-c1630203ad0a"
      },
      "execution_count": null,
      "outputs": [
        {
          "output_type": "execute_result",
          "data": {
            "text/plain": [
              "         QUERY_ID    DOC_ID  \\\n",
              "0       PLAIN-755  MED-2436   \n",
              "1       PLAIN-755  MED-1409   \n",
              "2       PLAIN-755  MED-2437   \n",
              "3       PLAIN-755  MED-5287   \n",
              "4       PLAIN-755  MED-2438   \n",
              "...           ...       ...   \n",
              "101855  PLAIN-428  MED-4896   \n",
              "101856  PLAIN-428   MED-925   \n",
              "101857  PLAIN-428  MED-1357   \n",
              "101858  PLAIN-428   MED-926   \n",
              "101859  PLAIN-428  MED-3772   \n",
              "\n",
              "                                                   TEXT_Q  \\\n",
              "0       breast cancermuch like types cancer plantbased...   \n",
              "1       breast cancermuch like types cancer plantbased...   \n",
              "2       breast cancermuch like types cancer plantbased...   \n",
              "3       breast cancermuch like types cancer plantbased...   \n",
              "4       breast cancermuch like types cancer plantbased...   \n",
              "...                                                   ...   \n",
              "101855  making water alkaline much baking soda muchhtt...   \n",
              "101856  making water alkaline much baking soda muchhtt...   \n",
              "101857  making water alkaline much baking soda muchhtt...   \n",
              "101858  making water alkaline much baking soda muchhtt...   \n",
              "101859  making water alkaline much baking soda muchhtt...   \n",
              "\n",
              "                                                 TEXT_DOC  LABEL  \\\n",
              "0       abstract content low density lipoprotein ldl r...      1   \n",
              "1       abstract study compares prevalence coronary he...      0   \n",
              "2       abstract background breast cancer commonly dia...      1   \n",
              "3       abstract limited research examining relationsh...      0   \n",
              "4       abstract phytoestrogens structurally similar e...      1   \n",
              "...                                                   ...    ...   \n",
              "101855  abstract background westernized societies acne...      0   \n",
              "101856  abstract present case sixweekold infant develo...      1   \n",
              "101857  abstract background previous observational int...      0   \n",
              "101858  abstract case severe metabolic alkalosis resul...      1   \n",
              "101859  abstract clinical link exists severe dehydrati...      0   \n",
              "\n",
              "        RELEVANCE_LEVEL  \n",
              "0                     1  \n",
              "1                     0  \n",
              "2                     1  \n",
              "3                     0  \n",
              "4                     1  \n",
              "...                 ...  \n",
              "101855                0  \n",
              "101856                2  \n",
              "101857                0  \n",
              "101858                2  \n",
              "101859                0  \n",
              "\n",
              "[101860 rows x 6 columns]"
            ],
            "text/html": [
              "\n",
              "  <div id=\"df-60f751ff-76df-4693-bb46-0ff087adb9ff\">\n",
              "    <div class=\"colab-df-container\">\n",
              "      <div>\n",
              "<style scoped>\n",
              "    .dataframe tbody tr th:only-of-type {\n",
              "        vertical-align: middle;\n",
              "    }\n",
              "\n",
              "    .dataframe tbody tr th {\n",
              "        vertical-align: top;\n",
              "    }\n",
              "\n",
              "    .dataframe thead th {\n",
              "        text-align: right;\n",
              "    }\n",
              "</style>\n",
              "<table border=\"1\" class=\"dataframe\">\n",
              "  <thead>\n",
              "    <tr style=\"text-align: right;\">\n",
              "      <th></th>\n",
              "      <th>QUERY_ID</th>\n",
              "      <th>DOC_ID</th>\n",
              "      <th>TEXT_Q</th>\n",
              "      <th>TEXT_DOC</th>\n",
              "      <th>LABEL</th>\n",
              "      <th>RELEVANCE_LEVEL</th>\n",
              "    </tr>\n",
              "  </thead>\n",
              "  <tbody>\n",
              "    <tr>\n",
              "      <th>0</th>\n",
              "      <td>PLAIN-755</td>\n",
              "      <td>MED-2436</td>\n",
              "      <td>breast cancermuch like types cancer plantbased...</td>\n",
              "      <td>abstract content low density lipoprotein ldl r...</td>\n",
              "      <td>1</td>\n",
              "      <td>1</td>\n",
              "    </tr>\n",
              "    <tr>\n",
              "      <th>1</th>\n",
              "      <td>PLAIN-755</td>\n",
              "      <td>MED-1409</td>\n",
              "      <td>breast cancermuch like types cancer plantbased...</td>\n",
              "      <td>abstract study compares prevalence coronary he...</td>\n",
              "      <td>0</td>\n",
              "      <td>0</td>\n",
              "    </tr>\n",
              "    <tr>\n",
              "      <th>2</th>\n",
              "      <td>PLAIN-755</td>\n",
              "      <td>MED-2437</td>\n",
              "      <td>breast cancermuch like types cancer plantbased...</td>\n",
              "      <td>abstract background breast cancer commonly dia...</td>\n",
              "      <td>1</td>\n",
              "      <td>1</td>\n",
              "    </tr>\n",
              "    <tr>\n",
              "      <th>3</th>\n",
              "      <td>PLAIN-755</td>\n",
              "      <td>MED-5287</td>\n",
              "      <td>breast cancermuch like types cancer plantbased...</td>\n",
              "      <td>abstract limited research examining relationsh...</td>\n",
              "      <td>0</td>\n",
              "      <td>0</td>\n",
              "    </tr>\n",
              "    <tr>\n",
              "      <th>4</th>\n",
              "      <td>PLAIN-755</td>\n",
              "      <td>MED-2438</td>\n",
              "      <td>breast cancermuch like types cancer plantbased...</td>\n",
              "      <td>abstract phytoestrogens structurally similar e...</td>\n",
              "      <td>1</td>\n",
              "      <td>1</td>\n",
              "    </tr>\n",
              "    <tr>\n",
              "      <th>...</th>\n",
              "      <td>...</td>\n",
              "      <td>...</td>\n",
              "      <td>...</td>\n",
              "      <td>...</td>\n",
              "      <td>...</td>\n",
              "      <td>...</td>\n",
              "    </tr>\n",
              "    <tr>\n",
              "      <th>101855</th>\n",
              "      <td>PLAIN-428</td>\n",
              "      <td>MED-4896</td>\n",
              "      <td>making water alkaline much baking soda muchhtt...</td>\n",
              "      <td>abstract background westernized societies acne...</td>\n",
              "      <td>0</td>\n",
              "      <td>0</td>\n",
              "    </tr>\n",
              "    <tr>\n",
              "      <th>101856</th>\n",
              "      <td>PLAIN-428</td>\n",
              "      <td>MED-925</td>\n",
              "      <td>making water alkaline much baking soda muchhtt...</td>\n",
              "      <td>abstract present case sixweekold infant develo...</td>\n",
              "      <td>1</td>\n",
              "      <td>2</td>\n",
              "    </tr>\n",
              "    <tr>\n",
              "      <th>101857</th>\n",
              "      <td>PLAIN-428</td>\n",
              "      <td>MED-1357</td>\n",
              "      <td>making water alkaline much baking soda muchhtt...</td>\n",
              "      <td>abstract background previous observational int...</td>\n",
              "      <td>0</td>\n",
              "      <td>0</td>\n",
              "    </tr>\n",
              "    <tr>\n",
              "      <th>101858</th>\n",
              "      <td>PLAIN-428</td>\n",
              "      <td>MED-926</td>\n",
              "      <td>making water alkaline much baking soda muchhtt...</td>\n",
              "      <td>abstract case severe metabolic alkalosis resul...</td>\n",
              "      <td>1</td>\n",
              "      <td>2</td>\n",
              "    </tr>\n",
              "    <tr>\n",
              "      <th>101859</th>\n",
              "      <td>PLAIN-428</td>\n",
              "      <td>MED-3772</td>\n",
              "      <td>making water alkaline much baking soda muchhtt...</td>\n",
              "      <td>abstract clinical link exists severe dehydrati...</td>\n",
              "      <td>0</td>\n",
              "      <td>0</td>\n",
              "    </tr>\n",
              "  </tbody>\n",
              "</table>\n",
              "<p>101860 rows × 6 columns</p>\n",
              "</div>\n",
              "      <button class=\"colab-df-convert\" onclick=\"convertToInteractive('df-60f751ff-76df-4693-bb46-0ff087adb9ff')\"\n",
              "              title=\"Convert this dataframe to an interactive table.\"\n",
              "              style=\"display:none;\">\n",
              "        \n",
              "  <svg xmlns=\"http://www.w3.org/2000/svg\" height=\"24px\"viewBox=\"0 0 24 24\"\n",
              "       width=\"24px\">\n",
              "    <path d=\"M0 0h24v24H0V0z\" fill=\"none\"/>\n",
              "    <path d=\"M18.56 5.44l.94 2.06.94-2.06 2.06-.94-2.06-.94-.94-2.06-.94 2.06-2.06.94zm-11 1L8.5 8.5l.94-2.06 2.06-.94-2.06-.94L8.5 2.5l-.94 2.06-2.06.94zm10 10l.94 2.06.94-2.06 2.06-.94-2.06-.94-.94-2.06-.94 2.06-2.06.94z\"/><path d=\"M17.41 7.96l-1.37-1.37c-.4-.4-.92-.59-1.43-.59-.52 0-1.04.2-1.43.59L10.3 9.45l-7.72 7.72c-.78.78-.78 2.05 0 2.83L4 21.41c.39.39.9.59 1.41.59.51 0 1.02-.2 1.41-.59l7.78-7.78 2.81-2.81c.8-.78.8-2.07 0-2.86zM5.41 20L4 18.59l7.72-7.72 1.47 1.35L5.41 20z\"/>\n",
              "  </svg>\n",
              "      </button>\n",
              "      \n",
              "  <style>\n",
              "    .colab-df-container {\n",
              "      display:flex;\n",
              "      flex-wrap:wrap;\n",
              "      gap: 12px;\n",
              "    }\n",
              "\n",
              "    .colab-df-convert {\n",
              "      background-color: #E8F0FE;\n",
              "      border: none;\n",
              "      border-radius: 50%;\n",
              "      cursor: pointer;\n",
              "      display: none;\n",
              "      fill: #1967D2;\n",
              "      height: 32px;\n",
              "      padding: 0 0 0 0;\n",
              "      width: 32px;\n",
              "    }\n",
              "\n",
              "    .colab-df-convert:hover {\n",
              "      background-color: #E2EBFA;\n",
              "      box-shadow: 0px 1px 2px rgba(60, 64, 67, 0.3), 0px 1px 3px 1px rgba(60, 64, 67, 0.15);\n",
              "      fill: #174EA6;\n",
              "    }\n",
              "\n",
              "    [theme=dark] .colab-df-convert {\n",
              "      background-color: #3B4455;\n",
              "      fill: #D2E3FC;\n",
              "    }\n",
              "\n",
              "    [theme=dark] .colab-df-convert:hover {\n",
              "      background-color: #434B5C;\n",
              "      box-shadow: 0px 1px 3px 1px rgba(0, 0, 0, 0.15);\n",
              "      filter: drop-shadow(0px 1px 2px rgba(0, 0, 0, 0.3));\n",
              "      fill: #FFFFFF;\n",
              "    }\n",
              "  </style>\n",
              "\n",
              "      <script>\n",
              "        const buttonEl =\n",
              "          document.querySelector('#df-60f751ff-76df-4693-bb46-0ff087adb9ff button.colab-df-convert');\n",
              "        buttonEl.style.display =\n",
              "          google.colab.kernel.accessAllowed ? 'block' : 'none';\n",
              "\n",
              "        async function convertToInteractive(key) {\n",
              "          const element = document.querySelector('#df-60f751ff-76df-4693-bb46-0ff087adb9ff');\n",
              "          const dataTable =\n",
              "            await google.colab.kernel.invokeFunction('convertToInteractive',\n",
              "                                                     [key], {});\n",
              "          if (!dataTable) return;\n",
              "\n",
              "          const docLinkHtml = 'Like what you see? Visit the ' +\n",
              "            '<a target=\"_blank\" href=https://colab.research.google.com/notebooks/data_table.ipynb>data table notebook</a>'\n",
              "            + ' to learn more about interactive tables.';\n",
              "          element.innerHTML = '';\n",
              "          dataTable['output_type'] = 'display_data';\n",
              "          await google.colab.output.renderOutput(dataTable, element);\n",
              "          const docLink = document.createElement('div');\n",
              "          docLink.innerHTML = docLinkHtml;\n",
              "          element.appendChild(docLink);\n",
              "        }\n",
              "      </script>\n",
              "    </div>\n",
              "  </div>\n",
              "  "
            ]
          },
          "metadata": {},
          "execution_count": 80
        }
      ]
    },
    {
      "cell_type": "markdown",
      "source": [
        "### Training"
      ],
      "metadata": {
        "id": "vh6iKD_IFeWi"
      }
    },
    {
      "cell_type": "code",
      "source": [
        "# Load a new bert-mini model\n",
        "\n",
        "word_embedding_model = models.Transformer('prajjwal1/bert-mini')\n",
        "pooling_model = models.Pooling(word_embedding_model.get_word_embedding_dimension())\n",
        "model = SentenceTransformer(modules=[word_embedding_model, pooling_model])"
      ],
      "metadata": {
        "id": "Ki1iQIdmuxVx"
      },
      "execution_count": null,
      "outputs": []
    },
    {
      "cell_type": "code",
      "source": [
        "# Convert the dataframe into a dataset\n",
        "\n",
        "train_ds = Dataset.from_pandas(df_train_pairs)\n",
        "train_ds"
      ],
      "metadata": {
        "id": "pplyUvhspNUE",
        "colab": {
          "base_uri": "https://localhost:8080/"
        },
        "outputId": "fae56f12-9d62-4590-f31c-369aa7771a7c"
      },
      "execution_count": null,
      "outputs": [
        {
          "output_type": "execute_result",
          "data": {
            "text/plain": [
              "Dataset({\n",
              "    features: ['QUERY_ID', 'DOC_ID', 'TEXT_Q', 'TEXT_DOC', 'LABEL', 'RELEVANCE_LEVEL'],\n",
              "    num_rows: 101860\n",
              "})"
            ]
          },
          "metadata": {},
          "execution_count": 81
        }
      ]
    },
    {
      "cell_type": "code",
      "source": [
        "# Format properly the input\n",
        "\n",
        "train_samples = []\n",
        "train_data = train_ds\n",
        "n_samples = train_ds.num_rows\n",
        "\n",
        "for i in range(n_samples):\n",
        "  sample = train_data[i]\n",
        "  train_samples.append(InputExample(texts=[sample['TEXT_Q'], sample['TEXT_DOC']], label=sample['LABEL'] ))"
      ],
      "metadata": {
        "id": "p7v2Cj8xpNUH"
      },
      "execution_count": null,
      "outputs": []
    },
    {
      "cell_type": "code",
      "source": [
        "# Collect train data into a dataloader\n",
        "\n",
        "train_dataloader = DataLoader(train_samples, shuffle=True, batch_size=32)"
      ],
      "metadata": {
        "id": "u8ruwqVUpNUI"
      },
      "execution_count": null,
      "outputs": []
    },
    {
      "cell_type": "code",
      "source": [
        "# Define the loss function\n",
        "\n",
        "train_loss = losses.OnlineContrastiveLoss(model=model, margin=0.1)"
      ],
      "metadata": {
        "id": "HK9NAUMspNUJ"
      },
      "execution_count": null,
      "outputs": []
    },
    {
      "cell_type": "code",
      "source": [
        "# Define an evaluator on validation data\n",
        "\n",
        "evaluator = evaluation.InformationRetrievalEvaluator(queries = val_qid_text,\n",
        "                                                     corpus = val_docid_text,\n",
        "                                                     relevant_docs = val_query_docs_rel_order,\n",
        "                                                     accuracy_at_k = [1, 3, 5, 10],\n",
        "                                                     precision_recall_at_k = [1, 3, 5, 10],\n",
        "                                                     map_at_k = [1, 3, 5, 10],\n",
        "                                                     show_progress_bar=True,\n",
        "                                                     score_functions = {'cos_sim': cos_sim})"
      ],
      "metadata": {
        "id": "HFWoBTx5wMP_"
      },
      "execution_count": null,
      "outputs": []
    },
    {
      "cell_type": "code",
      "source": [
        "# Train the model for 3 epochs\n",
        "\n",
        "model.fit(train_objectives=[(train_dataloader, train_loss)],\n",
        "          epochs=3,\n",
        "          evaluator=evaluator,\n",
        "          output_path = 'model_contrastive_loss/',\n",
        "          evaluation_steps = 5000,\n",
        "          save_best_model=True)"
      ],
      "metadata": {
        "colab": {
          "base_uri": "https://localhost:8080/",
          "height": 405,
          "referenced_widgets": [
            "3a8c6233323448849ebc049f4911211a",
            "7975aaa2699c45649585744dd13ddbb4",
            "e78ce477118d41f89ac8fdb43162b7f7",
            "0779c7b06ee94f34a4ddc3139b438477",
            "1318aecafd284f2ca6741f7989e24b0f",
            "f8ec826983c1406e93d0449b1798dda8",
            "68f1bd296e204ad0be4d4292a0927f89",
            "5f0ef989b9fb48248d8cee1d74853a7f",
            "18fd6692e00f40c5bdafe0bd6af48739",
            "dabe5d3280cd4584b9ae0e5322cd32e0",
            "69dfe902378746ac9ba23a108a9ca92c",
            "51780bfee2bf4fc2bef14807bf3aef19",
            "fa442bc6276d4007aa7179b36565d45a",
            "21b54a210dd74f98a400aaa702d3bea8",
            "3cce59976b2f4dbb8f83a681c6180369",
            "c23f11e7263e40f18327c8ae0404af9f",
            "64683b22b60a422fb967ee8545acb0b3",
            "e6b25e941bbd4a1d9a4449b3dac6dff9",
            "6cbb881905104908abf665f39d04a72e",
            "d53cae3a73e14765bcec73bc8964e6ad",
            "9b897955ff4547568f14df7a95081031",
            "21da8d36f4534fdbb98ac01ef2de2a38",
            "051b3ba0ee3c4b5c8ae385155497beb3",
            "a4aba4d7b3f74a05967d8a2ad15fbd3a",
            "99f3989c1c544e0fb4c719dadb06419a",
            "8c56b4ca959c4a99869b14765f022652",
            "c3948b36182f4ec8b8341b46b2b1591d",
            "cceba17e467649f9b15898cecbf81e81",
            "9ec7abc5cd3e4702b81b1bcf5148da57",
            "f0e29424e33b4a709eba7efd5585fe36",
            "0872bb9791b44a738ee17dbc1f84034c",
            "81506969edb347a196f28f2a940a6da5",
            "080d4f25a991477987137c5ffc231f9a",
            "e9f74923b2804e3b8ef9c98ee9861be0",
            "2d990af63ed04b75ae70c2c69011d794",
            "bac95056d52a42b7bf2907f5a6dfdbb6",
            "b5f9290e2bc348bdb4af0300e81096d4",
            "ea5f05005fc1466bb4b479c0730b9191",
            "67b406a60d2b42528f4394526e5d2c63",
            "ba285077721a436f830e2bc22e04f333",
            "1c185cc14e6547019fa2b8221bd0dd0d",
            "e39ec3ea201d458c82c712e4febe3cc6",
            "9ed0e6be2c9e47aabb8bd27b6b2d2120",
            "7eba3175bf314cbaa9b835eb82c1971e",
            "944ce6957d404ff098251b2fc9d704dc",
            "85fb6e1669ae4ccabae2ed843fcf4706",
            "62516c56e6434befaf952be99eeb557b",
            "ea20c4ec66bb4bf291af72b50d2b8f93",
            "25df301af52f43f69c40cd08b86a8efa",
            "23df2a16fa214876929bd7991a9f742f",
            "d7c7fd22c9614c748d4bf83bb40860d8",
            "fa9676b8dbd144f59acfd5a72cf2d551",
            "a76c6c3b20504746b6c755811d60dc99",
            "c353ab60bcbd409fa68f3de71d1f3ed1",
            "133109fcc3ec4d6d84496aae9d16d56b",
            "862cb3743c2344a7bb3f12fbf96fa34c",
            "97eac336e8d845cabc997dc3cae38604",
            "f37e152d4ea6448fb43f80b4f20c3690",
            "73915081216f4e3c95041267bd7c7219",
            "1aca76501e2246d3ad1270b54d1b0aba",
            "d36b813aa4be47168f31d998af017c19",
            "1c240b9476b74d7aae94819a10375849",
            "6a4c872fb9d44116955e62e68d624c18",
            "a20ffc30734044cc9721aa2806dc6ea1",
            "d4f0ec5844204fcf9f7f346b19042cde",
            "380470f87d1d4ec785500f17c346506e",
            "ffa0ac1956d44aef908433b7f53eb192",
            "43959363aaa8426585208814b4768865",
            "04e49bd891f74309b28e648148e6eedc",
            "c22729568c934a858db13d1a4524cc5a",
            "4fcbbb43ad4146309999ee71cd6738bb",
            "c20004486e1645abbda35820a1750b43",
            "b6ea01b4116c4161bef0a2d5e6997e0e",
            "22c7e8e9050644b79d610aea9d94a078",
            "7a2b27d4c3f44635b43ff5400a2556ca",
            "8f711aace3e4419ba828878b1e0c9913",
            "4de7da9dc4484d23835b79245e647360"
          ]
        },
        "id": "LG3tdrJTXjc2",
        "outputId": "0ec92276-9974-4c2e-ebf8-ab6b84e36118"
      },
      "execution_count": null,
      "outputs": [
        {
          "output_type": "display_data",
          "data": {
            "text/plain": [
              "Epoch:   0%|          | 0/3 [00:00<?, ?it/s]"
            ],
            "application/vnd.jupyter.widget-view+json": {
              "version_major": 2,
              "version_minor": 0,
              "model_id": "3a8c6233323448849ebc049f4911211a"
            }
          },
          "metadata": {}
        },
        {
          "output_type": "display_data",
          "data": {
            "text/plain": [
              "Iteration:   0%|          | 0/3184 [00:00<?, ?it/s]"
            ],
            "application/vnd.jupyter.widget-view+json": {
              "version_major": 2,
              "version_minor": 0,
              "model_id": "51780bfee2bf4fc2bef14807bf3aef19"
            }
          },
          "metadata": {}
        },
        {
          "output_type": "display_data",
          "data": {
            "text/plain": [
              "Batches:   0%|          | 0/11 [00:00<?, ?it/s]"
            ],
            "application/vnd.jupyter.widget-view+json": {
              "version_major": 2,
              "version_minor": 0,
              "model_id": "051b3ba0ee3c4b5c8ae385155497beb3"
            }
          },
          "metadata": {}
        },
        {
          "output_type": "stream",
          "name": "stderr",
          "text": [
            "\n",
            "Corpus Chunks:   0%|          | 0/1 [00:00<?, ?it/s]\u001b[A\n",
            "Corpus Chunks: 100%|██████████| 1/1 [00:03<00:00,  3.40s/it]\n"
          ]
        },
        {
          "output_type": "display_data",
          "data": {
            "text/plain": [
              "Iteration:   0%|          | 0/3184 [00:00<?, ?it/s]"
            ],
            "application/vnd.jupyter.widget-view+json": {
              "version_major": 2,
              "version_minor": 0,
              "model_id": "e9f74923b2804e3b8ef9c98ee9861be0"
            }
          },
          "metadata": {}
        },
        {
          "output_type": "display_data",
          "data": {
            "text/plain": [
              "Batches:   0%|          | 0/11 [00:00<?, ?it/s]"
            ],
            "application/vnd.jupyter.widget-view+json": {
              "version_major": 2,
              "version_minor": 0,
              "model_id": "944ce6957d404ff098251b2fc9d704dc"
            }
          },
          "metadata": {}
        },
        {
          "output_type": "stream",
          "name": "stderr",
          "text": [
            "\n",
            "Corpus Chunks:   0%|          | 0/1 [00:00<?, ?it/s]\u001b[A\n",
            "Corpus Chunks: 100%|██████████| 1/1 [00:04<00:00,  4.46s/it]\n"
          ]
        },
        {
          "output_type": "display_data",
          "data": {
            "text/plain": [
              "Iteration:   0%|          | 0/3184 [00:00<?, ?it/s]"
            ],
            "application/vnd.jupyter.widget-view+json": {
              "version_major": 2,
              "version_minor": 0,
              "model_id": "862cb3743c2344a7bb3f12fbf96fa34c"
            }
          },
          "metadata": {}
        },
        {
          "output_type": "display_data",
          "data": {
            "text/plain": [
              "Batches:   0%|          | 0/11 [00:00<?, ?it/s]"
            ],
            "application/vnd.jupyter.widget-view+json": {
              "version_major": 2,
              "version_minor": 0,
              "model_id": "ffa0ac1956d44aef908433b7f53eb192"
            }
          },
          "metadata": {}
        },
        {
          "output_type": "stream",
          "name": "stderr",
          "text": [
            "\n",
            "Corpus Chunks:   0%|          | 0/1 [00:00<?, ?it/s]\u001b[A\n",
            "Corpus Chunks: 100%|██████████| 1/1 [00:05<00:00,  5.24s/it]\n"
          ]
        }
      ]
    },
    {
      "cell_type": "code",
      "source": [
        "#model.save('/content/drive/MyDrive/Colab Notebooks/sentence_transformer/bert_mini_contrastive_loss')"
      ],
      "metadata": {
        "id": "gmhb0a9kX48l"
      },
      "execution_count": null,
      "outputs": []
    },
    {
      "cell_type": "markdown",
      "source": [
        "Let's see the results on the validation set during the $3$ epochs of training."
      ],
      "metadata": {
        "id": "j5_TjPS7Xn0V"
      }
    },
    {
      "cell_type": "code",
      "source": [
        "results = pd.read_csv('model_contrastive_loss/eval/Information-Retrieval_evaluation_results.csv').drop(['steps','cos_sim-MRR@10','cos_sim-NDCG@10'], axis=1)\n",
        "results"
      ],
      "metadata": {
        "colab": {
          "base_uri": "https://localhost:8080/",
          "height": 205
        },
        "id": "CNjvDnhR0P0P",
        "outputId": "573abcae-e1d3-4d7f-f76e-9b2c20ed2746"
      },
      "execution_count": null,
      "outputs": [
        {
          "output_type": "execute_result",
          "data": {
            "text/plain": [
              "   epoch  cos_sim-Accuracy@1  cos_sim-Accuracy@3  cos_sim-Accuracy@5  \\\n",
              "0      0            0.320242            0.528701            0.619335   \n",
              "1      1            0.401813            0.595166            0.697885   \n",
              "2      2            0.419940            0.613293            0.676737   \n",
              "\n",
              "   cos_sim-Accuracy@10  cos_sim-Precision@1  cos_sim-Recall@1  \\\n",
              "0             0.709970             0.320242          0.030834   \n",
              "1             0.791541             0.401813          0.029874   \n",
              "2             0.773414             0.419940          0.025223   \n",
              "\n",
              "   cos_sim-Precision@3  cos_sim-Recall@3  cos_sim-Precision@5  \\\n",
              "0             0.255791          0.048472             0.217523   \n",
              "1             0.335347          0.057012             0.293051   \n",
              "2             0.357503          0.058781             0.319033   \n",
              "\n",
              "   cos_sim-Recall@5  cos_sim-Precision@10  cos_sim-Recall@10  cos_sim-MAP@1  \\\n",
              "0          0.064016              0.177644           0.087090       0.320242   \n",
              "1          0.076072              0.246828           0.112441       0.401813   \n",
              "2          0.080994              0.276133           0.119770       0.419940   \n",
              "\n",
              "   cos_sim-MAP@3  cos_sim-MAP@5  cos_sim-MAP@10  \n",
              "0       0.219033       0.175476        0.133700  \n",
              "1       0.293471       0.240541        0.186704  \n",
              "2       0.320074       0.270023        0.219604  "
            ],
            "text/html": [
              "\n",
              "  <div id=\"df-b18ec50f-5ec0-4ff4-bfea-b60a0ad79e94\">\n",
              "    <div class=\"colab-df-container\">\n",
              "      <div>\n",
              "<style scoped>\n",
              "    .dataframe tbody tr th:only-of-type {\n",
              "        vertical-align: middle;\n",
              "    }\n",
              "\n",
              "    .dataframe tbody tr th {\n",
              "        vertical-align: top;\n",
              "    }\n",
              "\n",
              "    .dataframe thead th {\n",
              "        text-align: right;\n",
              "    }\n",
              "</style>\n",
              "<table border=\"1\" class=\"dataframe\">\n",
              "  <thead>\n",
              "    <tr style=\"text-align: right;\">\n",
              "      <th></th>\n",
              "      <th>epoch</th>\n",
              "      <th>cos_sim-Accuracy@1</th>\n",
              "      <th>cos_sim-Accuracy@3</th>\n",
              "      <th>cos_sim-Accuracy@5</th>\n",
              "      <th>cos_sim-Accuracy@10</th>\n",
              "      <th>cos_sim-Precision@1</th>\n",
              "      <th>cos_sim-Recall@1</th>\n",
              "      <th>cos_sim-Precision@3</th>\n",
              "      <th>cos_sim-Recall@3</th>\n",
              "      <th>cos_sim-Precision@5</th>\n",
              "      <th>cos_sim-Recall@5</th>\n",
              "      <th>cos_sim-Precision@10</th>\n",
              "      <th>cos_sim-Recall@10</th>\n",
              "      <th>cos_sim-MAP@1</th>\n",
              "      <th>cos_sim-MAP@3</th>\n",
              "      <th>cos_sim-MAP@5</th>\n",
              "      <th>cos_sim-MAP@10</th>\n",
              "    </tr>\n",
              "  </thead>\n",
              "  <tbody>\n",
              "    <tr>\n",
              "      <th>0</th>\n",
              "      <td>0</td>\n",
              "      <td>0.320242</td>\n",
              "      <td>0.528701</td>\n",
              "      <td>0.619335</td>\n",
              "      <td>0.709970</td>\n",
              "      <td>0.320242</td>\n",
              "      <td>0.030834</td>\n",
              "      <td>0.255791</td>\n",
              "      <td>0.048472</td>\n",
              "      <td>0.217523</td>\n",
              "      <td>0.064016</td>\n",
              "      <td>0.177644</td>\n",
              "      <td>0.087090</td>\n",
              "      <td>0.320242</td>\n",
              "      <td>0.219033</td>\n",
              "      <td>0.175476</td>\n",
              "      <td>0.133700</td>\n",
              "    </tr>\n",
              "    <tr>\n",
              "      <th>1</th>\n",
              "      <td>1</td>\n",
              "      <td>0.401813</td>\n",
              "      <td>0.595166</td>\n",
              "      <td>0.697885</td>\n",
              "      <td>0.791541</td>\n",
              "      <td>0.401813</td>\n",
              "      <td>0.029874</td>\n",
              "      <td>0.335347</td>\n",
              "      <td>0.057012</td>\n",
              "      <td>0.293051</td>\n",
              "      <td>0.076072</td>\n",
              "      <td>0.246828</td>\n",
              "      <td>0.112441</td>\n",
              "      <td>0.401813</td>\n",
              "      <td>0.293471</td>\n",
              "      <td>0.240541</td>\n",
              "      <td>0.186704</td>\n",
              "    </tr>\n",
              "    <tr>\n",
              "      <th>2</th>\n",
              "      <td>2</td>\n",
              "      <td>0.419940</td>\n",
              "      <td>0.613293</td>\n",
              "      <td>0.676737</td>\n",
              "      <td>0.773414</td>\n",
              "      <td>0.419940</td>\n",
              "      <td>0.025223</td>\n",
              "      <td>0.357503</td>\n",
              "      <td>0.058781</td>\n",
              "      <td>0.319033</td>\n",
              "      <td>0.080994</td>\n",
              "      <td>0.276133</td>\n",
              "      <td>0.119770</td>\n",
              "      <td>0.419940</td>\n",
              "      <td>0.320074</td>\n",
              "      <td>0.270023</td>\n",
              "      <td>0.219604</td>\n",
              "    </tr>\n",
              "  </tbody>\n",
              "</table>\n",
              "</div>\n",
              "      <button class=\"colab-df-convert\" onclick=\"convertToInteractive('df-b18ec50f-5ec0-4ff4-bfea-b60a0ad79e94')\"\n",
              "              title=\"Convert this dataframe to an interactive table.\"\n",
              "              style=\"display:none;\">\n",
              "        \n",
              "  <svg xmlns=\"http://www.w3.org/2000/svg\" height=\"24px\"viewBox=\"0 0 24 24\"\n",
              "       width=\"24px\">\n",
              "    <path d=\"M0 0h24v24H0V0z\" fill=\"none\"/>\n",
              "    <path d=\"M18.56 5.44l.94 2.06.94-2.06 2.06-.94-2.06-.94-.94-2.06-.94 2.06-2.06.94zm-11 1L8.5 8.5l.94-2.06 2.06-.94-2.06-.94L8.5 2.5l-.94 2.06-2.06.94zm10 10l.94 2.06.94-2.06 2.06-.94-2.06-.94-.94-2.06-.94 2.06-2.06.94z\"/><path d=\"M17.41 7.96l-1.37-1.37c-.4-.4-.92-.59-1.43-.59-.52 0-1.04.2-1.43.59L10.3 9.45l-7.72 7.72c-.78.78-.78 2.05 0 2.83L4 21.41c.39.39.9.59 1.41.59.51 0 1.02-.2 1.41-.59l7.78-7.78 2.81-2.81c.8-.78.8-2.07 0-2.86zM5.41 20L4 18.59l7.72-7.72 1.47 1.35L5.41 20z\"/>\n",
              "  </svg>\n",
              "      </button>\n",
              "      \n",
              "  <style>\n",
              "    .colab-df-container {\n",
              "      display:flex;\n",
              "      flex-wrap:wrap;\n",
              "      gap: 12px;\n",
              "    }\n",
              "\n",
              "    .colab-df-convert {\n",
              "      background-color: #E8F0FE;\n",
              "      border: none;\n",
              "      border-radius: 50%;\n",
              "      cursor: pointer;\n",
              "      display: none;\n",
              "      fill: #1967D2;\n",
              "      height: 32px;\n",
              "      padding: 0 0 0 0;\n",
              "      width: 32px;\n",
              "    }\n",
              "\n",
              "    .colab-df-convert:hover {\n",
              "      background-color: #E2EBFA;\n",
              "      box-shadow: 0px 1px 2px rgba(60, 64, 67, 0.3), 0px 1px 3px 1px rgba(60, 64, 67, 0.15);\n",
              "      fill: #174EA6;\n",
              "    }\n",
              "\n",
              "    [theme=dark] .colab-df-convert {\n",
              "      background-color: #3B4455;\n",
              "      fill: #D2E3FC;\n",
              "    }\n",
              "\n",
              "    [theme=dark] .colab-df-convert:hover {\n",
              "      background-color: #434B5C;\n",
              "      box-shadow: 0px 1px 3px 1px rgba(0, 0, 0, 0.15);\n",
              "      filter: drop-shadow(0px 1px 2px rgba(0, 0, 0, 0.3));\n",
              "      fill: #FFFFFF;\n",
              "    }\n",
              "  </style>\n",
              "\n",
              "      <script>\n",
              "        const buttonEl =\n",
              "          document.querySelector('#df-b18ec50f-5ec0-4ff4-bfea-b60a0ad79e94 button.colab-df-convert');\n",
              "        buttonEl.style.display =\n",
              "          google.colab.kernel.accessAllowed ? 'block' : 'none';\n",
              "\n",
              "        async function convertToInteractive(key) {\n",
              "          const element = document.querySelector('#df-b18ec50f-5ec0-4ff4-bfea-b60a0ad79e94');\n",
              "          const dataTable =\n",
              "            await google.colab.kernel.invokeFunction('convertToInteractive',\n",
              "                                                     [key], {});\n",
              "          if (!dataTable) return;\n",
              "\n",
              "          const docLinkHtml = 'Like what you see? Visit the ' +\n",
              "            '<a target=\"_blank\" href=https://colab.research.google.com/notebooks/data_table.ipynb>data table notebook</a>'\n",
              "            + ' to learn more about interactive tables.';\n",
              "          element.innerHTML = '';\n",
              "          dataTable['output_type'] = 'display_data';\n",
              "          await google.colab.output.renderOutput(dataTable, element);\n",
              "          const docLink = document.createElement('div');\n",
              "          docLink.innerHTML = docLinkHtml;\n",
              "          element.appendChild(docLink);\n",
              "        }\n",
              "      </script>\n",
              "    </div>\n",
              "  </div>\n",
              "  "
            ]
          },
          "metadata": {},
          "execution_count": 88
        }
      ]
    },
    {
      "cell_type": "code",
      "source": [
        "# Reload the model\n",
        "\n",
        "#model = SentenceTransformer('/content/drive/MyDrive/Colab Notebooks/sentence_transformer/bert_mini_contrastive_loss')"
      ],
      "metadata": {
        "id": "bx_heOcHZuVE"
      },
      "execution_count": null,
      "outputs": []
    },
    {
      "cell_type": "code",
      "source": [
        "#! mkdir '/content/contrastive_loss'"
      ],
      "metadata": {
        "id": "LE_SS7mmKdgn"
      },
      "execution_count": null,
      "outputs": []
    },
    {
      "cell_type": "code",
      "source": [
        "#evaluator(model, output_path='/content/contrastive_loss')"
      ],
      "metadata": {
        "id": "hh8fwEjCKdgn"
      },
      "execution_count": null,
      "outputs": []
    },
    {
      "cell_type": "code",
      "source": [
        "#results = pd.read_csv('/content/contrastive_loss/Information-Retrieval_evaluation_results.csv').drop(['steps','cos_sim-MRR@10','cos_sim-NDCG@10','epoch'], axis=1)\n",
        "#results"
      ],
      "metadata": {
        "id": "WqLwv5l5Kdgo"
      },
      "execution_count": null,
      "outputs": []
    },
    {
      "cell_type": "markdown",
      "source": [
        "### Latent space visualization after model training"
      ],
      "metadata": {
        "id": "I8keAPGKzqoM"
      }
    },
    {
      "cell_type": "markdown",
      "source": [
        "Let the trained model to generate embeddings for test queries and documents."
      ],
      "metadata": {
        "id": "ac3QJvEEoKtj"
      }
    },
    {
      "cell_type": "code",
      "source": [
        "docs_embeddings = model.encode(list(test_docid_text.values()), convert_to_tensor=True)\n",
        "q_embeddings = model.encode(list(test_qid_text.values()), convert_to_tensor=True)\n",
        "\n",
        "docs_embeddings = docs_embeddings.cpu().numpy()\n",
        "q_embeddings = q_embeddings.cpu().numpy()"
      ],
      "metadata": {
        "id": "gursKr8WzqoP"
      },
      "execution_count": null,
      "outputs": []
    },
    {
      "cell_type": "code",
      "source": [
        "idx = list(test_qid_text.keys()).index('PLAIN-2989')\n",
        "query_id = list(test_qid_text.keys())[idx]\n",
        "query_text = list(test_qid_text.values())[idx]\n",
        "query_id"
      ],
      "metadata": {
        "colab": {
          "base_uri": "https://localhost:8080/",
          "height": 36
        },
        "outputId": "525ebfc9-b064-48e1-94b3-fb3041d4d049",
        "id": "d_CAFAXXzqoQ"
      },
      "execution_count": null,
      "outputs": [
        {
          "output_type": "execute_result",
          "data": {
            "text/plain": [
              "'PLAIN-2989'"
            ],
            "application/vnd.google.colaboratory.intrinsic+json": {
              "type": "string"
            }
          },
          "metadata": {},
          "execution_count": 90
        }
      ]
    },
    {
      "cell_type": "code",
      "source": [
        "docs_ids = test_query_docs_rel_order[query_id]\n",
        "docs_text = [test_docid_text[d] for d in docs_ids]\n",
        "docs_ids"
      ],
      "metadata": {
        "colab": {
          "base_uri": "https://localhost:8080/"
        },
        "outputId": "b3fd4273-c449-4cb5-ce32-62c2cf817ad8",
        "id": "FZe4uuMIAXo9"
      },
      "execution_count": null,
      "outputs": [
        {
          "output_type": "execute_result",
          "data": {
            "text/plain": [
              "['MED-4415',\n",
              " 'MED-4416',\n",
              " 'MED-4417',\n",
              " 'MED-4418',\n",
              " 'MED-3811',\n",
              " 'MED-3812',\n",
              " 'MED-3813',\n",
              " 'MED-4389']"
            ]
          },
          "metadata": {},
          "execution_count": 55
        }
      ]
    },
    {
      "cell_type": "code",
      "source": [
        "umap_visualizer = umap.UMAP(random_state = 56)\n",
        "umap_visualizer.fit(np.concatenate((docs_embeddings,q_embeddings)))\n",
        "docs_embeddings_reduced = umap_visualizer.transform(docs_embeddings)\n",
        "q_embeddings_reduced = umap_visualizer.transform(q_embeddings)"
      ],
      "metadata": {
        "id": "gs02yNTMPYaT"
      },
      "execution_count": null,
      "outputs": []
    },
    {
      "cell_type": "code",
      "source": [
        "visualize_embeddings(docs_embeddings_reduced, docs_ids, list(test_docid_text.keys()), q_embeddings_reduced, idx, query_id)"
      ],
      "metadata": {
        "colab": {
          "base_uri": "https://localhost:8080/",
          "height": 555
        },
        "id": "l7e5xIOklvny",
        "outputId": "f8f92d12-024f-4fd6-eabe-568efaf9f355"
      },
      "execution_count": null,
      "outputs": [
        {
          "output_type": "display_data",
          "data": {
            "text/plain": [
              "<Figure size 1440x1080 with 1 Axes>"
            ],
            "image/png": "[encoded data removed]"
          },
          "metadata": {
            "needs_background": "light"
          }
        }
      ]
    },
    {
      "cell_type": "markdown",
      "source": [
        "It can be clearly seen that the latent space is still spread but a little more clustered than before the training. Also, the embeddings of the query under analysis and most of its relevant documents collapse in close proximity."
      ],
      "metadata": {
        "id": "nDr8ZSbYoF4E"
      }
    },
    {
      "cell_type": "markdown",
      "source": [
        "### Documents retrieval"
      ],
      "metadata": {
        "id": "ypZ2NZZ4Pqao"
      }
    },
    {
      "cell_type": "markdown",
      "source": [
        "After obtaining the embeddings of queries and documents, they can be used for running information retrieval search on the corpus."
      ],
      "metadata": {
        "id": "fpcbFuD0Pqap"
      }
    },
    {
      "cell_type": "markdown",
      "source": [
        "#### Cosine Similarity"
      ],
      "metadata": {
        "id": "NbVgtUhSPqap"
      }
    },
    {
      "cell_type": "markdown",
      "source": [
        "First, it may be interesting to compute the cosine similarity between one query embedding and all documents embeddings, and to find out the pairs *query-document* with highest cosine similarity scores."
      ],
      "metadata": {
        "id": "pj4Lz3BJPqap"
      }
    },
    {
      "cell_type": "code",
      "source": [
        "query = 'PLAIN-2989'\n",
        "idx = list(test_qid_text.keys()).index(query)\n",
        "\n",
        "cos_scores = util.cos_sim(q_embeddings[idx], docs_embeddings)[0]\n",
        "top_results = torch.topk(cos_scores, k=10)\n",
        "\n",
        "print(\"Query:\", list(test_qid_text.keys())[idx])\n",
        "print()\n",
        "print('Clean text:', test_qid_text[query])\n",
        "print(\"\\nTop 10 most similar sentences in corpus:\")\n",
        "\n",
        "for score, i in zip(top_results[0], top_results[1]):\n",
        "    print(list(test_docid_text.keys())[i], \"(Score: {:.4f})\".format(score))\n",
        "\n",
        "df_relevant_docs = df_test[df_test['QUERY_ID']=='PLAIN-2989'].sort_values(by='RELEVANCE_LEVEL', ascending=False)\n",
        "\n",
        "print('\\nReal first relevant docs:')\n",
        "\n",
        "for idx, row in df_relevant_docs.iterrows():\n",
        "  print(f\"{row['DOC_ID']} (Relevance: {row['RELEVANCE_LEVEL']})\")"
      ],
      "metadata": {
        "colab": {
          "base_uri": "https://localhost:8080/"
        },
        "outputId": "ddf83855-8b13-4436-cd6c-def76c3dafc2",
        "id": "I4wvnQ-kPqaq"
      },
      "execution_count": null,
      "outputs": [
        {
          "output_type": "stream",
          "name": "stdout",
          "text": [
            "Query: PLAIN-2989\n",
            "\n",
            "Clean text: safer cinnamonsecond spice popularity black pepper cinnamon powdered inner bark four different species cinnamomum trees theres vietnamese cinnamom chinese cinnamon indonesian ceylon recent review raised concerns one compound called coumarin new human data suggests may toxic liver banned food additive still found naturally chinese cinnamon also known cassia cinnamon found significant amounts socalled true cinnamon ceylon cinnamon dont enough data two traffic lights recreational users people going way add like teaspoon daily diet ideally everyone since appears amazingly health promoting antiinflammatory antimicrobial antioxidant antitumor cardiovascular cholesterollowering immunomodulatory effects especially useful diabetes prediabeties eating cinnamon every day great make sure right kind uk says cinnamon ceylon cinnamonchinese cinnamon labeled cassia us though theyre labeled cinnamon since chinese cheaper thats cinnamon shelves make sure specifically says ceylon\n",
            "\n",
            "Top 10 most similar sentences in corpus:\n",
            "MED-4415 (Score: 0.9783)\n",
            "MED-3811 (Score: 0.9753)\n",
            "MED-4416 (Score: 0.9753)\n",
            "MED-4418 (Score: 0.9697)\n",
            "MED-3447 (Score: 0.9688)\n",
            "MED-2644 (Score: 0.9668)\n",
            "MED-2815 (Score: 0.9660)\n",
            "MED-5324 (Score: 0.9655)\n",
            "MED-4535 (Score: 0.9651)\n",
            "MED-5334 (Score: 0.9644)\n",
            "\n",
            "Real first relevant docs:\n",
            "MED-4415 (Relevance: 2)\n",
            "MED-4416 (Relevance: 2)\n",
            "MED-4417 (Relevance: 2)\n",
            "MED-4418 (Relevance: 2)\n",
            "MED-3811 (Relevance: 1)\n",
            "MED-3812 (Relevance: 1)\n",
            "MED-3813 (Relevance: 1)\n",
            "MED-4389 (Relevance: 1)\n"
          ]
        }
      ]
    },
    {
      "cell_type": "markdown",
      "source": [
        "#### K-NN search"
      ],
      "metadata": {
        "id": "KBXuU19PPqaq"
      }
    },
    {
      "cell_type": "markdown",
      "source": [
        "For perfoming information retrieval, the algorithm employed is the K-Nearest Neighbor search, using Faiss library."
      ],
      "metadata": {
        "id": "UHwiJtkFPqaq"
      }
    },
    {
      "cell_type": "markdown",
      "source": [
        "##### L2-distance"
      ],
      "metadata": {
        "id": "jX7qg09DPqar"
      }
    },
    {
      "cell_type": "markdown",
      "source": [
        "For speeding up the computations, the search is run on the GPU. The first experiment is run using the L2-distance search for retrieving the top-10 nearest neighbors for each query."
      ],
      "metadata": {
        "id": "BfKOFOIYPqar"
      }
    },
    {
      "cell_type": "code",
      "source": [
        "res = faiss.StandardGpuResources()\n",
        "\n",
        "d = q_embeddings.shape[1] # embedding dimension\n",
        "print('The embeddings dimension is', d)\n",
        "l2_index = faiss.IndexFlatL2(d)\n",
        "l2_index.add(docs_embeddings)\n",
        "gpu_index_l2 = faiss.index_cpu_to_gpu(res, 0, l2_index)"
      ],
      "metadata": {
        "id": "EIkQkSX3Pqar",
        "colab": {
          "base_uri": "https://localhost:8080/"
        },
        "outputId": "70eea4a9-501f-4587-95e0-ba7e94a5a6d6"
      },
      "execution_count": null,
      "outputs": [
        {
          "output_type": "stream",
          "name": "stdout",
          "text": [
            "The embeddings dimension is 256\n"
          ]
        }
      ]
    },
    {
      "cell_type": "code",
      "source": [
        "k = 10\n",
        "L2_D, L2_I = gpu_index_l2.search(q_embeddings, k)\n",
        "\n",
        "check_queries = 10 # print the first 10 queries results\n",
        "\n",
        "print(f\"Indices of the nearest neighbors of the first {check_queries} queries\\n{L2_I[:check_queries]}\\n\")"
      ],
      "metadata": {
        "colab": {
          "base_uri": "https://localhost:8080/"
        },
        "outputId": "847c9d46-b048-40c1-c26c-e547b01e76b3",
        "id": "pemKyx43Pqar"
      },
      "execution_count": null,
      "outputs": [
        {
          "output_type": "stream",
          "name": "stdout",
          "text": [
            "Indices of the nearest neighbors of the first 10 queries\n",
            "[[2964 1237  921 2849  926  682 2284 3281  344 3294]\n",
            " [3194 3211  822 3199 3202 3209 3206 3204 3210 1782]\n",
            " [2489 1628 1624 1632 3210 3198 1636 2488 2084 1633]\n",
            " [2489 1628 1447 1630 1632 2211 1466  607 1624 2004]\n",
            " [ 260 1648 1645  928 3196 2952 1779 1649  745 3201]\n",
            " [1883 1627 1286 1882 1621 1455 1549 2263 1296 2262]\n",
            " [1649  721 1517  928 1514 3199  557  898  726 3205]\n",
            " [3198 3197 3204 3211 1664 3207 3183 3216 3203 3202]\n",
            " [1689 1678 1687 1694 1676 3201 1681 1696 1688 1699]\n",
            " [2752 2059 2657 1221  560 1561 1222  615 2751 2884]]\n",
            "\n"
          ]
        }
      ]
    },
    {
      "cell_type": "code",
      "source": [
        "# Select a query and find its top-10 documents\n",
        "\n",
        "query = 'PLAIN-2989'\n",
        "idx = list(test_qid_text.keys()).index(query)\n",
        "\n",
        "print('First 10 documents retrieved for the query:', query)\n",
        "\n",
        "for i in L2_I[idx]:\n",
        "  d = list(test_docid_text.keys())[i]\n",
        "  if d in test_query_docs_rel_order[query]:\n",
        "    rel = test_qd_rel[(query, d)]\n",
        "  else:\n",
        "    rel = 0\n",
        "\n",
        "  print('Doc:', d, 'Relevance:', rel)"
      ],
      "metadata": {
        "colab": {
          "base_uri": "https://localhost:8080/"
        },
        "outputId": "83d1c6b0-4e76-4a54-bdd0-dcaa05f5773f",
        "id": "KBaNWSKzPqar"
      },
      "execution_count": null,
      "outputs": [
        {
          "output_type": "stream",
          "name": "stdout",
          "text": [
            "First 10 documents retrieved for the query: PLAIN-2989\n",
            "Doc: MED-4415 Relevance: 2\n",
            "Doc: MED-3811 Relevance: 1\n",
            "Doc: MED-4416 Relevance: 2\n",
            "Doc: MED-4418 Relevance: 2\n",
            "Doc: MED-3447 Relevance: 0\n",
            "Doc: MED-2644 Relevance: 0\n",
            "Doc: MED-2815 Relevance: 0\n",
            "Doc: MED-4535 Relevance: 0\n",
            "Doc: MED-5334 Relevance: 0\n",
            "Doc: MED-5324 Relevance: 0\n"
          ]
        }
      ]
    },
    {
      "cell_type": "markdown",
      "source": [
        "##### PCA reduction"
      ],
      "metadata": {
        "id": "HmYuHa3gPqar"
      }
    },
    {
      "cell_type": "markdown",
      "source": [
        "Trying to improve performances, the embeddings dimension is reduced from $256$ to $32$ using PCA reduction."
      ],
      "metadata": {
        "id": "B6fHGzqePqas"
      }
    },
    {
      "cell_type": "code",
      "metadata": {
        "colab": {
          "base_uri": "https://localhost:8080/"
        },
        "outputId": "29f237f7-574a-4d92-d415-46c56334fbab",
        "id": "DDZ8R8ZvPqas"
      },
      "source": [
        "d_prime = 32\n",
        "d = q_embeddings.shape[1]\n",
        "\n",
        "pca_index = index_factory(d, f\"PCA{d_prime},Flat\")\n",
        "pca_index.train(docs_embeddings)\n",
        "pca_index.add(docs_embeddings)\n",
        "\n",
        "PCA_D, PCA_I = pca_index.search(q_embeddings, k) # actual search\n",
        "print(f\"Indices of the nearest neighbors of the first {check_queries} queries\\n{PCA_I[:check_queries]}\\n\")"
      ],
      "execution_count": null,
      "outputs": [
        {
          "output_type": "stream",
          "name": "stdout",
          "text": [
            "Indices of the nearest neighbors of the first 10 queries\n",
            "[[2964 1237  344 3281  921 2908 1598  682 2783 2284]\n",
            " [ 822 3211  916 3194 3206 3204 2019 2649 3213 2870]\n",
            " [1624 1636 2078 1628 1632 3210 2084 1447 2488 2489]\n",
            " [1628 1447 1624 2489 1466 1630 2004 1632 2211 2012]\n",
            " [ 260 1649 1279 1648  928 1645 2952 1514  745 1779]\n",
            " [1286 1883 1627 2808 2270 1549 2544  719 2597 2683]\n",
            " [ 721 1649 1514  898  726 1517  377 3199  557 1653]\n",
            " [3197 3198 3211 3183 3203 3204 1664 1490 3207 3216]\n",
            " [1678 1689 1694 2874 3201 2023 1283 1687 1688 1676]\n",
            " [2752 2059  560 2657 1561 1221 1566  615 2884  812]]\n",
            "\n"
          ]
        }
      ]
    },
    {
      "cell_type": "code",
      "source": [
        "# Select a query and find its top-10 documents\n",
        "\n",
        "query = 'PLAIN-2989'\n",
        "idx = list(test_qid_text.keys()).index(query)\n",
        "\n",
        "print('First 10 documents retrieved for the query:', query)\n",
        "\n",
        "\n",
        "for i in PCA_I[idx]:\n",
        "  d = list(test_docid_text.keys())[i]\n",
        "  if d in test_query_docs_rel_order[query]:\n",
        "    rel = test_qd_rel[(query, d)]\n",
        "  else:\n",
        "    rel = 0\n",
        "\n",
        "  print('Doc:', d, 'Relevance:', rel)"
      ],
      "metadata": {
        "colab": {
          "base_uri": "https://localhost:8080/"
        },
        "outputId": "e572efe6-de98-4619-d242-e2bb4afb7f89",
        "id": "_Leq0elGPqas"
      },
      "execution_count": null,
      "outputs": [
        {
          "output_type": "stream",
          "name": "stdout",
          "text": [
            "First 10 documents retrieved for the query: PLAIN-2989\n",
            "Doc: MED-4415 Relevance: 2\n",
            "Doc: MED-3811 Relevance: 1\n",
            "Doc: MED-4416 Relevance: 2\n",
            "Doc: MED-3447 Relevance: 0\n",
            "Doc: MED-4418 Relevance: 2\n",
            "Doc: MED-2794 Relevance: 0\n",
            "Doc: MED-2006 Relevance: 0\n",
            "Doc: MED-2644 Relevance: 0\n",
            "Doc: MED-2815 Relevance: 0\n",
            "Doc: MED-5334 Relevance: 0\n"
          ]
        }
      ]
    },
    {
      "cell_type": "markdown",
      "source": [
        "##### Comparison"
      ],
      "metadata": {
        "id": "DPZADX7aPqas"
      }
    },
    {
      "cell_type": "code",
      "source": [
        "query = 'PLAIN-2989'\n",
        "idx = list(test_qid_text.keys()).index(query)\n",
        "print('First 10 documents retrieved by L2 index for the query:', query)\n",
        "\n",
        "\n",
        "for i in L2_I[idx]:\n",
        "  d = list(test_docid_text.keys())[i]\n",
        "  if d in test_query_docs_rel_order[query]:\n",
        "    rel = test_qd_rel[(query, d)]\n",
        "  else:\n",
        "    rel = 0\n",
        "\n",
        "  print('Doc:', d, 'Relevance:', rel)\n",
        "\n",
        "\n",
        "print('\\nFirst 10 documents retrieved by PCA index for the query:', query)\n",
        "\n",
        "\n",
        "for i in PCA_I[idx]:\n",
        "  d = list(test_docid_text.keys())[i]\n",
        "  if d in test_query_docs_rel_order[query]:\n",
        "    rel = test_qd_rel[(query, d)]\n",
        "  else:\n",
        "    rel = 0\n",
        "\n",
        "  print('Doc:', d, 'Relevance:', rel)"
      ],
      "metadata": {
        "colab": {
          "base_uri": "https://localhost:8080/"
        },
        "outputId": "6d5089ef-ebed-4788-bd7f-125ded158073",
        "id": "uAdMQpnnPqas"
      },
      "execution_count": null,
      "outputs": [
        {
          "output_type": "stream",
          "name": "stdout",
          "text": [
            "First 10 documents retrieved by L2 index for the query: PLAIN-2989\n",
            "Doc: MED-4415 Relevance: 2\n",
            "Doc: MED-3811 Relevance: 1\n",
            "Doc: MED-4416 Relevance: 2\n",
            "Doc: MED-4418 Relevance: 2\n",
            "Doc: MED-3447 Relevance: 0\n",
            "Doc: MED-2644 Relevance: 0\n",
            "Doc: MED-2815 Relevance: 0\n",
            "Doc: MED-4535 Relevance: 0\n",
            "Doc: MED-5334 Relevance: 0\n",
            "Doc: MED-5324 Relevance: 0\n",
            "\n",
            "First 10 documents retrieved by PCA index for the query: PLAIN-2989\n",
            "Doc: MED-4415 Relevance: 2\n",
            "Doc: MED-3811 Relevance: 1\n",
            "Doc: MED-4416 Relevance: 2\n",
            "Doc: MED-3447 Relevance: 0\n",
            "Doc: MED-4418 Relevance: 2\n",
            "Doc: MED-2794 Relevance: 0\n",
            "Doc: MED-2006 Relevance: 0\n",
            "Doc: MED-2644 Relevance: 0\n",
            "Doc: MED-2815 Relevance: 0\n",
            "Doc: MED-5334 Relevance: 0\n"
          ]
        }
      ]
    },
    {
      "cell_type": "markdown",
      "source": [
        "##### Error analysis"
      ],
      "metadata": {
        "id": "9wIbaohK0U8w"
      }
    },
    {
      "cell_type": "markdown",
      "source": [
        "Let's analyze a couple of missed relevant documents and one of those wrongly retrieved."
      ],
      "metadata": {
        "id": "skK3dXFW0fkC"
      }
    },
    {
      "cell_type": "code",
      "source": [
        "query = 'PLAIN-2989'\n",
        "idx = list(test_qid_text.keys()).index(query)\n",
        "print(f\"Original query text: {queries[queries['QUERY_ID']==query]['TEXT'].values[0]}\")\n",
        "print(f'Clean query text: {test_qid_text[query]}')\n",
        "\n",
        "print('\\nFirst 10 documents retrieved for the query:', query)\n",
        "\n",
        "\n",
        "for i in L2_I[idx]:\n",
        "  d = list(test_docid_text.keys())[i]\n",
        "  if d in test_query_docs_rel_order[query]:\n",
        "    rel = test_qd_rel[(query, d)]\n",
        "  else:\n",
        "    rel = 0\n",
        "\n",
        "  print('Doc:', d, 'Relevance:', rel)\n",
        "\n",
        "df_relevant_docs = df_test[df_test['QUERY_ID']=='PLAIN-2989'].sort_values(by='RELEVANCE_LEVEL', ascending=False)\n",
        "\n",
        "print('\\nReal first relevant docs:')\n",
        "\n",
        "for idx, row in df_relevant_docs.iterrows():\n",
        "  print(f\"Doc: {row['DOC_ID']} Relevance: {row['RELEVANCE_LEVEL']}\")"
      ],
      "metadata": {
        "colab": {
          "base_uri": "https://localhost:8080/"
        },
        "outputId": "c0860020-046e-4d34-9f3c-822ac9d23da4",
        "id": "fbfEPRCJ0U8w"
      },
      "execution_count": null,
      "outputs": [
        {
          "output_type": "stream",
          "name": "stdout",
          "text": [
            "Original query text: The Safer CinnamonSecond in spice popularity only to black pepper, cinnamon is the powdered inner bark of four different species of cinnamomum trees. There’s Vietnamese cinnamom, Chinese cinnamon, Indonesian, and Ceylon. A recent review raised concerns about one of them because of a compound called coumarin, which new human data suggests may be toxic to the liver. It’s been banned as a food additive, but still can be found naturally in, Chinese cinnamon, also known as cassia cinnamon. It is not found in significant amounts in so-called true cinnamon, Ceylon cinnamon, and we don’t have enough data on the other two. Now these traffic lights are not for recreational users; these are only for people going out of their way to add like a teaspoon or more to their daily diet, which ideally should be everyone, since it appears so amazingly health promoting— anti-inflammatory, antimicrobial, antioxidant, antitumor, cardiovascular, cholesterol-lowering, and immunomodulatory effects. Especially useful for those with diabetes… or prediabeties. So if you are eating cinnamon every day, great— just make sure it’s the right kind. In the UK, if it says cinnamon then it’s Ceylon cinnamon—Chinese cinnamon is labeled cassia. In the U.S., though, they’re both just labeled cinnamon, and since Chinese is cheaper that’s what most cinnamon is on our shelves so make sure it specifically says Ceylon.\n",
            "Clean query text: safer cinnamonsecond spice popularity black pepper cinnamon powdered inner bark four different species cinnamomum trees theres vietnamese cinnamom chinese cinnamon indonesian ceylon recent review raised concerns one compound called coumarin new human data suggests may toxic liver banned food additive still found naturally chinese cinnamon also known cassia cinnamon found significant amounts socalled true cinnamon ceylon cinnamon dont enough data two traffic lights recreational users people going way add like teaspoon daily diet ideally everyone since appears amazingly health promoting antiinflammatory antimicrobial antioxidant antitumor cardiovascular cholesterollowering immunomodulatory effects especially useful diabetes prediabeties eating cinnamon every day great make sure right kind uk says cinnamon ceylon cinnamonchinese cinnamon labeled cassia us though theyre labeled cinnamon since chinese cheaper thats cinnamon shelves make sure specifically says ceylon\n",
            "\n",
            "First 10 documents retrieved for the query: PLAIN-2989\n",
            "Doc: MED-4415 Relevance: 2\n",
            "Doc: MED-3811 Relevance: 1\n",
            "Doc: MED-4416 Relevance: 2\n",
            "Doc: MED-4418 Relevance: 2\n",
            "Doc: MED-3447 Relevance: 0\n",
            "Doc: MED-2644 Relevance: 0\n",
            "Doc: MED-2815 Relevance: 0\n",
            "Doc: MED-4535 Relevance: 0\n",
            "Doc: MED-5334 Relevance: 0\n",
            "Doc: MED-5324 Relevance: 0\n",
            "\n",
            "Real first relevant docs:\n",
            "Doc: MED-4415 Relevance: 2\n",
            "Doc: MED-4416 Relevance: 2\n",
            "Doc: MED-4417 Relevance: 2\n",
            "Doc: MED-4418 Relevance: 2\n",
            "Doc: MED-3811 Relevance: 1\n",
            "Doc: MED-3812 Relevance: 1\n",
            "Doc: MED-3813 Relevance: 1\n",
            "Doc: MED-4389 Relevance: 1\n"
          ]
        }
      ]
    },
    {
      "cell_type": "code",
      "source": [
        "# Print the text of the query and of one of the wrongly retrieved documents\n",
        "\n",
        "wrong_doc_1 = 'MED-3447'\n",
        "wrong_doc_2 = 'MED-2644'\n",
        "\n",
        "print(f\"Original query text: {queries[queries['QUERY_ID']==query]['TEXT'].values[0]}\")\n",
        "print(f'Clean query text: {test_qid_text[query]}')\n",
        "print()\n",
        "print(f\"Original text doc {wrong_doc_1}: {docs[docs['DOC_ID'] == wrong_doc_1]['ABSTRACT'].values[0]}\")\n",
        "print(f\"Clean text doc {wrong_doc_1}: {test_docid_text[wrong_doc_1]}\")\n",
        "print()\n",
        "print(f\"Original text doc {wrong_doc_2}: {docs[docs['DOC_ID'] == wrong_doc_2]['ABSTRACT'].values[0]}\")\n",
        "print(f\"Clean text doc {wrong_doc_2}: {test_docid_text[wrong_doc_2]}\")"
      ],
      "metadata": {
        "colab": {
          "base_uri": "https://localhost:8080/"
        },
        "outputId": "5f9cf706-12db-41bc-fa7c-fd8833b0cdea",
        "id": "Yb0SZDcvaR02"
      },
      "execution_count": null,
      "outputs": [
        {
          "output_type": "stream",
          "name": "stdout",
          "text": [
            "Original query text: The Safer CinnamonSecond in spice popularity only to black pepper, cinnamon is the powdered inner bark of four different species of cinnamomum trees. There’s Vietnamese cinnamom, Chinese cinnamon, Indonesian, and Ceylon. A recent review raised concerns about one of them because of a compound called coumarin, which new human data suggests may be toxic to the liver. It’s been banned as a food additive, but still can be found naturally in, Chinese cinnamon, also known as cassia cinnamon. It is not found in significant amounts in so-called true cinnamon, Ceylon cinnamon, and we don’t have enough data on the other two. Now these traffic lights are not for recreational users; these are only for people going out of their way to add like a teaspoon or more to their daily diet, which ideally should be everyone, since it appears so amazingly health promoting— anti-inflammatory, antimicrobial, antioxidant, antitumor, cardiovascular, cholesterol-lowering, and immunomodulatory effects. Especially useful for those with diabetes… or prediabeties. So if you are eating cinnamon every day, great— just make sure it’s the right kind. In the UK, if it says cinnamon then it’s Ceylon cinnamon—Chinese cinnamon is labeled cassia. In the U.S., though, they’re both just labeled cinnamon, and since Chinese is cheaper that’s what most cinnamon is on our shelves so make sure it specifically says Ceylon.\n",
            "Clean query text: safer cinnamonsecond spice popularity black pepper cinnamon powdered inner bark four different species cinnamomum trees theres vietnamese cinnamom chinese cinnamon indonesian ceylon recent review raised concerns one compound called coumarin new human data suggests may toxic liver banned food additive still found naturally chinese cinnamon also known cassia cinnamon found significant amounts socalled true cinnamon ceylon cinnamon dont enough data two traffic lights recreational users people going way add like teaspoon daily diet ideally everyone since appears amazingly health promoting antiinflammatory antimicrobial antioxidant antitumor cardiovascular cholesterollowering immunomodulatory effects especially useful diabetes prediabeties eating cinnamon every day great make sure right kind uk says cinnamon ceylon cinnamonchinese cinnamon labeled cassia us though theyre labeled cinnamon since chinese cheaper thats cinnamon shelves make sure specifically says ceylon\n",
            "\n",
            "Original text doc MED-3447: Abstract To investigate the chemopreventive effects of seaweed on breast cancer, we have been studying the relationship between iodine and breast cancer. We found earlier that the seaweed, wakame, showed a suppressive effect on the proliferation of DMBA (dimethylbenz(a)anthracene)-induced rat mammary tumors, possibly via apoptosis induction. In the present study, powdered mekabu was placed in distilled water, and left to stand for 24 h at 4 degrees C. The filtered supernatant was used as mekabu solution. It showed an extremely strong suppressive effect on rat mammary carcinogenesis when used in daily drinking water, without toxicity. In vitro, mekabu solution strongly induced apoptosis in 3 kinds of human breast cancer cells. These effects were stronger than those of a chemotherapeutic agent widely used to treat human breast cancer. Furthermore, no apoptosis induction was observed in normal human mammary cells. In Japan, mekabu is widely consumed as a safe, inexpensive food. Our results suggest that mekabu has potential for chemoprevention of human breast cancer.\n",
            "Clean text doc MED-3447: abstract investigate chemopreventive effects seaweed breast cancer studying relationship iodine breast cancer found earlier seaweed wakame showed suppressive effect proliferation dmba dimethylbenzaanthraceneinduced rat mammary tumors possibly via apoptosis induction present study powdered mekabu placed distilled water left stand h degrees c filtered supernatant used mekabu solution showed extremely strong suppressive effect rat mammary carcinogenesis used daily drinking water without toxicity vitro mekabu solution strongly induced apoptosis kinds human breast cancer cells effects stronger chemotherapeutic agent widely used treat human breast cancer furthermore apoptosis induction observed normal human mammary cells japan mekabu widely consumed safe inexpensive food results suggest mekabu potential chemoprevention human breast cancer\n",
            "\n",
            "Original text doc MED-2644: Abstract Alkylphenols are widely used as plastic additives and surfactants. We report the identification of an alkylphenol, nonylphenol, as an estrogenic substance released from plastic centrifuge tubes. This compound was extracted with methanol, purified by flash chromatography and reverse-phase high performance liquid chromatography, and identified by gas chromatography-mass spectrometry. Nonylphenol induced both cell proliferation and progesterone receptor in human estrogen-sensitive MCF7 breast tumor cells. Nonylphenol also triggered mitotic activity in rat endometrium; this result confirms the reliability of the MCF7 cell proliferation bioassay. The estrogenic properties of alkylphenols, specifically nonylphenols, indicate that the use of plasticware containing these chemicals in experimental and diagnostic tests may lead to spurious results, and these compounds as well as alkylphenol polyethoxylates may also be potentially harmful to exposed humans and the environment at large.\n",
            "Clean text doc MED-2644: abstract alkylphenols widely used plastic additives surfactants report identification alkylphenol nonylphenol estrogenic substance released plastic centrifuge tubes compound extracted methanol purified flash chromatography reversephase high performance liquid chromatography identified gas chromatographymass spectrometry nonylphenol induced cell proliferation progesterone receptor human estrogensensitive mcf breast tumor cells nonylphenol also triggered mitotic activity rat endometrium result confirms reliability mcf cell proliferation bioassay estrogenic properties alkylphenols specifically nonylphenols indicate use plasticware containing chemicals experimental diagnostic tests may lead spurious results compounds well alkylphenol polyethoxylates may also potentially harmful exposed humans environment large\n"
          ]
        }
      ]
    },
    {
      "cell_type": "code",
      "source": [
        "# Print the text of the query and of one of the missed relevant documents\n",
        "\n",
        "missed_doc = 'MED-3812'\n",
        "\n",
        "print(f\"Original query text: {queries[queries['QUERY_ID']==query]['TEXT'].values[0]}\")\n",
        "print(f'Clean query text: {test_qid_text[query]}')\n",
        "print()\n",
        "print(f\"Original text doc {missed_doc}: {docs[docs['DOC_ID']==missed_doc]['ABSTRACT'].values[0]}\")\n",
        "print(f\"Clean text doc {missed_doc}: {test_docid_text[missed_doc]}\")"
      ],
      "metadata": {
        "colab": {
          "base_uri": "https://localhost:8080/"
        },
        "outputId": "78d65c51-57b7-40d8-b428-8e26427d53e4",
        "id": "EvidrhcWaR05"
      },
      "execution_count": null,
      "outputs": [
        {
          "output_type": "stream",
          "name": "stdout",
          "text": [
            "Original query text: The Safer CinnamonSecond in spice popularity only to black pepper, cinnamon is the powdered inner bark of four different species of cinnamomum trees. There’s Vietnamese cinnamom, Chinese cinnamon, Indonesian, and Ceylon. A recent review raised concerns about one of them because of a compound called coumarin, which new human data suggests may be toxic to the liver. It’s been banned as a food additive, but still can be found naturally in, Chinese cinnamon, also known as cassia cinnamon. It is not found in significant amounts in so-called true cinnamon, Ceylon cinnamon, and we don’t have enough data on the other two. Now these traffic lights are not for recreational users; these are only for people going out of their way to add like a teaspoon or more to their daily diet, which ideally should be everyone, since it appears so amazingly health promoting— anti-inflammatory, antimicrobial, antioxidant, antitumor, cardiovascular, cholesterol-lowering, and immunomodulatory effects. Especially useful for those with diabetes… or prediabeties. So if you are eating cinnamon every day, great— just make sure it’s the right kind. In the UK, if it says cinnamon then it’s Ceylon cinnamon—Chinese cinnamon is labeled cassia. In the U.S., though, they’re both just labeled cinnamon, and since Chinese is cheaper that’s what most cinnamon is on our shelves so make sure it specifically says Ceylon.\n",
            "Clean query text: safer cinnamonsecond spice popularity black pepper cinnamon powdered inner bark four different species cinnamomum trees theres vietnamese cinnamom chinese cinnamon indonesian ceylon recent review raised concerns one compound called coumarin new human data suggests may toxic liver banned food additive still found naturally chinese cinnamon also known cassia cinnamon found significant amounts socalled true cinnamon ceylon cinnamon dont enough data two traffic lights recreational users people going way add like teaspoon daily diet ideally everyone since appears amazingly health promoting antiinflammatory antimicrobial antioxidant antitumor cardiovascular cholesterollowering immunomodulatory effects especially useful diabetes prediabeties eating cinnamon every day great make sure right kind uk says cinnamon ceylon cinnamonchinese cinnamon labeled cassia us though theyre labeled cinnamon since chinese cheaper thats cinnamon shelves make sure specifically says ceylon\n",
            "\n",
            "Original text doc MED-3812: Abstract Cinnamon can improve fasting glucose in humans yet data on insulin sensitivity are limited and controversial. Eight male volunteers (aged 25 +/- 1 years, body mass 76.5 +/- 3.0 kg, BMI 24.0 +/- 0.7 kg m(-2); mean +/- SEM) underwent two 14-day interventions involving cinnamon or placebo supplementation (3 g day(-1)). Placebo supplementation was continued for 5 days following this 14 day period. Oral glucose tolerance tests (OGTT) were performed on days 0, 1, 14, 16, 18, and 20. Cinnamon ingestion reduced the glucose response to OGTT on day 1 (-13.1 +/- 6.3% vs. day 0; P < 0.05) and day 14 (-5.5 +/- 8.1% vs. day 0; P = 0.09). Cinnamon ingestion also reduced insulin responses to OGTT on day 14 (-27.1 +/- 6.2% vs. day 0; P < 0.05), as well as improving insulin sensitivity on day 14 (vs. day 0; P < 0.05). These effects were lost following cessation of cinnamon feeding. Cinnamon may improve glycaemic control and insulin sensitivity, but the effects are quickly reversed.\n",
            "Clean text doc MED-3812: abstract aims various spices display insulinpotentiating activity vitro particular cinnamon spice phenolic extracts shown exhibit capabilities vivo study shows cinnamon may beneficial effects glucose homeostasis therefore aim study investigate phenomenon humans methods seven lean healthy male volunteers aged years body mass index kgm mean sem underwent three oral glucose tolerance tests ogtt supplemented either g placebo ogttcontrol g cinnamon ogttcin g cinnamon taken h ogttcinhpre randomizedcrossover design results cinnamon ingestion reduced total plasma glucose responses auc oral glucose ingestion ogttcin p ogttcinhpre p respectively well improving insulin sensitivity assessed insulin sensitivity index measures based matsudas model ogttcin p ogttcinhpre p trials compared ogttcontrol conclusions data illustrate cinnamon spice supplementation may important vivo glycaemic control insulin sensitivity humans effects immediate also appear sustained h\n"
          ]
        }
      ]
    },
    {
      "cell_type": "markdown",
      "source": [
        "### Evaluation"
      ],
      "metadata": {
        "id": "Jg358XF8Pqas"
      }
    },
    {
      "cell_type": "markdown",
      "source": [
        "Let's now evaluate the retrieval search computed with the naive L2-distance."
      ],
      "metadata": {
        "id": "Goy_jpyPPqas"
      }
    },
    {
      "cell_type": "code",
      "source": [
        "rp = np.average([r_precision(q, L2_I[i], test_docid_text, test_query_docs_rel_order) for  i, q in enumerate(test_qid_text.keys())])\n",
        "\n",
        "print('R-precision:', rp)\n",
        "\n",
        "for k in [1, 3, 5, 10]:\n",
        "    pk = np.mean([precision_at_k(q, L2_I[i], test_docid_text, test_query_docs_rel_order, k) for i, q in enumerate(test_qid_text.keys())])\n",
        "    rk = np.mean([recall_at_k(q, L2_I[i], test_docid_text, test_query_docs_rel_order, k) for i, q in enumerate(test_qid_text.keys())])\n",
        "    f1_k = np.mean([f1_at_k(q, L2_I[i], test_docid_text, test_query_docs_rel_order, k) for i, q in enumerate(test_qid_text.keys())])\n",
        "    mapk = np.mean([mean_average_precision_at_k(q, L2_I[i], test_docid_text, test_query_docs_rel_order, k) for i, q in enumerate(test_qid_text.keys())])\n",
        "    ndcg_k = np.average([compute_ndcg_at_k(q, L2_I[i], test_docid_text, test_qd_rel, test_query_docs_rel_order, k) for i, q in enumerate(test_qid_text.keys())])\n",
        "\n",
        "    print()\n",
        "    print(f'Precision@{k}:', pk)\n",
        "    print(f'Recall@{k}:', rk)\n",
        "    print(f'F1-score@{k}:', f1_k)\n",
        "    print(f'MAP@{k}:', mapk)\n",
        "    print(f'NDCG@{k}:', ndcg_k)"
      ],
      "metadata": {
        "colab": {
          "base_uri": "https://localhost:8080/"
        },
        "outputId": "e5fb2833-6b27-4af2-b143-52b4cffc27a8",
        "id": "I0h9zoR-Pqat"
      },
      "execution_count": null,
      "outputs": [
        {
          "output_type": "stream",
          "name": "stdout",
          "text": [
            "R-precision: 0.08959010569459837\n",
            "\n",
            "Precision@1: 0.4501510574018127\n",
            "Recall@1: 0.024722141645718006\n",
            "F1-score@1: 0.042236604067698816\n",
            "MAP@1: 0.024722141645718006\n",
            "NDCG@1: 0.4003021148036254\n",
            "\n",
            "Precision@3: 0.35045317220543803\n",
            "Recall@3: 0.04967961208180792\n",
            "F1-score@3: 0.07222210950367892\n",
            "MAP@3: 0.08435291263300351\n",
            "NDCG@3: 0.34242816286292005\n",
            "\n",
            "Precision@5: 0.3178247734138973\n",
            "Recall@5: 0.06877714854148048\n",
            "F1-score@5: 0.09004465320399\n",
            "MAP@5: 0.14846960885524493\n",
            "NDCG@5: 0.3270373431685426\n",
            "\n",
            "Precision@10: 0.27160120845921454\n",
            "Recall@10: 0.10565973596362442\n",
            "F1-score@10: 0.11712694138826428\n",
            "MAP@10: 0.3268258136792884\n",
            "NDCG@10: 0.3093049488566245\n"
          ]
        }
      ]
    },
    {
      "cell_type": "markdown",
      "source": [
        "## Multiple Negative Ranking Loss"
      ],
      "metadata": {
        "id": "UzJssMqtSF1G"
      }
    },
    {
      "cell_type": "markdown",
      "source": [
        "### Data formatting"
      ],
      "metadata": {
        "id": "UyviyCIZYBhD"
      }
    },
    {
      "cell_type": "markdown",
      "source": [
        "Before feeding the model, data must be formatted properly. In particular, to be able to train the model using Multiple Negative Ranking Loss, the input must be in the format *(anchor, positive, negative)*, where *anchor* is the query, *positive* is one relevant document and *negative* is one non-relevant document.\n",
        "\n",
        "Since the dataset only contains pairs of *(anchor, positive)*, the negative must be set manually using the `triplets_format` function."
      ],
      "metadata": {
        "id": "kTYSLgWVYBhD"
      }
    },
    {
      "cell_type": "code",
      "source": [
        "df_train_triplets = triplets_format(df_train, train_qid_text, train_docid_text)\n",
        "df_val_triplets = triplets_format(df_val, val_qid_text, val_docid_text)\n",
        "df_test_triplets = triplets_format(df_test, test_qid_text, test_docid_text)"
      ],
      "metadata": {
        "id": "aznHaE3NYBhD"
      },
      "execution_count": null,
      "outputs": []
    },
    {
      "cell_type": "code",
      "source": [
        "df_train_triplets"
      ],
      "metadata": {
        "colab": {
          "base_uri": "https://localhost:8080/"
        },
        "outputId": "73c57328-847a-4f5b-d947-f04d6c14e6dc",
        "id": "jCPOPFXRYBhE"
      },
      "execution_count": null,
      "outputs": [
        {
          "output_type": "execute_result",
          "data": {
            "text/plain": [
              "         QUERY_ID POS_DOC_ID NEG_DOC_ID  \\\n",
              "0       PLAIN-755   MED-2436   MED-3691   \n",
              "1       PLAIN-755   MED-2437    MED-960   \n",
              "2       PLAIN-755   MED-2438   MED-1751   \n",
              "3       PLAIN-755   MED-2439   MED-1666   \n",
              "4       PLAIN-755   MED-2440   MED-5226   \n",
              "...           ...        ...        ...   \n",
              "50925  PLAIN-3348   MED-5021   MED-1118   \n",
              "50926  PLAIN-3377   MED-5059   MED-1669   \n",
              "50927   PLAIN-428    MED-924   MED-4113   \n",
              "50928   PLAIN-428    MED-925    MED-822   \n",
              "50929   PLAIN-428    MED-926    MED-301   \n",
              "\n",
              "                                                  TEXT_Q  \\\n",
              "0      breast cancermuch like types cancer plantbased...   \n",
              "1      breast cancermuch like types cancer plantbased...   \n",
              "2      breast cancermuch like types cancer plantbased...   \n",
              "3      breast cancermuch like types cancer plantbased...   \n",
              "4      breast cancermuch like types cancer plantbased...   \n",
              "...                                                  ...   \n",
              "50925  star fruit good youstar fruit often find tropi...   \n",
              "50926  gum arabic harmfulgum arabic found paints mars...   \n",
              "50927  making water alkaline much baking soda muchhtt...   \n",
              "50928  making water alkaline much baking soda muchhtt...   \n",
              "50929  making water alkaline much baking soda muchhtt...   \n",
              "\n",
              "                                            TEXT_POS_DOC  \\\n",
              "0      abstract content low density lipoprotein ldl r...   \n",
              "1      abstract background breast cancer commonly dia...   \n",
              "2      abstract phytoestrogens structurally similar e...   \n",
              "3      abstract many factors involved etiology cancer...   \n",
              "4      abstract purpose clarify relationship total ch...   \n",
              "...                                                  ...   \n",
              "50925  abstract previously discovered star fruit indu...   \n",
              "50926  abstract report represents conclusions joint f...   \n",
              "50927  abstract oral ingestion baking soda sodium bic...   \n",
              "50928  abstract present case sixweekold infant develo...   \n",
              "50929  abstract case severe metabolic alkalosis resul...   \n",
              "\n",
              "                                            TEXT_NEG_DOC  RELEVANCE_LEVEL  \n",
              "0      abstract background previous reviews preterm i...                1  \n",
              "1      abstract aims serum cobalamin cbl vitamin b te...                1  \n",
              "2      abstract many ways categorise conspiracy theor...                1  \n",
              "3      abstract study design review literature disc n...                1  \n",
              "4      abstract fecal urinary plasma estrogens plasma...                1  \n",
              "...                                                  ...              ...  \n",
              "50925  abstract objective measure proteus mirabilis e...                2  \n",
              "50926  abstract one proposed causes obesity metabolic...                2  \n",
              "50927  abstract clonal deletion arguably important me...                2  \n",
              "50928  abstract polycystic ovary syndrome pcos define...                2  \n",
              "50929  abstract epilepsy seizure disorder one common ...                2  \n",
              "\n",
              "[50930 rows x 7 columns]"
            ],
            "text/html": [
              "\n",
              "  <div id=\"df-e680ed4d-91b4-4c0b-a381-720f0d11f91e\">\n",
              "    <div class=\"colab-df-container\">\n",
              "      <div>\n",
              "<style scoped>\n",
              "    .dataframe tbody tr th:only-of-type {\n",
              "        vertical-align: middle;\n",
              "    }\n",
              "\n",
              "    .dataframe tbody tr th {\n",
              "        vertical-align: top;\n",
              "    }\n",
              "\n",
              "    .dataframe thead th {\n",
              "        text-align: right;\n",
              "    }\n",
              "</style>\n",
              "<table border=\"1\" class=\"dataframe\">\n",
              "  <thead>\n",
              "    <tr style=\"text-align: right;\">\n",
              "      <th></th>\n",
              "      <th>QUERY_ID</th>\n",
              "      <th>POS_DOC_ID</th>\n",
              "      <th>NEG_DOC_ID</th>\n",
              "      <th>TEXT_Q</th>\n",
              "      <th>TEXT_POS_DOC</th>\n",
              "      <th>TEXT_NEG_DOC</th>\n",
              "      <th>RELEVANCE_LEVEL</th>\n",
              "    </tr>\n",
              "  </thead>\n",
              "  <tbody>\n",
              "    <tr>\n",
              "      <th>0</th>\n",
              "      <td>PLAIN-755</td>\n",
              "      <td>MED-2436</td>\n",
              "      <td>MED-3691</td>\n",
              "      <td>breast cancermuch like types cancer plantbased...</td>\n",
              "      <td>abstract content low density lipoprotein ldl r...</td>\n",
              "      <td>abstract background previous reviews preterm i...</td>\n",
              "      <td>1</td>\n",
              "    </tr>\n",
              "    <tr>\n",
              "      <th>1</th>\n",
              "      <td>PLAIN-755</td>\n",
              "      <td>MED-2437</td>\n",
              "      <td>MED-960</td>\n",
              "      <td>breast cancermuch like types cancer plantbased...</td>\n",
              "      <td>abstract background breast cancer commonly dia...</td>\n",
              "      <td>abstract aims serum cobalamin cbl vitamin b te...</td>\n",
              "      <td>1</td>\n",
              "    </tr>\n",
              "    <tr>\n",
              "      <th>2</th>\n",
              "      <td>PLAIN-755</td>\n",
              "      <td>MED-2438</td>\n",
              "      <td>MED-1751</td>\n",
              "      <td>breast cancermuch like types cancer plantbased...</td>\n",
              "      <td>abstract phytoestrogens structurally similar e...</td>\n",
              "      <td>abstract many ways categorise conspiracy theor...</td>\n",
              "      <td>1</td>\n",
              "    </tr>\n",
              "    <tr>\n",
              "      <th>3</th>\n",
              "      <td>PLAIN-755</td>\n",
              "      <td>MED-2439</td>\n",
              "      <td>MED-1666</td>\n",
              "      <td>breast cancermuch like types cancer plantbased...</td>\n",
              "      <td>abstract many factors involved etiology cancer...</td>\n",
              "      <td>abstract study design review literature disc n...</td>\n",
              "      <td>1</td>\n",
              "    </tr>\n",
              "    <tr>\n",
              "      <th>4</th>\n",
              "      <td>PLAIN-755</td>\n",
              "      <td>MED-2440</td>\n",
              "      <td>MED-5226</td>\n",
              "      <td>breast cancermuch like types cancer plantbased...</td>\n",
              "      <td>abstract purpose clarify relationship total ch...</td>\n",
              "      <td>abstract fecal urinary plasma estrogens plasma...</td>\n",
              "      <td>1</td>\n",
              "    </tr>\n",
              "    <tr>\n",
              "      <th>...</th>\n",
              "      <td>...</td>\n",
              "      <td>...</td>\n",
              "      <td>...</td>\n",
              "      <td>...</td>\n",
              "      <td>...</td>\n",
              "      <td>...</td>\n",
              "      <td>...</td>\n",
              "    </tr>\n",
              "    <tr>\n",
              "      <th>50925</th>\n",
              "      <td>PLAIN-3348</td>\n",
              "      <td>MED-5021</td>\n",
              "      <td>MED-1118</td>\n",
              "      <td>star fruit good youstar fruit often find tropi...</td>\n",
              "      <td>abstract previously discovered star fruit indu...</td>\n",
              "      <td>abstract objective measure proteus mirabilis e...</td>\n",
              "      <td>2</td>\n",
              "    </tr>\n",
              "    <tr>\n",
              "      <th>50926</th>\n",
              "      <td>PLAIN-3377</td>\n",
              "      <td>MED-5059</td>\n",
              "      <td>MED-1669</td>\n",
              "      <td>gum arabic harmfulgum arabic found paints mars...</td>\n",
              "      <td>abstract report represents conclusions joint f...</td>\n",
              "      <td>abstract one proposed causes obesity metabolic...</td>\n",
              "      <td>2</td>\n",
              "    </tr>\n",
              "    <tr>\n",
              "      <th>50927</th>\n",
              "      <td>PLAIN-428</td>\n",
              "      <td>MED-924</td>\n",
              "      <td>MED-4113</td>\n",
              "      <td>making water alkaline much baking soda muchhtt...</td>\n",
              "      <td>abstract oral ingestion baking soda sodium bic...</td>\n",
              "      <td>abstract clonal deletion arguably important me...</td>\n",
              "      <td>2</td>\n",
              "    </tr>\n",
              "    <tr>\n",
              "      <th>50928</th>\n",
              "      <td>PLAIN-428</td>\n",
              "      <td>MED-925</td>\n",
              "      <td>MED-822</td>\n",
              "      <td>making water alkaline much baking soda muchhtt...</td>\n",
              "      <td>abstract present case sixweekold infant develo...</td>\n",
              "      <td>abstract polycystic ovary syndrome pcos define...</td>\n",
              "      <td>2</td>\n",
              "    </tr>\n",
              "    <tr>\n",
              "      <th>50929</th>\n",
              "      <td>PLAIN-428</td>\n",
              "      <td>MED-926</td>\n",
              "      <td>MED-301</td>\n",
              "      <td>making water alkaline much baking soda muchhtt...</td>\n",
              "      <td>abstract case severe metabolic alkalosis resul...</td>\n",
              "      <td>abstract epilepsy seizure disorder one common ...</td>\n",
              "      <td>2</td>\n",
              "    </tr>\n",
              "  </tbody>\n",
              "</table>\n",
              "<p>50930 rows × 7 columns</p>\n",
              "</div>\n",
              "      <button class=\"colab-df-convert\" onclick=\"convertToInteractive('df-e680ed4d-91b4-4c0b-a381-720f0d11f91e')\"\n",
              "              title=\"Convert this dataframe to an interactive table.\"\n",
              "              style=\"display:none;\">\n",
              "        \n",
              "  <svg xmlns=\"http://www.w3.org/2000/svg\" height=\"24px\"viewBox=\"0 0 24 24\"\n",
              "       width=\"24px\">\n",
              "    <path d=\"M0 0h24v24H0V0z\" fill=\"none\"/>\n",
              "    <path d=\"M18.56 5.44l.94 2.06.94-2.06 2.06-.94-2.06-.94-.94-2.06-.94 2.06-2.06.94zm-11 1L8.5 8.5l.94-2.06 2.06-.94-2.06-.94L8.5 2.5l-.94 2.06-2.06.94zm10 10l.94 2.06.94-2.06 2.06-.94-2.06-.94-.94-2.06-.94 2.06-2.06.94z\"/><path d=\"M17.41 7.96l-1.37-1.37c-.4-.4-.92-.59-1.43-.59-.52 0-1.04.2-1.43.59L10.3 9.45l-7.72 7.72c-.78.78-.78 2.05 0 2.83L4 21.41c.39.39.9.59 1.41.59.51 0 1.02-.2 1.41-.59l7.78-7.78 2.81-2.81c.8-.78.8-2.07 0-2.86zM5.41 20L4 18.59l7.72-7.72 1.47 1.35L5.41 20z\"/>\n",
              "  </svg>\n",
              "      </button>\n",
              "      \n",
              "  <style>\n",
              "    .colab-df-container {\n",
              "      display:flex;\n",
              "      flex-wrap:wrap;\n",
              "      gap: 12px;\n",
              "    }\n",
              "\n",
              "    .colab-df-convert {\n",
              "      background-color: #E8F0FE;\n",
              "      border: none;\n",
              "      border-radius: 50%;\n",
              "      cursor: pointer;\n",
              "      display: none;\n",
              "      fill: #1967D2;\n",
              "      height: 32px;\n",
              "      padding: 0 0 0 0;\n",
              "      width: 32px;\n",
              "    }\n",
              "\n",
              "    .colab-df-convert:hover {\n",
              "      background-color: #E2EBFA;\n",
              "      box-shadow: 0px 1px 2px rgba(60, 64, 67, 0.3), 0px 1px 3px 1px rgba(60, 64, 67, 0.15);\n",
              "      fill: #174EA6;\n",
              "    }\n",
              "\n",
              "    [theme=dark] .colab-df-convert {\n",
              "      background-color: #3B4455;\n",
              "      fill: #D2E3FC;\n",
              "    }\n",
              "\n",
              "    [theme=dark] .colab-df-convert:hover {\n",
              "      background-color: #434B5C;\n",
              "      box-shadow: 0px 1px 3px 1px rgba(0, 0, 0, 0.15);\n",
              "      filter: drop-shadow(0px 1px 2px rgba(0, 0, 0, 0.3));\n",
              "      fill: #FFFFFF;\n",
              "    }\n",
              "  </style>\n",
              "\n",
              "      <script>\n",
              "        const buttonEl =\n",
              "          document.querySelector('#df-e680ed4d-91b4-4c0b-a381-720f0d11f91e button.colab-df-convert');\n",
              "        buttonEl.style.display =\n",
              "          google.colab.kernel.accessAllowed ? 'block' : 'none';\n",
              "\n",
              "        async function convertToInteractive(key) {\n",
              "          const element = document.querySelector('#df-e680ed4d-91b4-4c0b-a381-720f0d11f91e');\n",
              "          const dataTable =\n",
              "            await google.colab.kernel.invokeFunction('convertToInteractive',\n",
              "                                                     [key], {});\n",
              "          if (!dataTable) return;\n",
              "\n",
              "          const docLinkHtml = 'Like what you see? Visit the ' +\n",
              "            '<a target=\"_blank\" href=https://colab.research.google.com/notebooks/data_table.ipynb>data table notebook</a>'\n",
              "            + ' to learn more about interactive tables.';\n",
              "          element.innerHTML = '';\n",
              "          dataTable['output_type'] = 'display_data';\n",
              "          await google.colab.output.renderOutput(dataTable, element);\n",
              "          const docLink = document.createElement('div');\n",
              "          docLink.innerHTML = docLinkHtml;\n",
              "          element.appendChild(docLink);\n",
              "        }\n",
              "      </script>\n",
              "    </div>\n",
              "  </div>\n",
              "  "
            ]
          },
          "metadata": {},
          "execution_count": 38
        }
      ]
    },
    {
      "cell_type": "markdown",
      "source": [
        "### Training"
      ],
      "metadata": {
        "id": "7IU19erIYGp2"
      }
    },
    {
      "cell_type": "code",
      "source": [
        "# Load a new bert-mini model\n",
        "\n",
        "word_embedding_model = models.Transformer('prajjwal1/bert-mini')\n",
        "pooling_model = models.Pooling(word_embedding_model.get_word_embedding_dimension())\n",
        "model = SentenceTransformer(modules=[word_embedding_model, pooling_model])"
      ],
      "metadata": {
        "id": "MbZQWz9xvlf5"
      },
      "execution_count": null,
      "outputs": []
    },
    {
      "cell_type": "code",
      "source": [
        "# Convert the dataframe into a dataset\n",
        "\n",
        "train_ds = Dataset.from_pandas(df_train_triplets)\n",
        "train_ds"
      ],
      "metadata": {
        "id": "UNj9IQsbCY70",
        "colab": {
          "base_uri": "https://localhost:8080/"
        },
        "outputId": "25b7df2d-438b-4ba0-a7e3-a91e7990166e"
      },
      "execution_count": null,
      "outputs": [
        {
          "output_type": "execute_result",
          "data": {
            "text/plain": [
              "Dataset({\n",
              "    features: ['QUERY_ID', 'POS_DOC_ID', 'NEG_DOC_ID', 'TEXT_Q', 'TEXT_POS_DOC', 'TEXT_NEG_DOC', 'RELEVANCE_LEVEL'],\n",
              "    num_rows: 50930\n",
              "})"
            ]
          },
          "metadata": {},
          "execution_count": 54
        }
      ]
    },
    {
      "cell_type": "code",
      "source": [
        "# Format properly the input\n",
        "\n",
        "train_samples = []\n",
        "train_data = train_ds\n",
        "n_samples = train_ds.num_rows\n",
        "\n",
        "for i in range(n_samples):\n",
        "  sample = train_data[i]\n",
        "  train_samples.append(InputExample(texts=[sample['TEXT_Q'], sample['TEXT_POS_DOC'], sample['TEXT_NEG_DOC']]))"
      ],
      "metadata": {
        "id": "hs4WBV_OEWN5"
      },
      "execution_count": null,
      "outputs": []
    },
    {
      "cell_type": "code",
      "source": [
        "# Collect train data into a dataloader\n",
        "\n",
        "train_dataloader = DataLoader(train_samples, shuffle=True, batch_size=32)"
      ],
      "metadata": {
        "id": "NiydLmMpEoVt"
      },
      "execution_count": null,
      "outputs": []
    },
    {
      "cell_type": "code",
      "source": [
        "# Define the loss function\n",
        "\n",
        "train_loss = losses.MultipleNegativesRankingLoss(model=model)"
      ],
      "metadata": {
        "id": "zzRzDZ05EWDg"
      },
      "execution_count": null,
      "outputs": []
    },
    {
      "cell_type": "code",
      "source": [
        "# Define an evaluator on validation data\n",
        "\n",
        "evaluator = evaluation.InformationRetrievalEvaluator(queries = val_qid_text,\n",
        "                                                     corpus = val_docid_text,\n",
        "                                                     relevant_docs = val_query_docs_rel_order,\n",
        "                                                     accuracy_at_k = [1, 3, 5, 10],\n",
        "                                                     precision_recall_at_k = [1, 3, 5, 10],\n",
        "                                                     map_at_k = [1, 3, 5, 10, 100],\n",
        "                                                     show_progress_bar=True,\n",
        "                                                     score_functions = {'cos_sim': cos_sim})"
      ],
      "metadata": {
        "id": "jYDCMSdKFrkA"
      },
      "execution_count": null,
      "outputs": []
    },
    {
      "cell_type": "code",
      "source": [
        "# Train the model for 3 epochs\n",
        "\n",
        "model.fit(train_objectives=[(train_dataloader, train_loss)],\n",
        "          epochs=3,\n",
        "          evaluator=evaluator,\n",
        "          output_path = 'model_mnr_loss/',\n",
        "          evaluation_steps = 5000,\n",
        "          save_best_model=True)"
      ],
      "metadata": {
        "colab": {
          "base_uri": "https://localhost:8080/",
          "height": 405,
          "referenced_widgets": [
            "caa62ca7b94f4f04b51f350d9872f605",
            "9e5e54d9f15c40dbbbe12f5122fc88c0",
            "5df86470af394c32a342ce437a9876e8",
            "f4080454a8fd4adf915882b6b330e27a",
            "0e0db742aae44b63bb34f2fa7e23a691",
            "170c2cbc64224c2e8e9cd2d497875152",
            "aba28b6d347b44ff8e55c388f3f2041c",
            "e2cc258a697e4419a2ad295012bef52c",
            "18ebc76681a04cf9839abe9bbd76478a",
            "770d888d290a4355bd35ef724f0226ba",
            "d32411672d694f989bd04aeae68d2429",
            "07fade6d90c14b02915ebb4cce117eb3",
            "463ce65cb33048cb9cc991482db43553",
            "bd9994c41fa74ba3ab50fbdf21ec4660",
            "0a9a2ab133f24ac6b18fe6bb7fba9e96",
            "28097c87f7fd45eda6ed272554ef2cda",
            "40a29fd8026a455b80a32b7ad17f5b85",
            "4f15f5d877d0441c808ea1485f8f1bc0",
            "0aa8a5378dcc4391990a2bfe46508b49",
            "3f398410c1f94493829a008fbd60bda4",
            "10dde7d50fe64ea78930d38cfc627e6c",
            "8e4db406e37d4bb489c6c73de6bed19a",
            "62809cad3c974598b6e8584ce69d0a1f",
            "7c628868d16146ef8471c1f509b67d74",
            "56d81a591c3147959eb04dfab92e71fe",
            "b10fe8ba65cb49329da0a7f11af1403f",
            "803fa94fef634fa0ae587d61945bec6a",
            "c5d41b7cc6f54a5cba8a877c4aaa3be1",
            "021311a635cd4401836a4be9182844b8",
            "edaf2fd9422d4c7bbd3c789c76105ae1",
            "9127eeb11b98403e893ccab1cc0213b9",
            "9289bfc3f1c14c4a9dee53d14939b415",
            "7419da6aaa7c4d1ebf99e129378d9828",
            "f1dc8a36f0974b4e8f30efc053018073",
            "5a23930738b34862835c178b925f487b",
            "b4e431b7543842a088729e00650c1289",
            "609827750eea4b31ac4925a701705063",
            "655c8c64579849d18c0921fc34b76035",
            "f3d46025eac8474ea0a8bb98ebfdc817",
            "7cf6cf3e3f7e4794b1b571bb300f2089",
            "14921e1ac4924c319a32b9b9630b0dc7",
            "3c568ee443854be98f65789388b8a653",
            "c57d3421620c401382e6cf840b5908fb",
            "9e2fffae143b411c9148bb230a801332",
            "22c321b661534246a96440bdf7cc245b",
            "728947c2891a4cc395e8a83a63b75c42",
            "683db78aeee24dc18448e17c069d0e98",
            "53fa3b117aed4ffbae47feafa3f73261",
            "1e140f13d0514a77a88490d0243af637",
            "7944ca4a35b34ef6aebb291110c5b0a2",
            "4e800f6cf4f8474683f4a5342ec8cd14",
            "a39ffa0a7e5746a6a66ee3ba2c793976",
            "ee0781260e204340ba60377036e861d2",
            "b1613a7aa1214c418426eb29549f9374",
            "737d5da6c47245c0864eb45628a586f2",
            "2a46066b7b6845a0a5bcb8c95c96f9ce",
            "2939599cbe394611bc4fd0211fdeea16",
            "d98076670cb54febaea99c03c588c045",
            "dec99e0aa67245a7a6bded599fca4620",
            "3a24fedfbef5443a821df229e33ffe29",
            "e0634c3f727944b896b66037aa99b400",
            "329482e137534c55aee7c0de9758b550",
            "b3038ed3374e4e71a7d0eaa535ccc744",
            "820547767f214733ab0dbf881cb8534a",
            "5f40cd536488445591bb3a699f8ee16f",
            "855b3733bd43402197f9e9f8834e656d",
            "4c5ef0fe317c40da87b139c9e4ced480",
            "b42372834e244c618cf36844b5c6caf6",
            "149a9bc674c84b70b024fb8b05a7c176",
            "44213649af36403e94216da11a48e5be",
            "dc53fe69cdb2451985f92810f31f9a46",
            "138fb2196f5e4a5ea5fbe1bf2dca59f5",
            "0ae888aad88548a2b17559b3982a6b87",
            "4b0a629940c34f4b82bfe3be022b1906",
            "7686bbddc1ce45c795537fe611818984",
            "c1cac36c64c84ad4b0428f5e13a48c62",
            "08eb86b7de9b42fe944a5b242c9a9fdf"
          ]
        },
        "id": "ktbqiwm5qxaO",
        "outputId": "8ba3a3e1-2dc5-4625-9e83-0b600e7288f6"
      },
      "execution_count": null,
      "outputs": [
        {
          "output_type": "display_data",
          "data": {
            "text/plain": [
              "Epoch:   0%|          | 0/3 [00:00<?, ?it/s]"
            ],
            "application/vnd.jupyter.widget-view+json": {
              "version_major": 2,
              "version_minor": 0,
              "model_id": "caa62ca7b94f4f04b51f350d9872f605"
            }
          },
          "metadata": {}
        },
        {
          "output_type": "display_data",
          "data": {
            "text/plain": [
              "Iteration:   0%|          | 0/1592 [00:00<?, ?it/s]"
            ],
            "application/vnd.jupyter.widget-view+json": {
              "version_major": 2,
              "version_minor": 0,
              "model_id": "07fade6d90c14b02915ebb4cce117eb3"
            }
          },
          "metadata": {}
        },
        {
          "output_type": "display_data",
          "data": {
            "text/plain": [
              "Batches:   0%|          | 0/11 [00:00<?, ?it/s]"
            ],
            "application/vnd.jupyter.widget-view+json": {
              "version_major": 2,
              "version_minor": 0,
              "model_id": "62809cad3c974598b6e8584ce69d0a1f"
            }
          },
          "metadata": {}
        },
        {
          "output_type": "stream",
          "name": "stderr",
          "text": [
            "\n",
            "Corpus Chunks:   0%|          | 0/1 [00:00<?, ?it/s]\u001b[A\n",
            "Corpus Chunks: 100%|██████████| 1/1 [00:04<00:00,  4.41s/it]\n"
          ]
        },
        {
          "output_type": "display_data",
          "data": {
            "text/plain": [
              "Iteration:   0%|          | 0/1592 [00:00<?, ?it/s]"
            ],
            "application/vnd.jupyter.widget-view+json": {
              "version_major": 2,
              "version_minor": 0,
              "model_id": "f1dc8a36f0974b4e8f30efc053018073"
            }
          },
          "metadata": {}
        },
        {
          "output_type": "display_data",
          "data": {
            "text/plain": [
              "Batches:   0%|          | 0/11 [00:00<?, ?it/s]"
            ],
            "application/vnd.jupyter.widget-view+json": {
              "version_major": 2,
              "version_minor": 0,
              "model_id": "22c321b661534246a96440bdf7cc245b"
            }
          },
          "metadata": {}
        },
        {
          "output_type": "stream",
          "name": "stderr",
          "text": [
            "\n",
            "Corpus Chunks:   0%|          | 0/1 [00:00<?, ?it/s]\u001b[A\n",
            "Corpus Chunks: 100%|██████████| 1/1 [00:05<00:00,  5.03s/it]\n"
          ]
        },
        {
          "output_type": "display_data",
          "data": {
            "text/plain": [
              "Iteration:   0%|          | 0/1592 [00:00<?, ?it/s]"
            ],
            "application/vnd.jupyter.widget-view+json": {
              "version_major": 2,
              "version_minor": 0,
              "model_id": "2a46066b7b6845a0a5bcb8c95c96f9ce"
            }
          },
          "metadata": {}
        },
        {
          "output_type": "display_data",
          "data": {
            "text/plain": [
              "Batches:   0%|          | 0/11 [00:00<?, ?it/s]"
            ],
            "application/vnd.jupyter.widget-view+json": {
              "version_major": 2,
              "version_minor": 0,
              "model_id": "4c5ef0fe317c40da87b139c9e4ced480"
            }
          },
          "metadata": {}
        },
        {
          "output_type": "stream",
          "name": "stderr",
          "text": [
            "\n",
            "Corpus Chunks:   0%|          | 0/1 [00:00<?, ?it/s]\u001b[A\n",
            "Corpus Chunks: 100%|██████████| 1/1 [00:04<00:00,  4.35s/it]\n"
          ]
        }
      ]
    },
    {
      "cell_type": "code",
      "source": [
        "#model.save('/content/drive/MyDrive/Colab Notebooks/sentence_transformer/bert_mini_mnr_loss')"
      ],
      "metadata": {
        "id": "5hRs6qWcKxwn"
      },
      "execution_count": null,
      "outputs": []
    },
    {
      "cell_type": "markdown",
      "source": [
        "Let's see the results on the validation set during the $3$ epochs of training."
      ],
      "metadata": {
        "id": "pkGCqweWYpRc"
      }
    },
    {
      "cell_type": "code",
      "source": [
        "results = pd.read_csv('model_mnr_loss/eval/Information-Retrieval_evaluation_results.csv').drop(['steps','cos_sim-MRR@10','cos_sim-NDCG@10'], axis=1)\n",
        "results"
      ],
      "metadata": {
        "colab": {
          "base_uri": "https://localhost:8080/",
          "height": 225
        },
        "id": "Ns2LgBGu4kbl",
        "outputId": "c76e647a-fc85-4d5f-eb81-a1ccea59c061"
      },
      "execution_count": null,
      "outputs": [
        {
          "output_type": "execute_result",
          "data": {
            "text/plain": [
              "   epoch  cos_sim-Accuracy@1  cos_sim-Accuracy@3  cos_sim-Accuracy@5  \\\n",
              "0      0            0.383686            0.577039            0.685801   \n",
              "1      1            0.438066            0.643505            0.734139   \n",
              "2      2            0.480363            0.670695            0.743202   \n",
              "\n",
              "   cos_sim-Accuracy@10  cos_sim-Precision@1  cos_sim-Recall@1  \\\n",
              "0             0.764350             0.383686          0.034938   \n",
              "1             0.809668             0.438066          0.038161   \n",
              "2             0.836858             0.480363          0.038016   \n",
              "\n",
              "   cos_sim-Precision@3  cos_sim-Recall@3  cos_sim-Precision@5  \\\n",
              "0             0.298087          0.055205             0.272508   \n",
              "1             0.360524          0.063280             0.326284   \n",
              "2             0.402820          0.066658             0.367372   \n",
              "\n",
              "   cos_sim-Recall@5  cos_sim-Precision@10  cos_sim-Recall@10  cos_sim-MAP@1  \\\n",
              "0          0.079650              0.218429           0.111939       0.383686   \n",
              "1          0.085385              0.279456           0.127957       0.438066   \n",
              "2          0.091714              0.304834           0.141356       0.480363   \n",
              "\n",
              "   cos_sim-MAP@3  cos_sim-MAP@5  cos_sim-MAP@10  cos_sim-MAP@100  \n",
              "0       0.261581       0.221599        0.169236         0.106800  \n",
              "1       0.320997       0.274179        0.221326         0.139981  \n",
              "2       0.365895       0.318673        0.249614         0.159230  "
            ],
            "text/html": [
              "\n",
              "  <div id=\"df-3e4f03f2-165e-48ae-89cb-893c4dcf7119\">\n",
              "    <div class=\"colab-df-container\">\n",
              "      <div>\n",
              "<style scoped>\n",
              "    .dataframe tbody tr th:only-of-type {\n",
              "        vertical-align: middle;\n",
              "    }\n",
              "\n",
              "    .dataframe tbody tr th {\n",
              "        vertical-align: top;\n",
              "    }\n",
              "\n",
              "    .dataframe thead th {\n",
              "        text-align: right;\n",
              "    }\n",
              "</style>\n",
              "<table border=\"1\" class=\"dataframe\">\n",
              "  <thead>\n",
              "    <tr style=\"text-align: right;\">\n",
              "      <th></th>\n",
              "      <th>epoch</th>\n",
              "      <th>cos_sim-Accuracy@1</th>\n",
              "      <th>cos_sim-Accuracy@3</th>\n",
              "      <th>cos_sim-Accuracy@5</th>\n",
              "      <th>cos_sim-Accuracy@10</th>\n",
              "      <th>cos_sim-Precision@1</th>\n",
              "      <th>cos_sim-Recall@1</th>\n",
              "      <th>cos_sim-Precision@3</th>\n",
              "      <th>cos_sim-Recall@3</th>\n",
              "      <th>cos_sim-Precision@5</th>\n",
              "      <th>cos_sim-Recall@5</th>\n",
              "      <th>cos_sim-Precision@10</th>\n",
              "      <th>cos_sim-Recall@10</th>\n",
              "      <th>cos_sim-MAP@1</th>\n",
              "      <th>cos_sim-MAP@3</th>\n",
              "      <th>cos_sim-MAP@5</th>\n",
              "      <th>cos_sim-MAP@10</th>\n",
              "      <th>cos_sim-MAP@100</th>\n",
              "    </tr>\n",
              "  </thead>\n",
              "  <tbody>\n",
              "    <tr>\n",
              "      <th>0</th>\n",
              "      <td>0</td>\n",
              "      <td>0.383686</td>\n",
              "      <td>0.577039</td>\n",
              "      <td>0.685801</td>\n",
              "      <td>0.764350</td>\n",
              "      <td>0.383686</td>\n",
              "      <td>0.034938</td>\n",
              "      <td>0.298087</td>\n",
              "      <td>0.055205</td>\n",
              "      <td>0.272508</td>\n",
              "      <td>0.079650</td>\n",
              "      <td>0.218429</td>\n",
              "      <td>0.111939</td>\n",
              "      <td>0.383686</td>\n",
              "      <td>0.261581</td>\n",
              "      <td>0.221599</td>\n",
              "      <td>0.169236</td>\n",
              "      <td>0.106800</td>\n",
              "    </tr>\n",
              "    <tr>\n",
              "      <th>1</th>\n",
              "      <td>1</td>\n",
              "      <td>0.438066</td>\n",
              "      <td>0.643505</td>\n",
              "      <td>0.734139</td>\n",
              "      <td>0.809668</td>\n",
              "      <td>0.438066</td>\n",
              "      <td>0.038161</td>\n",
              "      <td>0.360524</td>\n",
              "      <td>0.063280</td>\n",
              "      <td>0.326284</td>\n",
              "      <td>0.085385</td>\n",
              "      <td>0.279456</td>\n",
              "      <td>0.127957</td>\n",
              "      <td>0.438066</td>\n",
              "      <td>0.320997</td>\n",
              "      <td>0.274179</td>\n",
              "      <td>0.221326</td>\n",
              "      <td>0.139981</td>\n",
              "    </tr>\n",
              "    <tr>\n",
              "      <th>2</th>\n",
              "      <td>2</td>\n",
              "      <td>0.480363</td>\n",
              "      <td>0.670695</td>\n",
              "      <td>0.743202</td>\n",
              "      <td>0.836858</td>\n",
              "      <td>0.480363</td>\n",
              "      <td>0.038016</td>\n",
              "      <td>0.402820</td>\n",
              "      <td>0.066658</td>\n",
              "      <td>0.367372</td>\n",
              "      <td>0.091714</td>\n",
              "      <td>0.304834</td>\n",
              "      <td>0.141356</td>\n",
              "      <td>0.480363</td>\n",
              "      <td>0.365895</td>\n",
              "      <td>0.318673</td>\n",
              "      <td>0.249614</td>\n",
              "      <td>0.159230</td>\n",
              "    </tr>\n",
              "  </tbody>\n",
              "</table>\n",
              "</div>\n",
              "      <button class=\"colab-df-convert\" onclick=\"convertToInteractive('df-3e4f03f2-165e-48ae-89cb-893c4dcf7119')\"\n",
              "              title=\"Convert this dataframe to an interactive table.\"\n",
              "              style=\"display:none;\">\n",
              "        \n",
              "  <svg xmlns=\"http://www.w3.org/2000/svg\" height=\"24px\"viewBox=\"0 0 24 24\"\n",
              "       width=\"24px\">\n",
              "    <path d=\"M0 0h24v24H0V0z\" fill=\"none\"/>\n",
              "    <path d=\"M18.56 5.44l.94 2.06.94-2.06 2.06-.94-2.06-.94-.94-2.06-.94 2.06-2.06.94zm-11 1L8.5 8.5l.94-2.06 2.06-.94-2.06-.94L8.5 2.5l-.94 2.06-2.06.94zm10 10l.94 2.06.94-2.06 2.06-.94-2.06-.94-.94-2.06-.94 2.06-2.06.94z\"/><path d=\"M17.41 7.96l-1.37-1.37c-.4-.4-.92-.59-1.43-.59-.52 0-1.04.2-1.43.59L10.3 9.45l-7.72 7.72c-.78.78-.78 2.05 0 2.83L4 21.41c.39.39.9.59 1.41.59.51 0 1.02-.2 1.41-.59l7.78-7.78 2.81-2.81c.8-.78.8-2.07 0-2.86zM5.41 20L4 18.59l7.72-7.72 1.47 1.35L5.41 20z\"/>\n",
              "  </svg>\n",
              "      </button>\n",
              "      \n",
              "  <style>\n",
              "    .colab-df-container {\n",
              "      display:flex;\n",
              "      flex-wrap:wrap;\n",
              "      gap: 12px;\n",
              "    }\n",
              "\n",
              "    .colab-df-convert {\n",
              "      background-color: #E8F0FE;\n",
              "      border: none;\n",
              "      border-radius: 50%;\n",
              "      cursor: pointer;\n",
              "      display: none;\n",
              "      fill: #1967D2;\n",
              "      height: 32px;\n",
              "      padding: 0 0 0 0;\n",
              "      width: 32px;\n",
              "    }\n",
              "\n",
              "    .colab-df-convert:hover {\n",
              "      background-color: #E2EBFA;\n",
              "      box-shadow: 0px 1px 2px rgba(60, 64, 67, 0.3), 0px 1px 3px 1px rgba(60, 64, 67, 0.15);\n",
              "      fill: #174EA6;\n",
              "    }\n",
              "\n",
              "    [theme=dark] .colab-df-convert {\n",
              "      background-color: #3B4455;\n",
              "      fill: #D2E3FC;\n",
              "    }\n",
              "\n",
              "    [theme=dark] .colab-df-convert:hover {\n",
              "      background-color: #434B5C;\n",
              "      box-shadow: 0px 1px 3px 1px rgba(0, 0, 0, 0.15);\n",
              "      filter: drop-shadow(0px 1px 2px rgba(0, 0, 0, 0.3));\n",
              "      fill: #FFFFFF;\n",
              "    }\n",
              "  </style>\n",
              "\n",
              "      <script>\n",
              "        const buttonEl =\n",
              "          document.querySelector('#df-3e4f03f2-165e-48ae-89cb-893c4dcf7119 button.colab-df-convert');\n",
              "        buttonEl.style.display =\n",
              "          google.colab.kernel.accessAllowed ? 'block' : 'none';\n",
              "\n",
              "        async function convertToInteractive(key) {\n",
              "          const element = document.querySelector('#df-3e4f03f2-165e-48ae-89cb-893c4dcf7119');\n",
              "          const dataTable =\n",
              "            await google.colab.kernel.invokeFunction('convertToInteractive',\n",
              "                                                     [key], {});\n",
              "          if (!dataTable) return;\n",
              "\n",
              "          const docLinkHtml = 'Like what you see? Visit the ' +\n",
              "            '<a target=\"_blank\" href=https://colab.research.google.com/notebooks/data_table.ipynb>data table notebook</a>'\n",
              "            + ' to learn more about interactive tables.';\n",
              "          element.innerHTML = '';\n",
              "          dataTable['output_type'] = 'display_data';\n",
              "          await google.colab.output.renderOutput(dataTable, element);\n",
              "          const docLink = document.createElement('div');\n",
              "          docLink.innerHTML = docLinkHtml;\n",
              "          element.appendChild(docLink);\n",
              "        }\n",
              "      </script>\n",
              "    </div>\n",
              "  </div>\n",
              "  "
            ]
          },
          "metadata": {},
          "execution_count": 62
        }
      ]
    },
    {
      "cell_type": "code",
      "source": [
        "# Reload the model\n",
        "\n",
        "#model = SentenceTransformer('/content/drive/MyDrive/Colab Notebooks/sentence_transformer/bert_mini_mnr_loss')"
      ],
      "metadata": {
        "id": "HspgH4RHYdV3"
      },
      "execution_count": null,
      "outputs": []
    },
    {
      "cell_type": "code",
      "source": [
        "#! mkdir '/content/mnr_loss'"
      ],
      "metadata": {
        "id": "3NLjmgWyMQxb"
      },
      "execution_count": null,
      "outputs": []
    },
    {
      "cell_type": "code",
      "source": [
        "#evaluator(model, output_path='/content/mnr_loss')"
      ],
      "metadata": {
        "id": "7RYqLV_wMQxb"
      },
      "execution_count": null,
      "outputs": []
    },
    {
      "cell_type": "code",
      "source": [
        "#results = pd.read_csv('/content/mnr_loss/Information-Retrieval_evaluation_results.csv').drop(['steps','cos_sim-MRR@10','cos_sim-NDCG@10','epoch'], axis=1)\n",
        "#results"
      ],
      "metadata": {
        "id": "fdgJnOhaMQxc"
      },
      "execution_count": null,
      "outputs": []
    },
    {
      "cell_type": "markdown",
      "source": [
        "### Latent space visualization after model training"
      ],
      "metadata": {
        "id": "YSfsjrQ3UVad"
      }
    },
    {
      "cell_type": "markdown",
      "source": [
        "Let the model to generate queries and documents embeddings."
      ],
      "metadata": {
        "id": "efgtxUiQt156"
      }
    },
    {
      "cell_type": "code",
      "source": [
        "docs_embeddings = model.encode(list(test_docid_text.values()), convert_to_tensor=True)\n",
        "q_embeddings = model.encode(list(test_qid_text.values()), convert_to_tensor=True)\n",
        "\n",
        "docs_embeddings = docs_embeddings.cpu().numpy()\n",
        "q_embeddings = q_embeddings.cpu().numpy()"
      ],
      "metadata": {
        "id": "y-EDuL92UVae"
      },
      "execution_count": null,
      "outputs": []
    },
    {
      "cell_type": "code",
      "source": [
        "idx = list(test_qid_text.keys()).index('PLAIN-2989')\n",
        "query_id = list(test_qid_text.keys())[idx]\n",
        "query_text = list(test_qid_text.values())[idx]\n",
        "query_id"
      ],
      "metadata": {
        "colab": {
          "base_uri": "https://localhost:8080/",
          "height": 36
        },
        "outputId": "a5f0a3f2-24e9-46bc-b304-e12511e844bd",
        "id": "4juhJMl-UVaf"
      },
      "execution_count": null,
      "outputs": [
        {
          "output_type": "execute_result",
          "data": {
            "text/plain": [
              "'PLAIN-2989'"
            ],
            "application/vnd.google.colaboratory.intrinsic+json": {
              "type": "string"
            }
          },
          "metadata": {},
          "execution_count": 64
        }
      ]
    },
    {
      "cell_type": "code",
      "source": [
        "docs_ids = test_query_docs_rel_order[query_id]\n",
        "docs_text = [test_docid_text[d] for d in docs_ids]\n",
        "docs_ids"
      ],
      "metadata": {
        "colab": {
          "base_uri": "https://localhost:8080/"
        },
        "outputId": "bc209010-f456-4d52-dccc-4a3c6ce83e1f",
        "id": "YooUxvgGUVaf"
      },
      "execution_count": null,
      "outputs": [
        {
          "output_type": "execute_result",
          "data": {
            "text/plain": [
              "['MED-4415',\n",
              " 'MED-4416',\n",
              " 'MED-4417',\n",
              " 'MED-4418',\n",
              " 'MED-3811',\n",
              " 'MED-3812',\n",
              " 'MED-3813',\n",
              " 'MED-4389']"
            ]
          },
          "metadata": {},
          "execution_count": 65
        }
      ]
    },
    {
      "cell_type": "code",
      "source": [
        "umap_visualizer = umap.UMAP(random_state = 56)\n",
        "umap_visualizer.fit(np.concatenate((docs_embeddings, q_embeddings)))\n",
        "docs_embeddings_reduced = umap_visualizer.transform(docs_embeddings)\n",
        "q_embeddings_reduced = umap_visualizer.transform(q_embeddings)"
      ],
      "metadata": {
        "id": "16g4swZZY09f"
      },
      "execution_count": null,
      "outputs": []
    },
    {
      "cell_type": "code",
      "source": [
        "visualize_embeddings(docs_embeddings_reduced, docs_ids, list(test_docid_text.keys()), q_embeddings_reduced, idx, query_id)"
      ],
      "metadata": {
        "colab": {
          "base_uri": "https://localhost:8080/",
          "height": 555
        },
        "outputId": "a857ce9a-232a-422c-ddce-099bbed3bd6f",
        "id": "K4wdfh_SK4zR"
      },
      "execution_count": null,
      "outputs": [
        {
          "output_type": "display_data",
          "data": {
            "text/plain": [
              "<Figure size 1440x1080 with 1 Axes>"
            ],
            "image/png": "[encoded data removed]"
          },
          "metadata": {
            "needs_background": "light"
          }
        }
      ]
    },
    {
      "cell_type": "markdown",
      "source": [
        "It can be clearly seen that the latent space is still spread but a little more clustered than before the training. Also, the embeddings of the query under analysis and most of its relevant documents collapse in close proximity."
      ],
      "metadata": {
        "id": "9QmqTKsr5Ood"
      }
    },
    {
      "cell_type": "markdown",
      "source": [
        "### Documents retrieval"
      ],
      "metadata": {
        "id": "wWE-UJ8-PxuM"
      }
    },
    {
      "cell_type": "markdown",
      "source": [
        "After obtaining the embeddings of queries and documents, they can be used for running information retrieval search on the corpus."
      ],
      "metadata": {
        "id": "PDT6B6-fPxuN"
      }
    },
    {
      "cell_type": "markdown",
      "source": [
        "#### Cosine Similarity"
      ],
      "metadata": {
        "id": "q39mi7jvPxuO"
      }
    },
    {
      "cell_type": "markdown",
      "source": [
        "First, it may be interesting to compute the cosine similarity between one query embedding and all documents embeddings, and to find out the pairs *query-document* with highest cosine similarity scores."
      ],
      "metadata": {
        "id": "4LT9WPOnPxuP"
      }
    },
    {
      "cell_type": "code",
      "source": [
        "query = 'PLAIN-2989'\n",
        "idx = list(test_qid_text.keys()).index(query)\n",
        "\n",
        "cos_scores = util.cos_sim(q_embeddings[idx], docs_embeddings)[0]\n",
        "top_results = torch.topk(cos_scores, k=10)\n",
        "\n",
        "print(\"Query:\", list(test_qid_text.keys())[idx])\n",
        "print()\n",
        "print('Clean text:', test_qid_text[query])\n",
        "print(\"\\nTop 10 most similar sentences in corpus:\")\n",
        "\n",
        "for score, i in zip(top_results[0], top_results[1]):\n",
        "    print(list(test_docid_text.keys())[i], \"(Score: {:.4f})\".format(score))\n",
        "\n",
        "df_relevant_docs = df_test[df_test['QUERY_ID']==query].sort_values(by='RELEVANCE_LEVEL', ascending=False)\n",
        "\n",
        "print('\\nReal first relevant docs:')\n",
        "\n",
        "for idx, row in df_relevant_docs.iterrows():\n",
        "  print(f\"{row['DOC_ID']} (Relevance: {row['RELEVANCE_LEVEL']})\")"
      ],
      "metadata": {
        "colab": {
          "base_uri": "https://localhost:8080/"
        },
        "outputId": "d188172a-608a-4356-e99b-c9fabf1b7611",
        "id": "kCyd7LQoPxuQ"
      },
      "execution_count": null,
      "outputs": [
        {
          "output_type": "stream",
          "name": "stdout",
          "text": [
            "Query: PLAIN-2989\n",
            "\n",
            "Clean text: safer cinnamonsecond spice popularity black pepper cinnamon powdered inner bark four different species cinnamomum trees theres vietnamese cinnamom chinese cinnamon indonesian ceylon recent review raised concerns one compound called coumarin new human data suggests may toxic liver banned food additive still found naturally chinese cinnamon also known cassia cinnamon found significant amounts socalled true cinnamon ceylon cinnamon dont enough data two traffic lights recreational users people going way add like teaspoon daily diet ideally everyone since appears amazingly health promoting antiinflammatory antimicrobial antioxidant antitumor cardiovascular cholesterollowering immunomodulatory effects especially useful diabetes prediabeties eating cinnamon every day great make sure right kind uk says cinnamon ceylon cinnamonchinese cinnamon labeled cassia us though theyre labeled cinnamon since chinese cheaper thats cinnamon shelves make sure specifically says ceylon\n",
            "\n",
            "Top 10 most similar sentences in corpus:\n",
            "MED-4416 (Score: 0.9392)\n",
            "MED-3811 (Score: 0.9392)\n",
            "MED-4415 (Score: 0.9341)\n",
            "MED-4417 (Score: 0.8820)\n",
            "MED-3812 (Score: 0.8722)\n",
            "MED-5000 (Score: 0.8647)\n",
            "MED-4418 (Score: 0.8603)\n",
            "MED-2783 (Score: 0.8550)\n",
            "MED-2791 (Score: 0.8508)\n",
            "MED-2794 (Score: 0.8459)\n",
            "\n",
            "Real first relevant docs:\n",
            "MED-4415 (Relevance: 2)\n",
            "MED-4416 (Relevance: 2)\n",
            "MED-4417 (Relevance: 2)\n",
            "MED-4418 (Relevance: 2)\n",
            "MED-3811 (Relevance: 1)\n",
            "MED-3812 (Relevance: 1)\n",
            "MED-3813 (Relevance: 1)\n",
            "MED-4389 (Relevance: 1)\n"
          ]
        }
      ]
    },
    {
      "cell_type": "markdown",
      "source": [
        "#### K-NN search"
      ],
      "metadata": {
        "id": "yGhwGfWWPxuS"
      }
    },
    {
      "cell_type": "markdown",
      "source": [
        "For perfoming information retrieval, the algorithm employed is the K-Nearest Neighbor search, using Faiss library."
      ],
      "metadata": {
        "id": "OI-6B9OcPxuS"
      }
    },
    {
      "cell_type": "markdown",
      "source": [
        "##### L2-distance"
      ],
      "metadata": {
        "id": "qFX0uWXXPxuS"
      }
    },
    {
      "cell_type": "markdown",
      "source": [
        "For speeding up the computations, the search is run on the GPU. The first experiment is run using the L2-distance search for retrieving the top-10 nearest neighbors for each query."
      ],
      "metadata": {
        "id": "L0NdYZctPxuT"
      }
    },
    {
      "cell_type": "code",
      "source": [
        "res = faiss.StandardGpuResources()\n",
        "\n",
        "d = q_embeddings.shape[1] # embedding dimension\n",
        "print('The embeddings dimension is', d)\n",
        "l2_index = faiss.IndexFlatL2(d)\n",
        "l2_index.add(docs_embeddings)\n",
        "gpu_index_l2 = faiss.index_cpu_to_gpu(res, 0, l2_index)"
      ],
      "metadata": {
        "id": "2yx9gjmKPxuT",
        "colab": {
          "base_uri": "https://localhost:8080/"
        },
        "outputId": "1537478d-3feb-46a7-ae5a-7842b7962eda"
      },
      "execution_count": null,
      "outputs": [
        {
          "output_type": "stream",
          "name": "stdout",
          "text": [
            "The embeddings dimension is 256\n"
          ]
        }
      ]
    },
    {
      "cell_type": "code",
      "source": [
        "k = 10\n",
        "L2_D, L2_I = gpu_index_l2.search(q_embeddings, k)\n",
        "\n",
        "check_queries = 10 # print the first 10 queries results\n",
        "\n",
        "print(f\"Indices of the nearest neighbors of the first {check_queries} queries\\n{L2_I[:check_queries]}\\n\")"
      ],
      "metadata": {
        "colab": {
          "base_uri": "https://localhost:8080/"
        },
        "outputId": "bcaef3f2-0722-455a-d42d-57e0bf6310af",
        "id": "xBn7uujnPxuU"
      },
      "execution_count": null,
      "outputs": [
        {
          "output_type": "stream",
          "name": "stdout",
          "text": [
            "Indices of the nearest neighbors of the first 10 queries\n",
            "[[ 919 1237  921  341  922  926 2608 3288 1550 3291]\n",
            " [2504 1332 2512 3206 2749 3197 2002  501  494 3194]\n",
            " [2489 2488 2429 1885 2811 2256 2485 2163 1632 1884]\n",
            " [2489 1632 2811 2488 1639 2485 1628 1638 2078 1447]\n",
            " [ 260 1645 1660 1648 1779 2721 2952 3013 2249 1788]\n",
            " [2801 2799 1882 2798 2269 3273 1885 1764 1549 2787]\n",
            " [1653  721 1657  584  898  726  362 1649 1660 1652]\n",
            " [1663 1664 1665 3057 1214 3204 2435 3216 2148 3197]\n",
            " [1689 1676 1694 1688 1687 1699 1681 2181 1690 1700]\n",
            " [2752 2751  564  560  411  409 2753  565 2884  412]]\n",
            "\n"
          ]
        }
      ]
    },
    {
      "cell_type": "code",
      "source": [
        "# Select a query and find its top-10 documents\n",
        "\n",
        "query = 'PLAIN-2989'\n",
        "idx = list(test_qid_text.keys()).index(query)\n",
        "\n",
        "print('First 10 documents retrieved for the query:', query)\n",
        "\n",
        "for i in L2_I[idx]:\n",
        "  d = list(test_docid_text.keys())[i]\n",
        "  if d in test_query_docs_rel_order[query]:\n",
        "    rel = test_qd_rel[(query, d)]\n",
        "  else:\n",
        "    rel = 0\n",
        "\n",
        "  print('Doc:', d, 'Relevance:', rel)"
      ],
      "metadata": {
        "colab": {
          "base_uri": "https://localhost:8080/"
        },
        "outputId": "705b3a13-c4fd-47ec-da1c-edabb64fc6bd",
        "id": "3HzVGcqCPxuU"
      },
      "execution_count": null,
      "outputs": [
        {
          "output_type": "stream",
          "name": "stdout",
          "text": [
            "First 10 documents retrieved for the query: PLAIN-2989\n",
            "Doc: MED-3811 Relevance: 1\n",
            "Doc: MED-4416 Relevance: 2\n",
            "Doc: MED-4415 Relevance: 2\n",
            "Doc: MED-4417 Relevance: 2\n",
            "Doc: MED-5000 Relevance: 0\n",
            "Doc: MED-4418 Relevance: 2\n",
            "Doc: MED-2783 Relevance: 0\n",
            "Doc: MED-2791 Relevance: 0\n",
            "Doc: MED-3810 Relevance: 0\n",
            "Doc: MED-2794 Relevance: 0\n"
          ]
        }
      ]
    },
    {
      "cell_type": "markdown",
      "source": [
        "##### PCA reduction"
      ],
      "metadata": {
        "id": "lTQed2P0PxuV"
      }
    },
    {
      "cell_type": "markdown",
      "source": [
        "Trying to improve performances, the embeddings dimension is reduced from $256$ to $32$ using PCA reduction."
      ],
      "metadata": {
        "id": "thtGK25FPxuV"
      }
    },
    {
      "cell_type": "code",
      "metadata": {
        "colab": {
          "base_uri": "https://localhost:8080/"
        },
        "outputId": "473fc67e-ae0d-4d07-dcec-fd55607cfeac",
        "id": "a3eQA7SRPxuW"
      },
      "source": [
        "d_prime = 32\n",
        "d = q_embeddings.shape[1]\n",
        "\n",
        "pca_index = index_factory(d, f\"PCA{d_prime},Flat\")\n",
        "pca_index.train(docs_embeddings)\n",
        "pca_index.add(docs_embeddings)\n",
        "\n",
        "PCA_D, PCA_I = pca_index.search(q_embeddings, k) # actual search\n",
        "print(f\"Indices of the nearest neighbors of the first {check_queries} queries\\n{PCA_I[:check_queries]}\\n\")"
      ],
      "execution_count": null,
      "outputs": [
        {
          "output_type": "stream",
          "name": "stdout",
          "text": [
            "Indices of the nearest neighbors of the first 10 queries\n",
            "[[ 919  341 1237  926 2608  921 3291  922 1550 2681]\n",
            " [ 916  966  940 1782 3073 1332 2504 1564 2316 3209]\n",
            " [2488 1885 2489 2429 2485 2164 2268 2256 2811 1638]\n",
            " [2489 1639 2811 1628 1632 2488 1638 2485 1447 1624]\n",
            " [ 260 1645 1660 2721 2952 1778 1779 3263  653 2016]\n",
            " [2799 1549 2801 1882 2798 1764 3273 2269 2787  108]\n",
            " [ 721 1653 1649  726 1657 1652  557  584  898  362]\n",
            " [1664 1663 1665 3216 3057 1644 1214 3204 1444 2435]\n",
            " [1689 1676 1694 1688 2181 1687 1681 1699 1690 1692]\n",
            " [2752 2751 1317  560  564 2884 1314  409  411  565]]\n",
            "\n"
          ]
        }
      ]
    },
    {
      "cell_type": "code",
      "source": [
        "# Select a query and find its top-10 documents\n",
        "\n",
        "query = 'PLAIN-2989'\n",
        "idx = list(test_qid_text.keys()).index(query)\n",
        "\n",
        "print('First 10 documents retrieved for the query:', query)\n",
        "\n",
        "\n",
        "for i in PCA_I[idx]:\n",
        "  d = list(test_docid_text.keys())[i]\n",
        "  if d in test_query_docs_rel_order[query]:\n",
        "    rel = test_qd_rel[(query, d)]\n",
        "  else:\n",
        "    rel = 0\n",
        "\n",
        "  print('Doc:', d, 'Relevance:', rel)"
      ],
      "metadata": {
        "colab": {
          "base_uri": "https://localhost:8080/"
        },
        "outputId": "c543cfc5-a08e-4889-b6ad-63103ce94621",
        "id": "G33rVYgNPxuX"
      },
      "execution_count": null,
      "outputs": [
        {
          "output_type": "stream",
          "name": "stdout",
          "text": [
            "First 10 documents retrieved for the query: PLAIN-2989\n",
            "Doc: MED-4416 Relevance: 2\n",
            "Doc: MED-3811 Relevance: 1\n",
            "Doc: MED-4415 Relevance: 2\n",
            "Doc: MED-2794 Relevance: 0\n",
            "Doc: MED-2783 Relevance: 0\n",
            "Doc: MED-4418 Relevance: 2\n",
            "Doc: MED-4417 Relevance: 2\n",
            "Doc: MED-3810 Relevance: 0\n",
            "Doc: MED-3807 Relevance: 0\n",
            "Doc: MED-5000 Relevance: 0\n"
          ]
        }
      ]
    },
    {
      "cell_type": "markdown",
      "source": [
        "##### Comparison"
      ],
      "metadata": {
        "id": "cmQ934boPxuX"
      }
    },
    {
      "cell_type": "code",
      "source": [
        "query = 'PLAIN-2989'\n",
        "idx = list(test_qid_text.keys()).index(query)\n",
        "print('First 10 documents retrieved by L2 index for the query:', query)\n",
        "\n",
        "\n",
        "for i in L2_I[idx]:\n",
        "  d = list(test_docid_text.keys())[i]\n",
        "  if d in test_query_docs_rel_order[query]:\n",
        "    rel = test_qd_rel[(query, d)]\n",
        "  else:\n",
        "    rel = 0\n",
        "\n",
        "  print('Doc:', d, 'Relevance:', rel)\n",
        "\n",
        "\n",
        "print('\\nFirst 10 documents retrieved by PCA index for the query:', query)\n",
        "\n",
        "\n",
        "for i in PCA_I[idx]:\n",
        "  d = list(test_docid_text.keys())[i]\n",
        "  if d in test_query_docs_rel_order[query]:\n",
        "    rel = test_qd_rel[(query, d)]\n",
        "  else:\n",
        "    rel = 0\n",
        "\n",
        "  print('Doc:', d, 'Relevance:', rel)"
      ],
      "metadata": {
        "colab": {
          "base_uri": "https://localhost:8080/"
        },
        "outputId": "c4daa073-d70e-4be8-b034-ded27185b3ad",
        "id": "_C80gqcrPxuY"
      },
      "execution_count": null,
      "outputs": [
        {
          "output_type": "stream",
          "name": "stdout",
          "text": [
            "First 10 documents retrieved by L2 index for the query: PLAIN-2989\n",
            "Doc: MED-3811 Relevance: 1\n",
            "Doc: MED-4416 Relevance: 2\n",
            "Doc: MED-4415 Relevance: 2\n",
            "Doc: MED-4417 Relevance: 2\n",
            "Doc: MED-5000 Relevance: 0\n",
            "Doc: MED-4418 Relevance: 2\n",
            "Doc: MED-2783 Relevance: 0\n",
            "Doc: MED-2791 Relevance: 0\n",
            "Doc: MED-3810 Relevance: 0\n",
            "Doc: MED-2794 Relevance: 0\n",
            "\n",
            "First 10 documents retrieved by PCA index for the query: PLAIN-2989\n",
            "Doc: MED-4416 Relevance: 2\n",
            "Doc: MED-3811 Relevance: 1\n",
            "Doc: MED-4415 Relevance: 2\n",
            "Doc: MED-2794 Relevance: 0\n",
            "Doc: MED-2783 Relevance: 0\n",
            "Doc: MED-4418 Relevance: 2\n",
            "Doc: MED-4417 Relevance: 2\n",
            "Doc: MED-3810 Relevance: 0\n",
            "Doc: MED-3807 Relevance: 0\n",
            "Doc: MED-5000 Relevance: 0\n"
          ]
        }
      ]
    },
    {
      "cell_type": "markdown",
      "source": [
        "##### Error analysis"
      ],
      "metadata": {
        "id": "Zt89SxfE0PHu"
      }
    },
    {
      "cell_type": "markdown",
      "source": [
        "Let's analyze a couple of missed relevant documents and one of those wrongly retrieved."
      ],
      "metadata": {
        "id": "uHHdTAWv1VX2"
      }
    },
    {
      "cell_type": "code",
      "source": [
        "query = 'PLAIN-2989'\n",
        "idx = list(test_qid_text.keys()).index(query)\n",
        "print(f\"Original query text: {queries[queries['QUERY_ID']==query]['TEXT'].values[0]}\")\n",
        "print(f'Clean query text: {test_qid_text[query]}')\n",
        "\n",
        "print('\\nFirst 10 documents retrieved for the query:', query)\n",
        "\n",
        "\n",
        "for i in L2_I[idx]:\n",
        "  d = list(test_docid_text.keys())[i]\n",
        "  if d in test_query_docs_rel_order[query]:\n",
        "    rel = test_qd_rel[(query, d)]\n",
        "  else:\n",
        "    rel = 0\n",
        "\n",
        "  print('Doc:', d, 'Relevance:', rel)\n",
        "\n",
        "df_relevant_docs = df_test[df_test['QUERY_ID']=='PLAIN-2989'].sort_values(by='RELEVANCE_LEVEL', ascending=False)\n",
        "\n",
        "print('\\nReal first relevant docs:')\n",
        "\n",
        "for idx, row in df_relevant_docs.iterrows():\n",
        "  print(f\"Doc: {row['DOC_ID']} Relevance: {row['RELEVANCE_LEVEL']}\")"
      ],
      "metadata": {
        "colab": {
          "base_uri": "https://localhost:8080/"
        },
        "outputId": "db9f6f77-b3d5-4d7b-e1c5-ce301db1515e",
        "id": "i2BElKMp0PHu"
      },
      "execution_count": null,
      "outputs": [
        {
          "output_type": "stream",
          "name": "stdout",
          "text": [
            "Original query text: The Safer CinnamonSecond in spice popularity only to black pepper, cinnamon is the powdered inner bark of four different species of cinnamomum trees. There’s Vietnamese cinnamom, Chinese cinnamon, Indonesian, and Ceylon. A recent review raised concerns about one of them because of a compound called coumarin, which new human data suggests may be toxic to the liver. It’s been banned as a food additive, but still can be found naturally in, Chinese cinnamon, also known as cassia cinnamon. It is not found in significant amounts in so-called true cinnamon, Ceylon cinnamon, and we don’t have enough data on the other two. Now these traffic lights are not for recreational users; these are only for people going out of their way to add like a teaspoon or more to their daily diet, which ideally should be everyone, since it appears so amazingly health promoting— anti-inflammatory, antimicrobial, antioxidant, antitumor, cardiovascular, cholesterol-lowering, and immunomodulatory effects. Especially useful for those with diabetes… or prediabeties. So if you are eating cinnamon every day, great— just make sure it’s the right kind. In the UK, if it says cinnamon then it’s Ceylon cinnamon—Chinese cinnamon is labeled cassia. In the U.S., though, they’re both just labeled cinnamon, and since Chinese is cheaper that’s what most cinnamon is on our shelves so make sure it specifically says Ceylon.\n",
            "Clean query text: safer cinnamonsecond spice popularity black pepper cinnamon powdered inner bark four different species cinnamomum trees theres vietnamese cinnamom chinese cinnamon indonesian ceylon recent review raised concerns one compound called coumarin new human data suggests may toxic liver banned food additive still found naturally chinese cinnamon also known cassia cinnamon found significant amounts socalled true cinnamon ceylon cinnamon dont enough data two traffic lights recreational users people going way add like teaspoon daily diet ideally everyone since appears amazingly health promoting antiinflammatory antimicrobial antioxidant antitumor cardiovascular cholesterollowering immunomodulatory effects especially useful diabetes prediabeties eating cinnamon every day great make sure right kind uk says cinnamon ceylon cinnamonchinese cinnamon labeled cassia us though theyre labeled cinnamon since chinese cheaper thats cinnamon shelves make sure specifically says ceylon\n",
            "\n",
            "First 10 documents retrieved for the query: PLAIN-2989\n",
            "Doc: MED-3811 Relevance: 1\n",
            "Doc: MED-4416 Relevance: 2\n",
            "Doc: MED-4415 Relevance: 2\n",
            "Doc: MED-4417 Relevance: 2\n",
            "Doc: MED-5000 Relevance: 0\n",
            "Doc: MED-4418 Relevance: 2\n",
            "Doc: MED-2783 Relevance: 0\n",
            "Doc: MED-2791 Relevance: 0\n",
            "Doc: MED-3810 Relevance: 0\n",
            "Doc: MED-2794 Relevance: 0\n",
            "\n",
            "Real first relevant docs:\n",
            "Doc: MED-4415 Relevance: 2\n",
            "Doc: MED-4416 Relevance: 2\n",
            "Doc: MED-4417 Relevance: 2\n",
            "Doc: MED-4418 Relevance: 2\n",
            "Doc: MED-3811 Relevance: 1\n",
            "Doc: MED-3812 Relevance: 1\n",
            "Doc: MED-3813 Relevance: 1\n",
            "Doc: MED-4389 Relevance: 1\n"
          ]
        }
      ]
    },
    {
      "cell_type": "code",
      "source": [
        "# Print the text of the query and of one of the wrongly retrieved documents\n",
        "\n",
        "wrong_doc_1 = 'MED-3951'\n",
        "wrong_doc_2 = 'MED-2783'\n",
        "\n",
        "print(f\"Original query text: {queries[queries['QUERY_ID']==query]['TEXT'].values[0]}\")\n",
        "print(f'Clean query text: {test_qid_text[query]}')\n",
        "print()\n",
        "print(f\"Original text doc {wrong_doc_1}: {docs[docs['DOC_ID'] == wrong_doc_1]['ABSTRACT'].values[0]}\")\n",
        "print(f\"Clean text doc {wrong_doc_1}: {test_docid_text[wrong_doc_1]}\")\n",
        "print()\n",
        "print(f\"Original text doc {wrong_doc_2}: {docs[docs['DOC_ID'] == wrong_doc_2]['ABSTRACT'].values[0]}\")\n",
        "print(f\"Clean text doc {wrong_doc_2}: {test_docid_text[wrong_doc_2]}\")"
      ],
      "metadata": {
        "colab": {
          "base_uri": "https://localhost:8080/"
        },
        "outputId": "115156a1-531e-4a1d-db10-b525af741467",
        "id": "XW-hG7wdaJm1"
      },
      "execution_count": null,
      "outputs": [
        {
          "output_type": "stream",
          "name": "stdout",
          "text": [
            "Original query text: The Safer CinnamonSecond in spice popularity only to black pepper, cinnamon is the powdered inner bark of four different species of cinnamomum trees. There’s Vietnamese cinnamom, Chinese cinnamon, Indonesian, and Ceylon. A recent review raised concerns about one of them because of a compound called coumarin, which new human data suggests may be toxic to the liver. It’s been banned as a food additive, but still can be found naturally in, Chinese cinnamon, also known as cassia cinnamon. It is not found in significant amounts in so-called true cinnamon, Ceylon cinnamon, and we don’t have enough data on the other two. Now these traffic lights are not for recreational users; these are only for people going out of their way to add like a teaspoon or more to their daily diet, which ideally should be everyone, since it appears so amazingly health promoting— anti-inflammatory, antimicrobial, antioxidant, antitumor, cardiovascular, cholesterol-lowering, and immunomodulatory effects. Especially useful for those with diabetes… or prediabeties. So if you are eating cinnamon every day, great— just make sure it’s the right kind. In the UK, if it says cinnamon then it’s Ceylon cinnamon—Chinese cinnamon is labeled cassia. In the U.S., though, they’re both just labeled cinnamon, and since Chinese is cheaper that’s what most cinnamon is on our shelves so make sure it specifically says Ceylon.\n",
            "Clean query text: safer cinnamonsecond spice popularity black pepper cinnamon powdered inner bark four different species cinnamomum trees theres vietnamese cinnamom chinese cinnamon indonesian ceylon recent review raised concerns one compound called coumarin new human data suggests may toxic liver banned food additive still found naturally chinese cinnamon also known cassia cinnamon found significant amounts socalled true cinnamon ceylon cinnamon dont enough data two traffic lights recreational users people going way add like teaspoon daily diet ideally everyone since appears amazingly health promoting antiinflammatory antimicrobial antioxidant antitumor cardiovascular cholesterollowering immunomodulatory effects especially useful diabetes prediabeties eating cinnamon every day great make sure right kind uk says cinnamon ceylon cinnamonchinese cinnamon labeled cassia us though theyre labeled cinnamon since chinese cheaper thats cinnamon shelves make sure specifically says ceylon\n",
            "\n",
            "Original text doc MED-3951: Abstract INTRODUCTION: This case report describes a patient who developed rhabdomyolysis temporally associated with the use of a mislabeled acai berry dietary supplement. METHODS AND RESULTS: The authors describe a 22-year-old man presenting with rhabdomyolysis approximately 2 weeks after starting a weight-loss dietary supplement. His medical history was significant only for hypertension treated with amlodipine. The diagnosis of rhabdomyolysis was confirmed (creatine kinase, 84,000 IU/L, positive urine myoglobin) with other potential causes ruled out. The signs and symptoms of the patient gradually resolved and he was discharged on hospital day 5. Assessment using the Naranjo Adverse Drug Reaction Probability Scale yielded a score of 3, indicating a possible relationship between the supplement and rhabdomyolysis. Although the product was labeled and promoted as containing acai berry and additional ingredients, there was no acai berry found on analysis. CONCLUSION: Clinicians should be aware that all dietary supplements may vary in uniformity and contain unknown contaminants.\n",
            "Clean text doc MED-3951: abstract introduction case report describes patient developed rhabdomyolysis temporally associated use mislabeled acai berry dietary supplement methods results authors describe yearold man presenting rhabdomyolysis approximately weeks starting weightloss dietary supplement medical history significant hypertension treated amlodipine diagnosis rhabdomyolysis confirmed creatine kinase iul positive urine myoglobin potential causes ruled signs symptoms patient gradually resolved discharged hospital day assessment using naranjo adverse drug reaction probability scale yielded score indicating possible relationship supplement rhabdomyolysis although product labeled promoted containing acai berry additional ingredients acai berry found analysis conclusion clinicians aware dietary supplements may vary uniformity contain unknown contaminants\n",
            "\n",
            "Original text doc MED-2783: Abstract Although much has been published about curcumin, which is obtained from turmeric, comparatively little is known about turmeric itself. Turmeric, a golden spice obtained from the rhizome of the plant Curcuma longa, has been used to give color and taste to food preparations since ancient times. Traditionally, this spice has been used in Ayurveda and folk medicine for the treatment of such ailments as gynecological problems, gastric problems, hepatic disorders, infectious diseases, and blood disorders. Modern science has provided the scientific basis for the use of turmeric against such disorders. Various chemical constituents have been isolated from this spice, including polyphenols, sesquiterpenes, diterpenes, triterpenoids, sterols, and alkaloids. Curcumin, which constitutes 2-5% of turmeric, is perhaps the most-studied component. Although some of the activities of turmeric can be mimicked by curcumin, other activities are curcumin-independent. Cell-based studies have demonstrated the potential of turmeric as an antimicrobial, insecticidal, larvicidal, antimutagenic, radioprotector, and anticancer agent. Numerous animal studies have shown the potential of this spice against proinflammatory diseases, cancer, neurodegenerative diseases, depression, diabetes, obesity, and atherosclerosis. At the molecular level, this spice has been shown to modulate numerous cell-signaling pathways. In clinical trials, turmeric has shown efficacy against numerous human ailments including lupus nephritis, cancer, diabetes, irritable bowel syndrome, acne, and fibrosis. Thus, a spice originally common in the kitchen is now exhibiting activities in the clinic. In this review, we discuss the chemical constituents of turmeric, its biological activities, its molecular targets, and its potential in the clinic. © 2012 WILEY-VCH Verlag GmbH & Co. KGaA, Weinheim.\n",
            "Clean text doc MED-2783: abstract although much published curcumin obtained turmeric comparatively little known turmeric turmeric golden spice obtained rhizome plant curcuma longa used give color taste food preparations since ancient times traditionally spice used ayurveda folk medicine treatment ailments gynecological problems gastric problems hepatic disorders infectious diseases blood disorders modern science provided scientific basis use turmeric disorders various chemical constituents isolated spice including polyphenols sesquiterpenes diterpenes triterpenoids sterols alkaloids curcumin constitutes turmeric perhaps moststudied component although activities turmeric mimicked curcumin activities curcuminindependent cellbased studies demonstrated potential turmeric antimicrobial insecticidal larvicidal antimutagenic radioprotector anticancer agent numerous animal studies shown potential spice proinflammatory diseases cancer neurodegenerative diseases depression diabetes obesity atherosclerosis molecular level spice shown modulate numerous cellsignaling pathways clinical trials turmeric shown efficacy numerous human ailments including lupus nephritis cancer diabetes irritable bowel syndrome acne fibrosis thus spice originally common kitchen exhibiting activities clinic review discuss chemical constituents turmeric biological activities molecular targets potential clinic wileyvch verlag gmbh co kgaa weinheim\n"
          ]
        }
      ]
    },
    {
      "cell_type": "code",
      "source": [
        "# Print the text of the query and of one of the missed relevant documents\n",
        "\n",
        "missed_doc = 'MED-3813'\n",
        "\n",
        "print(f\"Original query text: {queries[queries['QUERY_ID']==query]['TEXT'].values[0]}\")\n",
        "print(f'Clean query text: {test_qid_text[query]}')\n",
        "print()\n",
        "print(f\"Original text doc {missed_doc}: {docs[docs['DOC_ID']==missed_doc]['ABSTRACT'].values[0]}\")\n",
        "print(f\"Clean text doc {missed_doc}: {test_docid_text[missed_doc]}\")\n",
        "print()"
      ],
      "metadata": {
        "colab": {
          "base_uri": "https://localhost:8080/"
        },
        "outputId": "af217145-55f6-41ee-d69c-ddf54d68ecf9",
        "id": "CAZpcQqYdB27"
      },
      "execution_count": null,
      "outputs": [
        {
          "output_type": "stream",
          "name": "stdout",
          "text": [
            "Original query text: The Safer CinnamonSecond in spice popularity only to black pepper, cinnamon is the powdered inner bark of four different species of cinnamomum trees. There’s Vietnamese cinnamom, Chinese cinnamon, Indonesian, and Ceylon. A recent review raised concerns about one of them because of a compound called coumarin, which new human data suggests may be toxic to the liver. It’s been banned as a food additive, but still can be found naturally in, Chinese cinnamon, also known as cassia cinnamon. It is not found in significant amounts in so-called true cinnamon, Ceylon cinnamon, and we don’t have enough data on the other two. Now these traffic lights are not for recreational users; these are only for people going out of their way to add like a teaspoon or more to their daily diet, which ideally should be everyone, since it appears so amazingly health promoting— anti-inflammatory, antimicrobial, antioxidant, antitumor, cardiovascular, cholesterol-lowering, and immunomodulatory effects. Especially useful for those with diabetes… or prediabeties. So if you are eating cinnamon every day, great— just make sure it’s the right kind. In the UK, if it says cinnamon then it’s Ceylon cinnamon—Chinese cinnamon is labeled cassia. In the U.S., though, they’re both just labeled cinnamon, and since Chinese is cheaper that’s what most cinnamon is on our shelves so make sure it specifically says Ceylon.\n",
            "Clean query text: safer cinnamonsecond spice popularity black pepper cinnamon powdered inner bark four different species cinnamomum trees theres vietnamese cinnamom chinese cinnamon indonesian ceylon recent review raised concerns one compound called coumarin new human data suggests may toxic liver banned food additive still found naturally chinese cinnamon also known cassia cinnamon found significant amounts socalled true cinnamon ceylon cinnamon dont enough data two traffic lights recreational users people going way add like teaspoon daily diet ideally everyone since appears amazingly health promoting antiinflammatory antimicrobial antioxidant antitumor cardiovascular cholesterollowering immunomodulatory effects especially useful diabetes prediabeties eating cinnamon every day great make sure right kind uk says cinnamon ceylon cinnamonchinese cinnamon labeled cassia us though theyre labeled cinnamon since chinese cheaper thats cinnamon shelves make sure specifically says ceylon\n",
            "\n",
            "Original text doc MED-3813: Abstract Cinnamon can improve fasting glucose in humans yet data on insulin sensitivity are limited and controversial. Eight male volunteers (aged 25 +/- 1 years, body mass 76.5 +/- 3.0 kg, BMI 24.0 +/- 0.7 kg m(-2); mean +/- SEM) underwent two 14-day interventions involving cinnamon or placebo supplementation (3 g day(-1)). Placebo supplementation was continued for 5 days following this 14 day period. Oral glucose tolerance tests (OGTT) were performed on days 0, 1, 14, 16, 18, and 20. Cinnamon ingestion reduced the glucose response to OGTT on day 1 (-13.1 +/- 6.3% vs. day 0; P < 0.05) and day 14 (-5.5 +/- 8.1% vs. day 0; P = 0.09). Cinnamon ingestion also reduced insulin responses to OGTT on day 14 (-27.1 +/- 6.2% vs. day 0; P < 0.05), as well as improving insulin sensitivity on day 14 (vs. day 0; P < 0.05). These effects were lost following cessation of cinnamon feeding. Cinnamon may improve glycaemic control and insulin sensitivity, but the effects are quickly reversed.\n",
            "Clean text doc MED-3813: abstract cinnamon improve fasting glucose humans yet data insulin sensitivity limited controversial eight male volunteers aged years body mass kg bmi kg mean sem underwent two day interventions involving cinnamon placebo supplementation g day placebo supplementation continued days following day period oral glucose tolerance tests ogtt performed days cinnamon ingestion reduced glucose response ogtt day vs day p day vs day p cinnamon ingestion also reduced insulin responses ogtt day vs day p well improving insulin sensitivity day vs day p effects lost following cessation cinnamon feeding cinnamon may improve glycaemic control insulin sensitivity effects quickly reversed\n",
            "\n"
          ]
        }
      ]
    },
    {
      "cell_type": "markdown",
      "source": [
        "### Evaluation"
      ],
      "metadata": {
        "id": "I21JSvYFPxuY"
      }
    },
    {
      "cell_type": "markdown",
      "source": [
        "Let's now evaluate the retrieval search computed with the naive L2-distance."
      ],
      "metadata": {
        "id": "QcLIEWjKPxuZ"
      }
    },
    {
      "cell_type": "code",
      "source": [
        "rp = np.average([r_precision(q, L2_I[i], test_docid_text, test_query_docs_rel_order) for  i, q in enumerate(test_qid_text.keys())])\n",
        "\n",
        "print('R-precision:', rp)\n",
        "\n",
        "for k in [1, 3, 5, 10]:\n",
        "    pk = np.mean([precision_at_k(q, L2_I[i], test_docid_text, test_query_docs_rel_order, k) for i, q in enumerate(test_qid_text.keys())])\n",
        "    rk = np.mean([recall_at_k(q, L2_I[i], test_docid_text, test_query_docs_rel_order, k) for i, q in enumerate(test_qid_text.keys())])\n",
        "    f1_k = np.mean([f1_at_k(q, L2_I[i], test_docid_text, test_query_docs_rel_order, k) for i, q in enumerate(test_qid_text.keys())])\n",
        "    mapk = np.mean([mean_average_precision_at_k(q, L2_I[i], test_docid_text, test_query_docs_rel_order, k) for i, q in enumerate(test_qid_text.keys())])\n",
        "    ndcg_k = np.average([compute_ndcg_at_k(q, L2_I[i], test_docid_text, test_qd_rel, test_query_docs_rel_order, k) for i, q in enumerate(test_qid_text.keys())])\n",
        "\n",
        "    print()\n",
        "    print(f'Precision@{k}:', pk)\n",
        "    print(f'Recall@{k}:', rk)\n",
        "    print(f'F1-score@{k}:', f1_k)\n",
        "    print(f'MAP@{k}:', mapk)\n",
        "    print(f'NDCG@{k}:', ndcg_k)"
      ],
      "metadata": {
        "colab": {
          "base_uri": "https://localhost:8080/"
        },
        "outputId": "c03d8fb9-d204-4140-95b4-8bdf5529ae67",
        "id": "UHqqa4B2PxuZ"
      },
      "execution_count": null,
      "outputs": [
        {
          "output_type": "stream",
          "name": "stdout",
          "text": [
            "R-precision: 0.1077569561797756\n",
            "\n",
            "Precision@1: 0.47129909365558914\n",
            "Recall@1: 0.03140066444717073\n",
            "F1-score@1: 0.052040515103714415\n",
            "MAP@1: 0.03140066444717073\n",
            "NDCG@1: 0.4350453172205438\n",
            "\n",
            "Precision@3: 0.4199395770392749\n",
            "Recall@3: 0.06607663175750393\n",
            "F1-score@3: 0.09146119958457742\n",
            "MAP@3: 0.11157304633900501\n",
            "NDCG@3: 0.40887982383533095\n",
            "\n",
            "Precision@5: 0.370392749244713\n",
            "Recall@5: 0.08508354631473249\n",
            "F1-score@5: 0.10707157254955635\n",
            "MAP@5: 0.1955493301743324\n",
            "NDCG@5: 0.38777660117029106\n",
            "\n",
            "Precision@10: 0.3057401812688822\n",
            "Recall@10: 0.1282372228080785\n",
            "F1-score@10: 0.13325103713360248\n",
            "MAP@10: 0.4178162120015961\n",
            "NDCG@10: 0.36340130533332143\n"
          ]
        }
      ]
    },
    {
      "cell_type": "markdown",
      "source": [
        "## Triplet Loss"
      ],
      "metadata": {
        "id": "WoMIv4nACrhs"
      }
    },
    {
      "cell_type": "markdown",
      "source": [
        "### Data formatting"
      ],
      "metadata": {
        "id": "UPZKghDQDR_i"
      }
    },
    {
      "cell_type": "markdown",
      "source": [
        "Before feeding the model, data must be formatted properly. In particular, to be able to train the model using Triplet Loss, the input must be in the format *(anchor, positive, negative)*, where *anchor* is the query, *positive* is one relevant document and *negative* is one non-relevant document.\n",
        "\n",
        "Since the dataset only contains pairs of *(anchor, positive)*, the negative must be set manually using the `triplets_format` function."
      ],
      "metadata": {
        "id": "Xzj-AU9hDVPc"
      }
    },
    {
      "cell_type": "code",
      "source": [
        "df_train_triplets = triplets_format(df_train, train_qid_text, train_docid_text)\n",
        "df_val_triplets = triplets_format(df_val, val_qid_text, val_docid_text)\n",
        "df_test_triplets = triplets_format(df_test, test_qid_text, test_docid_text)"
      ],
      "metadata": {
        "id": "XXZcFiN_lgFB"
      },
      "execution_count": null,
      "outputs": []
    },
    {
      "cell_type": "code",
      "source": [
        "df_train_triplets"
      ],
      "metadata": {
        "colab": {
          "base_uri": "https://localhost:8080/",
          "height": 423
        },
        "id": "2ejRwK2G9WIq",
        "outputId": "7833607b-7611-4e8e-edc1-69bd1bf93f52"
      },
      "execution_count": null,
      "outputs": [
        {
          "output_type": "execute_result",
          "data": {
            "text/plain": [
              "         QUERY_ID POS_DOC_ID NEG_DOC_ID  \\\n",
              "0       PLAIN-755   MED-2436   MED-1664   \n",
              "1       PLAIN-755   MED-2437   MED-3516   \n",
              "2       PLAIN-755   MED-2438   MED-5063   \n",
              "3       PLAIN-755   MED-2439   MED-3976   \n",
              "4       PLAIN-755   MED-2440   MED-4704   \n",
              "...           ...        ...        ...   \n",
              "50925  PLAIN-3348   MED-5021   MED-3893   \n",
              "50926  PLAIN-3377   MED-5059   MED-1148   \n",
              "50927   PLAIN-428    MED-924   MED-3730   \n",
              "50928   PLAIN-428    MED-925   MED-2278   \n",
              "50929   PLAIN-428    MED-926   MED-4987   \n",
              "\n",
              "                                                  TEXT_Q  \\\n",
              "0      breast cancermuch like types cancer plantbased...   \n",
              "1      breast cancermuch like types cancer plantbased...   \n",
              "2      breast cancermuch like types cancer plantbased...   \n",
              "3      breast cancermuch like types cancer plantbased...   \n",
              "4      breast cancermuch like types cancer plantbased...   \n",
              "...                                                  ...   \n",
              "50925  star fruit good youstar fruit often find tropi...   \n",
              "50926  gum arabic harmfulgum arabic found paints mars...   \n",
              "50927  making water alkaline much baking soda muchhtt...   \n",
              "50928  making water alkaline much baking soda muchhtt...   \n",
              "50929  making water alkaline much baking soda muchhtt...   \n",
              "\n",
              "                                            TEXT_POS_DOC  \\\n",
              "0      abstract content low density lipoprotein ldl r...   \n",
              "1      abstract background breast cancer commonly dia...   \n",
              "2      abstract phytoestrogens structurally similar e...   \n",
              "3      abstract many factors involved etiology cancer...   \n",
              "4      abstract purpose clarify relationship total ch...   \n",
              "...                                                  ...   \n",
              "50925  abstract previously discovered star fruit indu...   \n",
              "50926  abstract report represents conclusions joint f...   \n",
              "50927  abstract oral ingestion baking soda sodium bic...   \n",
              "50928  abstract present case sixweekold infant develo...   \n",
              "50929  abstract case severe metabolic alkalosis resul...   \n",
              "\n",
              "                                            TEXT_NEG_DOC  RELEVANCE_LEVEL  \n",
              "0      abstract intervertebral disc cartilaginous str...                1  \n",
              "1      abstract topical application capsaicin human n...                1  \n",
              "2      evidence supports trial period eliminating col...                1  \n",
              "3      abstract objectives investigate effect dog cat...                1  \n",
              "4      abstract introduction lipoid pneumonia rare fo...                1  \n",
              "...                                                  ...              ...  \n",
              "50925  abstract seven cyclists exercised maximal upta...                2  \n",
              "50926  abstract purpose etiology hypospadias poorly u...                2  \n",
              "50927  abstract dysplasia histologic precursor esopha...                2  \n",
              "50928  abstract objectives investigate antiinflammato...                2  \n",
              "50929  abstract background cardiovascular disease lea...                2  \n",
              "\n",
              "[50930 rows x 7 columns]"
            ],
            "text/html": [
              "\n",
              "  <div id=\"df-c7ee378a-5c26-4384-b100-3f31e261d7b1\">\n",
              "    <div class=\"colab-df-container\">\n",
              "      <div>\n",
              "<style scoped>\n",
              "    .dataframe tbody tr th:only-of-type {\n",
              "        vertical-align: middle;\n",
              "    }\n",
              "\n",
              "    .dataframe tbody tr th {\n",
              "        vertical-align: top;\n",
              "    }\n",
              "\n",
              "    .dataframe thead th {\n",
              "        text-align: right;\n",
              "    }\n",
              "</style>\n",
              "<table border=\"1\" class=\"dataframe\">\n",
              "  <thead>\n",
              "    <tr style=\"text-align: right;\">\n",
              "      <th></th>\n",
              "      <th>QUERY_ID</th>\n",
              "      <th>POS_DOC_ID</th>\n",
              "      <th>NEG_DOC_ID</th>\n",
              "      <th>TEXT_Q</th>\n",
              "      <th>TEXT_POS_DOC</th>\n",
              "      <th>TEXT_NEG_DOC</th>\n",
              "      <th>RELEVANCE_LEVEL</th>\n",
              "    </tr>\n",
              "  </thead>\n",
              "  <tbody>\n",
              "    <tr>\n",
              "      <th>0</th>\n",
              "      <td>PLAIN-755</td>\n",
              "      <td>MED-2436</td>\n",
              "      <td>MED-1664</td>\n",
              "      <td>breast cancermuch like types cancer plantbased...</td>\n",
              "      <td>abstract content low density lipoprotein ldl r...</td>\n",
              "      <td>abstract intervertebral disc cartilaginous str...</td>\n",
              "      <td>1</td>\n",
              "    </tr>\n",
              "    <tr>\n",
              "      <th>1</th>\n",
              "      <td>PLAIN-755</td>\n",
              "      <td>MED-2437</td>\n",
              "      <td>MED-3516</td>\n",
              "      <td>breast cancermuch like types cancer plantbased...</td>\n",
              "      <td>abstract background breast cancer commonly dia...</td>\n",
              "      <td>abstract topical application capsaicin human n...</td>\n",
              "      <td>1</td>\n",
              "    </tr>\n",
              "    <tr>\n",
              "      <th>2</th>\n",
              "      <td>PLAIN-755</td>\n",
              "      <td>MED-2438</td>\n",
              "      <td>MED-5063</td>\n",
              "      <td>breast cancermuch like types cancer plantbased...</td>\n",
              "      <td>abstract phytoestrogens structurally similar e...</td>\n",
              "      <td>evidence supports trial period eliminating col...</td>\n",
              "      <td>1</td>\n",
              "    </tr>\n",
              "    <tr>\n",
              "      <th>3</th>\n",
              "      <td>PLAIN-755</td>\n",
              "      <td>MED-2439</td>\n",
              "      <td>MED-3976</td>\n",
              "      <td>breast cancermuch like types cancer plantbased...</td>\n",
              "      <td>abstract many factors involved etiology cancer...</td>\n",
              "      <td>abstract objectives investigate effect dog cat...</td>\n",
              "      <td>1</td>\n",
              "    </tr>\n",
              "    <tr>\n",
              "      <th>4</th>\n",
              "      <td>PLAIN-755</td>\n",
              "      <td>MED-2440</td>\n",
              "      <td>MED-4704</td>\n",
              "      <td>breast cancermuch like types cancer plantbased...</td>\n",
              "      <td>abstract purpose clarify relationship total ch...</td>\n",
              "      <td>abstract introduction lipoid pneumonia rare fo...</td>\n",
              "      <td>1</td>\n",
              "    </tr>\n",
              "    <tr>\n",
              "      <th>...</th>\n",
              "      <td>...</td>\n",
              "      <td>...</td>\n",
              "      <td>...</td>\n",
              "      <td>...</td>\n",
              "      <td>...</td>\n",
              "      <td>...</td>\n",
              "      <td>...</td>\n",
              "    </tr>\n",
              "    <tr>\n",
              "      <th>50925</th>\n",
              "      <td>PLAIN-3348</td>\n",
              "      <td>MED-5021</td>\n",
              "      <td>MED-3893</td>\n",
              "      <td>star fruit good youstar fruit often find tropi...</td>\n",
              "      <td>abstract previously discovered star fruit indu...</td>\n",
              "      <td>abstract seven cyclists exercised maximal upta...</td>\n",
              "      <td>2</td>\n",
              "    </tr>\n",
              "    <tr>\n",
              "      <th>50926</th>\n",
              "      <td>PLAIN-3377</td>\n",
              "      <td>MED-5059</td>\n",
              "      <td>MED-1148</td>\n",
              "      <td>gum arabic harmfulgum arabic found paints mars...</td>\n",
              "      <td>abstract report represents conclusions joint f...</td>\n",
              "      <td>abstract purpose etiology hypospadias poorly u...</td>\n",
              "      <td>2</td>\n",
              "    </tr>\n",
              "    <tr>\n",
              "      <th>50927</th>\n",
              "      <td>PLAIN-428</td>\n",
              "      <td>MED-924</td>\n",
              "      <td>MED-3730</td>\n",
              "      <td>making water alkaline much baking soda muchhtt...</td>\n",
              "      <td>abstract oral ingestion baking soda sodium bic...</td>\n",
              "      <td>abstract dysplasia histologic precursor esopha...</td>\n",
              "      <td>2</td>\n",
              "    </tr>\n",
              "    <tr>\n",
              "      <th>50928</th>\n",
              "      <td>PLAIN-428</td>\n",
              "      <td>MED-925</td>\n",
              "      <td>MED-2278</td>\n",
              "      <td>making water alkaline much baking soda muchhtt...</td>\n",
              "      <td>abstract present case sixweekold infant develo...</td>\n",
              "      <td>abstract objectives investigate antiinflammato...</td>\n",
              "      <td>2</td>\n",
              "    </tr>\n",
              "    <tr>\n",
              "      <th>50929</th>\n",
              "      <td>PLAIN-428</td>\n",
              "      <td>MED-926</td>\n",
              "      <td>MED-4987</td>\n",
              "      <td>making water alkaline much baking soda muchhtt...</td>\n",
              "      <td>abstract case severe metabolic alkalosis resul...</td>\n",
              "      <td>abstract background cardiovascular disease lea...</td>\n",
              "      <td>2</td>\n",
              "    </tr>\n",
              "  </tbody>\n",
              "</table>\n",
              "<p>50930 rows × 7 columns</p>\n",
              "</div>\n",
              "      <button class=\"colab-df-convert\" onclick=\"convertToInteractive('df-c7ee378a-5c26-4384-b100-3f31e261d7b1')\"\n",
              "              title=\"Convert this dataframe to an interactive table.\"\n",
              "              style=\"display:none;\">\n",
              "        \n",
              "  <svg xmlns=\"http://www.w3.org/2000/svg\" height=\"24px\"viewBox=\"0 0 24 24\"\n",
              "       width=\"24px\">\n",
              "    <path d=\"M0 0h24v24H0V0z\" fill=\"none\"/>\n",
              "    <path d=\"M18.56 5.44l.94 2.06.94-2.06 2.06-.94-2.06-.94-.94-2.06-.94 2.06-2.06.94zm-11 1L8.5 8.5l.94-2.06 2.06-.94-2.06-.94L8.5 2.5l-.94 2.06-2.06.94zm10 10l.94 2.06.94-2.06 2.06-.94-2.06-.94-.94-2.06-.94 2.06-2.06.94z\"/><path d=\"M17.41 7.96l-1.37-1.37c-.4-.4-.92-.59-1.43-.59-.52 0-1.04.2-1.43.59L10.3 9.45l-7.72 7.72c-.78.78-.78 2.05 0 2.83L4 21.41c.39.39.9.59 1.41.59.51 0 1.02-.2 1.41-.59l7.78-7.78 2.81-2.81c.8-.78.8-2.07 0-2.86zM5.41 20L4 18.59l7.72-7.72 1.47 1.35L5.41 20z\"/>\n",
              "  </svg>\n",
              "      </button>\n",
              "      \n",
              "  <style>\n",
              "    .colab-df-container {\n",
              "      display:flex;\n",
              "      flex-wrap:wrap;\n",
              "      gap: 12px;\n",
              "    }\n",
              "\n",
              "    .colab-df-convert {\n",
              "      background-color: #E8F0FE;\n",
              "      border: none;\n",
              "      border-radius: 50%;\n",
              "      cursor: pointer;\n",
              "      display: none;\n",
              "      fill: #1967D2;\n",
              "      height: 32px;\n",
              "      padding: 0 0 0 0;\n",
              "      width: 32px;\n",
              "    }\n",
              "\n",
              "    .colab-df-convert:hover {\n",
              "      background-color: #E2EBFA;\n",
              "      box-shadow: 0px 1px 2px rgba(60, 64, 67, 0.3), 0px 1px 3px 1px rgba(60, 64, 67, 0.15);\n",
              "      fill: #174EA6;\n",
              "    }\n",
              "\n",
              "    [theme=dark] .colab-df-convert {\n",
              "      background-color: #3B4455;\n",
              "      fill: #D2E3FC;\n",
              "    }\n",
              "\n",
              "    [theme=dark] .colab-df-convert:hover {\n",
              "      background-color: #434B5C;\n",
              "      box-shadow: 0px 1px 3px 1px rgba(0, 0, 0, 0.15);\n",
              "      filter: drop-shadow(0px 1px 2px rgba(0, 0, 0, 0.3));\n",
              "      fill: #FFFFFF;\n",
              "    }\n",
              "  </style>\n",
              "\n",
              "      <script>\n",
              "        const buttonEl =\n",
              "          document.querySelector('#df-c7ee378a-5c26-4384-b100-3f31e261d7b1 button.colab-df-convert');\n",
              "        buttonEl.style.display =\n",
              "          google.colab.kernel.accessAllowed ? 'block' : 'none';\n",
              "\n",
              "        async function convertToInteractive(key) {\n",
              "          const element = document.querySelector('#df-c7ee378a-5c26-4384-b100-3f31e261d7b1');\n",
              "          const dataTable =\n",
              "            await google.colab.kernel.invokeFunction('convertToInteractive',\n",
              "                                                     [key], {});\n",
              "          if (!dataTable) return;\n",
              "\n",
              "          const docLinkHtml = 'Like what you see? Visit the ' +\n",
              "            '<a target=\"_blank\" href=https://colab.research.google.com/notebooks/data_table.ipynb>data table notebook</a>'\n",
              "            + ' to learn more about interactive tables.';\n",
              "          element.innerHTML = '';\n",
              "          dataTable['output_type'] = 'display_data';\n",
              "          await google.colab.output.renderOutput(dataTable, element);\n",
              "          const docLink = document.createElement('div');\n",
              "          docLink.innerHTML = docLinkHtml;\n",
              "          element.appendChild(docLink);\n",
              "        }\n",
              "      </script>\n",
              "    </div>\n",
              "  </div>\n",
              "  "
            ]
          },
          "metadata": {},
          "execution_count": 36
        }
      ]
    },
    {
      "cell_type": "markdown",
      "source": [
        "### Training"
      ],
      "metadata": {
        "id": "LW7dOKsGuN3D"
      }
    },
    {
      "cell_type": "code",
      "source": [
        "# Load a new bert-mini model\n",
        "\n",
        "word_embedding_model = models.Transformer('prajjwal1/bert-mini')\n",
        "pooling_model = models.Pooling(word_embedding_model.get_word_embedding_dimension())\n",
        "model = SentenceTransformer(modules=[word_embedding_model, pooling_model])"
      ],
      "metadata": {
        "id": "17Mph6VowFWJ"
      },
      "execution_count": null,
      "outputs": []
    },
    {
      "cell_type": "code",
      "source": [
        "# Convert the dataframe into a dataset\n",
        "\n",
        "train_ds = Dataset.from_pandas(df_train_triplets)\n",
        "train_ds"
      ],
      "metadata": {
        "id": "3WI76rQeg61r",
        "colab": {
          "base_uri": "https://localhost:8080/"
        },
        "outputId": "61593535-368c-4af1-dbc3-a245334ea727"
      },
      "execution_count": null,
      "outputs": [
        {
          "output_type": "execute_result",
          "data": {
            "text/plain": [
              "Dataset({\n",
              "    features: ['QUERY_ID', 'POS_DOC_ID', 'NEG_DOC_ID', 'TEXT_Q', 'TEXT_POS_DOC', 'TEXT_NEG_DOC', 'RELEVANCE_LEVEL'],\n",
              "    num_rows: 50930\n",
              "})"
            ]
          },
          "metadata": {},
          "execution_count": 37
        }
      ]
    },
    {
      "cell_type": "code",
      "source": [
        "# Format properly the input\n",
        "\n",
        "train_samples = []\n",
        "train_data = train_ds\n",
        "n_samples = train_ds.num_rows\n",
        "\n",
        "for i in range(n_samples):\n",
        "  sample = train_data[i]\n",
        "  train_samples.append(InputExample(texts=[sample['TEXT_Q'], sample['TEXT_POS_DOC'], sample['TEXT_NEG_DOC']]))"
      ],
      "metadata": {
        "id": "bPuXIgNffd6t"
      },
      "execution_count": null,
      "outputs": []
    },
    {
      "cell_type": "code",
      "source": [
        "# Collect train data into a dataloader\n",
        "\n",
        "train_dataloader = DataLoader(train_samples, shuffle=True, batch_size=32)"
      ],
      "metadata": {
        "id": "PH0M-BKaiAgh"
      },
      "execution_count": null,
      "outputs": []
    },
    {
      "cell_type": "code",
      "source": [
        "# Define the loss function\n",
        "\n",
        "train_loss = losses.TripletLoss(model=model, triplet_margin=0.1, distance_metric=TripletDistanceMetric.COSINE)"
      ],
      "metadata": {
        "id": "nGBRRVwqiB36"
      },
      "execution_count": null,
      "outputs": []
    },
    {
      "cell_type": "code",
      "source": [
        "# Define an evaluator on validation data\n",
        "\n",
        "evaluator = evaluation.InformationRetrievalEvaluator(queries = val_qid_text,\n",
        "                                                     corpus = val_docid_text,\n",
        "                                                     relevant_docs = val_query_docs_rel_order,\n",
        "                                                     accuracy_at_k = [1, 3, 5, 10],\n",
        "                                                     precision_recall_at_k = [1, 3, 5, 10],\n",
        "                                                     map_at_k = [1, 3, 5, 10],\n",
        "                                                     show_progress_bar=True,\n",
        "                                                     score_functions = {'cos_sim': cos_sim})"
      ],
      "metadata": {
        "id": "kgORsEGowQXs"
      },
      "execution_count": null,
      "outputs": []
    },
    {
      "cell_type": "code",
      "source": [
        "# Train the model for 3 epochs\n",
        "\n",
        "model.fit(train_objectives=[(train_dataloader, train_loss)],\n",
        "          epochs=3,\n",
        "          evaluator=evaluator,\n",
        "          output_path = 'model_triplet_loss',\n",
        "          evaluation_steps = 5000,\n",
        "          save_best_model=True)"
      ],
      "metadata": {
        "colab": {
          "base_uri": "https://localhost:8080/",
          "height": 405,
          "referenced_widgets": [
            "91a9036038e34767bc4a9d9bb9c32374",
            "812f8a8986524b0a8f4e7f932a0a32a9",
            "995299803e444dd7a094fd9fa113d5c6",
            "5e30e91bd81741b58a206b9db599d869",
            "f3dcb01b10fb4dfb80f4a40ebbd60182",
            "8a8b7bef2e414e1ca78d7feb87899dd6",
            "3fb6c002e0a24b7cbe9a7564ab56a34d",
            "bc01f21138f34458831ba04cafa92c0b",
            "159658f128b846e69a0f03ac31c3319b",
            "390962e2b28c4f01a1e29cc07aad2f22",
            "7713960f3bd34aaf9c94a7690bccb5f5",
            "04d04a1214cb4e0badf8fe8035b45f85",
            "a3e4971fbf4742c9934d431aa9db4c57",
            "95b2fed99d0c4fb69f49f651e9a2fc63",
            "e9585d2263a54136bd04968f2e21d695",
            "006f43121d504dc1a73499b17dba1abe",
            "8ec42ea48806466a9be0b8c8caca40f2",
            "42962a34bcb0467091e8beda6a85287c",
            "a174935ac37641a9bc54005a4ac0decc",
            "c3dcd588e00e4c3ea760f8e54192333c",
            "5d20b1aff21742fb8fe1d6be7641339e",
            "b9e63c48290d4eb7a840f363a5880b19",
            "e065cf215c0540cc81286d5c6b91c654",
            "288ecb46507741058fb07e82af4e095f",
            "6037ce7b04f24f7eb77434f5b04b6594",
            "459e4c0b9e6f43359e59ae179870a624",
            "79944078deb84cd4ab401dcfbf19cb94",
            "a75ae4bdda3f46aa9d01f8f7b50abf4a",
            "a48d62b8fded49d9b83d66a6487a2887",
            "28038cd8052e46c4a18fc139b75a8cb0",
            "805fe7a919b34ecc9e7b052deb6e1cf9",
            "d68cfd5bb3a847b0bdf3bdb9eb80b401",
            "f624bdbc0c0a4f379acc213e437b19ed",
            "8ac7626f566f4b01a7ba9d35618a7293",
            "be6f9b2644c149078dfd5685cbb204e0",
            "1b718fa2b9044ed395df27616c8c0431",
            "304bd43932414fa89b5a7588c3e0eec0",
            "5da23fa9d6174f8b8d8b8bb5a4a746df",
            "5cd433574a774b2fbd201a85d79d6e2e",
            "b1000af57be4484585769686309098f0",
            "a68cb0d6bbf549d1b5b8f54764ecd801",
            "aa7ca489db104b838a1a48dc932fc49a",
            "93232c95bc564d2780f50792c387c78c",
            "84de1f23925e4308814fb26c8fef1301",
            "4b5b8a243019426a8454889e124f1eed",
            "91005fe87a654e9bb525d15e487b3089",
            "f3fec744f59c4d44a0c2ba583a862e75",
            "99147b28502a4418bf85a1f8bc7091b6",
            "f81e404c81db47568f0d2a124c42e749",
            "060b4bf683c54f219b2e405e90de157b",
            "245db28708094a5fb08383219d53152a",
            "822ecc86441442e288779b4ab76b5ba4",
            "13eeda7209f942098002e411f782e093",
            "1e010c4e124e4b09aa12d72522826e8d",
            "6002adf12a4841f28c18bfa14763d9dc",
            "ee65dafdf61e40db8fedfa73bc83c60c",
            "2437366feaea48d796fad37c3a8b8dcf",
            "229a20a91f6a4feabf54ce3b1fa87713",
            "bb17379c657b4213b3fde97c74d9936a",
            "5f692414f27c4bf6968b5afc7fb948ef",
            "6aba95fecffa4aeeac22dd4b9b489921",
            "48dc39a9f94048c0b85dbcfef2386732",
            "4e5452a4a6d3421e9453dd626c74ea3d",
            "70570dcb12554c6e81d2cdc210f85ffb",
            "2b1341d49435439aafd9f6978c3f2018",
            "6393957f002b4a7585f2cf416c4a210e",
            "f024c92dd85746509f8f656885ce3f35",
            "f734661483d945e8b2b671a4ca2d58d1",
            "2476ac91a68b485fa9cde01c07a81a9d",
            "5ffcd5c1c6c64587a7aefa8d75dae989",
            "1ca3352071f841749a43baa937566eb0",
            "65ebd83733b04372b111da933b32ce8b",
            "b3cce2b00aaa447da8ea41194fb9e5fd",
            "2fe8a02ca426495aa5d56179dac62d2f",
            "04bda192bf4e48d5854fdf1700d63ebe",
            "c0cf77af632e438d8973d6b0de627be1",
            "d46b816733094aa18ae4993637055a6b"
          ]
        },
        "id": "hJyBv9qKaaci",
        "outputId": "bb86564b-4305-4227-a325-b8293060acf3"
      },
      "execution_count": null,
      "outputs": [
        {
          "output_type": "display_data",
          "data": {
            "text/plain": [
              "Epoch:   0%|          | 0/3 [00:00<?, ?it/s]"
            ],
            "application/vnd.jupyter.widget-view+json": {
              "version_major": 2,
              "version_minor": 0,
              "model_id": "91a9036038e34767bc4a9d9bb9c32374"
            }
          },
          "metadata": {}
        },
        {
          "output_type": "display_data",
          "data": {
            "text/plain": [
              "Iteration:   0%|          | 0/1592 [00:00<?, ?it/s]"
            ],
            "application/vnd.jupyter.widget-view+json": {
              "version_major": 2,
              "version_minor": 0,
              "model_id": "04d04a1214cb4e0badf8fe8035b45f85"
            }
          },
          "metadata": {}
        },
        {
          "output_type": "display_data",
          "data": {
            "text/plain": [
              "Batches:   0%|          | 0/11 [00:00<?, ?it/s]"
            ],
            "application/vnd.jupyter.widget-view+json": {
              "version_major": 2,
              "version_minor": 0,
              "model_id": "e065cf215c0540cc81286d5c6b91c654"
            }
          },
          "metadata": {}
        },
        {
          "output_type": "stream",
          "name": "stderr",
          "text": [
            "\n",
            "Corpus Chunks:   0%|          | 0/1 [00:00<?, ?it/s]\u001b[A\n",
            "Corpus Chunks: 100%|██████████| 1/1 [00:04<00:00,  4.33s/it]\n"
          ]
        },
        {
          "output_type": "display_data",
          "data": {
            "text/plain": [
              "Iteration:   0%|          | 0/1592 [00:00<?, ?it/s]"
            ],
            "application/vnd.jupyter.widget-view+json": {
              "version_major": 2,
              "version_minor": 0,
              "model_id": "8ac7626f566f4b01a7ba9d35618a7293"
            }
          },
          "metadata": {}
        },
        {
          "output_type": "display_data",
          "data": {
            "text/plain": [
              "Batches:   0%|          | 0/11 [00:00<?, ?it/s]"
            ],
            "application/vnd.jupyter.widget-view+json": {
              "version_major": 2,
              "version_minor": 0,
              "model_id": "4b5b8a243019426a8454889e124f1eed"
            }
          },
          "metadata": {}
        },
        {
          "output_type": "stream",
          "name": "stderr",
          "text": [
            "\n",
            "Corpus Chunks:   0%|          | 0/1 [00:00<?, ?it/s]\u001b[A\n",
            "Corpus Chunks: 100%|██████████| 1/1 [00:03<00:00,  3.15s/it]\n"
          ]
        },
        {
          "output_type": "display_data",
          "data": {
            "text/plain": [
              "Iteration:   0%|          | 0/1592 [00:00<?, ?it/s]"
            ],
            "application/vnd.jupyter.widget-view+json": {
              "version_major": 2,
              "version_minor": 0,
              "model_id": "ee65dafdf61e40db8fedfa73bc83c60c"
            }
          },
          "metadata": {}
        },
        {
          "output_type": "display_data",
          "data": {
            "text/plain": [
              "Batches:   0%|          | 0/11 [00:00<?, ?it/s]"
            ],
            "application/vnd.jupyter.widget-view+json": {
              "version_major": 2,
              "version_minor": 0,
              "model_id": "f024c92dd85746509f8f656885ce3f35"
            }
          },
          "metadata": {}
        },
        {
          "output_type": "stream",
          "name": "stderr",
          "text": [
            "\n",
            "Corpus Chunks:   0%|          | 0/1 [00:00<?, ?it/s]\u001b[A\n",
            "Corpus Chunks: 100%|██████████| 1/1 [00:04<00:00,  4.24s/it]\n"
          ]
        }
      ]
    },
    {
      "cell_type": "code",
      "source": [
        "#model.save('/content/drive/MyDrive/Colab Notebooks/sentence_transformer/bert_mini_triplet_loss')"
      ],
      "metadata": {
        "id": "swrw3egu6HsP"
      },
      "execution_count": null,
      "outputs": []
    },
    {
      "cell_type": "markdown",
      "source": [
        "Let's see the results of the $3$ epochs on the validation set."
      ],
      "metadata": {
        "id": "dsoUv3sbWbx0"
      }
    },
    {
      "cell_type": "code",
      "source": [
        "results = pd.read_csv('model_triplet_loss/eval/Information-Retrieval_evaluation_results.csv').drop(['steps','cos_sim-MRR@10','cos_sim-NDCG@10'], axis=1)\n",
        "results"
      ],
      "metadata": {
        "colab": {
          "base_uri": "https://localhost:8080/",
          "height": 205
        },
        "id": "iKT-Fn57urob",
        "outputId": "28b6dec2-0c12-4c09-aa3b-e44cbb697873"
      },
      "execution_count": null,
      "outputs": [
        {
          "output_type": "execute_result",
          "data": {
            "text/plain": [
              "   epoch  cos_sim-Accuracy@1  cos_sim-Accuracy@3  cos_sim-Accuracy@5  \\\n",
              "0      0            0.341390            0.558912            0.658610   \n",
              "1      1            0.380665            0.567976            0.685801   \n",
              "2      2            0.401813            0.601208            0.694864   \n",
              "\n",
              "   cos_sim-Accuracy@10  cos_sim-Precision@1  cos_sim-Recall@1  \\\n",
              "0             0.746224             0.341390          0.028391   \n",
              "1             0.767372             0.380665          0.032441   \n",
              "2             0.785498             0.401813          0.028042   \n",
              "\n",
              "   cos_sim-Precision@3  cos_sim-Recall@3  cos_sim-Precision@5  \\\n",
              "0             0.283988          0.054309             0.267069   \n",
              "1             0.307150          0.053998             0.297885   \n",
              "2             0.342397          0.058798             0.306344   \n",
              "\n",
              "   cos_sim-Recall@5  cos_sim-Precision@10  cos_sim-Recall@10  cos_sim-MAP@1  \\\n",
              "0          0.075274              0.215408           0.102475       0.341390   \n",
              "1          0.075385              0.246526           0.111688       0.380665   \n",
              "2          0.080231              0.252568           0.115842       0.401813   \n",
              "\n",
              "   cos_sim-MAP@3  cos_sim-MAP@5  cos_sim-MAP@10  \n",
              "0       0.242028       0.211039        0.161371  \n",
              "1       0.273246       0.242402        0.189082  \n",
              "2       0.300856       0.254503        0.195239  "
            ],
            "text/html": [
              "\n",
              "  <div id=\"df-6971a584-8790-4fe2-9664-38d829748e1c\">\n",
              "    <div class=\"colab-df-container\">\n",
              "      <div>\n",
              "<style scoped>\n",
              "    .dataframe tbody tr th:only-of-type {\n",
              "        vertical-align: middle;\n",
              "    }\n",
              "\n",
              "    .dataframe tbody tr th {\n",
              "        vertical-align: top;\n",
              "    }\n",
              "\n",
              "    .dataframe thead th {\n",
              "        text-align: right;\n",
              "    }\n",
              "</style>\n",
              "<table border=\"1\" class=\"dataframe\">\n",
              "  <thead>\n",
              "    <tr style=\"text-align: right;\">\n",
              "      <th></th>\n",
              "      <th>epoch</th>\n",
              "      <th>cos_sim-Accuracy@1</th>\n",
              "      <th>cos_sim-Accuracy@3</th>\n",
              "      <th>cos_sim-Accuracy@5</th>\n",
              "      <th>cos_sim-Accuracy@10</th>\n",
              "      <th>cos_sim-Precision@1</th>\n",
              "      <th>cos_sim-Recall@1</th>\n",
              "      <th>cos_sim-Precision@3</th>\n",
              "      <th>cos_sim-Recall@3</th>\n",
              "      <th>cos_sim-Precision@5</th>\n",
              "      <th>cos_sim-Recall@5</th>\n",
              "      <th>cos_sim-Precision@10</th>\n",
              "      <th>cos_sim-Recall@10</th>\n",
              "      <th>cos_sim-MAP@1</th>\n",
              "      <th>cos_sim-MAP@3</th>\n",
              "      <th>cos_sim-MAP@5</th>\n",
              "      <th>cos_sim-MAP@10</th>\n",
              "    </tr>\n",
              "  </thead>\n",
              "  <tbody>\n",
              "    <tr>\n",
              "      <th>0</th>\n",
              "      <td>0</td>\n",
              "      <td>0.341390</td>\n",
              "      <td>0.558912</td>\n",
              "      <td>0.658610</td>\n",
              "      <td>0.746224</td>\n",
              "      <td>0.341390</td>\n",
              "      <td>0.028391</td>\n",
              "      <td>0.283988</td>\n",
              "      <td>0.054309</td>\n",
              "      <td>0.267069</td>\n",
              "      <td>0.075274</td>\n",
              "      <td>0.215408</td>\n",
              "      <td>0.102475</td>\n",
              "      <td>0.341390</td>\n",
              "      <td>0.242028</td>\n",
              "      <td>0.211039</td>\n",
              "      <td>0.161371</td>\n",
              "    </tr>\n",
              "    <tr>\n",
              "      <th>1</th>\n",
              "      <td>1</td>\n",
              "      <td>0.380665</td>\n",
              "      <td>0.567976</td>\n",
              "      <td>0.685801</td>\n",
              "      <td>0.767372</td>\n",
              "      <td>0.380665</td>\n",
              "      <td>0.032441</td>\n",
              "      <td>0.307150</td>\n",
              "      <td>0.053998</td>\n",
              "      <td>0.297885</td>\n",
              "      <td>0.075385</td>\n",
              "      <td>0.246526</td>\n",
              "      <td>0.111688</td>\n",
              "      <td>0.380665</td>\n",
              "      <td>0.273246</td>\n",
              "      <td>0.242402</td>\n",
              "      <td>0.189082</td>\n",
              "    </tr>\n",
              "    <tr>\n",
              "      <th>2</th>\n",
              "      <td>2</td>\n",
              "      <td>0.401813</td>\n",
              "      <td>0.601208</td>\n",
              "      <td>0.694864</td>\n",
              "      <td>0.785498</td>\n",
              "      <td>0.401813</td>\n",
              "      <td>0.028042</td>\n",
              "      <td>0.342397</td>\n",
              "      <td>0.058798</td>\n",
              "      <td>0.306344</td>\n",
              "      <td>0.080231</td>\n",
              "      <td>0.252568</td>\n",
              "      <td>0.115842</td>\n",
              "      <td>0.401813</td>\n",
              "      <td>0.300856</td>\n",
              "      <td>0.254503</td>\n",
              "      <td>0.195239</td>\n",
              "    </tr>\n",
              "  </tbody>\n",
              "</table>\n",
              "</div>\n",
              "      <button class=\"colab-df-convert\" onclick=\"convertToInteractive('df-6971a584-8790-4fe2-9664-38d829748e1c')\"\n",
              "              title=\"Convert this dataframe to an interactive table.\"\n",
              "              style=\"display:none;\">\n",
              "        \n",
              "  <svg xmlns=\"http://www.w3.org/2000/svg\" height=\"24px\"viewBox=\"0 0 24 24\"\n",
              "       width=\"24px\">\n",
              "    <path d=\"M0 0h24v24H0V0z\" fill=\"none\"/>\n",
              "    <path d=\"M18.56 5.44l.94 2.06.94-2.06 2.06-.94-2.06-.94-.94-2.06-.94 2.06-2.06.94zm-11 1L8.5 8.5l.94-2.06 2.06-.94-2.06-.94L8.5 2.5l-.94 2.06-2.06.94zm10 10l.94 2.06.94-2.06 2.06-.94-2.06-.94-.94-2.06-.94 2.06-2.06.94z\"/><path d=\"M17.41 7.96l-1.37-1.37c-.4-.4-.92-.59-1.43-.59-.52 0-1.04.2-1.43.59L10.3 9.45l-7.72 7.72c-.78.78-.78 2.05 0 2.83L4 21.41c.39.39.9.59 1.41.59.51 0 1.02-.2 1.41-.59l7.78-7.78 2.81-2.81c.8-.78.8-2.07 0-2.86zM5.41 20L4 18.59l7.72-7.72 1.47 1.35L5.41 20z\"/>\n",
              "  </svg>\n",
              "      </button>\n",
              "      \n",
              "  <style>\n",
              "    .colab-df-container {\n",
              "      display:flex;\n",
              "      flex-wrap:wrap;\n",
              "      gap: 12px;\n",
              "    }\n",
              "\n",
              "    .colab-df-convert {\n",
              "      background-color: #E8F0FE;\n",
              "      border: none;\n",
              "      border-radius: 50%;\n",
              "      cursor: pointer;\n",
              "      display: none;\n",
              "      fill: #1967D2;\n",
              "      height: 32px;\n",
              "      padding: 0 0 0 0;\n",
              "      width: 32px;\n",
              "    }\n",
              "\n",
              "    .colab-df-convert:hover {\n",
              "      background-color: #E2EBFA;\n",
              "      box-shadow: 0px 1px 2px rgba(60, 64, 67, 0.3), 0px 1px 3px 1px rgba(60, 64, 67, 0.15);\n",
              "      fill: #174EA6;\n",
              "    }\n",
              "\n",
              "    [theme=dark] .colab-df-convert {\n",
              "      background-color: #3B4455;\n",
              "      fill: #D2E3FC;\n",
              "    }\n",
              "\n",
              "    [theme=dark] .colab-df-convert:hover {\n",
              "      background-color: #434B5C;\n",
              "      box-shadow: 0px 1px 3px 1px rgba(0, 0, 0, 0.15);\n",
              "      filter: drop-shadow(0px 1px 2px rgba(0, 0, 0, 0.3));\n",
              "      fill: #FFFFFF;\n",
              "    }\n",
              "  </style>\n",
              "\n",
              "      <script>\n",
              "        const buttonEl =\n",
              "          document.querySelector('#df-6971a584-8790-4fe2-9664-38d829748e1c button.colab-df-convert');\n",
              "        buttonEl.style.display =\n",
              "          google.colab.kernel.accessAllowed ? 'block' : 'none';\n",
              "\n",
              "        async function convertToInteractive(key) {\n",
              "          const element = document.querySelector('#df-6971a584-8790-4fe2-9664-38d829748e1c');\n",
              "          const dataTable =\n",
              "            await google.colab.kernel.invokeFunction('convertToInteractive',\n",
              "                                                     [key], {});\n",
              "          if (!dataTable) return;\n",
              "\n",
              "          const docLinkHtml = 'Like what you see? Visit the ' +\n",
              "            '<a target=\"_blank\" href=https://colab.research.google.com/notebooks/data_table.ipynb>data table notebook</a>'\n",
              "            + ' to learn more about interactive tables.';\n",
              "          element.innerHTML = '';\n",
              "          dataTable['output_type'] = 'display_data';\n",
              "          await google.colab.output.renderOutput(dataTable, element);\n",
              "          const docLink = document.createElement('div');\n",
              "          docLink.innerHTML = docLinkHtml;\n",
              "          element.appendChild(docLink);\n",
              "        }\n",
              "      </script>\n",
              "    </div>\n",
              "  </div>\n",
              "  "
            ]
          },
          "metadata": {},
          "execution_count": 42
        }
      ]
    },
    {
      "cell_type": "code",
      "source": [
        "# Reload the model\n",
        "\n",
        "#model = SentenceTransformer('/content/drive/MyDrive/Colab Notebooks/sentence_transformer/bert_mini_triplet_loss')"
      ],
      "metadata": {
        "id": "ru_2wJ2s61uf"
      },
      "execution_count": null,
      "outputs": []
    },
    {
      "cell_type": "code",
      "source": [
        "#! mkdir '/content/triplet_loss'"
      ],
      "metadata": {
        "id": "2pKBC5ZHMc-s"
      },
      "execution_count": null,
      "outputs": []
    },
    {
      "cell_type": "code",
      "source": [
        "#evaluator(model, output_path='/content/triplet_loss')"
      ],
      "metadata": {
        "id": "kugAquCLMc-t"
      },
      "execution_count": null,
      "outputs": []
    },
    {
      "cell_type": "code",
      "source": [
        "#results = pd.read_csv('/content/triplet_loss/Information-Retrieval_evaluation_results.csv').drop(['steps','cos_sim-MRR@10','cos_sim-NDCG@10','epoch'], axis=1)\n",
        "#results"
      ],
      "metadata": {
        "id": "CU0SVqGBMc-u"
      },
      "execution_count": null,
      "outputs": []
    },
    {
      "cell_type": "markdown",
      "source": [
        "### Latent space visualization after model training"
      ],
      "metadata": {
        "id": "hqW-KhU_vtcn"
      }
    },
    {
      "cell_type": "markdown",
      "source": [
        "Let the trained model to generate embeddings for test queries and documents."
      ],
      "metadata": {
        "id": "hInBvgFFyexM"
      }
    },
    {
      "cell_type": "code",
      "source": [
        "docs_embeddings = model.encode(list(test_docid_text.values()), convert_to_tensor=True)\n",
        "q_embeddings = model.encode(list(test_qid_text.values()), convert_to_tensor=True)\n",
        "\n",
        "docs_embeddings = docs_embeddings.cpu().numpy()\n",
        "q_embeddings = q_embeddings.cpu().numpy()"
      ],
      "metadata": {
        "id": "HprZhFiqiBk3"
      },
      "execution_count": null,
      "outputs": []
    },
    {
      "cell_type": "code",
      "source": [
        "idx = list(test_qid_text.keys()).index('PLAIN-2989')\n",
        "query_id = list(test_qid_text.keys())[idx]\n",
        "query_text = list(test_qid_text.values())[idx]\n",
        "query_id"
      ],
      "metadata": {
        "colab": {
          "base_uri": "https://localhost:8080/",
          "height": 36
        },
        "id": "qMoFpjdfiDcu",
        "outputId": "e0744476-181b-41f0-ce84-4f7c73bafd20"
      },
      "execution_count": null,
      "outputs": [
        {
          "output_type": "execute_result",
          "data": {
            "text/plain": [
              "'PLAIN-2989'"
            ],
            "application/vnd.google.colaboratory.intrinsic+json": {
              "type": "string"
            }
          },
          "metadata": {},
          "execution_count": 39
        }
      ]
    },
    {
      "cell_type": "code",
      "source": [
        "docs_ids = test_query_docs_rel_order[query_id]\n",
        "docs_text = [test_docid_text[d] for d in docs_ids]\n",
        "docs_ids"
      ],
      "metadata": {
        "colab": {
          "base_uri": "https://localhost:8080/"
        },
        "id": "f8brRLI5iFfx",
        "outputId": "5036e9a0-5db6-4675-eb60-d1768e8e70d3"
      },
      "execution_count": null,
      "outputs": [
        {
          "output_type": "execute_result",
          "data": {
            "text/plain": [
              "['MED-3811',\n",
              " 'MED-3812',\n",
              " 'MED-3813',\n",
              " 'MED-4389',\n",
              " 'MED-4415',\n",
              " 'MED-4416',\n",
              " 'MED-4417',\n",
              " 'MED-4418']"
            ]
          },
          "metadata": {},
          "execution_count": 40
        }
      ]
    },
    {
      "cell_type": "code",
      "source": [
        "umap_visualizer = umap.UMAP(random_state = 56)\n",
        "umap_visualizer.fit(np.concatenate((docs_embeddings,q_embeddings)))\n",
        "docs_embeddings_reduced = umap_visualizer.transform(docs_embeddings)\n",
        "q_embeddings_reduced = umap_visualizer.transform(q_embeddings)"
      ],
      "metadata": {
        "id": "k4TwUB07vyiX"
      },
      "execution_count": null,
      "outputs": []
    },
    {
      "cell_type": "code",
      "source": [
        "visualize_embeddings(docs_embeddings_reduced, docs_ids, list(test_docid_text.keys()), q_embeddings_reduced, idx, query_id)"
      ],
      "metadata": {
        "colab": {
          "base_uri": "https://localhost:8080/",
          "height": 555
        },
        "outputId": "9be45578-b82f-4f6d-d0ee-b6bf6d649f93",
        "id": "urgl31U4KtSI"
      },
      "execution_count": null,
      "outputs": [
        {
          "output_type": "display_data",
          "data": {
            "text/plain": [
              "<Figure size 1440x1080 with 1 Axes>"
            ],
            "image/png": "[encoded data removed]"
          },
          "metadata": {
            "needs_background": "light"
          }
        }
      ]
    },
    {
      "cell_type": "markdown",
      "source": [
        "It can be clearly seen that the latent space is still spread but more clustered than before the training. Also, the embeddings of the query under analysis and most of its relevant documents collapse in close proximity."
      ],
      "metadata": {
        "id": "4gLMnxUMv3ME"
      }
    },
    {
      "cell_type": "markdown",
      "source": [
        "### Documents retrieval"
      ],
      "metadata": {
        "id": "KAdUJvW_Tuln"
      }
    },
    {
      "cell_type": "markdown",
      "source": [
        "After obtaining the embeddings of queries and documents, they can be used for running information retrieval search on the corpus."
      ],
      "metadata": {
        "id": "DWoWOrEAxVPs"
      }
    },
    {
      "cell_type": "markdown",
      "source": [
        "#### Cosine Similarity"
      ],
      "metadata": {
        "id": "qDhbqJUMTulv"
      }
    },
    {
      "cell_type": "markdown",
      "source": [
        "First, it may be interesting to compute the cosine similarity between one query embedding and all documents embeddings, and to find out the pairs *query-document* with highest cosine similarity scores."
      ],
      "metadata": {
        "id": "c9Z9TDM-3YS-"
      }
    },
    {
      "cell_type": "code",
      "source": [
        "query = 'PLAIN-2989'\n",
        "idx = list(test_qid_text.keys()).index(query)\n",
        "\n",
        "cos_scores = util.cos_sim(q_embeddings[idx], docs_embeddings)[0]\n",
        "top_results = torch.topk(cos_scores, k=10)\n",
        "\n",
        "print(\"Query:\", list(test_qid_text.keys())[idx])\n",
        "print()\n",
        "print('Clean text:', test_qid_text[query])\n",
        "print(\"\\nTop 10 most similar sentences in corpus:\")\n",
        "\n",
        "for score, i in zip(top_results[0], top_results[1]):\n",
        "    print(list(test_docid_text.keys())[i], \"(Score: {:.4f})\".format(score))\n",
        "\n",
        "df_relevant_docs = df_test[df_test['QUERY_ID']==query].sort_values(by='RELEVANCE_LEVEL', ascending=False)\n",
        "\n",
        "print('\\nReal first relevant docs:')\n",
        "\n",
        "for idx, row in df_relevant_docs.iterrows():\n",
        "  print(f\"{row['DOC_ID']} (Relevance: {row['RELEVANCE_LEVEL']})\")"
      ],
      "metadata": {
        "colab": {
          "base_uri": "https://localhost:8080/"
        },
        "id": "TwV6xSfJSFDk",
        "outputId": "6454cffb-38a8-4ec8-9ef5-76ebdead69ca"
      },
      "execution_count": null,
      "outputs": [
        {
          "output_type": "stream",
          "name": "stdout",
          "text": [
            "Query: PLAIN-2989\n",
            "\n",
            "Clean text: safer cinnamonsecond spice popularity black pepper cinnamon powdered inner bark four different species cinnamomum trees theres vietnamese cinnamom chinese cinnamon indonesian ceylon recent review raised concerns one compound called coumarin new human data suggests may toxic liver banned food additive still found naturally chinese cinnamon also known cassia cinnamon found significant amounts socalled true cinnamon ceylon cinnamon dont enough data two traffic lights recreational users people going way add like teaspoon daily diet ideally everyone since appears amazingly health promoting antiinflammatory antimicrobial antioxidant antitumor cardiovascular cholesterollowering immunomodulatory effects especially useful diabetes prediabeties eating cinnamon every day great make sure right kind uk says cinnamon ceylon cinnamonchinese cinnamon labeled cassia us though theyre labeled cinnamon since chinese cheaper thats cinnamon shelves make sure specifically says ceylon\n",
            "\n",
            "Top 10 most similar sentences in corpus:\n",
            "MED-4415 (Score: 0.9071)\n",
            "MED-3811 (Score: 0.9007)\n",
            "MED-4416 (Score: 0.9007)\n",
            "MED-4417 (Score: 0.8608)\n",
            "MED-5000 (Score: 0.8246)\n",
            "MED-4418 (Score: 0.8186)\n",
            "MED-3812 (Score: 0.8079)\n",
            "MED-3951 (Score: 0.7896)\n",
            "MED-2810 (Score: 0.7895)\n",
            "MED-3813 (Score: 0.7883)\n",
            "\n",
            "Real first relevant docs:\n",
            "MED-4415 (Relevance: 2)\n",
            "MED-4416 (Relevance: 2)\n",
            "MED-4417 (Relevance: 2)\n",
            "MED-4418 (Relevance: 2)\n",
            "MED-3811 (Relevance: 1)\n",
            "MED-3812 (Relevance: 1)\n",
            "MED-3813 (Relevance: 1)\n",
            "MED-4389 (Relevance: 1)\n"
          ]
        }
      ]
    },
    {
      "cell_type": "markdown",
      "source": [
        "#### K-NN search"
      ],
      "metadata": {
        "id": "gKtx1ukc4Ul5"
      }
    },
    {
      "cell_type": "markdown",
      "source": [
        "For perfoming information retrieval, the algorithm employed is the K-Nearest Neighbor search, using Faiss library."
      ],
      "metadata": {
        "id": "YUyTC1LK4Y5Q"
      }
    },
    {
      "cell_type": "markdown",
      "source": [
        "##### L2-distance"
      ],
      "metadata": {
        "id": "5Ij-P7ApTulo"
      }
    },
    {
      "cell_type": "markdown",
      "source": [
        "For speeding up the computations, the search is run on the GPU. The first experiment is run using the L2-distance search for retrieving the top-10 nearest neighbors for each query."
      ],
      "metadata": {
        "id": "WOtPksVZy3RQ"
      }
    },
    {
      "cell_type": "code",
      "source": [
        "res = faiss.StandardGpuResources()\n",
        "\n",
        "d = q_embeddings.shape[1] # embedding dimension\n",
        "print('The embeddings dimension is', d)\n",
        "l2_index = faiss.IndexFlatL2(d)\n",
        "l2_index.add(docs_embeddings)\n",
        "gpu_index_l2 = faiss.index_cpu_to_gpu(res, 0, l2_index)"
      ],
      "metadata": {
        "id": "a4cEV2QuTulo",
        "colab": {
          "base_uri": "https://localhost:8080/"
        },
        "outputId": "9bc8ea7e-1181-4a0a-e6e7-a572aa0ec9e5"
      },
      "execution_count": null,
      "outputs": [
        {
          "output_type": "stream",
          "name": "stdout",
          "text": [
            "The embeddings dimension is 256\n"
          ]
        }
      ]
    },
    {
      "cell_type": "code",
      "source": [
        "k = 10\n",
        "L2_D, L2_I = gpu_index_l2.search(q_embeddings, k)\n",
        "\n",
        "check_queries = 10 # print the first 10 queries results\n",
        "\n",
        "print(f\"Indices of the nearest neighbors of the first {check_queries} queries\\n{L2_I[:check_queries]}\\n\")"
      ],
      "metadata": {
        "colab": {
          "base_uri": "https://localhost:8080/"
        },
        "id": "xbuexnZwTDJF",
        "outputId": "4117e082-0295-429c-c983-ee850ca139d4"
      },
      "execution_count": null,
      "outputs": [
        {
          "output_type": "stream",
          "name": "stdout",
          "text": [
            "Indices of the nearest neighbors of the first 10 queries\n",
            "[[ 921 1237  919  923  509 1550  926  922 3288  690]\n",
            " [ 539  537 3197 3205 2749 2204 3206 1380 2002 2049]\n",
            " [3210 1624  602 1632 2812 1628 2489 2811 3198 2163]\n",
            " [1628 2489 1630 3141 1447 2004 1466 1632 1092 2490]\n",
            " [1648  260 1645 3202 2016 3208 1153  377 1788  972]\n",
            " [2799 1621 2801 3210 1633 2798   21 2269 2087 2085]\n",
            " [ 898 3200  726 3197 2389 3205 1649 2236  101 3216]\n",
            " [3197 1913  709 3057 3204 2995 3213 2649 3216 3198]\n",
            " [1689 1676 1694 1681 1685 1687 1690 1688 1699 3201]\n",
            " [2752 1561 2751 2059 2657 2884 1092 1566 1221  560]]\n",
            "\n"
          ]
        }
      ]
    },
    {
      "cell_type": "code",
      "source": [
        "# Select a query and find its top-10 documents\n",
        "\n",
        "query = 'PLAIN-2989'\n",
        "idx = list(test_qid_text.keys()).index(query)\n",
        "\n",
        "print('First 10 documents retrieved for the query:', query)\n",
        "\n",
        "for i in L2_I[idx]:\n",
        "  d = list(test_docid_text.keys())[i]\n",
        "  if d in test_query_docs_rel_order[query]:\n",
        "    rel = test_qd_rel[(query, d)]\n",
        "  else:\n",
        "    rel = 0\n",
        "\n",
        "  print('Doc:', d, 'Relevance:', rel)"
      ],
      "metadata": {
        "colab": {
          "base_uri": "https://localhost:8080/"
        },
        "id": "Ai-nK2roTN0O",
        "outputId": "565fb36d-04f0-473a-bd62-1cd28c31ba4e"
      },
      "execution_count": null,
      "outputs": [
        {
          "output_type": "stream",
          "name": "stdout",
          "text": [
            "First 10 documents retrieved for the query: PLAIN-2989\n",
            "Doc: MED-3811 Relevance: 1\n",
            "Doc: MED-4416 Relevance: 2\n",
            "Doc: MED-4415 Relevance: 2\n",
            "Doc: MED-4417 Relevance: 2\n",
            "Doc: MED-5000 Relevance: 0\n",
            "Doc: MED-4418 Relevance: 2\n",
            "Doc: MED-2810 Relevance: 0\n",
            "Doc: MED-3951 Relevance: 0\n",
            "Doc: MED-2783 Relevance: 0\n",
            "Doc: MED-2813 Relevance: 0\n"
          ]
        }
      ]
    },
    {
      "cell_type": "markdown",
      "source": [
        "##### PCA reduction"
      ],
      "metadata": {
        "id": "LL_TZzCHTuls"
      }
    },
    {
      "cell_type": "markdown",
      "source": [
        "Trying to improve performances, the embeddings dimension is reduced from $256$ to $32$ using PCA reduction."
      ],
      "metadata": {
        "id": "FeVNG8Qa0th5"
      }
    },
    {
      "cell_type": "code",
      "metadata": {
        "colab": {
          "base_uri": "https://localhost:8080/"
        },
        "outputId": "3491e1fe-0d9e-4cd7-9fdc-66cc47a577e5",
        "id": "98RhoEnHTuls"
      },
      "source": [
        "d_prime = 32\n",
        "d = q_embeddings.shape[1]\n",
        "\n",
        "pca_index = index_factory(d, f\"PCA{d_prime},Flat\")\n",
        "pca_index.train(docs_embeddings)\n",
        "pca_index.add(docs_embeddings)\n",
        "\n",
        "PCA_D, PCA_I = pca_index.search(q_embeddings, k) # actual search\n",
        "print(f\"Indices of the nearest neighbors of the first {check_queries} queries\\n{PCA_I[:check_queries]}\\n\")"
      ],
      "execution_count": null,
      "outputs": [
        {
          "output_type": "stream",
          "name": "stdout",
          "text": [
            "Indices of the nearest neighbors of the first 10 queries\n",
            "[[ 921  919 1237  509  923  926  690 2608  922 1550]\n",
            " [ 537  539 2630 3197 3206 3073 1808 1349 2576 2206]\n",
            " [3210 1624  602 2812 1632 2811 1628 2208 1638 2488]\n",
            " [1628 1630 1447 3141 1466 2208 2490 2489 2004 2995]\n",
            " [ 260 1648 2016 1645 3213 2649 1153 3202 3208 2952]\n",
            " [1621 2799 1041   21 1633 1549  152 2798 1888 3210]\n",
            " [ 898 3200 3216 2951 2953  726 1649 3197  260 2389]\n",
            " [3197  709 2995 1913 1978 3216 1586 3211 3204 3057]\n",
            " [1689 1694 1676 1681 1685 1690 3201 1678 1688 1687]\n",
            " [2752 2884 1561 2751  560 2657 2755 1314 1092 2059]]\n",
            "\n"
          ]
        }
      ]
    },
    {
      "cell_type": "code",
      "source": [
        "# Select a query and find its top-10 documents\n",
        "\n",
        "query = 'PLAIN-2989'\n",
        "idx = list(test_qid_text.keys()).index(query)\n",
        "\n",
        "print('First 10 documents retrieved for the query:', query)\n",
        "\n",
        "\n",
        "for i in PCA_I[idx]:\n",
        "  d = list(test_docid_text.keys())[i]\n",
        "  if d in test_query_docs_rel_order[query]:\n",
        "    rel = test_qd_rel[(query, d)]\n",
        "  else:\n",
        "    rel = 0\n",
        "\n",
        "  print('Doc:', d, 'Relevance:', rel)"
      ],
      "metadata": {
        "colab": {
          "base_uri": "https://localhost:8080/"
        },
        "outputId": "2934fbae-6b38-4b1f-c5a4-567d394f6e30",
        "id": "aBM7ThBMTult"
      },
      "execution_count": null,
      "outputs": [
        {
          "output_type": "stream",
          "name": "stdout",
          "text": [
            "First 10 documents retrieved for the query: PLAIN-2989\n",
            "Doc: MED-4415 Relevance: 2\n",
            "Doc: MED-4416 Relevance: 2\n",
            "Doc: MED-3811 Relevance: 1\n",
            "Doc: MED-4418 Relevance: 2\n",
            "Doc: MED-4417 Relevance: 2\n",
            "Doc: MED-5000 Relevance: 0\n",
            "Doc: MED-2794 Relevance: 0\n",
            "Doc: MED-2783 Relevance: 0\n",
            "Doc: MED-3469 Relevance: 0\n",
            "Doc: MED-3951 Relevance: 0\n"
          ]
        }
      ]
    },
    {
      "cell_type": "markdown",
      "source": [
        "##### Comparison"
      ],
      "metadata": {
        "id": "wNV8k9cpTult"
      }
    },
    {
      "cell_type": "code",
      "source": [
        "query = 'PLAIN-2989'\n",
        "idx = list(test_qid_text.keys()).index(query)\n",
        "print('First 10 documents retrieved by L2 index for the query:', query)\n",
        "\n",
        "\n",
        "for i in L2_I[idx]:\n",
        "  d = list(test_docid_text.keys())[i]\n",
        "  if d in test_query_docs_rel_order[query]:\n",
        "    rel = test_qd_rel[(query, d)]\n",
        "  else:\n",
        "    rel = 0\n",
        "\n",
        "  print('Doc:', d, 'Relevance:', rel)\n",
        "\n",
        "\n",
        "print('\\nFirst 10 documents retrieved by PCA index for the query:', query)\n",
        "\n",
        "\n",
        "for i in PCA_I[idx]:\n",
        "  d = list(test_docid_text.keys())[i]\n",
        "  if d in test_query_docs_rel_order[query]:\n",
        "    rel = test_qd_rel[(query, d)]\n",
        "  else:\n",
        "    rel = 0\n",
        "\n",
        "  print('Doc:', d, 'Relevance:', rel)"
      ],
      "metadata": {
        "colab": {
          "base_uri": "https://localhost:8080/"
        },
        "outputId": "9a6e5f47-bdc8-42ba-de11-61271197a6e2",
        "id": "d8QcQ-XjTulu"
      },
      "execution_count": null,
      "outputs": [
        {
          "output_type": "stream",
          "name": "stdout",
          "text": [
            "First 10 documents retrieved by L2 index for the query: PLAIN-2989\n",
            "Doc: MED-3811 Relevance: 1\n",
            "Doc: MED-4416 Relevance: 2\n",
            "Doc: MED-4415 Relevance: 2\n",
            "Doc: MED-4417 Relevance: 2\n",
            "Doc: MED-5000 Relevance: 0\n",
            "Doc: MED-4418 Relevance: 2\n",
            "Doc: MED-2810 Relevance: 0\n",
            "Doc: MED-3951 Relevance: 0\n",
            "Doc: MED-2783 Relevance: 0\n",
            "Doc: MED-2813 Relevance: 0\n",
            "\n",
            "First 10 documents retrieved by PCA index for the query: PLAIN-2989\n",
            "Doc: MED-4415 Relevance: 2\n",
            "Doc: MED-4416 Relevance: 2\n",
            "Doc: MED-3811 Relevance: 1\n",
            "Doc: MED-4418 Relevance: 2\n",
            "Doc: MED-4417 Relevance: 2\n",
            "Doc: MED-5000 Relevance: 0\n",
            "Doc: MED-2794 Relevance: 0\n",
            "Doc: MED-2783 Relevance: 0\n",
            "Doc: MED-3469 Relevance: 0\n",
            "Doc: MED-3951 Relevance: 0\n"
          ]
        }
      ]
    },
    {
      "cell_type": "markdown",
      "source": [
        "##### Error analysis"
      ],
      "metadata": {
        "id": "GeavpAFs1CGP"
      }
    },
    {
      "cell_type": "markdown",
      "source": [
        "Let's analyze a couple of missed relevant documents and one of those wrongly retrieved."
      ],
      "metadata": {
        "id": "EqezjOar1HkM"
      }
    },
    {
      "cell_type": "code",
      "source": [
        "query = 'PLAIN-2989'\n",
        "idx = list(test_qid_text.keys()).index(query)\n",
        "print(f\"Original query text: {queries[queries['QUERY_ID']==query]['TEXT'].values[0]}\")\n",
        "print(f'Clean query text: {test_qid_text[query]}')\n",
        "\n",
        "print('\\nFirst 10 documents retrieved for the query:', query)\n",
        "\n",
        "\n",
        "for i in L2_I[idx]:\n",
        "  d = list(test_docid_text.keys())[i]\n",
        "  if d in test_query_docs_rel_order[query]:\n",
        "    rel = test_qd_rel[(query, d)]\n",
        "  else:\n",
        "    rel = 0\n",
        "\n",
        "  print('Doc:', d, 'Relevance:', rel)\n",
        "\n",
        "df_relevant_docs = df_test[df_test['QUERY_ID']=='PLAIN-2989'].sort_values(by='RELEVANCE_LEVEL', ascending=False)\n",
        "\n",
        "print('\\nReal first relevant docs:')\n",
        "\n",
        "for idx, row in df_relevant_docs.iterrows():\n",
        "  print(f\"Doc: {row['DOC_ID']} Relevance: {row['RELEVANCE_LEVEL']}\")"
      ],
      "metadata": {
        "colab": {
          "base_uri": "https://localhost:8080/"
        },
        "outputId": "ead55fa9-22ee-4022-ca6c-4f092e883ac1",
        "id": "GUsrer-y1CGP"
      },
      "execution_count": null,
      "outputs": [
        {
          "output_type": "stream",
          "name": "stdout",
          "text": [
            "Original query text: The Safer CinnamonSecond in spice popularity only to black pepper, cinnamon is the powdered inner bark of four different species of cinnamomum trees. There’s Vietnamese cinnamom, Chinese cinnamon, Indonesian, and Ceylon. A recent review raised concerns about one of them because of a compound called coumarin, which new human data suggests may be toxic to the liver. It’s been banned as a food additive, but still can be found naturally in, Chinese cinnamon, also known as cassia cinnamon. It is not found in significant amounts in so-called true cinnamon, Ceylon cinnamon, and we don’t have enough data on the other two. Now these traffic lights are not for recreational users; these are only for people going out of their way to add like a teaspoon or more to their daily diet, which ideally should be everyone, since it appears so amazingly health promoting— anti-inflammatory, antimicrobial, antioxidant, antitumor, cardiovascular, cholesterol-lowering, and immunomodulatory effects. Especially useful for those with diabetes… or prediabeties. So if you are eating cinnamon every day, great— just make sure it’s the right kind. In the UK, if it says cinnamon then it’s Ceylon cinnamon—Chinese cinnamon is labeled cassia. In the U.S., though, they’re both just labeled cinnamon, and since Chinese is cheaper that’s what most cinnamon is on our shelves so make sure it specifically says Ceylon.\n",
            "Clean query text: safer cinnamonsecond spice popularity black pepper cinnamon powdered inner bark four different species cinnamomum trees theres vietnamese cinnamom chinese cinnamon indonesian ceylon recent review raised concerns one compound called coumarin new human data suggests may toxic liver banned food additive still found naturally chinese cinnamon also known cassia cinnamon found significant amounts socalled true cinnamon ceylon cinnamon dont enough data two traffic lights recreational users people going way add like teaspoon daily diet ideally everyone since appears amazingly health promoting antiinflammatory antimicrobial antioxidant antitumor cardiovascular cholesterollowering immunomodulatory effects especially useful diabetes prediabeties eating cinnamon every day great make sure right kind uk says cinnamon ceylon cinnamonchinese cinnamon labeled cassia us though theyre labeled cinnamon since chinese cheaper thats cinnamon shelves make sure specifically says ceylon\n",
            "\n",
            "First 10 documents retrieved for the query: PLAIN-2989\n",
            "Doc: MED-3811 Relevance: 1\n",
            "Doc: MED-4416 Relevance: 2\n",
            "Doc: MED-4415 Relevance: 2\n",
            "Doc: MED-4417 Relevance: 2\n",
            "Doc: MED-5000 Relevance: 0\n",
            "Doc: MED-4418 Relevance: 2\n",
            "Doc: MED-2810 Relevance: 0\n",
            "Doc: MED-3951 Relevance: 0\n",
            "Doc: MED-2783 Relevance: 0\n",
            "Doc: MED-2813 Relevance: 0\n",
            "\n",
            "Real first relevant docs:\n",
            "Doc: MED-4415 Relevance: 2\n",
            "Doc: MED-4416 Relevance: 2\n",
            "Doc: MED-4417 Relevance: 2\n",
            "Doc: MED-4418 Relevance: 2\n",
            "Doc: MED-3811 Relevance: 1\n",
            "Doc: MED-3812 Relevance: 1\n",
            "Doc: MED-3813 Relevance: 1\n",
            "Doc: MED-4389 Relevance: 1\n"
          ]
        }
      ]
    },
    {
      "cell_type": "code",
      "source": [
        "# Print the text of the query and of one of the wrongly retrieved documents\n",
        "\n",
        "wrong_doc_1 = 'MED-5000'\n",
        "wrong_doc_2 = 'MED-2810'\n",
        "\n",
        "print(f\"Original query text: {queries[queries['QUERY_ID']==query]['TEXT'].values[0]}\")\n",
        "print(f'Clean query text: {test_qid_text[query]}')\n",
        "print()\n",
        "print(f\"Original text doc {wrong_doc_1}: {docs[docs['DOC_ID'] == wrong_doc_1]['ABSTRACT'].values[0]}\")\n",
        "print(f\"Clean text doc {wrong_doc_1}: {test_docid_text[wrong_doc_1]}\")\n",
        "print()\n",
        "print(f\"Original text doc {wrong_doc_2}: {docs[docs['DOC_ID'] == wrong_doc_2]['ABSTRACT'].values[0]}\")\n",
        "print(f\"Clean text doc {wrong_doc_2}: {test_docid_text[wrong_doc_2]}\")"
      ],
      "metadata": {
        "colab": {
          "base_uri": "https://localhost:8080/"
        },
        "outputId": "38d134ce-761f-4f64-b4e0-ec7ba9779ea9",
        "id": "vYJcC-9iY05H"
      },
      "execution_count": null,
      "outputs": [
        {
          "output_type": "stream",
          "name": "stdout",
          "text": [
            "Original query text: The Safer CinnamonSecond in spice popularity only to black pepper, cinnamon is the powdered inner bark of four different species of cinnamomum trees. There’s Vietnamese cinnamom, Chinese cinnamon, Indonesian, and Ceylon. A recent review raised concerns about one of them because of a compound called coumarin, which new human data suggests may be toxic to the liver. It’s been banned as a food additive, but still can be found naturally in, Chinese cinnamon, also known as cassia cinnamon. It is not found in significant amounts in so-called true cinnamon, Ceylon cinnamon, and we don’t have enough data on the other two. Now these traffic lights are not for recreational users; these are only for people going out of their way to add like a teaspoon or more to their daily diet, which ideally should be everyone, since it appears so amazingly health promoting— anti-inflammatory, antimicrobial, antioxidant, antitumor, cardiovascular, cholesterol-lowering, and immunomodulatory effects. Especially useful for those with diabetes… or prediabeties. So if you are eating cinnamon every day, great— just make sure it’s the right kind. In the UK, if it says cinnamon then it’s Ceylon cinnamon—Chinese cinnamon is labeled cassia. In the U.S., though, they’re both just labeled cinnamon, and since Chinese is cheaper that’s what most cinnamon is on our shelves so make sure it specifically says Ceylon.\n",
            "Clean query text: safer cinnamonsecond spice popularity black pepper cinnamon powdered inner bark four different species cinnamomum trees theres vietnamese cinnamom chinese cinnamon indonesian ceylon recent review raised concerns one compound called coumarin new human data suggests may toxic liver banned food additive still found naturally chinese cinnamon also known cassia cinnamon found significant amounts socalled true cinnamon ceylon cinnamon dont enough data two traffic lights recreational users people going way add like teaspoon daily diet ideally everyone since appears amazingly health promoting antiinflammatory antimicrobial antioxidant antitumor cardiovascular cholesterollowering immunomodulatory effects especially useful diabetes prediabeties eating cinnamon every day great make sure right kind uk says cinnamon ceylon cinnamonchinese cinnamon labeled cassia us though theyre labeled cinnamon since chinese cheaper thats cinnamon shelves make sure specifically says ceylon\n",
            "\n",
            "Original text doc MED-5000: Abstract BACKGROUND: High oxalate intake resulting from consuming supplemental doses of cinnamon and turmeric may increase risk of hyperoxaluria, a significant risk factor for urolithiasis. OBJECTIVE: This study assessed urinary oxalate excretion from supplemental doses of cinnamon and turmeric as well as changes in fasting plasma glucose, cholesterol, and triacylglycerol concentrations. DESIGN: Eleven healthy subjects, aged 21-38 y, participated in an 8-wk, randomly assigned, crossover study that involved the ingestion of supplemental doses of cinnamon and turmeric for 4-wk periods that provided 55 mg oxalate/d. Oxalate load tests, which entailed the ingestion of a 63-mg dose of oxalate from the test spices, were performed after each 4-wk experimental period and at the study onset with water only (control treatment). Fasting plasma glucose and lipid concentrations were also assessed at these time points. RESULTS: Compared with the cinnamon and control treatments, turmeric ingestion led to a significantly higher urinary oxalate excretion during the oxalate load tests. There were no significant changes in fasting plasma glucose or lipids in conjunction with the 4-wk periods of either cinnamon or turmeric supplementation. CONCLUSIONS: The percentage of oxalate that was water soluble differed markedly between cinnamon (6%) and turmeric (91%), which appeared to be the primary cause of the greater urinary oxalate excretion/oxalate absorption from turmeric. The consumption of supplemental doses of turmeric, but not cinnamon, can significantly increase urinary oxalate levels, thereby increasing risk of kidney stone formation in susceptible individuals.\n",
            "Clean text doc MED-5000: abstract background high oxalate intake resulting consuming supplemental doses cinnamon turmeric may increase risk hyperoxaluria significant risk factor urolithiasis objective study assessed urinary oxalate excretion supplemental doses cinnamon turmeric well changes fasting plasma glucose cholesterol triacylglycerol concentrations design eleven healthy subjects aged participated wk randomly assigned crossover study involved ingestion supplemental doses cinnamon turmeric wk periods provided mg oxalated oxalate load tests entailed ingestion mg dose oxalate test spices performed wk experimental period study onset water control treatment fasting plasma glucose lipid concentrations also assessed time points results compared cinnamon control treatments turmeric ingestion led significantly higher urinary oxalate excretion oxalate load tests significant changes fasting plasma glucose lipids conjunction wk periods either cinnamon turmeric supplementation conclusions percentage oxalate water soluble differed markedly cinnamon turmeric appeared primary cause greater urinary oxalate excretionoxalate absorption turmeric consumption supplemental doses turmeric cinnamon significantly increase urinary oxalate levels thereby increasing risk kidney stone formation susceptible individuals\n",
            "\n",
            "Original text doc MED-2810: Abstract Although turmeric (Curcuma longa; an Indian spice) has been described in Ayurveda, as a treatment for inflammatory diseases and is referred by different names in different cultures, the active principle called curcumin or diferuloylmethane, a yellow pigment present in turmeric (curry powder) has been shown to exhibit numerous activities. Extensive research over the last half century has revealed several important functions of curcumin. It binds to a variety of proteins and inhibits the activity of various kinases. By modulating the activation of various transcription factors, curcumin regulates the expression of inflammatory enzymes, cytokines, adhesion molecules, and cell survival proteins. Curcumin also downregulates cyclin D1, cyclin E and MDM2; and upregulates p21, p27, and p53. Various preclinical cell culture and animal studies suggest that curcumin has potential as an antiproliferative, anti-invasive, and antiangiogenic agent; as a mediator of chemoresistance and radioresistance; as a chemopreventive agent; and as a therapeutic agent in wound healing, diabetes, Alzheimer disease, Parkinson disease, cardiovascular disease, pulmonary disease, and arthritis. Pilot phase I clinical trials have shown curcumin to be safe even when consumed at a daily dose of 12g for 3 months. Other clinical trials suggest a potential therapeutic role for curcumin in diseases such as familial adenomatous polyposis, inflammatory bowel disease, ulcerative colitis, colon cancer, pancreatic cancer, hypercholesteremia, atherosclerosis, pancreatitis, psoriasis, chronic anterior uveitis and arthritis. Thus, curcumin, a spice once relegated to the kitchen shelf, has moved into the clinic and may prove to be \"Curecumin\".\n",
            "Clean text doc MED-2810: abstract although turmeric curcuma longa indian spice described ayurveda treatment inflammatory diseases referred different names different cultures active principle called curcumin diferuloylmethane yellow pigment present turmeric curry powder shown exhibit numerous activities extensive research last half century revealed several important functions curcumin binds variety proteins inhibits activity various kinases modulating activation various transcription factors curcumin regulates expression inflammatory enzymes cytokines adhesion molecules cell survival proteins curcumin also downregulates cyclin cyclin e mdm upregulates p p p various preclinical cell culture animal studies suggest curcumin potential antiproliferative antiinvasive antiangiogenic agent mediator chemoresistance radioresistance chemopreventive agent therapeutic agent wound healing diabetes alzheimer disease parkinson disease cardiovascular disease pulmonary disease arthritis pilot phase clinical trials shown curcumin safe even consumed daily dose g months clinical trials suggest potential therapeutic role curcumin diseases familial adenomatous polyposis inflammatory bowel disease ulcerative colitis colon cancer pancreatic cancer hypercholesteremia atherosclerosis pancreatitis psoriasis chronic anterior uveitis arthritis thus curcumin spice relegated kitchen shelf moved clinic may prove curecumin\n"
          ]
        }
      ]
    },
    {
      "cell_type": "code",
      "source": [
        "# Print the text of the query and of one of the missed relevant documents\n",
        "\n",
        "missed_doc = 'MED-4389'\n",
        "\n",
        "print(f\"Original query text: {queries[queries['QUERY_ID']==query]['TEXT'].values[0]}\")\n",
        "print(f'Clean query text: {test_qid_text[query]}')\n",
        "print()\n",
        "print(f\"Original text doc {missed_doc}: {docs[docs['DOC_ID']==missed_doc]['ABSTRACT'].values[0]}\")\n",
        "print(f\"Clean text doc {missed_doc}: {test_docid_text[missed_doc]}\")\n",
        "print()"
      ],
      "metadata": {
        "colab": {
          "base_uri": "https://localhost:8080/"
        },
        "outputId": "aadad360-6b4f-4991-b95c-622eeca29217",
        "id": "KtD-qovu6JJa"
      },
      "execution_count": null,
      "outputs": [
        {
          "output_type": "stream",
          "name": "stdout",
          "text": [
            "Original query text: The Safer CinnamonSecond in spice popularity only to black pepper, cinnamon is the powdered inner bark of four different species of cinnamomum trees. There’s Vietnamese cinnamom, Chinese cinnamon, Indonesian, and Ceylon. A recent review raised concerns about one of them because of a compound called coumarin, which new human data suggests may be toxic to the liver. It’s been banned as a food additive, but still can be found naturally in, Chinese cinnamon, also known as cassia cinnamon. It is not found in significant amounts in so-called true cinnamon, Ceylon cinnamon, and we don’t have enough data on the other two. Now these traffic lights are not for recreational users; these are only for people going out of their way to add like a teaspoon or more to their daily diet, which ideally should be everyone, since it appears so amazingly health promoting— anti-inflammatory, antimicrobial, antioxidant, antitumor, cardiovascular, cholesterol-lowering, and immunomodulatory effects. Especially useful for those with diabetes… or prediabeties. So if you are eating cinnamon every day, great— just make sure it’s the right kind. In the UK, if it says cinnamon then it’s Ceylon cinnamon—Chinese cinnamon is labeled cassia. In the U.S., though, they’re both just labeled cinnamon, and since Chinese is cheaper that’s what most cinnamon is on our shelves so make sure it specifically says Ceylon.\n",
            "Clean query text: safer cinnamonsecond spice popularity black pepper cinnamon powdered inner bark four different species cinnamomum trees theres vietnamese cinnamom chinese cinnamon indonesian ceylon recent review raised concerns one compound called coumarin new human data suggests may toxic liver banned food additive still found naturally chinese cinnamon also known cassia cinnamon found significant amounts socalled true cinnamon ceylon cinnamon dont enough data two traffic lights recreational users people going way add like teaspoon daily diet ideally everyone since appears amazingly health promoting antiinflammatory antimicrobial antioxidant antitumor cardiovascular cholesterollowering immunomodulatory effects especially useful diabetes prediabeties eating cinnamon every day great make sure right kind uk says cinnamon ceylon cinnamonchinese cinnamon labeled cassia us though theyre labeled cinnamon since chinese cheaper thats cinnamon shelves make sure specifically says ceylon\n",
            "\n",
            "Original text doc MED-4389: Abstract Significant benefits for diabetes prevention and management have been observed with vegetarian and especially vegan diets. This article reviews observational studies and intervention trials on such diets, and discusses their efficacy, nutritional adequacy, acceptability, and sustainability. Research to date has demonstrated that a low-fat, plant-based nutritional approach improves control of weight, glycemia, and cardiovascular risk. These studies have also shown that carefully planned vegan diets can be more nutritious than diets based on more conventional diet guidelines, with an acceptability that is comparable with that of other therapeutic regimens. Current intervention guidelines from professional organizations offer support for this approach. Vegetarian and vegan diets present potential advantages in managing type 2 diabetes that merit the attention of individuals with diabetes and their caregivers.\n",
            "Clean text doc MED-4389: abstract significant benefits diabetes prevention management observed vegetarian especially vegan diets article reviews observational studies intervention trials diets discusses efficacy nutritional adequacy acceptability sustainability research date demonstrated lowfat plantbased nutritional approach improves control weight glycemia cardiovascular risk studies also shown carefully planned vegan diets nutritious diets based conventional diet guidelines acceptability comparable therapeutic regimens current intervention guidelines professional organizations offer support approach vegetarian vegan diets present potential advantages managing type diabetes merit attention individuals diabetes caregivers\n",
            "\n"
          ]
        }
      ]
    },
    {
      "cell_type": "markdown",
      "source": [
        "### Evaluation"
      ],
      "metadata": {
        "id": "afSXsV3TTulw"
      }
    },
    {
      "cell_type": "markdown",
      "source": [
        "Let's now evaluate the retrieval search computed with the naive L2-distance."
      ],
      "metadata": {
        "id": "mbnag5t8B2vv"
      }
    },
    {
      "cell_type": "code",
      "source": [
        "rp = np.average([r_precision(q, L2_I[i], test_docid_text, test_query_docs_rel_order) for  i, q in enumerate(test_qid_text.keys())])\n",
        "\n",
        "print('R-precision:', rp)\n",
        "\n",
        "for k in [1, 3, 5, 10]:\n",
        "    pk = np.mean([precision_at_k(q, L2_I[i], test_docid_text, test_query_docs_rel_order, k) for i, q in enumerate(test_qid_text.keys())])\n",
        "    rk = np.mean([recall_at_k(q, L2_I[i], test_docid_text, test_query_docs_rel_order, k) for i, q in enumerate(test_qid_text.keys())])\n",
        "    f1_k = np.mean([f1_at_k(q, L2_I[i], test_docid_text, test_query_docs_rel_order, k) for i, q in enumerate(test_qid_text.keys())])\n",
        "    mapk = np.mean([mean_average_precision_at_k(q, L2_I[i], test_docid_text, test_query_docs_rel_order, k) for i, q in enumerate(test_qid_text.keys())])\n",
        "    ndcg_k = np.average([compute_ndcg_at_k(q, L2_I[i], test_docid_text, test_qd_rel, test_query_docs_rel_order, k) for i, q in enumerate(test_qid_text.keys())])\n",
        "\n",
        "    print()\n",
        "    print(f'Precision@{k}:', pk)\n",
        "    print(f'Recall@{k}:', rk)\n",
        "    print(f'F1-score@{k}:', f1_k)\n",
        "    print(f'MAP@{k}:', mapk)\n",
        "    print(f'NDCG@{k}:', ndcg_k)"
      ],
      "metadata": {
        "colab": {
          "base_uri": "https://localhost:8080/"
        },
        "id": "45I_wFPuTV_T",
        "outputId": "73665960-f691-4c7d-8c89-2840145ccf63"
      },
      "execution_count": null,
      "outputs": [
        {
          "output_type": "stream",
          "name": "stdout",
          "text": [
            "R-precision: 0.09053554061796558\n",
            "\n",
            "Precision@1: 0.4169184290030212\n",
            "Recall@1: 0.027095077989807523\n",
            "F1-score@1: 0.045343273614532095\n",
            "MAP@1: 0.027095077989807523\n",
            "NDCG@1: 0.3776435045317221\n",
            "\n",
            "Precision@3: 0.3444108761329305\n",
            "Recall@3: 0.05655980392760319\n",
            "F1-score@3: 0.07815628784560033\n",
            "MAP@3: 0.09088093519029128\n",
            "NDCG@3: 0.3360519194496181\n",
            "\n",
            "Precision@5: 0.3057401812688822\n",
            "Recall@5: 0.07529183855886054\n",
            "F1-score@5: 0.09335781883398489\n",
            "MAP@5: 0.15759224457942217\n",
            "NDCG@5: 0.319942849321346\n",
            "\n",
            "Precision@10: 0.2513595166163142\n",
            "Recall@10: 0.1105074871004861\n",
            "F1-score@10: 0.11142492387165256\n",
            "MAP@10: 0.3240977942341201\n",
            "NDCG@10: 0.2992346243867127\n"
          ]
        }
      ]
    },
    {
      "cell_type": "markdown",
      "source": [
        "# Conclusions\n",
        "\n",
        "Overall, due to computational limitations and the fairly challenging nature of the dataset and the task itself, performances of the model are good but not excellent.\n",
        "\n",
        "From experiments, it turned out that the loss function that better allows the Sentence Transformer to learn meaningful embeddings is the Multiple Negative Ranking Loss.\n",
        "\n",
        "The reason may be that it tries to mainly focus on hard negatives, letting the model to learn more similar embeddings for queries and relevant documents, while pushing away the non relevant ones.\n",
        "\n",
        "It is important to underline that the MNR loss performs better according to both metrics which do not take into account the actual relevance of documents, i.e. precision, recall, f1-score, r-precision and MAP, and metrics which instead are relevance-aware, such as NDCG."
      ],
      "metadata": {
        "id": "OVXXmqzmdoTq"
      }
    }
  ]
}